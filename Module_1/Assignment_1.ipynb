{
  "nbformat": 4,
  "nbformat_minor": 0,
  "metadata": {
    "colab": {
      "name": "Assignment_1.ipynb",
      "provenance": [],
      "collapsed_sections": [],
      "toc_visible": true,
      "authorship_tag": "ABX9TyO3GXKiei1+GdkmKCjqlhc+",
      "include_colab_link": true
    },
    "kernelspec": {
      "name": "python3",
      "display_name": "Python 3"
    },
    "language_info": {
      "name": "python"
    }
  },
  "cells": [
    {
      "cell_type": "markdown",
      "metadata": {
        "id": "view-in-github",
        "colab_type": "text"
      },
      "source": [
        "<a href=\"https://colab.research.google.com/github/zachfreitas/ADS_504_Machine_Learning/blob/main/Module_1/Assignment_1.ipynb\" target=\"_parent\"><img src=\"https://colab.research.google.com/assets/colab-badge.svg\" alt=\"Open In Colab\"/></a>"
      ]
    },
    {
      "cell_type": "markdown",
      "source": [
        "# Assignment 1.1 Exercises\n",
        "Zachariah Freitas"
      ],
      "metadata": {
        "id": "nk6qXH731ov4"
      }
    },
    {
      "cell_type": "code",
      "source": [
        "# Import Libraries\n",
        "import pandas as pd\n",
        "import matplotlib.pyplot as plt\n",
        "import seaborn as sns\n",
        "import numpy as np\n",
        "\n",
        "# Save this file here Module_1/Assignment_1.ipynb"
      ],
      "metadata": {
        "id": "nAMpRL-N11S0"
      },
      "execution_count": 1,
      "outputs": []
    },
    {
      "cell_type": "markdown",
      "source": [
        "## 1.1. Predicting Student Recommendation:\n",
        "1.1.1. Download the student_records.csv file (located in your assignment prompt in Blackboard). <br>\n",
        "1.1.2. Run all codes on the example in the lecture, Textbook 1 – Chapter 1: Page 19-28 and Page 55-64. The goal is to build a predictive model based on the dataset. The model can predict for any future student if they will be recommended for the grant based on their performance attributes. <br>\n",
        "1.1.3. Write down your understanding about the codes and each part’s functioning.\n",
        "\n"
      ],
      "metadata": {
        "id": "DwwpDbZE9UjU"
      }
    },
    {
      "cell_type": "code",
      "execution_count": null,
      "metadata": {
        "id": "5b9ekBB51MeS"
      },
      "outputs": [],
      "source": [
        "# Copy of data in my github for perputuity. \n",
        "sr_df = pd.read_csv('https://github.com/zachfreitas/ADS_504_Machine_Learning/raw/main/Module_1/student_records.csv')"
      ]
    },
    {
      "cell_type": "code",
      "source": [
        "sr_df.columns"
      ],
      "metadata": {
        "colab": {
          "base_uri": "https://localhost:8080/"
        },
        "id": "bD7PWa_T2HeU",
        "outputId": "5e4d2098-5739-4b74-a727-6873569f0151"
      },
      "execution_count": null,
      "outputs": [
        {
          "output_type": "execute_result",
          "data": {
            "text/plain": [
              "Index(['Name', 'OverallGrade', 'Obedient', 'ResearchScore', 'ProjectScore',\n",
              "       'Recommend'],\n",
              "      dtype='object')"
            ]
          },
          "metadata": {},
          "execution_count": 32
        }
      ]
    },
    {
      "cell_type": "code",
      "source": [
        "sr_df.head()"
      ],
      "metadata": {
        "colab": {
          "base_uri": "https://localhost:8080/",
          "height": 206
        },
        "id": "FxwCdejt2L8m",
        "outputId": "76cc770a-d8f8-417c-fb72-e596fda845c3"
      },
      "execution_count": null,
      "outputs": [
        {
          "output_type": "execute_result",
          "data": {
            "text/plain": [
              "     Name OverallGrade Obedient  ResearchScore  ProjectScore Recommend\n",
              "0   Henry            A        Y             90            85       Yes\n",
              "1    John            C        N             85            51       Yes\n",
              "2   David            F        N             10            17        No\n",
              "3  Holmes            B        Y             75            71        No\n",
              "4  Marvin            E        N             20            30        No"
            ],
            "text/html": [
              "\n",
              "  <div id=\"df-91f03c36-a84a-4608-bbe5-0620f45cc6ef\">\n",
              "    <div class=\"colab-df-container\">\n",
              "      <div>\n",
              "<style scoped>\n",
              "    .dataframe tbody tr th:only-of-type {\n",
              "        vertical-align: middle;\n",
              "    }\n",
              "\n",
              "    .dataframe tbody tr th {\n",
              "        vertical-align: top;\n",
              "    }\n",
              "\n",
              "    .dataframe thead th {\n",
              "        text-align: right;\n",
              "    }\n",
              "</style>\n",
              "<table border=\"1\" class=\"dataframe\">\n",
              "  <thead>\n",
              "    <tr style=\"text-align: right;\">\n",
              "      <th></th>\n",
              "      <th>Name</th>\n",
              "      <th>OverallGrade</th>\n",
              "      <th>Obedient</th>\n",
              "      <th>ResearchScore</th>\n",
              "      <th>ProjectScore</th>\n",
              "      <th>Recommend</th>\n",
              "    </tr>\n",
              "  </thead>\n",
              "  <tbody>\n",
              "    <tr>\n",
              "      <th>0</th>\n",
              "      <td>Henry</td>\n",
              "      <td>A</td>\n",
              "      <td>Y</td>\n",
              "      <td>90</td>\n",
              "      <td>85</td>\n",
              "      <td>Yes</td>\n",
              "    </tr>\n",
              "    <tr>\n",
              "      <th>1</th>\n",
              "      <td>John</td>\n",
              "      <td>C</td>\n",
              "      <td>N</td>\n",
              "      <td>85</td>\n",
              "      <td>51</td>\n",
              "      <td>Yes</td>\n",
              "    </tr>\n",
              "    <tr>\n",
              "      <th>2</th>\n",
              "      <td>David</td>\n",
              "      <td>F</td>\n",
              "      <td>N</td>\n",
              "      <td>10</td>\n",
              "      <td>17</td>\n",
              "      <td>No</td>\n",
              "    </tr>\n",
              "    <tr>\n",
              "      <th>3</th>\n",
              "      <td>Holmes</td>\n",
              "      <td>B</td>\n",
              "      <td>Y</td>\n",
              "      <td>75</td>\n",
              "      <td>71</td>\n",
              "      <td>No</td>\n",
              "    </tr>\n",
              "    <tr>\n",
              "      <th>4</th>\n",
              "      <td>Marvin</td>\n",
              "      <td>E</td>\n",
              "      <td>N</td>\n",
              "      <td>20</td>\n",
              "      <td>30</td>\n",
              "      <td>No</td>\n",
              "    </tr>\n",
              "  </tbody>\n",
              "</table>\n",
              "</div>\n",
              "      <button class=\"colab-df-convert\" onclick=\"convertToInteractive('df-91f03c36-a84a-4608-bbe5-0620f45cc6ef')\"\n",
              "              title=\"Convert this dataframe to an interactive table.\"\n",
              "              style=\"display:none;\">\n",
              "        \n",
              "  <svg xmlns=\"http://www.w3.org/2000/svg\" height=\"24px\"viewBox=\"0 0 24 24\"\n",
              "       width=\"24px\">\n",
              "    <path d=\"M0 0h24v24H0V0z\" fill=\"none\"/>\n",
              "    <path d=\"M18.56 5.44l.94 2.06.94-2.06 2.06-.94-2.06-.94-.94-2.06-.94 2.06-2.06.94zm-11 1L8.5 8.5l.94-2.06 2.06-.94-2.06-.94L8.5 2.5l-.94 2.06-2.06.94zm10 10l.94 2.06.94-2.06 2.06-.94-2.06-.94-.94-2.06-.94 2.06-2.06.94z\"/><path d=\"M17.41 7.96l-1.37-1.37c-.4-.4-.92-.59-1.43-.59-.52 0-1.04.2-1.43.59L10.3 9.45l-7.72 7.72c-.78.78-.78 2.05 0 2.83L4 21.41c.39.39.9.59 1.41.59.51 0 1.02-.2 1.41-.59l7.78-7.78 2.81-2.81c.8-.78.8-2.07 0-2.86zM5.41 20L4 18.59l7.72-7.72 1.47 1.35L5.41 20z\"/>\n",
              "  </svg>\n",
              "      </button>\n",
              "      \n",
              "  <style>\n",
              "    .colab-df-container {\n",
              "      display:flex;\n",
              "      flex-wrap:wrap;\n",
              "      gap: 12px;\n",
              "    }\n",
              "\n",
              "    .colab-df-convert {\n",
              "      background-color: #E8F0FE;\n",
              "      border: none;\n",
              "      border-radius: 50%;\n",
              "      cursor: pointer;\n",
              "      display: none;\n",
              "      fill: #1967D2;\n",
              "      height: 32px;\n",
              "      padding: 0 0 0 0;\n",
              "      width: 32px;\n",
              "    }\n",
              "\n",
              "    .colab-df-convert:hover {\n",
              "      background-color: #E2EBFA;\n",
              "      box-shadow: 0px 1px 2px rgba(60, 64, 67, 0.3), 0px 1px 3px 1px rgba(60, 64, 67, 0.15);\n",
              "      fill: #174EA6;\n",
              "    }\n",
              "\n",
              "    [theme=dark] .colab-df-convert {\n",
              "      background-color: #3B4455;\n",
              "      fill: #D2E3FC;\n",
              "    }\n",
              "\n",
              "    [theme=dark] .colab-df-convert:hover {\n",
              "      background-color: #434B5C;\n",
              "      box-shadow: 0px 1px 3px 1px rgba(0, 0, 0, 0.15);\n",
              "      filter: drop-shadow(0px 1px 2px rgba(0, 0, 0, 0.3));\n",
              "      fill: #FFFFFF;\n",
              "    }\n",
              "  </style>\n",
              "\n",
              "      <script>\n",
              "        const buttonEl =\n",
              "          document.querySelector('#df-91f03c36-a84a-4608-bbe5-0620f45cc6ef button.colab-df-convert');\n",
              "        buttonEl.style.display =\n",
              "          google.colab.kernel.accessAllowed ? 'block' : 'none';\n",
              "\n",
              "        async function convertToInteractive(key) {\n",
              "          const element = document.querySelector('#df-91f03c36-a84a-4608-bbe5-0620f45cc6ef');\n",
              "          const dataTable =\n",
              "            await google.colab.kernel.invokeFunction('convertToInteractive',\n",
              "                                                     [key], {});\n",
              "          if (!dataTable) return;\n",
              "\n",
              "          const docLinkHtml = 'Like what you see? Visit the ' +\n",
              "            '<a target=\"_blank\" href=https://colab.research.google.com/notebooks/data_table.ipynb>data table notebook</a>'\n",
              "            + ' to learn more about interactive tables.';\n",
              "          element.innerHTML = '';\n",
              "          dataTable['output_type'] = 'display_data';\n",
              "          await google.colab.output.renderOutput(dataTable, element);\n",
              "          const docLink = document.createElement('div');\n",
              "          docLink.innerHTML = docLinkHtml;\n",
              "          element.appendChild(docLink);\n",
              "        }\n",
              "      </script>\n",
              "    </div>\n",
              "  </div>\n",
              "  "
            ]
          },
          "metadata": {},
          "execution_count": 33
        }
      ]
    },
    {
      "cell_type": "code",
      "source": [
        "ProjectScore = sns.boxplot(x=\"ProjectScore\", y=\"Recommend\", data = sr_df, orient = 'horizontal')\n",
        "plt.show()"
      ],
      "metadata": {
        "colab": {
          "base_uri": "https://localhost:8080/",
          "height": 279
        },
        "id": "agEwSCSs2pRF",
        "outputId": "2da70cbe-feb9-4400-a47b-f7c920bcc612"
      },
      "execution_count": null,
      "outputs": [
        {
          "output_type": "display_data",
          "data": {
            "text/plain": [
              "<Figure size 432x288 with 1 Axes>"
            ],
            "image/png": "[encoded data removed]"
          },
          "metadata": {
            "needs_background": "light"
          }
        }
      ]
    },
    {
      "cell_type": "code",
      "source": [
        "ResearchScore = sns.boxplot(x=\"ResearchScore\", y=\"Recommend\", data = sr_df, orient = 'horizontal')\n",
        "plt.show()"
      ],
      "metadata": {
        "colab": {
          "base_uri": "https://localhost:8080/",
          "height": 279
        },
        "id": "T_2fb-St21RH",
        "outputId": "e7e3168a-9f26-4c3b-9707-9ce03d3e6cf1"
      },
      "execution_count": null,
      "outputs": [
        {
          "output_type": "display_data",
          "data": {
            "text/plain": [
              "<Figure size 432x288 with 1 Axes>"
            ],
            "image/png": "[encoded data removed]"
          },
          "metadata": {
            "needs_background": "light"
          }
        }
      ]
    },
    {
      "cell_type": "code",
      "source": [
        "g = sns.catplot(x=\"ProjectScore\", y=\"OverallGrade\",\n",
        "                hue=\"Recommend\", col=\"Obedient\",\n",
        "                data=sr_df, kind=\"box\",\n",
        "                height=4, aspect=.7);"
      ],
      "metadata": {
        "colab": {
          "base_uri": "https://localhost:8080/",
          "height": 297
        },
        "id": "-CWxsr0v3vv7",
        "outputId": "63e66a94-036e-4f10-a340-fe325c64b1d2"
      },
      "execution_count": null,
      "outputs": [
        {
          "output_type": "display_data",
          "data": {
            "text/plain": [
              "<Figure size 473.325x288 with 2 Axes>"
            ],
            "image/png": "[encoded data removed]"
          },
          "metadata": {
            "needs_background": "light"
          }
        }
      ]
    },
    {
      "cell_type": "code",
      "source": [
        "g = sns.catplot(x=\"ResearchScore\", y=\"OverallGrade\",\n",
        "                hue=\"Recommend\", col=\"Obedient\",\n",
        "                data=sr_df, kind=\"box\",\n",
        "                height=4, aspect=.7);"
      ],
      "metadata": {
        "colab": {
          "base_uri": "https://localhost:8080/",
          "height": 297
        },
        "id": "sat9cv6i4YKM",
        "outputId": "90494e6b-1ed9-43d9-81be-25fc9201efcc"
      },
      "execution_count": null,
      "outputs": [
        {
          "output_type": "display_data",
          "data": {
            "text/plain": [
              "<Figure size 473.325x288 with 2 Axes>"
            ],
            "image/png": "[encoded data removed]"
          },
          "metadata": {
            "needs_background": "light"
          }
        }
      ]
    },
    {
      "cell_type": "code",
      "source": [
        ""
      ],
      "metadata": {
        "id": "zb_8iSd34gzi"
      },
      "execution_count": null,
      "outputs": []
    },
    {
      "cell_type": "markdown",
      "source": [
        "## 1.2. Introducing the Python Machine Learning Ecosystem:\n",
        "1.2.1. Download the simplemaps-worldcities-basic.csv file (located in your assignment prompt in Blackboard). <br>\n",
        "1.2.2. Run all codes on the example in the lecture, Textbook 1 – Chapter 2: Page 75-112. The goal is to build a predictive model based on the dataset. The model can predict for any future student if they will be recommended for the grant based on their performance attributes. <br>\n",
        "1.2.3. Write down your understanding about the codes and each part’s functioning. <br>\n"
      ],
      "metadata": {
        "id": "06EKRRCY9mSp"
      }
    },
    {
      "cell_type": "code",
      "source": [
        "# Copy of data in my github for perputuity. \n",
        "wc_df = pd.read_csv('https://github.com/zachfreitas/ADS_504_Machine_Learning/raw/main/Module_1/simplemaps-worldcities-basic.csv')"
      ],
      "metadata": {
        "id": "DrIzFYzn11mq"
      },
      "execution_count": null,
      "outputs": []
    },
    {
      "cell_type": "markdown",
      "source": [
        "## 1.3. Recommending Movies:\n",
        "1.3.1. Load the MovieLens dataset from Tensorflow Datasets (movielens/100k_ratings and movielens/100k_movies). <br>\n",
        "1.3.2. Follow the same steps in 1.2 and build a prediction model. <br>\n"
      ],
      "metadata": {
        "id": "cOxDhPyS9wPm"
      }
    },
    {
      "cell_type": "code",
      "source": [
        ""
      ],
      "metadata": {
        "id": "9aMFA9Y996KR"
      },
      "execution_count": null,
      "outputs": []
    }
  ]
}