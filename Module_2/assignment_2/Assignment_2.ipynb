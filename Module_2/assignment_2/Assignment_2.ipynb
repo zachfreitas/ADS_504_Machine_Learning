{
  "nbformat": 4,
  "nbformat_minor": 0,
  "metadata": {
    "colab": {
      "name": "Assignment_2.ipynb",
      "provenance": [],
      "authorship_tag": "ABX9TyM0j0sMbTG7wxfA9OslWVcG",
      "include_colab_link": true
    },
    "kernelspec": {
      "name": "python3",
      "display_name": "Python 3"
    },
    "language_info": {
      "name": "python"
    }
  },
  "cells": [
    {
      "cell_type": "markdown",
      "metadata": {
        "id": "view-in-github",
        "colab_type": "text"
      },
      "source": [
        "<a href=\"https://colab.research.google.com/github/zachfreitas/ADS_504_Machine_Learning/blob/main/Module_2/assignment_2/Assignment_2.ipynb\" target=\"_parent\"><img src=\"https://colab.research.google.com/assets/colab-badge.svg\" alt=\"Open In Colab\"/></a>"
      ]
    },
    {
      "cell_type": "markdown",
      "source": [
        "# Assignment 2.1\n",
        "Zachariah Freitas\n",
        "\n"
      ],
      "metadata": {
        "id": "_WTrDhA58tec"
      }
    },
    {
      "cell_type": "markdown",
      "source": [
        "## Question 2"
      ],
      "metadata": {
        "id": "oFXUw3Ni8f4u"
      }
    },
    {
      "cell_type": "markdown",
      "source": [
        "### 2.1"
      ],
      "metadata": {
        "id": "ax2LW7Uu86Co"
      }
    },
    {
      "cell_type": "code",
      "source": [
        ""
      ],
      "metadata": {
        "id": "UcHu3sgC8K60"
      },
      "execution_count": null,
      "outputs": []
    },
    {
      "cell_type": "code",
      "source": [
        ""
      ],
      "metadata": {
        "id": "i6aolwpk8K9x"
      },
      "execution_count": null,
      "outputs": []
    },
    {
      "cell_type": "markdown",
      "source": [
        "### 2.2\n"
      ],
      "metadata": {
        "id": "jh5fBPPs9ByF"
      }
    },
    {
      "cell_type": "code",
      "source": [
        ""
      ],
      "metadata": {
        "id": "k4jrKs6q8LA6"
      },
      "execution_count": null,
      "outputs": []
    },
    {
      "cell_type": "markdown",
      "source": [
        "### 2.3"
      ],
      "metadata": {
        "id": "aVW5GPYw9D84"
      }
    },
    {
      "cell_type": "code",
      "source": [
        ""
      ],
      "metadata": {
        "id": "UsCyUZJn8LGa"
      },
      "execution_count": null,
      "outputs": []
    },
    {
      "cell_type": "markdown",
      "source": [
        "## Question 3\n",
        "### 3.1"
      ],
      "metadata": {
        "id": "60l-eppD8LPe"
      }
    },
    {
      "cell_type": "code",
      "source": [
        "X_train, X_test, y_train, y_test = train_test_split(X, y, test_size=0.50, random_state=42)"
      ],
      "metadata": {
        "id": "oj1yOmeF8LZr"
      },
      "execution_count": null,
      "outputs": []
    },
    {
      "cell_type": "code",
      "source": [
        ""
      ],
      "metadata": {
        "id": "I0TcsYMC8LdR"
      },
      "execution_count": null,
      "outputs": []
    },
    {
      "cell_type": "markdown",
      "source": [
        "### 3.2"
      ],
      "metadata": {
        "id": "OmNEEl0C8XIW"
      }
    },
    {
      "cell_type": "markdown",
      "source": [
        "### 3.3"
      ],
      "metadata": {
        "id": "ND3DVZJe8XMq"
      }
    },
    {
      "cell_type": "markdown",
      "source": [
        "### 3.5\n",
        "\n"
      ],
      "metadata": {
        "id": "ePsraKCg8XQw"
      }
    },
    {
      "cell_type": "code",
      "source": [
        ""
      ],
      "metadata": {
        "id": "rV_G0_GY8Lg6"
      },
      "execution_count": null,
      "outputs": []
    },
    {
      "cell_type": "code",
      "source": [
        ""
      ],
      "metadata": {
        "id": "EE7nKPBH8LkK"
      },
      "execution_count": null,
      "outputs": []
    }
  ]
}