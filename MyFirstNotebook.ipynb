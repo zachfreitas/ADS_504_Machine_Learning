{
  "nbformat": 4,
  "nbformat_minor": 0,
  "metadata": {
    "colab": {
      "name": "MyFirstNotebook.ipynb",
      "provenance": [],
      "toc_visible": true,
      "collapsed_sections": [],
      "authorship_tag": "ABX9TyM5HAS2nO1tGXVvALRrhvfb",
      "include_colab_link": true
    },
    "kernelspec": {
      "name": "python3",
      "display_name": "Python 3"
    },
    "language_info": {
      "name": "python"
    }
  },
  "cells": [
    {
      "cell_type": "markdown",
      "metadata": {
        "id": "view-in-github",
        "colab_type": "text"
      },
      "source": [
        "<a href=\"https://colab.research.google.com/github/zachfreitas/ADS_504_Machine_Learning/blob/main/MyFirstNotebook.ipynb\" target=\"_parent\"><img src=\"https://colab.research.google.com/assets/colab-badge.svg\" alt=\"Open In Colab\"/></a>"
      ]
    },
    {
      "cell_type": "markdown",
      "source": [
        "# Heading One\n",
        "\n",
        "\n",
        "here is some crap"
      ],
      "metadata": {
        "id": "e9xph1CjhmqO"
      }
    },
    {
      "cell_type": "markdown",
      "source": [
        "## heading two\n",
        "$$\\sigma$$\n",
        "$$pc*E/2$$\n",
        "$$σ$$"
      ],
      "metadata": {
        "id": "cO39aMj9i0I5"
      }
    },
    {
      "cell_type": "code",
      "execution_count": null,
      "metadata": {
        "id": "qn3eTil4hhS2"
      },
      "outputs": [],
      "source": [
        "a = 1"
      ]
    },
    {
      "cell_type": "code",
      "source": [
        "b = \"data\""
      ],
      "metadata": {
        "id": "RTfxyQaUh96M"
      },
      "execution_count": null,
      "outputs": []
    },
    {
      "cell_type": "code",
      "source": [
        "c = [1,2,3,4]"
      ],
      "metadata": {
        "id": "icgSTcFwjDyP"
      },
      "execution_count": null,
      "outputs": []
    },
    {
      "cell_type": "code",
      "source": [
        "d = [\"John\", \"Sally\", \"Joe\", \"Susy\"]"
      ],
      "metadata": {
        "id": "RIn0O2ZojD7t"
      },
      "execution_count": null,
      "outputs": []
    },
    {
      "cell_type": "code",
      "source": [
        "for i,j in zip(c,d):\n",
        "  if i == 1:\n",
        "    print(j + ' has '+ str(i) + ' car.')\n",
        "  else:\n",
        "    print(j + ' has '+ str(i) + ' cars.')\n",
        "\n"
      ],
      "metadata": {
        "colab": {
          "base_uri": "https://localhost:8080/"
        },
        "id": "oYK11lKNiHTT",
        "outputId": "f245d339-40e8-44d0-e437-64694809e625"
      },
      "execution_count": null,
      "outputs": [
        {
          "output_type": "stream",
          "name": "stdout",
          "text": [
            "John has 1 car.\n",
            "Sally has 2 cars.\n",
            "Joe has 3 cars.\n",
            "Susy has 4 cars.\n"
          ]
        }
      ]
    },
    {
      "cell_type": "code",
      "source": [
        ""
      ],
      "metadata": {
        "id": "FIB0X5zfirC1"
      },
      "execution_count": null,
      "outputs": []
    },
    {
      "cell_type": "markdown",
      "source": [
        "# New Section"
      ],
      "metadata": {
        "id": "7hfdgyVnivXK"
      }
    },
    {
      "cell_type": "markdown",
      "source": [
        "# New Section"
      ],
      "metadata": {
        "id": "NWo1m_WuiwMP"
      }
    },
    {
      "cell_type": "markdown",
      "source": [
        ""
      ],
      "metadata": {
        "id": "5XV8a4TaqkIl"
      }
    }
  ]
}