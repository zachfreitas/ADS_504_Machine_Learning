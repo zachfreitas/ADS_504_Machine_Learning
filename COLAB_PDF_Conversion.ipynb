{
  "nbformat": 4,
  "nbformat_minor": 0,
  "metadata": {
    "colab": {
      "name": "COLAB_PDF_Conversion.ipynb",
      "provenance": [],
      "mount_file_id": "1nRUUXTs-3EKkHRkhOYupIpIZN7K3QV0Y",
      "authorship_tag": "ABX9TyMvv8j7q+dBx0opUUbQ+HbO",
      "include_colab_link": true
    },
    "kernelspec": {
      "name": "python3",
      "display_name": "Python 3"
    },
    "language_info": {
      "name": "python"
    }
  },
  "cells": [
    {
      "cell_type": "markdown",
      "metadata": {
        "id": "view-in-github",
        "colab_type": "text"
      },
      "source": [
        "<a href=\"https://colab.research.google.com/github/zachfreitas/ADS_504_Machine_Learning/blob/main/COLAB_PDF_Conversion.ipynb\" target=\"_parent\"><img src=\"https://colab.research.google.com/assets/colab-badge.svg\" alt=\"Open In Colab\"/></a>"
      ]
    },
    {
      "cell_type": "markdown",
      "source": [
        "## Method 1: Convert notebook to HTML then print as PDF"
      ],
      "metadata": {
        "id": "ZiU_NWLwVhMj"
      }
    },
    {
      "cell_type": "code",
      "execution_count": null,
      "metadata": {
        "id": "cf5UDVyVVV04"
      },
      "outputs": [],
      "source": [
        "!jupyter nbconvert --to html /content/KNN.ipynb"
      ]
    },
    {
      "cell_type": "markdown",
      "source": [
        "## Method 2: Convert notebook directly as a PDF"
      ],
      "metadata": {
        "id": "oW4LvTkrVYRl"
      }
    },
    {
      "cell_type": "code",
      "source": [
        "!sudo apt-get install texlive-xetex texlive-fonts-recommended texlive-plain-generic\n",
        "!jupyter nbconvert --to pdf /content/KNN.ipynb"
      ],
      "metadata": {
        "id": "D9zUNylDVYg6"
      },
      "execution_count": null,
      "outputs": []
    },
    {
      "cell_type": "code",
      "source": [
        "!sudo apt-get install texlive-xetex texlive-fonts-recommended texlive-plain-generic\n"
      ],
      "metadata": {
        "colab": {
          "base_uri": "https://localhost:8080/"
        },
        "id": "M9ns1au0Wqma",
        "outputId": "b36c1d64-7b31-4d9c-b4ea-1c816f35d0c1"
      },
      "execution_count": 10,
      "outputs": [
        {
          "output_type": "stream",
          "name": "stdout",
          "text": [
            "Reading package lists... Done\n",
            "Building dependency tree       \n",
            "Reading state information... Done\n",
            "texlive-fonts-recommended is already the newest version (2017.20180305-1).\n",
            "texlive-plain-generic is already the newest version (2017.20180305-2).\n",
            "texlive-xetex is already the newest version (2017.20180305-1).\n",
            "The following package was automatically installed and is no longer required:\n",
            "  libnvidia-common-460\n",
            "Use 'sudo apt autoremove' to remove it.\n",
            "0 upgraded, 0 newly installed, 0 to remove and 62 not upgraded.\n"
          ]
        }
      ]
    },
    {
      "cell_type": "code",
      "source": [
        "!jupyter nbconvert --to pdf '/content/drive/MyDrive/Colab Notebooks/Copy of Zachariah_Freitas_Assignment_3.1.ipynb'"
      ],
      "metadata": {
        "colab": {
          "base_uri": "https://localhost:8080/"
        },
        "id": "kRCf7PbOZsCx",
        "outputId": "2e5e85e4-418e-4f45-aa77-0acdd7d377d2"
      },
      "execution_count": 14,
      "outputs": [
        {
          "output_type": "stream",
          "name": "stdout",
          "text": [
            "[NbConvertApp] Converting notebook /content/drive/MyDrive/Colab Notebooks/Copy of Zachariah_Freitas_Assignment_3.1.ipynb to pdf\n",
            "[NbConvertApp] Writing 47840 bytes to ./notebook.tex\n",
            "[NbConvertApp] Building PDF\n",
            "[NbConvertApp] Running xelatex 3 times: ['xelatex', './notebook.tex', '-quiet']\n",
            "[NbConvertApp] Running bibtex 1 time: ['bibtex', './notebook']\n",
            "[NbConvertApp] WARNING | bibtex had problems, most likely because there were no citations\n",
            "[NbConvertApp] PDF successfully created\n",
            "[NbConvertApp] Writing 54223 bytes to /content/drive/MyDrive/Colab Notebooks/Copy of Zachariah_Freitas_Assignment_3.1.pdf\n"
          ]
        }
      ]
    },
    {
      "cell_type": "code",
      "source": [
        ""
      ],
      "metadata": {
        "id": "5yxMi5KgaPS4"
      },
      "execution_count": null,
      "outputs": []
    }
  ]
}