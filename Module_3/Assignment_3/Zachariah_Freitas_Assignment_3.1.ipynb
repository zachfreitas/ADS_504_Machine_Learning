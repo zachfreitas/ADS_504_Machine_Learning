{
  "nbformat": 4,
  "nbformat_minor": 0,
  "metadata": {
    "colab": {
      "name": "Zachariah_Freitas_Assignment_3.1.ipynb",
      "provenance": [],
      "authorship_tag": "ABX9TyMr4dp/QL1Wjmyw+mJ1fME0",
      "include_colab_link": true
    },
    "kernelspec": {
      "name": "python3",
      "display_name": "Python 3"
    },
    "language_info": {
      "name": "python"
    }
  },
  "cells": [
    {
      "cell_type": "markdown",
      "metadata": {
        "id": "view-in-github",
        "colab_type": "text"
      },
      "source": [
        "<a href=\"https://colab.research.google.com/github/zachfreitas/ADS_504_Machine_Learning/blob/main/Module_3/Assignment_3/Zachariah_Freitas_Assignment_3.1.ipynb\" target=\"_parent\"><img src=\"https://colab.research.google.com/assets/colab-badge.svg\" alt=\"Open In Colab\"/></a>"
      ]
    },
    {
      "cell_type": "markdown",
      "source": [
        "# Assignment 3.1\n",
        "Zachariah Freitas"
      ],
      "metadata": {
        "id": "ploWhS7us7Q4"
      }
    },
    {
      "cell_type": "markdown",
      "source": [
        "## Import Libraries"
      ],
      "metadata": {
        "id": "0P1voHRqtaM6"
      }
    },
    {
      "cell_type": "code",
      "execution_count": 6,
      "metadata": {
        "id": "39p7xbLGs31Z"
      },
      "outputs": [],
      "source": [
        "# Import Libraries\n",
        "%matplotlib inline\n",
        "import os\n",
        "from IPython.display import display\n",
        "import numpy as np\n",
        "import pandas as pd \n",
        "\n",
        "# Turn off warnings to make results look cleaner.\n",
        "import warnings\n",
        "# warnings.filterwarnings(\"ignore\", category=DeprecationWarning)\n",
        "warnings.filterwarnings(\"ignore\")\n",
        "\n",
        "\n",
        "import matplotlib.pyplot as plt\n",
        "import matplotlib.pylab as pylab\n",
        "import matplotlib.gridspec as gs\n",
        "import seaborn as sns; sns.set()\n",
        "\n",
        "from sklearn import preprocessing\n",
        "from sklearn.model_selection import train_test_split\n",
        "from sklearn import tree\n",
        "# from sklearn.tree import DecisionTreeClassifier\n",
        "from sklearn.neighbors import KNeighborsClassifier\n",
        "from sklearn.preprocessing import OrdinalEncoder\n",
        "from sklearn import preprocessing\n",
        "from sklearn.model_selection import train_test_split\n",
        "from sklearn.metrics import confusion_matrix, accuracy_score, classification_report\n",
        "from sklearn.model_selection import cross_val_score\n",
        "from sklearn.model_selection import GridSearchCV"
      ]
    },
    {
      "cell_type": "markdown",
      "source": [
        "## Drum Dataset\n",
        "These data are in drum_data.csv. These are the spectrum (frequencies) of sounds from a digital drum musical instrument. The task is to identify which type of drum produced the sound.\n"
      ],
      "metadata": {
        "id": "p9gODfB5teHy"
      }
    },
    {
      "cell_type": "code",
      "source": [
        "# Get data\n",
        "d_df = pd.read_csv('https://raw.githubusercontent.com/zachfreitas/ADS_504_Machine_Learning/main/Module_3/Assignment_3/drum_data.csv')\n",
        "\n",
        "d_df.head(3).T"
      ],
      "metadata": {
        "colab": {
          "base_uri": "https://localhost:8080/",
          "height": 424
        },
        "id": "wwYXUXWztxS5",
        "outputId": "051c3cc8-48f6-4d2c-a3b3-60521d9fc69f"
      },
      "execution_count": 7,
      "outputs": [
        {
          "output_type": "execute_result",
          "data": {
            "text/plain": [
              "                      0              1              2\n",
              "Unnamed: 0            0              1              2\n",
              "filename     70Funk.wav  8oh8  Rim.wav  8oh8  Tin.wav\n",
              "label_text        snare          snare          snare\n",
              "label                 0              0              0\n",
              "0.00 hz        0.117469       0.003148       0.006759\n",
              "...                 ...            ...            ...\n",
              "10680.47 hz    0.000041       0.000036       0.000024\n",
              "10766.60 hz    0.000003       0.000006       0.000003\n",
              "10852.73 hz    0.000001       0.000001       0.000001\n",
              "10938.87 hz         0.0            0.0            0.0\n",
              "11025.00 hz         0.0            0.0            0.0\n",
              "\n",
              "[133 rows x 3 columns]"
            ],
            "text/html": [
              "\n",
              "  <div id=\"df-39d9cb2e-9107-4c42-af1c-4c888a632799\">\n",
              "    <div class=\"colab-df-container\">\n",
              "      <div>\n",
              "<style scoped>\n",
              "    .dataframe tbody tr th:only-of-type {\n",
              "        vertical-align: middle;\n",
              "    }\n",
              "\n",
              "    .dataframe tbody tr th {\n",
              "        vertical-align: top;\n",
              "    }\n",
              "\n",
              "    .dataframe thead th {\n",
              "        text-align: right;\n",
              "    }\n",
              "</style>\n",
              "<table border=\"1\" class=\"dataframe\">\n",
              "  <thead>\n",
              "    <tr style=\"text-align: right;\">\n",
              "      <th></th>\n",
              "      <th>0</th>\n",
              "      <th>1</th>\n",
              "      <th>2</th>\n",
              "    </tr>\n",
              "  </thead>\n",
              "  <tbody>\n",
              "    <tr>\n",
              "      <th>Unnamed: 0</th>\n",
              "      <td>0</td>\n",
              "      <td>1</td>\n",
              "      <td>2</td>\n",
              "    </tr>\n",
              "    <tr>\n",
              "      <th>filename</th>\n",
              "      <td>70Funk.wav</td>\n",
              "      <td>8oh8  Rim.wav</td>\n",
              "      <td>8oh8  Tin.wav</td>\n",
              "    </tr>\n",
              "    <tr>\n",
              "      <th>label_text</th>\n",
              "      <td>snare</td>\n",
              "      <td>snare</td>\n",
              "      <td>snare</td>\n",
              "    </tr>\n",
              "    <tr>\n",
              "      <th>label</th>\n",
              "      <td>0</td>\n",
              "      <td>0</td>\n",
              "      <td>0</td>\n",
              "    </tr>\n",
              "    <tr>\n",
              "      <th>0.00 hz</th>\n",
              "      <td>0.117469</td>\n",
              "      <td>0.003148</td>\n",
              "      <td>0.006759</td>\n",
              "    </tr>\n",
              "    <tr>\n",
              "      <th>...</th>\n",
              "      <td>...</td>\n",
              "      <td>...</td>\n",
              "      <td>...</td>\n",
              "    </tr>\n",
              "    <tr>\n",
              "      <th>10680.47 hz</th>\n",
              "      <td>0.000041</td>\n",
              "      <td>0.000036</td>\n",
              "      <td>0.000024</td>\n",
              "    </tr>\n",
              "    <tr>\n",
              "      <th>10766.60 hz</th>\n",
              "      <td>0.000003</td>\n",
              "      <td>0.000006</td>\n",
              "      <td>0.000003</td>\n",
              "    </tr>\n",
              "    <tr>\n",
              "      <th>10852.73 hz</th>\n",
              "      <td>0.000001</td>\n",
              "      <td>0.000001</td>\n",
              "      <td>0.000001</td>\n",
              "    </tr>\n",
              "    <tr>\n",
              "      <th>10938.87 hz</th>\n",
              "      <td>0.0</td>\n",
              "      <td>0.0</td>\n",
              "      <td>0.0</td>\n",
              "    </tr>\n",
              "    <tr>\n",
              "      <th>11025.00 hz</th>\n",
              "      <td>0.0</td>\n",
              "      <td>0.0</td>\n",
              "      <td>0.0</td>\n",
              "    </tr>\n",
              "  </tbody>\n",
              "</table>\n",
              "<p>133 rows × 3 columns</p>\n",
              "</div>\n",
              "      <button class=\"colab-df-convert\" onclick=\"convertToInteractive('df-39d9cb2e-9107-4c42-af1c-4c888a632799')\"\n",
              "              title=\"Convert this dataframe to an interactive table.\"\n",
              "              style=\"display:none;\">\n",
              "        \n",
              "  <svg xmlns=\"http://www.w3.org/2000/svg\" height=\"24px\"viewBox=\"0 0 24 24\"\n",
              "       width=\"24px\">\n",
              "    <path d=\"M0 0h24v24H0V0z\" fill=\"none\"/>\n",
              "    <path d=\"M18.56 5.44l.94 2.06.94-2.06 2.06-.94-2.06-.94-.94-2.06-.94 2.06-2.06.94zm-11 1L8.5 8.5l.94-2.06 2.06-.94-2.06-.94L8.5 2.5l-.94 2.06-2.06.94zm10 10l.94 2.06.94-2.06 2.06-.94-2.06-.94-.94-2.06-.94 2.06-2.06.94z\"/><path d=\"M17.41 7.96l-1.37-1.37c-.4-.4-.92-.59-1.43-.59-.52 0-1.04.2-1.43.59L10.3 9.45l-7.72 7.72c-.78.78-.78 2.05 0 2.83L4 21.41c.39.39.9.59 1.41.59.51 0 1.02-.2 1.41-.59l7.78-7.78 2.81-2.81c.8-.78.8-2.07 0-2.86zM5.41 20L4 18.59l7.72-7.72 1.47 1.35L5.41 20z\"/>\n",
              "  </svg>\n",
              "      </button>\n",
              "      \n",
              "  <style>\n",
              "    .colab-df-container {\n",
              "      display:flex;\n",
              "      flex-wrap:wrap;\n",
              "      gap: 12px;\n",
              "    }\n",
              "\n",
              "    .colab-df-convert {\n",
              "      background-color: #E8F0FE;\n",
              "      border: none;\n",
              "      border-radius: 50%;\n",
              "      cursor: pointer;\n",
              "      display: none;\n",
              "      fill: #1967D2;\n",
              "      height: 32px;\n",
              "      padding: 0 0 0 0;\n",
              "      width: 32px;\n",
              "    }\n",
              "\n",
              "    .colab-df-convert:hover {\n",
              "      background-color: #E2EBFA;\n",
              "      box-shadow: 0px 1px 2px rgba(60, 64, 67, 0.3), 0px 1px 3px 1px rgba(60, 64, 67, 0.15);\n",
              "      fill: #174EA6;\n",
              "    }\n",
              "\n",
              "    [theme=dark] .colab-df-convert {\n",
              "      background-color: #3B4455;\n",
              "      fill: #D2E3FC;\n",
              "    }\n",
              "\n",
              "    [theme=dark] .colab-df-convert:hover {\n",
              "      background-color: #434B5C;\n",
              "      box-shadow: 0px 1px 3px 1px rgba(0, 0, 0, 0.15);\n",
              "      filter: drop-shadow(0px 1px 2px rgba(0, 0, 0, 0.3));\n",
              "      fill: #FFFFFF;\n",
              "    }\n",
              "  </style>\n",
              "\n",
              "      <script>\n",
              "        const buttonEl =\n",
              "          document.querySelector('#df-39d9cb2e-9107-4c42-af1c-4c888a632799 button.colab-df-convert');\n",
              "        buttonEl.style.display =\n",
              "          google.colab.kernel.accessAllowed ? 'block' : 'none';\n",
              "\n",
              "        async function convertToInteractive(key) {\n",
              "          const element = document.querySelector('#df-39d9cb2e-9107-4c42-af1c-4c888a632799');\n",
              "          const dataTable =\n",
              "            await google.colab.kernel.invokeFunction('convertToInteractive',\n",
              "                                                     [key], {});\n",
              "          if (!dataTable) return;\n",
              "\n",
              "          const docLinkHtml = 'Like what you see? Visit the ' +\n",
              "            '<a target=\"_blank\" href=https://colab.research.google.com/notebooks/data_table.ipynb>data table notebook</a>'\n",
              "            + ' to learn more about interactive tables.';\n",
              "          element.innerHTML = '';\n",
              "          dataTable['output_type'] = 'display_data';\n",
              "          await google.colab.output.renderOutput(dataTable, element);\n",
              "          const docLink = document.createElement('div');\n",
              "          docLink.innerHTML = docLinkHtml;\n",
              "          element.appendChild(docLink);\n",
              "        }\n",
              "      </script>\n",
              "    </div>\n",
              "  </div>\n",
              "  "
            ]
          },
          "metadata": {},
          "execution_count": 7
        }
      ]
    },
    {
      "cell_type": "code",
      "source": [
        "d_df.describe().T"
      ],
      "metadata": {
        "colab": {
          "base_uri": "https://localhost:8080/",
          "height": 424
        },
        "id": "xOkqFpJ_68PM",
        "outputId": "a849ca05-e402-4c23-fa93-434aa5e0561e"
      },
      "execution_count": 8,
      "outputs": [
        {
          "output_type": "execute_result",
          "data": {
            "text/plain": [
              "             count          mean           std           min           25%  \\\n",
              "Unnamed: 0   212.0  1.055000e+02  6.134330e+01  0.000000e+00  5.275000e+01   \n",
              "label        212.0  4.481132e-01  4.984775e-01  0.000000e+00  0.000000e+00   \n",
              "0.00 hz      212.0  3.624958e+00  6.942545e+00  1.526861e-03  6.484030e-02   \n",
              "86.13 hz     212.0  1.741696e+01  2.643852e+01  9.484890e-04  2.177118e-01   \n",
              "172.27 hz    212.0  8.596787e+00  9.235777e+00  3.451092e-03  2.332045e+00   \n",
              "...            ...           ...           ...           ...           ...   \n",
              "10680.47 hz  212.0  1.519868e-05  3.001521e-05  8.123556e-10  1.042592e-07   \n",
              "10766.60 hz  212.0  3.533626e-06  6.106023e-06  3.550325e-10  1.984290e-08   \n",
              "10852.73 hz  212.0  6.712768e-07  1.313119e-06  8.939242e-11  3.470632e-09   \n",
              "10938.87 hz  212.0  9.091606e-08  1.898266e-07  8.800568e-12  4.616096e-10   \n",
              "11025.00 hz  212.0  6.313396e-09  1.143963e-08  5.490084e-13  5.699681e-11   \n",
              "\n",
              "                      50%           75%           max  \n",
              "Unnamed: 0   1.055000e+02  1.582500e+02  2.110000e+02  \n",
              "label        0.000000e+00  1.000000e+00  1.000000e+00  \n",
              "0.00 hz      4.884105e-01  4.309501e+00  6.658286e+01  \n",
              "86.13 hz     3.617768e+00  2.433454e+01  1.900677e+02  \n",
              "172.27 hz    6.081414e+00  1.131237e+01  5.620369e+01  \n",
              "...                   ...           ...           ...  \n",
              "10680.47 hz  3.744049e-06  1.851275e-05  2.575438e-04  \n",
              "10766.60 hz  9.070992e-07  4.349353e-06  4.113468e-05  \n",
              "10852.73 hz  1.677709e-07  7.235192e-07  9.834714e-06  \n",
              "10938.87 hz  1.739184e-08  9.673274e-08  1.392894e-06  \n",
              "11025.00 hz  1.160822e-09  7.282709e-09  7.029924e-08  \n",
              "\n",
              "[131 rows x 8 columns]"
            ],
            "text/html": [
              "\n",
              "  <div id=\"df-31011b51-ce89-4c18-b01a-563b769147c2\">\n",
              "    <div class=\"colab-df-container\">\n",
              "      <div>\n",
              "<style scoped>\n",
              "    .dataframe tbody tr th:only-of-type {\n",
              "        vertical-align: middle;\n",
              "    }\n",
              "\n",
              "    .dataframe tbody tr th {\n",
              "        vertical-align: top;\n",
              "    }\n",
              "\n",
              "    .dataframe thead th {\n",
              "        text-align: right;\n",
              "    }\n",
              "</style>\n",
              "<table border=\"1\" class=\"dataframe\">\n",
              "  <thead>\n",
              "    <tr style=\"text-align: right;\">\n",
              "      <th></th>\n",
              "      <th>count</th>\n",
              "      <th>mean</th>\n",
              "      <th>std</th>\n",
              "      <th>min</th>\n",
              "      <th>25%</th>\n",
              "      <th>50%</th>\n",
              "      <th>75%</th>\n",
              "      <th>max</th>\n",
              "    </tr>\n",
              "  </thead>\n",
              "  <tbody>\n",
              "    <tr>\n",
              "      <th>Unnamed: 0</th>\n",
              "      <td>212.0</td>\n",
              "      <td>1.055000e+02</td>\n",
              "      <td>6.134330e+01</td>\n",
              "      <td>0.000000e+00</td>\n",
              "      <td>5.275000e+01</td>\n",
              "      <td>1.055000e+02</td>\n",
              "      <td>1.582500e+02</td>\n",
              "      <td>2.110000e+02</td>\n",
              "    </tr>\n",
              "    <tr>\n",
              "      <th>label</th>\n",
              "      <td>212.0</td>\n",
              "      <td>4.481132e-01</td>\n",
              "      <td>4.984775e-01</td>\n",
              "      <td>0.000000e+00</td>\n",
              "      <td>0.000000e+00</td>\n",
              "      <td>0.000000e+00</td>\n",
              "      <td>1.000000e+00</td>\n",
              "      <td>1.000000e+00</td>\n",
              "    </tr>\n",
              "    <tr>\n",
              "      <th>0.00 hz</th>\n",
              "      <td>212.0</td>\n",
              "      <td>3.624958e+00</td>\n",
              "      <td>6.942545e+00</td>\n",
              "      <td>1.526861e-03</td>\n",
              "      <td>6.484030e-02</td>\n",
              "      <td>4.884105e-01</td>\n",
              "      <td>4.309501e+00</td>\n",
              "      <td>6.658286e+01</td>\n",
              "    </tr>\n",
              "    <tr>\n",
              "      <th>86.13 hz</th>\n",
              "      <td>212.0</td>\n",
              "      <td>1.741696e+01</td>\n",
              "      <td>2.643852e+01</td>\n",
              "      <td>9.484890e-04</td>\n",
              "      <td>2.177118e-01</td>\n",
              "      <td>3.617768e+00</td>\n",
              "      <td>2.433454e+01</td>\n",
              "      <td>1.900677e+02</td>\n",
              "    </tr>\n",
              "    <tr>\n",
              "      <th>172.27 hz</th>\n",
              "      <td>212.0</td>\n",
              "      <td>8.596787e+00</td>\n",
              "      <td>9.235777e+00</td>\n",
              "      <td>3.451092e-03</td>\n",
              "      <td>2.332045e+00</td>\n",
              "      <td>6.081414e+00</td>\n",
              "      <td>1.131237e+01</td>\n",
              "      <td>5.620369e+01</td>\n",
              "    </tr>\n",
              "    <tr>\n",
              "      <th>...</th>\n",
              "      <td>...</td>\n",
              "      <td>...</td>\n",
              "      <td>...</td>\n",
              "      <td>...</td>\n",
              "      <td>...</td>\n",
              "      <td>...</td>\n",
              "      <td>...</td>\n",
              "      <td>...</td>\n",
              "    </tr>\n",
              "    <tr>\n",
              "      <th>10680.47 hz</th>\n",
              "      <td>212.0</td>\n",
              "      <td>1.519868e-05</td>\n",
              "      <td>3.001521e-05</td>\n",
              "      <td>8.123556e-10</td>\n",
              "      <td>1.042592e-07</td>\n",
              "      <td>3.744049e-06</td>\n",
              "      <td>1.851275e-05</td>\n",
              "      <td>2.575438e-04</td>\n",
              "    </tr>\n",
              "    <tr>\n",
              "      <th>10766.60 hz</th>\n",
              "      <td>212.0</td>\n",
              "      <td>3.533626e-06</td>\n",
              "      <td>6.106023e-06</td>\n",
              "      <td>3.550325e-10</td>\n",
              "      <td>1.984290e-08</td>\n",
              "      <td>9.070992e-07</td>\n",
              "      <td>4.349353e-06</td>\n",
              "      <td>4.113468e-05</td>\n",
              "    </tr>\n",
              "    <tr>\n",
              "      <th>10852.73 hz</th>\n",
              "      <td>212.0</td>\n",
              "      <td>6.712768e-07</td>\n",
              "      <td>1.313119e-06</td>\n",
              "      <td>8.939242e-11</td>\n",
              "      <td>3.470632e-09</td>\n",
              "      <td>1.677709e-07</td>\n",
              "      <td>7.235192e-07</td>\n",
              "      <td>9.834714e-06</td>\n",
              "    </tr>\n",
              "    <tr>\n",
              "      <th>10938.87 hz</th>\n",
              "      <td>212.0</td>\n",
              "      <td>9.091606e-08</td>\n",
              "      <td>1.898266e-07</td>\n",
              "      <td>8.800568e-12</td>\n",
              "      <td>4.616096e-10</td>\n",
              "      <td>1.739184e-08</td>\n",
              "      <td>9.673274e-08</td>\n",
              "      <td>1.392894e-06</td>\n",
              "    </tr>\n",
              "    <tr>\n",
              "      <th>11025.00 hz</th>\n",
              "      <td>212.0</td>\n",
              "      <td>6.313396e-09</td>\n",
              "      <td>1.143963e-08</td>\n",
              "      <td>5.490084e-13</td>\n",
              "      <td>5.699681e-11</td>\n",
              "      <td>1.160822e-09</td>\n",
              "      <td>7.282709e-09</td>\n",
              "      <td>7.029924e-08</td>\n",
              "    </tr>\n",
              "  </tbody>\n",
              "</table>\n",
              "<p>131 rows × 8 columns</p>\n",
              "</div>\n",
              "      <button class=\"colab-df-convert\" onclick=\"convertToInteractive('df-31011b51-ce89-4c18-b01a-563b769147c2')\"\n",
              "              title=\"Convert this dataframe to an interactive table.\"\n",
              "              style=\"display:none;\">\n",
              "        \n",
              "  <svg xmlns=\"http://www.w3.org/2000/svg\" height=\"24px\"viewBox=\"0 0 24 24\"\n",
              "       width=\"24px\">\n",
              "    <path d=\"M0 0h24v24H0V0z\" fill=\"none\"/>\n",
              "    <path d=\"M18.56 5.44l.94 2.06.94-2.06 2.06-.94-2.06-.94-.94-2.06-.94 2.06-2.06.94zm-11 1L8.5 8.5l.94-2.06 2.06-.94-2.06-.94L8.5 2.5l-.94 2.06-2.06.94zm10 10l.94 2.06.94-2.06 2.06-.94-2.06-.94-.94-2.06-.94 2.06-2.06.94z\"/><path d=\"M17.41 7.96l-1.37-1.37c-.4-.4-.92-.59-1.43-.59-.52 0-1.04.2-1.43.59L10.3 9.45l-7.72 7.72c-.78.78-.78 2.05 0 2.83L4 21.41c.39.39.9.59 1.41.59.51 0 1.02-.2 1.41-.59l7.78-7.78 2.81-2.81c.8-.78.8-2.07 0-2.86zM5.41 20L4 18.59l7.72-7.72 1.47 1.35L5.41 20z\"/>\n",
              "  </svg>\n",
              "      </button>\n",
              "      \n",
              "  <style>\n",
              "    .colab-df-container {\n",
              "      display:flex;\n",
              "      flex-wrap:wrap;\n",
              "      gap: 12px;\n",
              "    }\n",
              "\n",
              "    .colab-df-convert {\n",
              "      background-color: #E8F0FE;\n",
              "      border: none;\n",
              "      border-radius: 50%;\n",
              "      cursor: pointer;\n",
              "      display: none;\n",
              "      fill: #1967D2;\n",
              "      height: 32px;\n",
              "      padding: 0 0 0 0;\n",
              "      width: 32px;\n",
              "    }\n",
              "\n",
              "    .colab-df-convert:hover {\n",
              "      background-color: #E2EBFA;\n",
              "      box-shadow: 0px 1px 2px rgba(60, 64, 67, 0.3), 0px 1px 3px 1px rgba(60, 64, 67, 0.15);\n",
              "      fill: #174EA6;\n",
              "    }\n",
              "\n",
              "    [theme=dark] .colab-df-convert {\n",
              "      background-color: #3B4455;\n",
              "      fill: #D2E3FC;\n",
              "    }\n",
              "\n",
              "    [theme=dark] .colab-df-convert:hover {\n",
              "      background-color: #434B5C;\n",
              "      box-shadow: 0px 1px 3px 1px rgba(0, 0, 0, 0.15);\n",
              "      filter: drop-shadow(0px 1px 2px rgba(0, 0, 0, 0.3));\n",
              "      fill: #FFFFFF;\n",
              "    }\n",
              "  </style>\n",
              "\n",
              "      <script>\n",
              "        const buttonEl =\n",
              "          document.querySelector('#df-31011b51-ce89-4c18-b01a-563b769147c2 button.colab-df-convert');\n",
              "        buttonEl.style.display =\n",
              "          google.colab.kernel.accessAllowed ? 'block' : 'none';\n",
              "\n",
              "        async function convertToInteractive(key) {\n",
              "          const element = document.querySelector('#df-31011b51-ce89-4c18-b01a-563b769147c2');\n",
              "          const dataTable =\n",
              "            await google.colab.kernel.invokeFunction('convertToInteractive',\n",
              "                                                     [key], {});\n",
              "          if (!dataTable) return;\n",
              "\n",
              "          const docLinkHtml = 'Like what you see? Visit the ' +\n",
              "            '<a target=\"_blank\" href=https://colab.research.google.com/notebooks/data_table.ipynb>data table notebook</a>'\n",
              "            + ' to learn more about interactive tables.';\n",
              "          element.innerHTML = '';\n",
              "          dataTable['output_type'] = 'display_data';\n",
              "          await google.colab.output.renderOutput(dataTable, element);\n",
              "          const docLink = document.createElement('div');\n",
              "          docLink.innerHTML = docLinkHtml;\n",
              "          element.appendChild(docLink);\n",
              "        }\n",
              "      </script>\n",
              "    </div>\n",
              "  </div>\n",
              "  "
            ]
          },
          "metadata": {},
          "execution_count": 8
        }
      ]
    },
    {
      "cell_type": "code",
      "source": [
        "pd.value_counts(d_df['label_text'])"
      ],
      "metadata": {
        "id": "yae4sREI6075",
        "outputId": "78fcba97-51c7-47fc-fbb0-432c736994bf",
        "colab": {
          "base_uri": "https://localhost:8080/"
        }
      },
      "execution_count": 9,
      "outputs": [
        {
          "output_type": "execute_result",
          "data": {
            "text/plain": [
              "snare    117\n",
              "kick      95\n",
              "Name: label_text, dtype: int64"
            ]
          },
          "metadata": {},
          "execution_count": 9
        }
      ]
    },
    {
      "cell_type": "code",
      "source": [
        "d_df.info()"
      ],
      "metadata": {
        "id": "v66ftIUX7KB5",
        "outputId": "4958413e-00d2-4958-cef7-c7ca35dbba0a",
        "colab": {
          "base_uri": "https://localhost:8080/"
        }
      },
      "execution_count": 10,
      "outputs": [
        {
          "output_type": "stream",
          "name": "stdout",
          "text": [
            "<class 'pandas.core.frame.DataFrame'>\n",
            "RangeIndex: 212 entries, 0 to 211\n",
            "Columns: 133 entries, Unnamed: 0 to 11025.00 hz\n",
            "dtypes: float64(129), int64(2), object(2)\n",
            "memory usage: 220.4+ KB\n"
          ]
        }
      ]
    },
    {
      "cell_type": "code",
      "source": [
        "d_df.isnull().sum()"
      ],
      "metadata": {
        "id": "FduPccvk7TdT",
        "outputId": "37186690-1535-4c53-97b9-ffce9352fcac",
        "colab": {
          "base_uri": "https://localhost:8080/"
        }
      },
      "execution_count": 11,
      "outputs": [
        {
          "output_type": "execute_result",
          "data": {
            "text/plain": [
              "Unnamed: 0     0\n",
              "filename       0\n",
              "label_text     0\n",
              "label          0\n",
              "0.00 hz        0\n",
              "              ..\n",
              "10680.47 hz    0\n",
              "10766.60 hz    0\n",
              "10852.73 hz    0\n",
              "10938.87 hz    0\n",
              "11025.00 hz    0\n",
              "Length: 133, dtype: int64"
            ]
          },
          "metadata": {},
          "execution_count": 11
        }
      ]
    },
    {
      "cell_type": "code",
      "source": [
        "# Nice Pair Grid\n",
        "# Too many Variables to plot.\n",
        "# sns.pairplot(d_df, hue=\"label_text\", corner=True, kind='reg')"
      ],
      "metadata": {
        "id": "MYeVDTP17eGK"
      },
      "execution_count": 12,
      "outputs": []
    },
    {
      "cell_type": "markdown",
      "source": [
        "**Data Engeneering**"
      ],
      "metadata": {
        "id": "Suw1jVey6AQu"
      }
    },
    {
      "cell_type": "code",
      "source": [
        "# Create the decision tree here Randomstate=42 80% training and 20% testing\n",
        "X = d_df.drop(['Unnamed: 0','filename','label_text','label'], axis=1)\n",
        "le = preprocessing.LabelEncoder()\n",
        "labels = d_df['label_text']\n",
        "le.fit(labels)\n",
        "y=le.transform(labels)\n",
        "\n",
        "# Split the dataset using the following line:\n",
        "X_train, X_test, y_train, y_test = train_test_split(X, y, test_size=0.10, random_state=42)"
      ],
      "metadata": {
        "id": "qaTIETzX4sRl"
      },
      "execution_count": 13,
      "outputs": []
    },
    {
      "cell_type": "code",
      "source": [
        "# Review X Split\n",
        "print('X Train:',X_train.shape,'X Test:',X_test.shape)\n",
        "pct = round((X_test.shape[0]/((X_train.shape[0] +X_test.shape[0]) * 1.0))*100,0)\n",
        "print('{} rows and {} columns for the train against {} rows ({}%) and {} columns for the test.'.format(X_train.shape[0],X_train.shape[1],X_test.shape[0],pct,X_test.shape[1]))"
      ],
      "metadata": {
        "id": "cdrC8IfJ4scL",
        "outputId": "6e4c5dd7-2256-4f87-c58b-67ee810b49e0",
        "colab": {
          "base_uri": "https://localhost:8080/"
        }
      },
      "execution_count": 22,
      "outputs": [
        {
          "output_type": "stream",
          "name": "stdout",
          "text": [
            "X Train: (190, 129) X Test: (22, 129)\n",
            "190 rows and 129 columns for the train against 22 rows (10.0%) and 129 columns for the test.\n"
          ]
        }
      ]
    },
    {
      "cell_type": "code",
      "source": [
        "# Review Y Split\n",
        "print('Y Train:',y_train.shape,'Y Test:',y_test.shape)\n",
        "pct = round((y_test.shape[0]/((y_train.shape[0] +y_test.shape[0]) * 1.0))*100,0)\n",
        "print('{} rows for the train against {} rows ({}%) for the test, to the targets.'.format(y_train.shape[0], y_test.shape[0],pct))"
      ],
      "metadata": {
        "id": "Xvz44XLj4sgV",
        "outputId": "d3cf0895-dfbe-43e1-b6e3-e0894cd6c518",
        "colab": {
          "base_uri": "https://localhost:8080/"
        }
      },
      "execution_count": 23,
      "outputs": [
        {
          "output_type": "stream",
          "name": "stdout",
          "text": [
            "Y Train: (190,) Y Test: (22,)\n",
            "190 rows for the train against 22 rows (10.0%) for the test, to the targets.\n"
          ]
        }
      ]
    },
    {
      "cell_type": "markdown",
      "source": [
        "**Trainning the KNN algorithm**"
      ],
      "metadata": {
        "id": "PusizoGX_RHB"
      }
    },
    {
      "cell_type": "code",
      "source": [
        "knn = KNeighborsClassifier(n_neighbors=3)"
      ],
      "metadata": {
        "id": "yvlL14Wi4snU"
      },
      "execution_count": 24,
      "outputs": []
    },
    {
      "cell_type": "code",
      "source": [
        "knn.fit(X_train,y_train)"
      ],
      "metadata": {
        "id": "uc93W0OV_ys6",
        "outputId": "03aa1d1c-e743-41df-d0be-99eec0aad737",
        "colab": {
          "base_uri": "https://localhost:8080/"
        }
      },
      "execution_count": 26,
      "outputs": [
        {
          "output_type": "execute_result",
          "data": {
            "text/plain": [
              "KNeighborsClassifier(n_neighbors=3)"
            ]
          },
          "metadata": {},
          "execution_count": 26
        }
      ]
    },
    {
      "cell_type": "code",
      "source": [
        "knn.score(X_test,y_test)"
      ],
      "metadata": {
        "id": "nrcgFuiT4sqq",
        "outputId": "d29bc394-42b8-4cfd-e3f6-38e23d33fd95",
        "colab": {
          "base_uri": "https://localhost:8080/"
        }
      },
      "execution_count": 27,
      "outputs": [
        {
          "output_type": "execute_result",
          "data": {
            "text/plain": [
              "0.9545454545454546"
            ]
          },
          "metadata": {},
          "execution_count": 27
        }
      ]
    },
    {
      "cell_type": "markdown",
      "source": [
        "**Predicting with the Test Data and the KNN Algorithm**"
      ],
      "metadata": {
        "id": "9sxG8msF_aDe"
      }
    },
    {
      "cell_type": "code",
      "source": [
        "results = knn.predict(X_test)"
      ],
      "metadata": {
        "id": "CC2RCyOR4st8"
      },
      "execution_count": 28,
      "outputs": []
    },
    {
      "cell_type": "markdown",
      "source": [
        "**Validation**"
      ],
      "metadata": {
        "id": "L6KeGu4f_fWi"
      }
    },
    {
      "cell_type": "markdown",
      "source": [
        "Cross Tabulation"
      ],
      "metadata": {
        "id": "Y04jeUCQACuo"
      }
    },
    {
      "cell_type": "code",
      "source": [
        "print(pd.crosstab(y_test, results, rownames=['Real'], colnames=['Predicted'], margins=True, margins_name='total'))"
      ],
      "metadata": {
        "id": "lHG88gus4sxK",
        "outputId": "f24bb057-c86e-4376-81cb-fda1de5cddec",
        "colab": {
          "base_uri": "https://localhost:8080/"
        }
      },
      "execution_count": 29,
      "outputs": [
        {
          "output_type": "stream",
          "name": "stdout",
          "text": [
            "Predicted  0   1  total\n",
            "Real                   \n",
            "0          9   1     10\n",
            "1          0  12     12\n",
            "total      9  13     22\n"
          ]
        }
      ]
    },
    {
      "cell_type": "code",
      "source": [
        "# Let's see the confusion matrix together\n",
        "cm = confusion_matrix(le.inverse_transform(y_test), le.inverse_transform(results))\n",
        "labels= le.inverse_transform(knn.classes_)\n",
        "test_results = pd.DataFrame(cm,index=labels,columns=labels)\n",
        "display(test_results.T)"
      ],
      "metadata": {
        "id": "PJR9dbMFBLiu",
        "outputId": "82129c2c-9f9a-43be-c8fd-a25e6f50f7d2",
        "colab": {
          "base_uri": "https://localhost:8080/",
          "height": 112
        }
      },
      "execution_count": 36,
      "outputs": [
        {
          "output_type": "display_data",
          "data": {
            "text/plain": [
              "       kick  snare\n",
              "kick      9      0\n",
              "snare     1     12"
            ],
            "text/html": [
              "\n",
              "  <div id=\"df-d9cf8cc3-3d70-4eff-8c7b-5d5ef80d86a7\">\n",
              "    <div class=\"colab-df-container\">\n",
              "      <div>\n",
              "<style scoped>\n",
              "    .dataframe tbody tr th:only-of-type {\n",
              "        vertical-align: middle;\n",
              "    }\n",
              "\n",
              "    .dataframe tbody tr th {\n",
              "        vertical-align: top;\n",
              "    }\n",
              "\n",
              "    .dataframe thead th {\n",
              "        text-align: right;\n",
              "    }\n",
              "</style>\n",
              "<table border=\"1\" class=\"dataframe\">\n",
              "  <thead>\n",
              "    <tr style=\"text-align: right;\">\n",
              "      <th></th>\n",
              "      <th>kick</th>\n",
              "      <th>snare</th>\n",
              "    </tr>\n",
              "  </thead>\n",
              "  <tbody>\n",
              "    <tr>\n",
              "      <th>kick</th>\n",
              "      <td>9</td>\n",
              "      <td>0</td>\n",
              "    </tr>\n",
              "    <tr>\n",
              "      <th>snare</th>\n",
              "      <td>1</td>\n",
              "      <td>12</td>\n",
              "    </tr>\n",
              "  </tbody>\n",
              "</table>\n",
              "</div>\n",
              "      <button class=\"colab-df-convert\" onclick=\"convertToInteractive('df-d9cf8cc3-3d70-4eff-8c7b-5d5ef80d86a7')\"\n",
              "              title=\"Convert this dataframe to an interactive table.\"\n",
              "              style=\"display:none;\">\n",
              "        \n",
              "  <svg xmlns=\"http://www.w3.org/2000/svg\" height=\"24px\"viewBox=\"0 0 24 24\"\n",
              "       width=\"24px\">\n",
              "    <path d=\"M0 0h24v24H0V0z\" fill=\"none\"/>\n",
              "    <path d=\"M18.56 5.44l.94 2.06.94-2.06 2.06-.94-2.06-.94-.94-2.06-.94 2.06-2.06.94zm-11 1L8.5 8.5l.94-2.06 2.06-.94-2.06-.94L8.5 2.5l-.94 2.06-2.06.94zm10 10l.94 2.06.94-2.06 2.06-.94-2.06-.94-.94-2.06-.94 2.06-2.06.94z\"/><path d=\"M17.41 7.96l-1.37-1.37c-.4-.4-.92-.59-1.43-.59-.52 0-1.04.2-1.43.59L10.3 9.45l-7.72 7.72c-.78.78-.78 2.05 0 2.83L4 21.41c.39.39.9.59 1.41.59.51 0 1.02-.2 1.41-.59l7.78-7.78 2.81-2.81c.8-.78.8-2.07 0-2.86zM5.41 20L4 18.59l7.72-7.72 1.47 1.35L5.41 20z\"/>\n",
              "  </svg>\n",
              "      </button>\n",
              "      \n",
              "  <style>\n",
              "    .colab-df-container {\n",
              "      display:flex;\n",
              "      flex-wrap:wrap;\n",
              "      gap: 12px;\n",
              "    }\n",
              "\n",
              "    .colab-df-convert {\n",
              "      background-color: #E8F0FE;\n",
              "      border: none;\n",
              "      border-radius: 50%;\n",
              "      cursor: pointer;\n",
              "      display: none;\n",
              "      fill: #1967D2;\n",
              "      height: 32px;\n",
              "      padding: 0 0 0 0;\n",
              "      width: 32px;\n",
              "    }\n",
              "\n",
              "    .colab-df-convert:hover {\n",
              "      background-color: #E2EBFA;\n",
              "      box-shadow: 0px 1px 2px rgba(60, 64, 67, 0.3), 0px 1px 3px 1px rgba(60, 64, 67, 0.15);\n",
              "      fill: #174EA6;\n",
              "    }\n",
              "\n",
              "    [theme=dark] .colab-df-convert {\n",
              "      background-color: #3B4455;\n",
              "      fill: #D2E3FC;\n",
              "    }\n",
              "\n",
              "    [theme=dark] .colab-df-convert:hover {\n",
              "      background-color: #434B5C;\n",
              "      box-shadow: 0px 1px 3px 1px rgba(0, 0, 0, 0.15);\n",
              "      filter: drop-shadow(0px 1px 2px rgba(0, 0, 0, 0.3));\n",
              "      fill: #FFFFFF;\n",
              "    }\n",
              "  </style>\n",
              "\n",
              "      <script>\n",
              "        const buttonEl =\n",
              "          document.querySelector('#df-d9cf8cc3-3d70-4eff-8c7b-5d5ef80d86a7 button.colab-df-convert');\n",
              "        buttonEl.style.display =\n",
              "          google.colab.kernel.accessAllowed ? 'block' : 'none';\n",
              "\n",
              "        async function convertToInteractive(key) {\n",
              "          const element = document.querySelector('#df-d9cf8cc3-3d70-4eff-8c7b-5d5ef80d86a7');\n",
              "          const dataTable =\n",
              "            await google.colab.kernel.invokeFunction('convertToInteractive',\n",
              "                                                     [key], {});\n",
              "          if (!dataTable) return;\n",
              "\n",
              "          const docLinkHtml = 'Like what you see? Visit the ' +\n",
              "            '<a target=\"_blank\" href=https://colab.research.google.com/notebooks/data_table.ipynb>data table notebook</a>'\n",
              "            + ' to learn more about interactive tables.';\n",
              "          element.innerHTML = '';\n",
              "          dataTable['output_type'] = 'display_data';\n",
              "          await google.colab.output.renderOutput(dataTable, element);\n",
              "          const docLink = document.createElement('div');\n",
              "          docLink.innerHTML = docLinkHtml;\n",
              "          element.appendChild(docLink);\n",
              "        }\n",
              "      </script>\n",
              "    </div>\n",
              "  </div>\n",
              "  "
            ]
          },
          "metadata": {}
        }
      ]
    },
    {
      "cell_type": "code",
      "source": [
        "# Visualize the confusion matirx.\n",
        "def visualize_confusion_matirx(model, y_test, y_pred, ax=None, cmap=None):\n",
        "  from sklearn.metrics import confusion_matrix\n",
        "  import matplotlib.pyplot as plt\n",
        "  import pandas as pd\n",
        "  import seaborn as sns; sns.set()\n",
        "  labels = model.classes_  # Get the unique labels in the model.\n",
        "  mat = confusion_matrix(y_test, y_pred, labels=labels)\n",
        "  cm_array_df = pd.DataFrame(mat, \n",
        "                             index=le.inverse_transform(labels), \n",
        "                             columns=le.inverse_transform(labels))\n",
        "  plt.figure(1, figsize=[5,5])\n",
        "  ax = sns.heatmap(cm_array_df.T, square=True, annot=True, fmt='d', cbar=False, linewidths=.5, cmap=cmap, ax=ax)\n",
        "  ax.set(ylabel=\"Predicted label\", xlabel=\"True Label\")\n",
        "  plt.show(ax);\n",
        "\n",
        "\n",
        "visualize_confusion_matirx(knn, y_test, results)"
      ],
      "metadata": {
        "id": "4Bg4oa7EBddf",
        "outputId": "49abb0ac-431c-4670-8e62-4ea497335027",
        "colab": {
          "base_uri": "https://localhost:8080/",
          "height": 339
        }
      },
      "execution_count": 37,
      "outputs": [
        {
          "output_type": "display_data",
          "data": {
            "text/plain": [
              "<Figure size 360x360 with 1 Axes>"
            ],
            "image/png": "[encoded data removed]"
          },
          "metadata": {}
        }
      ]
    },
    {
      "cell_type": "markdown",
      "source": [
        "**Classification Metrics**"
      ],
      "metadata": {
        "id": "nBqrv9iaAFkA"
      }
    },
    {
      "cell_type": "code",
      "source": [
        "# Classification Performance Metrics\n",
        "from sklearn import metrics\n",
        "target_names = le.inverse_transform(knn.classes_) # This is necessary due to the data transformation above.\n",
        "print(metrics.classification_report(y_test, results, target_names=target_names))"
      ],
      "metadata": {
        "id": "YE0iwn3Y4s3-",
        "outputId": "351c4aa2-8b37-4084-e28a-7773efa1e39d",
        "colab": {
          "base_uri": "https://localhost:8080/"
        }
      },
      "execution_count": 35,
      "outputs": [
        {
          "output_type": "stream",
          "name": "stdout",
          "text": [
            "              precision    recall  f1-score   support\n",
            "\n",
            "        kick       1.00      0.90      0.95        10\n",
            "       snare       0.92      1.00      0.96        12\n",
            "\n",
            "    accuracy                           0.95        22\n",
            "   macro avg       0.96      0.95      0.95        22\n",
            "weighted avg       0.96      0.95      0.95        22\n",
            "\n"
          ]
        }
      ]
    },
    {
      "cell_type": "markdown",
      "source": [
        "**Cross Validation**"
      ],
      "metadata": {
        "id": "2KIFKjQiBszX"
      }
    },
    {
      "cell_type": "code",
      "source": [
        "from sklearn.model_selection import cross_val_score\n",
        "var=\"%\", print(\"Accuracy: %0.1f\" % (knn.score(X_test,y_test)*100), var[0])"
      ],
      "metadata": {
        "id": "sV0tpnqxBrtt",
        "outputId": "9ba2fc42-f7ef-4bd0-b85e-120e505696f1",
        "colab": {
          "base_uri": "https://localhost:8080/",
          "height": 184
        }
      },
      "execution_count": 39,
      "outputs": [
        {
          "output_type": "error",
          "ename": "NameError",
          "evalue": "ignored",
          "traceback": [
            "\u001b[0;31m---------------------------------------------------------------------------\u001b[0m",
            "\u001b[0;31mNameError\u001b[0m                                 Traceback (most recent call last)",
            "\u001b[0;32m<ipython-input-39-3c22cae08b2a>\u001b[0m in \u001b[0;36m<module>\u001b[0;34m()\u001b[0m\n\u001b[1;32m      1\u001b[0m \u001b[0;32mfrom\u001b[0m \u001b[0msklearn\u001b[0m\u001b[0;34m.\u001b[0m\u001b[0mmodel_selection\u001b[0m \u001b[0;32mimport\u001b[0m \u001b[0mcross_val_score\u001b[0m\u001b[0;34m\u001b[0m\u001b[0;34m\u001b[0m\u001b[0m\n\u001b[0;32m----> 2\u001b[0;31m \u001b[0mvar\u001b[0m\u001b[0;34m=\u001b[0m\u001b[0;34m\"%\"\u001b[0m\u001b[0;34m,\u001b[0m \u001b[0mprint\u001b[0m\u001b[0;34m(\u001b[0m\u001b[0;34m\"Accuracy: %0.1f\"\u001b[0m \u001b[0;34m%\u001b[0m \u001b[0;34m(\u001b[0m\u001b[0mknn\u001b[0m\u001b[0;34m.\u001b[0m\u001b[0mscore\u001b[0m\u001b[0;34m(\u001b[0m\u001b[0mX_test\u001b[0m\u001b[0;34m,\u001b[0m\u001b[0my_test\u001b[0m\u001b[0;34m)\u001b[0m\u001b[0;34m*\u001b[0m\u001b[0;36m100\u001b[0m\u001b[0;34m)\u001b[0m\u001b[0;34m,\u001b[0m \u001b[0mvar\u001b[0m\u001b[0;34m[\u001b[0m\u001b[0;36m0\u001b[0m\u001b[0;34m]\u001b[0m\u001b[0;34m)\u001b[0m\u001b[0;34m\u001b[0m\u001b[0;34m\u001b[0m\u001b[0m\n\u001b[0m",
            "\u001b[0;31mNameError\u001b[0m: name 'var' is not defined"
          ]
        }
      ]
    },
    {
      "cell_type": "code",
      "source": [
        "scores = cross_val_score(knn, X, y, cv=5, scoring='accuracy')\n",
        "scores"
      ],
      "metadata": {
        "id": "CQrO89jDBr8f",
        "outputId": "9ab887b4-a698-4e7f-e57a-210503814b8f",
        "colab": {
          "base_uri": "https://localhost:8080/"
        }
      },
      "execution_count": 42,
      "outputs": [
        {
          "output_type": "execute_result",
          "data": {
            "text/plain": [
              "array([0.95348837, 1.        , 0.97619048, 0.95238095, 0.97619048])"
            ]
          },
          "metadata": {},
          "execution_count": 42
        }
      ]
    },
    {
      "cell_type": "code",
      "source": [
        "var=\"%\", print(\"Accuracy for Cross Validation: %0.1f\" % (scores.mean()*100),var[0],\"(+/- %0.1f)\" % (scores.std() * 100), var[0])"
      ],
      "metadata": {
        "id": "hJvCiY2mBsAV",
        "outputId": "4f4e25e3-fb64-4ded-a083-9b6402256555",
        "colab": {
          "base_uri": "https://localhost:8080/",
          "height": 184
        }
      },
      "execution_count": 43,
      "outputs": [
        {
          "output_type": "error",
          "ename": "NameError",
          "evalue": "ignored",
          "traceback": [
            "\u001b[0;31m---------------------------------------------------------------------------\u001b[0m",
            "\u001b[0;31mNameError\u001b[0m                                 Traceback (most recent call last)",
            "\u001b[0;32m<ipython-input-43-9aad304a8dbd>\u001b[0m in \u001b[0;36m<module>\u001b[0;34m()\u001b[0m\n\u001b[0;32m----> 1\u001b[0;31m \u001b[0mvar\u001b[0m\u001b[0;34m=\u001b[0m\u001b[0;34m\"%\"\u001b[0m\u001b[0;34m,\u001b[0m \u001b[0mprint\u001b[0m\u001b[0;34m(\u001b[0m\u001b[0;34m\"Accuracy for Cross Validation: %0.1f\"\u001b[0m \u001b[0;34m%\u001b[0m \u001b[0;34m(\u001b[0m\u001b[0mscores\u001b[0m\u001b[0;34m.\u001b[0m\u001b[0mmean\u001b[0m\u001b[0;34m(\u001b[0m\u001b[0;34m)\u001b[0m\u001b[0;34m*\u001b[0m\u001b[0;36m100\u001b[0m\u001b[0;34m)\u001b[0m\u001b[0;34m,\u001b[0m\u001b[0mvar\u001b[0m\u001b[0;34m[\u001b[0m\u001b[0;36m0\u001b[0m\u001b[0;34m]\u001b[0m\u001b[0;34m,\u001b[0m\u001b[0;34m\"(+/- %0.1f)\"\u001b[0m \u001b[0;34m%\u001b[0m \u001b[0;34m(\u001b[0m\u001b[0mscores\u001b[0m\u001b[0;34m.\u001b[0m\u001b[0mstd\u001b[0m\u001b[0;34m(\u001b[0m\u001b[0;34m)\u001b[0m \u001b[0;34m*\u001b[0m \u001b[0;36m100\u001b[0m\u001b[0;34m)\u001b[0m\u001b[0;34m,\u001b[0m \u001b[0mvar\u001b[0m\u001b[0;34m[\u001b[0m\u001b[0;36m0\u001b[0m\u001b[0;34m]\u001b[0m\u001b[0;34m)\u001b[0m\u001b[0;34m\u001b[0m\u001b[0;34m\u001b[0m\u001b[0m\n\u001b[0m",
            "\u001b[0;31mNameError\u001b[0m: name 'var' is not defined"
          ]
        }
      ]
    },
    {
      "cell_type": "code",
      "source": [
        "# Create a list range\n",
        "k_list = list(range(1,10,2))\n",
        "# Create a dictionary\n",
        "k_values = dict(n_neighbors=k_list)\n",
        "print(k_values.keys()),\n",
        "print(k_values.values())"
      ],
      "metadata": {
        "id": "OBa3S5X7BsPF",
        "outputId": "ad1132a6-59c8-4427-ff4e-467ad047d91b",
        "colab": {
          "base_uri": "https://localhost:8080/"
        }
      },
      "execution_count": 52,
      "outputs": [
        {
          "output_type": "stream",
          "name": "stdout",
          "text": [
            "dict_keys(['n_neighbors'])\n",
            "dict_values([[1, 3, 5, 7, 9]])\n"
          ]
        }
      ]
    },
    {
      "cell_type": "code",
      "source": [
        "# Create hyperparameter search grid\n",
        "grid = GridSearchCV(knn, k_values, cv=5, scoring='accuracy')\n",
        "# Run KNN with hyperparameter search grid\n",
        "grid.fit(X_train, y_train)"
      ],
      "metadata": {
        "id": "-gpjeZFDDacr",
        "outputId": "e50dd8e6-d65b-41dd-bc0b-252fd10b5bc1",
        "colab": {
          "base_uri": "https://localhost:8080/"
        }
      },
      "execution_count": 54,
      "outputs": [
        {
          "output_type": "execute_result",
          "data": {
            "text/plain": [
              "GridSearchCV(cv=5, estimator=KNeighborsClassifier(n_neighbors=3),\n",
              "             param_grid={'n_neighbors': [1, 3, 5, 7, 9]}, scoring='accuracy')"
            ]
          },
          "metadata": {},
          "execution_count": 54
        }
      ]
    },
    {
      "cell_type": "code",
      "source": [
        "# Check the scores\n",
        "grid.cv_results_\n",
        "grid_table = pd.DataFrame(grid.cv_results_)\n",
        "grid_table.head()"
      ],
      "metadata": {
        "id": "397jrtyDDagQ",
        "outputId": "ee21fdfe-7d4b-4658-9232-0512a91160c4",
        "colab": {
          "base_uri": "https://localhost:8080/",
          "height": 357
        }
      },
      "execution_count": 55,
      "outputs": [
        {
          "output_type": "execute_result",
          "data": {
            "text/plain": [
              "   mean_fit_time  std_fit_time  mean_score_time  std_score_time  \\\n",
              "0       0.017157      0.005522         0.015134        0.001653   \n",
              "1       0.014717      0.003710         0.021408        0.007294   \n",
              "2       0.006291      0.002113         0.008642        0.001306   \n",
              "3       0.007766      0.003321         0.015143        0.004577   \n",
              "4       0.011921      0.003699         0.015067        0.001855   \n",
              "\n",
              "  param_n_neighbors              params  split0_test_score  split1_test_score  \\\n",
              "0                 1  {'n_neighbors': 1}           0.973684           1.000000   \n",
              "1                 3  {'n_neighbors': 3}           0.973684           0.973684   \n",
              "2                 5  {'n_neighbors': 5}           0.973684           1.000000   \n",
              "3                 7  {'n_neighbors': 7}           0.973684           0.973684   \n",
              "4                 9  {'n_neighbors': 9}           0.973684           0.973684   \n",
              "\n",
              "   split2_test_score  split3_test_score  split4_test_score  mean_test_score  \\\n",
              "0           0.973684           0.973684           0.947368         0.973684   \n",
              "1           0.973684           1.000000           0.947368         0.973684   \n",
              "2           0.973684           1.000000           0.947368         0.978947   \n",
              "3           0.973684           1.000000           0.947368         0.973684   \n",
              "4           0.973684           1.000000           0.947368         0.973684   \n",
              "\n",
              "   std_test_score  rank_test_score  \n",
              "0        0.016644                2  \n",
              "1        0.016644                3  \n",
              "2        0.019693                1  \n",
              "3        0.016644                3  \n",
              "4        0.016644                3  "
            ],
            "text/html": [
              "\n",
              "  <div id=\"df-6ff3dd6f-abef-4c6e-b3a0-5d180128e327\">\n",
              "    <div class=\"colab-df-container\">\n",
              "      <div>\n",
              "<style scoped>\n",
              "    .dataframe tbody tr th:only-of-type {\n",
              "        vertical-align: middle;\n",
              "    }\n",
              "\n",
              "    .dataframe tbody tr th {\n",
              "        vertical-align: top;\n",
              "    }\n",
              "\n",
              "    .dataframe thead th {\n",
              "        text-align: right;\n",
              "    }\n",
              "</style>\n",
              "<table border=\"1\" class=\"dataframe\">\n",
              "  <thead>\n",
              "    <tr style=\"text-align: right;\">\n",
              "      <th></th>\n",
              "      <th>mean_fit_time</th>\n",
              "      <th>std_fit_time</th>\n",
              "      <th>mean_score_time</th>\n",
              "      <th>std_score_time</th>\n",
              "      <th>param_n_neighbors</th>\n",
              "      <th>params</th>\n",
              "      <th>split0_test_score</th>\n",
              "      <th>split1_test_score</th>\n",
              "      <th>split2_test_score</th>\n",
              "      <th>split3_test_score</th>\n",
              "      <th>split4_test_score</th>\n",
              "      <th>mean_test_score</th>\n",
              "      <th>std_test_score</th>\n",
              "      <th>rank_test_score</th>\n",
              "    </tr>\n",
              "  </thead>\n",
              "  <tbody>\n",
              "    <tr>\n",
              "      <th>0</th>\n",
              "      <td>0.017157</td>\n",
              "      <td>0.005522</td>\n",
              "      <td>0.015134</td>\n",
              "      <td>0.001653</td>\n",
              "      <td>1</td>\n",
              "      <td>{'n_neighbors': 1}</td>\n",
              "      <td>0.973684</td>\n",
              "      <td>1.000000</td>\n",
              "      <td>0.973684</td>\n",
              "      <td>0.973684</td>\n",
              "      <td>0.947368</td>\n",
              "      <td>0.973684</td>\n",
              "      <td>0.016644</td>\n",
              "      <td>2</td>\n",
              "    </tr>\n",
              "    <tr>\n",
              "      <th>1</th>\n",
              "      <td>0.014717</td>\n",
              "      <td>0.003710</td>\n",
              "      <td>0.021408</td>\n",
              "      <td>0.007294</td>\n",
              "      <td>3</td>\n",
              "      <td>{'n_neighbors': 3}</td>\n",
              "      <td>0.973684</td>\n",
              "      <td>0.973684</td>\n",
              "      <td>0.973684</td>\n",
              "      <td>1.000000</td>\n",
              "      <td>0.947368</td>\n",
              "      <td>0.973684</td>\n",
              "      <td>0.016644</td>\n",
              "      <td>3</td>\n",
              "    </tr>\n",
              "    <tr>\n",
              "      <th>2</th>\n",
              "      <td>0.006291</td>\n",
              "      <td>0.002113</td>\n",
              "      <td>0.008642</td>\n",
              "      <td>0.001306</td>\n",
              "      <td>5</td>\n",
              "      <td>{'n_neighbors': 5}</td>\n",
              "      <td>0.973684</td>\n",
              "      <td>1.000000</td>\n",
              "      <td>0.973684</td>\n",
              "      <td>1.000000</td>\n",
              "      <td>0.947368</td>\n",
              "      <td>0.978947</td>\n",
              "      <td>0.019693</td>\n",
              "      <td>1</td>\n",
              "    </tr>\n",
              "    <tr>\n",
              "      <th>3</th>\n",
              "      <td>0.007766</td>\n",
              "      <td>0.003321</td>\n",
              "      <td>0.015143</td>\n",
              "      <td>0.004577</td>\n",
              "      <td>7</td>\n",
              "      <td>{'n_neighbors': 7}</td>\n",
              "      <td>0.973684</td>\n",
              "      <td>0.973684</td>\n",
              "      <td>0.973684</td>\n",
              "      <td>1.000000</td>\n",
              "      <td>0.947368</td>\n",
              "      <td>0.973684</td>\n",
              "      <td>0.016644</td>\n",
              "      <td>3</td>\n",
              "    </tr>\n",
              "    <tr>\n",
              "      <th>4</th>\n",
              "      <td>0.011921</td>\n",
              "      <td>0.003699</td>\n",
              "      <td>0.015067</td>\n",
              "      <td>0.001855</td>\n",
              "      <td>9</td>\n",
              "      <td>{'n_neighbors': 9}</td>\n",
              "      <td>0.973684</td>\n",
              "      <td>0.973684</td>\n",
              "      <td>0.973684</td>\n",
              "      <td>1.000000</td>\n",
              "      <td>0.947368</td>\n",
              "      <td>0.973684</td>\n",
              "      <td>0.016644</td>\n",
              "      <td>3</td>\n",
              "    </tr>\n",
              "  </tbody>\n",
              "</table>\n",
              "</div>\n",
              "      <button class=\"colab-df-convert\" onclick=\"convertToInteractive('df-6ff3dd6f-abef-4c6e-b3a0-5d180128e327')\"\n",
              "              title=\"Convert this dataframe to an interactive table.\"\n",
              "              style=\"display:none;\">\n",
              "        \n",
              "  <svg xmlns=\"http://www.w3.org/2000/svg\" height=\"24px\"viewBox=\"0 0 24 24\"\n",
              "       width=\"24px\">\n",
              "    <path d=\"M0 0h24v24H0V0z\" fill=\"none\"/>\n",
              "    <path d=\"M18.56 5.44l.94 2.06.94-2.06 2.06-.94-2.06-.94-.94-2.06-.94 2.06-2.06.94zm-11 1L8.5 8.5l.94-2.06 2.06-.94-2.06-.94L8.5 2.5l-.94 2.06-2.06.94zm10 10l.94 2.06.94-2.06 2.06-.94-2.06-.94-.94-2.06-.94 2.06-2.06.94z\"/><path d=\"M17.41 7.96l-1.37-1.37c-.4-.4-.92-.59-1.43-.59-.52 0-1.04.2-1.43.59L10.3 9.45l-7.72 7.72c-.78.78-.78 2.05 0 2.83L4 21.41c.39.39.9.59 1.41.59.51 0 1.02-.2 1.41-.59l7.78-7.78 2.81-2.81c.8-.78.8-2.07 0-2.86zM5.41 20L4 18.59l7.72-7.72 1.47 1.35L5.41 20z\"/>\n",
              "  </svg>\n",
              "      </button>\n",
              "      \n",
              "  <style>\n",
              "    .colab-df-container {\n",
              "      display:flex;\n",
              "      flex-wrap:wrap;\n",
              "      gap: 12px;\n",
              "    }\n",
              "\n",
              "    .colab-df-convert {\n",
              "      background-color: #E8F0FE;\n",
              "      border: none;\n",
              "      border-radius: 50%;\n",
              "      cursor: pointer;\n",
              "      display: none;\n",
              "      fill: #1967D2;\n",
              "      height: 32px;\n",
              "      padding: 0 0 0 0;\n",
              "      width: 32px;\n",
              "    }\n",
              "\n",
              "    .colab-df-convert:hover {\n",
              "      background-color: #E2EBFA;\n",
              "      box-shadow: 0px 1px 2px rgba(60, 64, 67, 0.3), 0px 1px 3px 1px rgba(60, 64, 67, 0.15);\n",
              "      fill: #174EA6;\n",
              "    }\n",
              "\n",
              "    [theme=dark] .colab-df-convert {\n",
              "      background-color: #3B4455;\n",
              "      fill: #D2E3FC;\n",
              "    }\n",
              "\n",
              "    [theme=dark] .colab-df-convert:hover {\n",
              "      background-color: #434B5C;\n",
              "      box-shadow: 0px 1px 3px 1px rgba(0, 0, 0, 0.15);\n",
              "      filter: drop-shadow(0px 1px 2px rgba(0, 0, 0, 0.3));\n",
              "      fill: #FFFFFF;\n",
              "    }\n",
              "  </style>\n",
              "\n",
              "      <script>\n",
              "        const buttonEl =\n",
              "          document.querySelector('#df-6ff3dd6f-abef-4c6e-b3a0-5d180128e327 button.colab-df-convert');\n",
              "        buttonEl.style.display =\n",
              "          google.colab.kernel.accessAllowed ? 'block' : 'none';\n",
              "\n",
              "        async function convertToInteractive(key) {\n",
              "          const element = document.querySelector('#df-6ff3dd6f-abef-4c6e-b3a0-5d180128e327');\n",
              "          const dataTable =\n",
              "            await google.colab.kernel.invokeFunction('convertToInteractive',\n",
              "                                                     [key], {});\n",
              "          if (!dataTable) return;\n",
              "\n",
              "          const docLinkHtml = 'Like what you see? Visit the ' +\n",
              "            '<a target=\"_blank\" href=https://colab.research.google.com/notebooks/data_table.ipynb>data table notebook</a>'\n",
              "            + ' to learn more about interactive tables.';\n",
              "          element.innerHTML = '';\n",
              "          dataTable['output_type'] = 'display_data';\n",
              "          await google.colab.output.renderOutput(dataTable, element);\n",
              "          const docLink = document.createElement('div');\n",
              "          docLink.innerHTML = docLinkHtml;\n",
              "          element.appendChild(docLink);\n",
              "        }\n",
              "      </script>\n",
              "    </div>\n",
              "  </div>\n",
              "  "
            ]
          },
          "metadata": {},
          "execution_count": 55
        }
      ]
    },
    {
      "cell_type": "code",
      "source": [
        "for key in grid.cv_results_.keys():\n",
        "  print(key) "
      ],
      "metadata": {
        "id": "H9a9zo8UDajo",
        "outputId": "e95068f4-3952-4571-96ca-1df5f08d2927",
        "colab": {
          "base_uri": "https://localhost:8080/"
        }
      },
      "execution_count": 56,
      "outputs": [
        {
          "output_type": "stream",
          "name": "stdout",
          "text": [
            "mean_fit_time\n",
            "std_fit_time\n",
            "mean_score_time\n",
            "std_score_time\n",
            "param_n_neighbors\n",
            "params\n",
            "split0_test_score\n",
            "split1_test_score\n",
            "split2_test_score\n",
            "split3_test_score\n",
            "split4_test_score\n",
            "mean_test_score\n",
            "std_test_score\n",
            "rank_test_score\n"
          ]
        }
      ]
    },
    {
      "cell_type": "code",
      "source": [
        "# Show k with best Accuracy Results\n",
        "grid_table_rank = grid_table[['params','mean_test_score','std_test_score','rank_test_score']].loc[grid_table['rank_test_score']==1].sort_values(by='std_test_score', ascending=True)\n",
        "grid_table_rank"
      ],
      "metadata": {
        "id": "U5QUDjD1Dami",
        "outputId": "1f65962b-2a55-47e2-b69c-6880344f67fc",
        "colab": {
          "base_uri": "https://localhost:8080/",
          "height": 81
        }
      },
      "execution_count": 58,
      "outputs": [
        {
          "output_type": "execute_result",
          "data": {
            "text/plain": [
              "               params  mean_test_score  std_test_score  rank_test_score\n",
              "2  {'n_neighbors': 5}         0.978947        0.019693                1"
            ],
            "text/html": [
              "\n",
              "  <div id=\"df-e1ed72ab-111a-4eeb-bc37-cc857bba8569\">\n",
              "    <div class=\"colab-df-container\">\n",
              "      <div>\n",
              "<style scoped>\n",
              "    .dataframe tbody tr th:only-of-type {\n",
              "        vertical-align: middle;\n",
              "    }\n",
              "\n",
              "    .dataframe tbody tr th {\n",
              "        vertical-align: top;\n",
              "    }\n",
              "\n",
              "    .dataframe thead th {\n",
              "        text-align: right;\n",
              "    }\n",
              "</style>\n",
              "<table border=\"1\" class=\"dataframe\">\n",
              "  <thead>\n",
              "    <tr style=\"text-align: right;\">\n",
              "      <th></th>\n",
              "      <th>params</th>\n",
              "      <th>mean_test_score</th>\n",
              "      <th>std_test_score</th>\n",
              "      <th>rank_test_score</th>\n",
              "    </tr>\n",
              "  </thead>\n",
              "  <tbody>\n",
              "    <tr>\n",
              "      <th>2</th>\n",
              "      <td>{'n_neighbors': 5}</td>\n",
              "      <td>0.978947</td>\n",
              "      <td>0.019693</td>\n",
              "      <td>1</td>\n",
              "    </tr>\n",
              "  </tbody>\n",
              "</table>\n",
              "</div>\n",
              "      <button class=\"colab-df-convert\" onclick=\"convertToInteractive('df-e1ed72ab-111a-4eeb-bc37-cc857bba8569')\"\n",
              "              title=\"Convert this dataframe to an interactive table.\"\n",
              "              style=\"display:none;\">\n",
              "        \n",
              "  <svg xmlns=\"http://www.w3.org/2000/svg\" height=\"24px\"viewBox=\"0 0 24 24\"\n",
              "       width=\"24px\">\n",
              "    <path d=\"M0 0h24v24H0V0z\" fill=\"none\"/>\n",
              "    <path d=\"M18.56 5.44l.94 2.06.94-2.06 2.06-.94-2.06-.94-.94-2.06-.94 2.06-2.06.94zm-11 1L8.5 8.5l.94-2.06 2.06-.94-2.06-.94L8.5 2.5l-.94 2.06-2.06.94zm10 10l.94 2.06.94-2.06 2.06-.94-2.06-.94-.94-2.06-.94 2.06-2.06.94z\"/><path d=\"M17.41 7.96l-1.37-1.37c-.4-.4-.92-.59-1.43-.59-.52 0-1.04.2-1.43.59L10.3 9.45l-7.72 7.72c-.78.78-.78 2.05 0 2.83L4 21.41c.39.39.9.59 1.41.59.51 0 1.02-.2 1.41-.59l7.78-7.78 2.81-2.81c.8-.78.8-2.07 0-2.86zM5.41 20L4 18.59l7.72-7.72 1.47 1.35L5.41 20z\"/>\n",
              "  </svg>\n",
              "      </button>\n",
              "      \n",
              "  <style>\n",
              "    .colab-df-container {\n",
              "      display:flex;\n",
              "      flex-wrap:wrap;\n",
              "      gap: 12px;\n",
              "    }\n",
              "\n",
              "    .colab-df-convert {\n",
              "      background-color: #E8F0FE;\n",
              "      border: none;\n",
              "      border-radius: 50%;\n",
              "      cursor: pointer;\n",
              "      display: none;\n",
              "      fill: #1967D2;\n",
              "      height: 32px;\n",
              "      padding: 0 0 0 0;\n",
              "      width: 32px;\n",
              "    }\n",
              "\n",
              "    .colab-df-convert:hover {\n",
              "      background-color: #E2EBFA;\n",
              "      box-shadow: 0px 1px 2px rgba(60, 64, 67, 0.3), 0px 1px 3px 1px rgba(60, 64, 67, 0.15);\n",
              "      fill: #174EA6;\n",
              "    }\n",
              "\n",
              "    [theme=dark] .colab-df-convert {\n",
              "      background-color: #3B4455;\n",
              "      fill: #D2E3FC;\n",
              "    }\n",
              "\n",
              "    [theme=dark] .colab-df-convert:hover {\n",
              "      background-color: #434B5C;\n",
              "      box-shadow: 0px 1px 3px 1px rgba(0, 0, 0, 0.15);\n",
              "      filter: drop-shadow(0px 1px 2px rgba(0, 0, 0, 0.3));\n",
              "      fill: #FFFFFF;\n",
              "    }\n",
              "  </style>\n",
              "\n",
              "      <script>\n",
              "        const buttonEl =\n",
              "          document.querySelector('#df-e1ed72ab-111a-4eeb-bc37-cc857bba8569 button.colab-df-convert');\n",
              "        buttonEl.style.display =\n",
              "          google.colab.kernel.accessAllowed ? 'block' : 'none';\n",
              "\n",
              "        async function convertToInteractive(key) {\n",
              "          const element = document.querySelector('#df-e1ed72ab-111a-4eeb-bc37-cc857bba8569');\n",
              "          const dataTable =\n",
              "            await google.colab.kernel.invokeFunction('convertToInteractive',\n",
              "                                                     [key], {});\n",
              "          if (!dataTable) return;\n",
              "\n",
              "          const docLinkHtml = 'Like what you see? Visit the ' +\n",
              "            '<a target=\"_blank\" href=https://colab.research.google.com/notebooks/data_table.ipynb>data table notebook</a>'\n",
              "            + ' to learn more about interactive tables.';\n",
              "          element.innerHTML = '';\n",
              "          dataTable['output_type'] = 'display_data';\n",
              "          await google.colab.output.renderOutput(dataTable, element);\n",
              "          const docLink = document.createElement('div');\n",
              "          docLink.innerHTML = docLinkHtml;\n",
              "          element.appendChild(docLink);\n",
              "        }\n",
              "      </script>\n",
              "    </div>\n",
              "  </div>\n",
              "  "
            ]
          },
          "metadata": {},
          "execution_count": 58
        }
      ]
    },
    {
      "cell_type": "code",
      "source": [
        "graphic = grid.cv_results_['mean_test_score']\n",
        "graphic\n",
        "\n",
        "plt.figure(figsize=(10,5))\n",
        "plt.plot(k_list,graphic,color='navy',linestyle='dashed',marker='o')\n",
        "plt.xlabel('K Number of Neighbors', fontdict={'fontsize': 15})\n",
        "plt.ylabel('Accuracy', fontdict={'fontsize': 15})\n",
        "plt.title('K NUMBER X ACCURACY', fontdict={'fontsize': 30})\n",
        "plt.xticks(range(0,10,3),)\n",
        "#plt.xaxis.set_major_locator(MultipleLocator(3))\n",
        "plt.show()"
      ],
      "metadata": {
        "id": "Q_vez1MqFLDi",
        "outputId": "cccfd514-59ce-4c8a-8b4a-ca918948d29b",
        "colab": {
          "base_uri": "https://localhost:8080/",
          "height": 370
        }
      },
      "execution_count": 60,
      "outputs": [
        {
          "output_type": "display_data",
          "data": {
            "text/plain": [
              "<Figure size 720x360 with 1 Axes>"
            ],
            "image/png": "[encoded data removed]"
          },
          "metadata": {}
        }
      ]
    },
    {
      "cell_type": "code",
      "source": [
        ""
      ],
      "metadata": {
        "id": "eW2bY68hFLH8"
      },
      "execution_count": null,
      "outputs": []
    },
    {
      "cell_type": "code",
      "source": [
        ""
      ],
      "metadata": {
        "id": "8XECbn3mFLMM"
      },
      "execution_count": null,
      "outputs": []
    },
    {
      "cell_type": "code",
      "source": [
        ""
      ],
      "metadata": {
        "id": "BbQGRXKSFLTs"
      },
      "execution_count": null,
      "outputs": []
    },
    {
      "cell_type": "markdown",
      "source": [
        "## Text Data\n",
        "These data are in count_hamilton.csv. These data are the word counts of the Federalist papers, important documents in American history which have disputed authorship. The task is to identify the author of these documents."
      ],
      "metadata": {
        "id": "LNErmPYP6T0O"
      }
    },
    {
      "cell_type": "code",
      "source": [
        "# Get data\n",
        "\n",
        "\n",
        "t_df = pd.read_csv('https://github.com/zachfreitas/ADS_504_Machine_Learning/raw/main/Module_3/Assignment_3/count_hamilton.csv')\n",
        "\n",
        "t_df.head(3).T"
      ],
      "metadata": {
        "colab": {
          "base_uri": "https://localhost:8080/",
          "height": 485
        },
        "id": "JTmtLSfGtxVs",
        "outputId": "8210d902-ae98-4853-bf3a-bf3103bc4f08"
      },
      "execution_count": null,
      "outputs": [
        {
          "output_type": "execute_result",
          "data": {
            "text/plain": [
              "                                                             0  \\\n",
              "Unnamed: 0                                                   0   \n",
              "meta_author                                           hamilton   \n",
              "meta_title   general introduction for the independent journ...   \n",
              "000                                                          0   \n",
              "10                                                           0   \n",
              "...                                                        ...   \n",
              "yourselves                                                   0   \n",
              "zaleucus                                                     0   \n",
              "zeal                                                         3   \n",
              "zealand                                                      0   \n",
              "zealous                                                      0   \n",
              "\n",
              "                                                             1  \\\n",
              "Unnamed: 0                                                   1   \n",
              "meta_author                                                jay   \n",
              "meta_title   concerning dangers from foreign force and infl...   \n",
              "000                                                          0   \n",
              "10                                                           0   \n",
              "...                                                        ...   \n",
              "yourselves                                                   0   \n",
              "zaleucus                                                     0   \n",
              "zeal                                                         0   \n",
              "zealand                                                      0   \n",
              "zealous                                                      0   \n",
              "\n",
              "                                                             2  \n",
              "Unnamed: 0                                                   2  \n",
              "meta_author                                                jay  \n",
              "meta_title   the same subject continued concerning dangers ...  \n",
              "000                                                          0  \n",
              "10                                                           0  \n",
              "...                                                        ...  \n",
              "yourselves                                                   0  \n",
              "zaleucus                                                     0  \n",
              "zeal                                                         0  \n",
              "zealand                                                      0  \n",
              "zealous                                                      0  \n",
              "\n",
              "[8563 rows x 3 columns]"
            ],
            "text/html": [
              "\n",
              "  <div id=\"df-3b3c13bf-410a-4316-970d-892e8d543095\">\n",
              "    <div class=\"colab-df-container\">\n",
              "      <div>\n",
              "<style scoped>\n",
              "    .dataframe tbody tr th:only-of-type {\n",
              "        vertical-align: middle;\n",
              "    }\n",
              "\n",
              "    .dataframe tbody tr th {\n",
              "        vertical-align: top;\n",
              "    }\n",
              "\n",
              "    .dataframe thead th {\n",
              "        text-align: right;\n",
              "    }\n",
              "</style>\n",
              "<table border=\"1\" class=\"dataframe\">\n",
              "  <thead>\n",
              "    <tr style=\"text-align: right;\">\n",
              "      <th></th>\n",
              "      <th>0</th>\n",
              "      <th>1</th>\n",
              "      <th>2</th>\n",
              "    </tr>\n",
              "  </thead>\n",
              "  <tbody>\n",
              "    <tr>\n",
              "      <th>Unnamed: 0</th>\n",
              "      <td>0</td>\n",
              "      <td>1</td>\n",
              "      <td>2</td>\n",
              "    </tr>\n",
              "    <tr>\n",
              "      <th>meta_author</th>\n",
              "      <td>hamilton</td>\n",
              "      <td>jay</td>\n",
              "      <td>jay</td>\n",
              "    </tr>\n",
              "    <tr>\n",
              "      <th>meta_title</th>\n",
              "      <td>general introduction for the independent journ...</td>\n",
              "      <td>concerning dangers from foreign force and infl...</td>\n",
              "      <td>the same subject continued concerning dangers ...</td>\n",
              "    </tr>\n",
              "    <tr>\n",
              "      <th>000</th>\n",
              "      <td>0</td>\n",
              "      <td>0</td>\n",
              "      <td>0</td>\n",
              "    </tr>\n",
              "    <tr>\n",
              "      <th>10</th>\n",
              "      <td>0</td>\n",
              "      <td>0</td>\n",
              "      <td>0</td>\n",
              "    </tr>\n",
              "    <tr>\n",
              "      <th>...</th>\n",
              "      <td>...</td>\n",
              "      <td>...</td>\n",
              "      <td>...</td>\n",
              "    </tr>\n",
              "    <tr>\n",
              "      <th>yourselves</th>\n",
              "      <td>0</td>\n",
              "      <td>0</td>\n",
              "      <td>0</td>\n",
              "    </tr>\n",
              "    <tr>\n",
              "      <th>zaleucus</th>\n",
              "      <td>0</td>\n",
              "      <td>0</td>\n",
              "      <td>0</td>\n",
              "    </tr>\n",
              "    <tr>\n",
              "      <th>zeal</th>\n",
              "      <td>3</td>\n",
              "      <td>0</td>\n",
              "      <td>0</td>\n",
              "    </tr>\n",
              "    <tr>\n",
              "      <th>zealand</th>\n",
              "      <td>0</td>\n",
              "      <td>0</td>\n",
              "      <td>0</td>\n",
              "    </tr>\n",
              "    <tr>\n",
              "      <th>zealous</th>\n",
              "      <td>0</td>\n",
              "      <td>0</td>\n",
              "      <td>0</td>\n",
              "    </tr>\n",
              "  </tbody>\n",
              "</table>\n",
              "<p>8563 rows × 3 columns</p>\n",
              "</div>\n",
              "      <button class=\"colab-df-convert\" onclick=\"convertToInteractive('df-3b3c13bf-410a-4316-970d-892e8d543095')\"\n",
              "              title=\"Convert this dataframe to an interactive table.\"\n",
              "              style=\"display:none;\">\n",
              "        \n",
              "  <svg xmlns=\"http://www.w3.org/2000/svg\" height=\"24px\"viewBox=\"0 0 24 24\"\n",
              "       width=\"24px\">\n",
              "    <path d=\"M0 0h24v24H0V0z\" fill=\"none\"/>\n",
              "    <path d=\"M18.56 5.44l.94 2.06.94-2.06 2.06-.94-2.06-.94-.94-2.06-.94 2.06-2.06.94zm-11 1L8.5 8.5l.94-2.06 2.06-.94-2.06-.94L8.5 2.5l-.94 2.06-2.06.94zm10 10l.94 2.06.94-2.06 2.06-.94-2.06-.94-.94-2.06-.94 2.06-2.06.94z\"/><path d=\"M17.41 7.96l-1.37-1.37c-.4-.4-.92-.59-1.43-.59-.52 0-1.04.2-1.43.59L10.3 9.45l-7.72 7.72c-.78.78-.78 2.05 0 2.83L4 21.41c.39.39.9.59 1.41.59.51 0 1.02-.2 1.41-.59l7.78-7.78 2.81-2.81c.8-.78.8-2.07 0-2.86zM5.41 20L4 18.59l7.72-7.72 1.47 1.35L5.41 20z\"/>\n",
              "  </svg>\n",
              "      </button>\n",
              "      \n",
              "  <style>\n",
              "    .colab-df-container {\n",
              "      display:flex;\n",
              "      flex-wrap:wrap;\n",
              "      gap: 12px;\n",
              "    }\n",
              "\n",
              "    .colab-df-convert {\n",
              "      background-color: #E8F0FE;\n",
              "      border: none;\n",
              "      border-radius: 50%;\n",
              "      cursor: pointer;\n",
              "      display: none;\n",
              "      fill: #1967D2;\n",
              "      height: 32px;\n",
              "      padding: 0 0 0 0;\n",
              "      width: 32px;\n",
              "    }\n",
              "\n",
              "    .colab-df-convert:hover {\n",
              "      background-color: #E2EBFA;\n",
              "      box-shadow: 0px 1px 2px rgba(60, 64, 67, 0.3), 0px 1px 3px 1px rgba(60, 64, 67, 0.15);\n",
              "      fill: #174EA6;\n",
              "    }\n",
              "\n",
              "    [theme=dark] .colab-df-convert {\n",
              "      background-color: #3B4455;\n",
              "      fill: #D2E3FC;\n",
              "    }\n",
              "\n",
              "    [theme=dark] .colab-df-convert:hover {\n",
              "      background-color: #434B5C;\n",
              "      box-shadow: 0px 1px 3px 1px rgba(0, 0, 0, 0.15);\n",
              "      filter: drop-shadow(0px 1px 2px rgba(0, 0, 0, 0.3));\n",
              "      fill: #FFFFFF;\n",
              "    }\n",
              "  </style>\n",
              "\n",
              "      <script>\n",
              "        const buttonEl =\n",
              "          document.querySelector('#df-3b3c13bf-410a-4316-970d-892e8d543095 button.colab-df-convert');\n",
              "        buttonEl.style.display =\n",
              "          google.colab.kernel.accessAllowed ? 'block' : 'none';\n",
              "\n",
              "        async function convertToInteractive(key) {\n",
              "          const element = document.querySelector('#df-3b3c13bf-410a-4316-970d-892e8d543095');\n",
              "          const dataTable =\n",
              "            await google.colab.kernel.invokeFunction('convertToInteractive',\n",
              "                                                     [key], {});\n",
              "          if (!dataTable) return;\n",
              "\n",
              "          const docLinkHtml = 'Like what you see? Visit the ' +\n",
              "            '<a target=\"_blank\" href=https://colab.research.google.com/notebooks/data_table.ipynb>data table notebook</a>'\n",
              "            + ' to learn more about interactive tables.';\n",
              "          element.innerHTML = '';\n",
              "          dataTable['output_type'] = 'display_data';\n",
              "          await google.colab.output.renderOutput(dataTable, element);\n",
              "          const docLink = document.createElement('div');\n",
              "          docLink.innerHTML = docLinkHtml;\n",
              "          element.appendChild(docLink);\n",
              "        }\n",
              "      </script>\n",
              "    </div>\n",
              "  </div>\n",
              "  "
            ]
          },
          "metadata": {},
          "execution_count": 51
        }
      ]
    },
    {
      "cell_type": "code",
      "source": [
        "t_df.describe().T"
      ],
      "metadata": {
        "colab": {
          "base_uri": "https://localhost:8080/",
          "height": 424
        },
        "id": "OtFcGV197HN7",
        "outputId": "594706b1-3ce2-4852-eba2-8c1fc9679fe8"
      },
      "execution_count": null,
      "outputs": [
        {
          "output_type": "execute_result",
          "data": {
            "text/plain": [
              "            count       mean        std  min   25%   50%   75%   max\n",
              "Unnamed: 0   85.0  42.000000  24.681302  0.0  21.0  42.0  63.0  84.0\n",
              "000          85.0   0.023529   0.216930  0.0   0.0   0.0   0.0   2.0\n",
              "10           85.0   0.023529   0.216930  0.0   0.0   0.0   0.0   2.0\n",
              "11           85.0   0.023529   0.216930  0.0   0.0   0.0   0.0   2.0\n",
              "13           85.0   0.011765   0.108465  0.0   0.0   0.0   0.0   1.0\n",
              "...           ...        ...        ...  ...   ...   ...   ...   ...\n",
              "yourselves   85.0   0.011765   0.108465  0.0   0.0   0.0   0.0   1.0\n",
              "zaleucus     85.0   0.011765   0.108465  0.0   0.0   0.0   0.0   1.0\n",
              "zeal         85.0   0.305882   0.617667  0.0   0.0   0.0   0.0   3.0\n",
              "zealand      85.0   0.011765   0.108465  0.0   0.0   0.0   0.0   1.0\n",
              "zealous      85.0   0.094118   0.397118  0.0   0.0   0.0   0.0   2.0\n",
              "\n",
              "[8561 rows x 8 columns]"
            ],
            "text/html": [
              "\n",
              "  <div id=\"df-2aac5284-3e9c-4d1a-9c92-cbf0ff3dc9c2\">\n",
              "    <div class=\"colab-df-container\">\n",
              "      <div>\n",
              "<style scoped>\n",
              "    .dataframe tbody tr th:only-of-type {\n",
              "        vertical-align: middle;\n",
              "    }\n",
              "\n",
              "    .dataframe tbody tr th {\n",
              "        vertical-align: top;\n",
              "    }\n",
              "\n",
              "    .dataframe thead th {\n",
              "        text-align: right;\n",
              "    }\n",
              "</style>\n",
              "<table border=\"1\" class=\"dataframe\">\n",
              "  <thead>\n",
              "    <tr style=\"text-align: right;\">\n",
              "      <th></th>\n",
              "      <th>count</th>\n",
              "      <th>mean</th>\n",
              "      <th>std</th>\n",
              "      <th>min</th>\n",
              "      <th>25%</th>\n",
              "      <th>50%</th>\n",
              "      <th>75%</th>\n",
              "      <th>max</th>\n",
              "    </tr>\n",
              "  </thead>\n",
              "  <tbody>\n",
              "    <tr>\n",
              "      <th>Unnamed: 0</th>\n",
              "      <td>85.0</td>\n",
              "      <td>42.000000</td>\n",
              "      <td>24.681302</td>\n",
              "      <td>0.0</td>\n",
              "      <td>21.0</td>\n",
              "      <td>42.0</td>\n",
              "      <td>63.0</td>\n",
              "      <td>84.0</td>\n",
              "    </tr>\n",
              "    <tr>\n",
              "      <th>000</th>\n",
              "      <td>85.0</td>\n",
              "      <td>0.023529</td>\n",
              "      <td>0.216930</td>\n",
              "      <td>0.0</td>\n",
              "      <td>0.0</td>\n",
              "      <td>0.0</td>\n",
              "      <td>0.0</td>\n",
              "      <td>2.0</td>\n",
              "    </tr>\n",
              "    <tr>\n",
              "      <th>10</th>\n",
              "      <td>85.0</td>\n",
              "      <td>0.023529</td>\n",
              "      <td>0.216930</td>\n",
              "      <td>0.0</td>\n",
              "      <td>0.0</td>\n",
              "      <td>0.0</td>\n",
              "      <td>0.0</td>\n",
              "      <td>2.0</td>\n",
              "    </tr>\n",
              "    <tr>\n",
              "      <th>11</th>\n",
              "      <td>85.0</td>\n",
              "      <td>0.023529</td>\n",
              "      <td>0.216930</td>\n",
              "      <td>0.0</td>\n",
              "      <td>0.0</td>\n",
              "      <td>0.0</td>\n",
              "      <td>0.0</td>\n",
              "      <td>2.0</td>\n",
              "    </tr>\n",
              "    <tr>\n",
              "      <th>13</th>\n",
              "      <td>85.0</td>\n",
              "      <td>0.011765</td>\n",
              "      <td>0.108465</td>\n",
              "      <td>0.0</td>\n",
              "      <td>0.0</td>\n",
              "      <td>0.0</td>\n",
              "      <td>0.0</td>\n",
              "      <td>1.0</td>\n",
              "    </tr>\n",
              "    <tr>\n",
              "      <th>...</th>\n",
              "      <td>...</td>\n",
              "      <td>...</td>\n",
              "      <td>...</td>\n",
              "      <td>...</td>\n",
              "      <td>...</td>\n",
              "      <td>...</td>\n",
              "      <td>...</td>\n",
              "      <td>...</td>\n",
              "    </tr>\n",
              "    <tr>\n",
              "      <th>yourselves</th>\n",
              "      <td>85.0</td>\n",
              "      <td>0.011765</td>\n",
              "      <td>0.108465</td>\n",
              "      <td>0.0</td>\n",
              "      <td>0.0</td>\n",
              "      <td>0.0</td>\n",
              "      <td>0.0</td>\n",
              "      <td>1.0</td>\n",
              "    </tr>\n",
              "    <tr>\n",
              "      <th>zaleucus</th>\n",
              "      <td>85.0</td>\n",
              "      <td>0.011765</td>\n",
              "      <td>0.108465</td>\n",
              "      <td>0.0</td>\n",
              "      <td>0.0</td>\n",
              "      <td>0.0</td>\n",
              "      <td>0.0</td>\n",
              "      <td>1.0</td>\n",
              "    </tr>\n",
              "    <tr>\n",
              "      <th>zeal</th>\n",
              "      <td>85.0</td>\n",
              "      <td>0.305882</td>\n",
              "      <td>0.617667</td>\n",
              "      <td>0.0</td>\n",
              "      <td>0.0</td>\n",
              "      <td>0.0</td>\n",
              "      <td>0.0</td>\n",
              "      <td>3.0</td>\n",
              "    </tr>\n",
              "    <tr>\n",
              "      <th>zealand</th>\n",
              "      <td>85.0</td>\n",
              "      <td>0.011765</td>\n",
              "      <td>0.108465</td>\n",
              "      <td>0.0</td>\n",
              "      <td>0.0</td>\n",
              "      <td>0.0</td>\n",
              "      <td>0.0</td>\n",
              "      <td>1.0</td>\n",
              "    </tr>\n",
              "    <tr>\n",
              "      <th>zealous</th>\n",
              "      <td>85.0</td>\n",
              "      <td>0.094118</td>\n",
              "      <td>0.397118</td>\n",
              "      <td>0.0</td>\n",
              "      <td>0.0</td>\n",
              "      <td>0.0</td>\n",
              "      <td>0.0</td>\n",
              "      <td>2.0</td>\n",
              "    </tr>\n",
              "  </tbody>\n",
              "</table>\n",
              "<p>8561 rows × 8 columns</p>\n",
              "</div>\n",
              "      <button class=\"colab-df-convert\" onclick=\"convertToInteractive('df-2aac5284-3e9c-4d1a-9c92-cbf0ff3dc9c2')\"\n",
              "              title=\"Convert this dataframe to an interactive table.\"\n",
              "              style=\"display:none;\">\n",
              "        \n",
              "  <svg xmlns=\"http://www.w3.org/2000/svg\" height=\"24px\"viewBox=\"0 0 24 24\"\n",
              "       width=\"24px\">\n",
              "    <path d=\"M0 0h24v24H0V0z\" fill=\"none\"/>\n",
              "    <path d=\"M18.56 5.44l.94 2.06.94-2.06 2.06-.94-2.06-.94-.94-2.06-.94 2.06-2.06.94zm-11 1L8.5 8.5l.94-2.06 2.06-.94-2.06-.94L8.5 2.5l-.94 2.06-2.06.94zm10 10l.94 2.06.94-2.06 2.06-.94-2.06-.94-.94-2.06-.94 2.06-2.06.94z\"/><path d=\"M17.41 7.96l-1.37-1.37c-.4-.4-.92-.59-1.43-.59-.52 0-1.04.2-1.43.59L10.3 9.45l-7.72 7.72c-.78.78-.78 2.05 0 2.83L4 21.41c.39.39.9.59 1.41.59.51 0 1.02-.2 1.41-.59l7.78-7.78 2.81-2.81c.8-.78.8-2.07 0-2.86zM5.41 20L4 18.59l7.72-7.72 1.47 1.35L5.41 20z\"/>\n",
              "  </svg>\n",
              "      </button>\n",
              "      \n",
              "  <style>\n",
              "    .colab-df-container {\n",
              "      display:flex;\n",
              "      flex-wrap:wrap;\n",
              "      gap: 12px;\n",
              "    }\n",
              "\n",
              "    .colab-df-convert {\n",
              "      background-color: #E8F0FE;\n",
              "      border: none;\n",
              "      border-radius: 50%;\n",
              "      cursor: pointer;\n",
              "      display: none;\n",
              "      fill: #1967D2;\n",
              "      height: 32px;\n",
              "      padding: 0 0 0 0;\n",
              "      width: 32px;\n",
              "    }\n",
              "\n",
              "    .colab-df-convert:hover {\n",
              "      background-color: #E2EBFA;\n",
              "      box-shadow: 0px 1px 2px rgba(60, 64, 67, 0.3), 0px 1px 3px 1px rgba(60, 64, 67, 0.15);\n",
              "      fill: #174EA6;\n",
              "    }\n",
              "\n",
              "    [theme=dark] .colab-df-convert {\n",
              "      background-color: #3B4455;\n",
              "      fill: #D2E3FC;\n",
              "    }\n",
              "\n",
              "    [theme=dark] .colab-df-convert:hover {\n",
              "      background-color: #434B5C;\n",
              "      box-shadow: 0px 1px 3px 1px rgba(0, 0, 0, 0.15);\n",
              "      filter: drop-shadow(0px 1px 2px rgba(0, 0, 0, 0.3));\n",
              "      fill: #FFFFFF;\n",
              "    }\n",
              "  </style>\n",
              "\n",
              "      <script>\n",
              "        const buttonEl =\n",
              "          document.querySelector('#df-2aac5284-3e9c-4d1a-9c92-cbf0ff3dc9c2 button.colab-df-convert');\n",
              "        buttonEl.style.display =\n",
              "          google.colab.kernel.accessAllowed ? 'block' : 'none';\n",
              "\n",
              "        async function convertToInteractive(key) {\n",
              "          const element = document.querySelector('#df-2aac5284-3e9c-4d1a-9c92-cbf0ff3dc9c2');\n",
              "          const dataTable =\n",
              "            await google.colab.kernel.invokeFunction('convertToInteractive',\n",
              "                                                     [key], {});\n",
              "          if (!dataTable) return;\n",
              "\n",
              "          const docLinkHtml = 'Like what you see? Visit the ' +\n",
              "            '<a target=\"_blank\" href=https://colab.research.google.com/notebooks/data_table.ipynb>data table notebook</a>'\n",
              "            + ' to learn more about interactive tables.';\n",
              "          element.innerHTML = '';\n",
              "          dataTable['output_type'] = 'display_data';\n",
              "          await google.colab.output.renderOutput(dataTable, element);\n",
              "          const docLink = document.createElement('div');\n",
              "          docLink.innerHTML = docLinkHtml;\n",
              "          element.appendChild(docLink);\n",
              "        }\n",
              "      </script>\n",
              "    </div>\n",
              "  </div>\n",
              "  "
            ]
          },
          "metadata": {},
          "execution_count": 52
        }
      ]
    },
    {
      "cell_type": "markdown",
      "source": [
        "**Data Engineering**"
      ],
      "metadata": {
        "id": "PJ3NnwwN5tFH"
      }
    },
    {
      "cell_type": "code",
      "source": [
        "# Create the decision tree here Randomstate=42 90% training and 10% testing\n",
        "X = t_df.drop(['Unnamed: 0','meta_author','meta_title'], axis=1)\n",
        "le = preprocessing.LabelEncoder()\n",
        "labels = t_df['meta_author']\n",
        "le.fit(labels)\n",
        "y=le.transform(labels)\n",
        "\n",
        "# Train split\n",
        "X_train, X_test, y_train, y_test = train_test_split(X, y, test_size=0.1, random_state=42)"
      ],
      "metadata": {
        "id": "im0VShZi5x-T"
      },
      "execution_count": null,
      "outputs": []
    },
    {
      "cell_type": "markdown",
      "source": [
        "**Data Engineering**"
      ],
      "metadata": {
        "id": "5iQCQm6Q53Pz"
      }
    },
    {
      "cell_type": "code",
      "source": [
        "#Apply the model here\n",
        "clf = DecisionTreeClassifier() #Create your model here\n",
        "clf = clf.fit(X_train, y_train)   #Fit on training data\n",
        "y_pred = clf.predict(X_test)\n",
        "print('accuracy %2.2f ' % accuracy_score(y_test,y_pred))"
      ],
      "metadata": {
        "id": "TRe-ZG2S52hL"
      },
      "execution_count": null,
      "outputs": []
    },
    {
      "cell_type": "code",
      "source": [
        ""
      ],
      "metadata": {
        "id": "x2Fofq805yHb"
      },
      "execution_count": null,
      "outputs": []
    },
    {
      "cell_type": "code",
      "source": [
        ""
      ],
      "metadata": {
        "id": "VE6l00S05yK-"
      },
      "execution_count": null,
      "outputs": []
    },
    {
      "cell_type": "code",
      "source": [
        ""
      ],
      "metadata": {
        "id": "psuMBuiU5yOn"
      },
      "execution_count": null,
      "outputs": []
    },
    {
      "cell_type": "code",
      "source": [
        ""
      ],
      "metadata": {
        "id": "bOzZ2ZWV5ySM"
      },
      "execution_count": null,
      "outputs": []
    },
    {
      "cell_type": "code",
      "source": [
        ""
      ],
      "metadata": {
        "id": "M_lmHKK65yV4"
      },
      "execution_count": null,
      "outputs": []
    },
    {
      "cell_type": "markdown",
      "source": [
        "## Anaimal Data\n",
        "These data are from an animal shelter. These are records of animals coming in for treatment, with a few characteristics of the animals and information on the outcome. The task is\n",
        "to predict the outcome."
      ],
      "metadata": {
        "id": "07sRK3W-6bi9"
      }
    },
    {
      "cell_type": "code",
      "source": [
        "# Get data\n",
        "a_df = pd.read_csv('https://raw.githubusercontent.com/zachfreitas/ADS_504_Machine_Learning/main/Module_3/Assignment_3/shelter_data.csv')\n",
        "\n",
        "a_df.head(3).T"
      ],
      "metadata": {
        "colab": {
          "base_uri": "https://localhost:8080/",
          "height": 363
        },
        "id": "XydK_2mTtxPz",
        "outputId": "a46ae027-1dbb-4263-d322-239795339b68"
      },
      "execution_count": null,
      "outputs": [
        {
          "output_type": "execute_result",
          "data": {
            "text/plain": [
              "                                    0                       1  \\\n",
              "AnimalID                      A671945                 A656520   \n",
              "Name                          Hambone                   Emily   \n",
              "DateTime          2014-02-12 18:22:00     2013-10-13 12:44:00   \n",
              "OutcomeType           Return_to_owner              Euthanasia   \n",
              "OutcomeSubtype                    NaN               Suffering   \n",
              "AnimalType                        Dog                     Cat   \n",
              "SexuponOutcome          Neutered Male           Spayed Female   \n",
              "AgeuponOutcome                 1 year                  1 year   \n",
              "Breed           Shetland Sheepdog Mix  Domestic Shorthair Mix   \n",
              "Color                     Brown/White             Cream Tabby   \n",
              "\n",
              "                                  2  \n",
              "AnimalID                    A686464  \n",
              "Name                         Pearce  \n",
              "DateTime        2015-01-31 12:28:00  \n",
              "OutcomeType                Adoption  \n",
              "OutcomeSubtype               Foster  \n",
              "AnimalType                      Dog  \n",
              "SexuponOutcome        Neutered Male  \n",
              "AgeuponOutcome              2 years  \n",
              "Breed                  Pit Bull Mix  \n",
              "Color                    Blue/White  "
            ],
            "text/html": [
              "\n",
              "  <div id=\"df-c161114c-00ca-418c-b043-d093af8019d6\">\n",
              "    <div class=\"colab-df-container\">\n",
              "      <div>\n",
              "<style scoped>\n",
              "    .dataframe tbody tr th:only-of-type {\n",
              "        vertical-align: middle;\n",
              "    }\n",
              "\n",
              "    .dataframe tbody tr th {\n",
              "        vertical-align: top;\n",
              "    }\n",
              "\n",
              "    .dataframe thead th {\n",
              "        text-align: right;\n",
              "    }\n",
              "</style>\n",
              "<table border=\"1\" class=\"dataframe\">\n",
              "  <thead>\n",
              "    <tr style=\"text-align: right;\">\n",
              "      <th></th>\n",
              "      <th>0</th>\n",
              "      <th>1</th>\n",
              "      <th>2</th>\n",
              "    </tr>\n",
              "  </thead>\n",
              "  <tbody>\n",
              "    <tr>\n",
              "      <th>AnimalID</th>\n",
              "      <td>A671945</td>\n",
              "      <td>A656520</td>\n",
              "      <td>A686464</td>\n",
              "    </tr>\n",
              "    <tr>\n",
              "      <th>Name</th>\n",
              "      <td>Hambone</td>\n",
              "      <td>Emily</td>\n",
              "      <td>Pearce</td>\n",
              "    </tr>\n",
              "    <tr>\n",
              "      <th>DateTime</th>\n",
              "      <td>2014-02-12 18:22:00</td>\n",
              "      <td>2013-10-13 12:44:00</td>\n",
              "      <td>2015-01-31 12:28:00</td>\n",
              "    </tr>\n",
              "    <tr>\n",
              "      <th>OutcomeType</th>\n",
              "      <td>Return_to_owner</td>\n",
              "      <td>Euthanasia</td>\n",
              "      <td>Adoption</td>\n",
              "    </tr>\n",
              "    <tr>\n",
              "      <th>OutcomeSubtype</th>\n",
              "      <td>NaN</td>\n",
              "      <td>Suffering</td>\n",
              "      <td>Foster</td>\n",
              "    </tr>\n",
              "    <tr>\n",
              "      <th>AnimalType</th>\n",
              "      <td>Dog</td>\n",
              "      <td>Cat</td>\n",
              "      <td>Dog</td>\n",
              "    </tr>\n",
              "    <tr>\n",
              "      <th>SexuponOutcome</th>\n",
              "      <td>Neutered Male</td>\n",
              "      <td>Spayed Female</td>\n",
              "      <td>Neutered Male</td>\n",
              "    </tr>\n",
              "    <tr>\n",
              "      <th>AgeuponOutcome</th>\n",
              "      <td>1 year</td>\n",
              "      <td>1 year</td>\n",
              "      <td>2 years</td>\n",
              "    </tr>\n",
              "    <tr>\n",
              "      <th>Breed</th>\n",
              "      <td>Shetland Sheepdog Mix</td>\n",
              "      <td>Domestic Shorthair Mix</td>\n",
              "      <td>Pit Bull Mix</td>\n",
              "    </tr>\n",
              "    <tr>\n",
              "      <th>Color</th>\n",
              "      <td>Brown/White</td>\n",
              "      <td>Cream Tabby</td>\n",
              "      <td>Blue/White</td>\n",
              "    </tr>\n",
              "  </tbody>\n",
              "</table>\n",
              "</div>\n",
              "      <button class=\"colab-df-convert\" onclick=\"convertToInteractive('df-c161114c-00ca-418c-b043-d093af8019d6')\"\n",
              "              title=\"Convert this dataframe to an interactive table.\"\n",
              "              style=\"display:none;\">\n",
              "        \n",
              "  <svg xmlns=\"http://www.w3.org/2000/svg\" height=\"24px\"viewBox=\"0 0 24 24\"\n",
              "       width=\"24px\">\n",
              "    <path d=\"M0 0h24v24H0V0z\" fill=\"none\"/>\n",
              "    <path d=\"M18.56 5.44l.94 2.06.94-2.06 2.06-.94-2.06-.94-.94-2.06-.94 2.06-2.06.94zm-11 1L8.5 8.5l.94-2.06 2.06-.94-2.06-.94L8.5 2.5l-.94 2.06-2.06.94zm10 10l.94 2.06.94-2.06 2.06-.94-2.06-.94-.94-2.06-.94 2.06-2.06.94z\"/><path d=\"M17.41 7.96l-1.37-1.37c-.4-.4-.92-.59-1.43-.59-.52 0-1.04.2-1.43.59L10.3 9.45l-7.72 7.72c-.78.78-.78 2.05 0 2.83L4 21.41c.39.39.9.59 1.41.59.51 0 1.02-.2 1.41-.59l7.78-7.78 2.81-2.81c.8-.78.8-2.07 0-2.86zM5.41 20L4 18.59l7.72-7.72 1.47 1.35L5.41 20z\"/>\n",
              "  </svg>\n",
              "      </button>\n",
              "      \n",
              "  <style>\n",
              "    .colab-df-container {\n",
              "      display:flex;\n",
              "      flex-wrap:wrap;\n",
              "      gap: 12px;\n",
              "    }\n",
              "\n",
              "    .colab-df-convert {\n",
              "      background-color: #E8F0FE;\n",
              "      border: none;\n",
              "      border-radius: 50%;\n",
              "      cursor: pointer;\n",
              "      display: none;\n",
              "      fill: #1967D2;\n",
              "      height: 32px;\n",
              "      padding: 0 0 0 0;\n",
              "      width: 32px;\n",
              "    }\n",
              "\n",
              "    .colab-df-convert:hover {\n",
              "      background-color: #E2EBFA;\n",
              "      box-shadow: 0px 1px 2px rgba(60, 64, 67, 0.3), 0px 1px 3px 1px rgba(60, 64, 67, 0.15);\n",
              "      fill: #174EA6;\n",
              "    }\n",
              "\n",
              "    [theme=dark] .colab-df-convert {\n",
              "      background-color: #3B4455;\n",
              "      fill: #D2E3FC;\n",
              "    }\n",
              "\n",
              "    [theme=dark] .colab-df-convert:hover {\n",
              "      background-color: #434B5C;\n",
              "      box-shadow: 0px 1px 3px 1px rgba(0, 0, 0, 0.15);\n",
              "      filter: drop-shadow(0px 1px 2px rgba(0, 0, 0, 0.3));\n",
              "      fill: #FFFFFF;\n",
              "    }\n",
              "  </style>\n",
              "\n",
              "      <script>\n",
              "        const buttonEl =\n",
              "          document.querySelector('#df-c161114c-00ca-418c-b043-d093af8019d6 button.colab-df-convert');\n",
              "        buttonEl.style.display =\n",
              "          google.colab.kernel.accessAllowed ? 'block' : 'none';\n",
              "\n",
              "        async function convertToInteractive(key) {\n",
              "          const element = document.querySelector('#df-c161114c-00ca-418c-b043-d093af8019d6');\n",
              "          const dataTable =\n",
              "            await google.colab.kernel.invokeFunction('convertToInteractive',\n",
              "                                                     [key], {});\n",
              "          if (!dataTable) return;\n",
              "\n",
              "          const docLinkHtml = 'Like what you see? Visit the ' +\n",
              "            '<a target=\"_blank\" href=https://colab.research.google.com/notebooks/data_table.ipynb>data table notebook</a>'\n",
              "            + ' to learn more about interactive tables.';\n",
              "          element.innerHTML = '';\n",
              "          dataTable['output_type'] = 'display_data';\n",
              "          await google.colab.output.renderOutput(dataTable, element);\n",
              "          const docLink = document.createElement('div');\n",
              "          docLink.innerHTML = docLinkHtml;\n",
              "          element.appendChild(docLink);\n",
              "        }\n",
              "      </script>\n",
              "    </div>\n",
              "  </div>\n",
              "  "
            ]
          },
          "metadata": {},
          "execution_count": 53
        }
      ]
    },
    {
      "cell_type": "code",
      "source": [
        "a_df.describe().T"
      ],
      "metadata": {
        "id": "NVACXC7jtxMi",
        "colab": {
          "base_uri": "https://localhost:8080/",
          "height": 363
        },
        "outputId": "e0cc7b15-cdc5-4df1-ddad-a97077299749"
      },
      "execution_count": null,
      "outputs": [
        {
          "output_type": "execute_result",
          "data": {
            "text/plain": [
              "                count unique                     top   freq\n",
              "AnimalID        26729  26729                 A671945      1\n",
              "Name            19038   6374                     Max    136\n",
              "DateTime        26729  22918     2015-08-11 00:00:00     19\n",
              "OutcomeType     26729      5                Adoption  10769\n",
              "OutcomeSubtype  13117     16                 Partner   7816\n",
              "AnimalType      26729      2                     Dog  15595\n",
              "SexuponOutcome  26728      5           Neutered Male   9779\n",
              "AgeuponOutcome  26711     44                  1 year   3969\n",
              "Breed           26729   1380  Domestic Shorthair Mix   8810\n",
              "Color           26729    366             Black/White   2824"
            ],
            "text/html": [
              "\n",
              "  <div id=\"df-6f06878e-fea7-45e4-bbcf-2d89c62aa270\">\n",
              "    <div class=\"colab-df-container\">\n",
              "      <div>\n",
              "<style scoped>\n",
              "    .dataframe tbody tr th:only-of-type {\n",
              "        vertical-align: middle;\n",
              "    }\n",
              "\n",
              "    .dataframe tbody tr th {\n",
              "        vertical-align: top;\n",
              "    }\n",
              "\n",
              "    .dataframe thead th {\n",
              "        text-align: right;\n",
              "    }\n",
              "</style>\n",
              "<table border=\"1\" class=\"dataframe\">\n",
              "  <thead>\n",
              "    <tr style=\"text-align: right;\">\n",
              "      <th></th>\n",
              "      <th>count</th>\n",
              "      <th>unique</th>\n",
              "      <th>top</th>\n",
              "      <th>freq</th>\n",
              "    </tr>\n",
              "  </thead>\n",
              "  <tbody>\n",
              "    <tr>\n",
              "      <th>AnimalID</th>\n",
              "      <td>26729</td>\n",
              "      <td>26729</td>\n",
              "      <td>A671945</td>\n",
              "      <td>1</td>\n",
              "    </tr>\n",
              "    <tr>\n",
              "      <th>Name</th>\n",
              "      <td>19038</td>\n",
              "      <td>6374</td>\n",
              "      <td>Max</td>\n",
              "      <td>136</td>\n",
              "    </tr>\n",
              "    <tr>\n",
              "      <th>DateTime</th>\n",
              "      <td>26729</td>\n",
              "      <td>22918</td>\n",
              "      <td>2015-08-11 00:00:00</td>\n",
              "      <td>19</td>\n",
              "    </tr>\n",
              "    <tr>\n",
              "      <th>OutcomeType</th>\n",
              "      <td>26729</td>\n",
              "      <td>5</td>\n",
              "      <td>Adoption</td>\n",
              "      <td>10769</td>\n",
              "    </tr>\n",
              "    <tr>\n",
              "      <th>OutcomeSubtype</th>\n",
              "      <td>13117</td>\n",
              "      <td>16</td>\n",
              "      <td>Partner</td>\n",
              "      <td>7816</td>\n",
              "    </tr>\n",
              "    <tr>\n",
              "      <th>AnimalType</th>\n",
              "      <td>26729</td>\n",
              "      <td>2</td>\n",
              "      <td>Dog</td>\n",
              "      <td>15595</td>\n",
              "    </tr>\n",
              "    <tr>\n",
              "      <th>SexuponOutcome</th>\n",
              "      <td>26728</td>\n",
              "      <td>5</td>\n",
              "      <td>Neutered Male</td>\n",
              "      <td>9779</td>\n",
              "    </tr>\n",
              "    <tr>\n",
              "      <th>AgeuponOutcome</th>\n",
              "      <td>26711</td>\n",
              "      <td>44</td>\n",
              "      <td>1 year</td>\n",
              "      <td>3969</td>\n",
              "    </tr>\n",
              "    <tr>\n",
              "      <th>Breed</th>\n",
              "      <td>26729</td>\n",
              "      <td>1380</td>\n",
              "      <td>Domestic Shorthair Mix</td>\n",
              "      <td>8810</td>\n",
              "    </tr>\n",
              "    <tr>\n",
              "      <th>Color</th>\n",
              "      <td>26729</td>\n",
              "      <td>366</td>\n",
              "      <td>Black/White</td>\n",
              "      <td>2824</td>\n",
              "    </tr>\n",
              "  </tbody>\n",
              "</table>\n",
              "</div>\n",
              "      <button class=\"colab-df-convert\" onclick=\"convertToInteractive('df-6f06878e-fea7-45e4-bbcf-2d89c62aa270')\"\n",
              "              title=\"Convert this dataframe to an interactive table.\"\n",
              "              style=\"display:none;\">\n",
              "        \n",
              "  <svg xmlns=\"http://www.w3.org/2000/svg\" height=\"24px\"viewBox=\"0 0 24 24\"\n",
              "       width=\"24px\">\n",
              "    <path d=\"M0 0h24v24H0V0z\" fill=\"none\"/>\n",
              "    <path d=\"M18.56 5.44l.94 2.06.94-2.06 2.06-.94-2.06-.94-.94-2.06-.94 2.06-2.06.94zm-11 1L8.5 8.5l.94-2.06 2.06-.94-2.06-.94L8.5 2.5l-.94 2.06-2.06.94zm10 10l.94 2.06.94-2.06 2.06-.94-2.06-.94-.94-2.06-.94 2.06-2.06.94z\"/><path d=\"M17.41 7.96l-1.37-1.37c-.4-.4-.92-.59-1.43-.59-.52 0-1.04.2-1.43.59L10.3 9.45l-7.72 7.72c-.78.78-.78 2.05 0 2.83L4 21.41c.39.39.9.59 1.41.59.51 0 1.02-.2 1.41-.59l7.78-7.78 2.81-2.81c.8-.78.8-2.07 0-2.86zM5.41 20L4 18.59l7.72-7.72 1.47 1.35L5.41 20z\"/>\n",
              "  </svg>\n",
              "      </button>\n",
              "      \n",
              "  <style>\n",
              "    .colab-df-container {\n",
              "      display:flex;\n",
              "      flex-wrap:wrap;\n",
              "      gap: 12px;\n",
              "    }\n",
              "\n",
              "    .colab-df-convert {\n",
              "      background-color: #E8F0FE;\n",
              "      border: none;\n",
              "      border-radius: 50%;\n",
              "      cursor: pointer;\n",
              "      display: none;\n",
              "      fill: #1967D2;\n",
              "      height: 32px;\n",
              "      padding: 0 0 0 0;\n",
              "      width: 32px;\n",
              "    }\n",
              "\n",
              "    .colab-df-convert:hover {\n",
              "      background-color: #E2EBFA;\n",
              "      box-shadow: 0px 1px 2px rgba(60, 64, 67, 0.3), 0px 1px 3px 1px rgba(60, 64, 67, 0.15);\n",
              "      fill: #174EA6;\n",
              "    }\n",
              "\n",
              "    [theme=dark] .colab-df-convert {\n",
              "      background-color: #3B4455;\n",
              "      fill: #D2E3FC;\n",
              "    }\n",
              "\n",
              "    [theme=dark] .colab-df-convert:hover {\n",
              "      background-color: #434B5C;\n",
              "      box-shadow: 0px 1px 3px 1px rgba(0, 0, 0, 0.15);\n",
              "      filter: drop-shadow(0px 1px 2px rgba(0, 0, 0, 0.3));\n",
              "      fill: #FFFFFF;\n",
              "    }\n",
              "  </style>\n",
              "\n",
              "      <script>\n",
              "        const buttonEl =\n",
              "          document.querySelector('#df-6f06878e-fea7-45e4-bbcf-2d89c62aa270 button.colab-df-convert');\n",
              "        buttonEl.style.display =\n",
              "          google.colab.kernel.accessAllowed ? 'block' : 'none';\n",
              "\n",
              "        async function convertToInteractive(key) {\n",
              "          const element = document.querySelector('#df-6f06878e-fea7-45e4-bbcf-2d89c62aa270');\n",
              "          const dataTable =\n",
              "            await google.colab.kernel.invokeFunction('convertToInteractive',\n",
              "                                                     [key], {});\n",
              "          if (!dataTable) return;\n",
              "\n",
              "          const docLinkHtml = 'Like what you see? Visit the ' +\n",
              "            '<a target=\"_blank\" href=https://colab.research.google.com/notebooks/data_table.ipynb>data table notebook</a>'\n",
              "            + ' to learn more about interactive tables.';\n",
              "          element.innerHTML = '';\n",
              "          dataTable['output_type'] = 'display_data';\n",
              "          await google.colab.output.renderOutput(dataTable, element);\n",
              "          const docLink = document.createElement('div');\n",
              "          docLink.innerHTML = docLinkHtml;\n",
              "          element.appendChild(docLink);\n",
              "        }\n",
              "      </script>\n",
              "    </div>\n",
              "  </div>\n",
              "  "
            ]
          },
          "metadata": {},
          "execution_count": 54
        }
      ]
    },
    {
      "cell_type": "markdown",
      "source": [
        "**Data Engineering**"
      ],
      "metadata": {
        "id": "mhI8lU6H5Nsq"
      }
    },
    {
      "cell_type": "code",
      "source": [
        "# this line drops any rows with missing data\n",
        "cleaned_data = s_df.dropna()\n",
        "# here we grab the data we want from pandas\n",
        "X_data = cleaned_data[['AnimalType','SexuponOutcome','AgeuponOutcome']]\n",
        "y_data = cleaned_data[['OutcomeType']]\n",
        "enc = OrdinalEncoder()\n",
        "enc.fit(X_data)\n",
        "le = preprocessing.LabelEncoder()\n",
        "le.fit(y_data)\n",
        "data_categorical = pd.DataFrame(enc.transform(X_data),\n",
        "columns=list(X_data))\n",
        "X=data_categorical\n",
        "y=le.transform(y_data)\n",
        "\n",
        "# Without changing the random state, divide your data into 50% for test and 50% for train\n",
        "X_train, X_test, y_train, y_test = train_test_split(X, y, test_size=0.1, random_state=42)"
      ],
      "metadata": {
        "id": "C0lm1jqH7GGH"
      },
      "execution_count": null,
      "outputs": []
    },
    {
      "cell_type": "code",
      "source": [
        "#Apply the model here and get accuracy score.\n",
        "short_tree = DecisionTreeClassifier(max_depth=3) #Create your model here\n",
        "short_tree = short_tree.fit(X_train, y_train)   #Fit on training data\n",
        "y_pred = short_tree.predict(X_test)\n",
        "print('accuracy %2.2f ' % accuracy_score(y_test,y_pred))"
      ],
      "metadata": {
        "id": "y2qYiv-g7GJ5"
      },
      "execution_count": null,
      "outputs": []
    },
    {
      "cell_type": "code",
      "source": [
        ""
      ],
      "metadata": {
        "id": "C4xKrj8w5dMO"
      },
      "execution_count": null,
      "outputs": []
    },
    {
      "cell_type": "code",
      "source": [
        ""
      ],
      "metadata": {
        "id": "SZ6KLQrQ5dQK"
      },
      "execution_count": null,
      "outputs": []
    },
    {
      "cell_type": "code",
      "source": [
        ""
      ],
      "metadata": {
        "id": "_wh4r0d55dTt"
      },
      "execution_count": null,
      "outputs": []
    },
    {
      "cell_type": "code",
      "source": [
        ""
      ],
      "metadata": {
        "id": "FtPsKzyZ5dW1"
      },
      "execution_count": null,
      "outputs": []
    },
    {
      "cell_type": "code",
      "source": [
        ""
      ],
      "metadata": {
        "id": "3uvY-fAr5daQ"
      },
      "execution_count": null,
      "outputs": []
    },
    {
      "cell_type": "code",
      "source": [
        ""
      ],
      "metadata": {
        "id": "GXsh5tiW5ddw"
      },
      "execution_count": null,
      "outputs": []
    },
    {
      "cell_type": "code",
      "source": [
        ""
      ],
      "metadata": {
        "id": "TDODE3Zq5dhl"
      },
      "execution_count": null,
      "outputs": []
    },
    {
      "cell_type": "code",
      "source": [
        ""
      ],
      "metadata": {
        "id": "1ZVLkkUf5dlH"
      },
      "execution_count": null,
      "outputs": []
    },
    {
      "cell_type": "code",
      "source": [
        ""
      ],
      "metadata": {
        "id": "kZ7hGIE65dss"
      },
      "execution_count": null,
      "outputs": []
    },
    {
      "cell_type": "code",
      "source": [
        ""
      ],
      "metadata": {
        "id": "Oc7JqK2J5dw8"
      },
      "execution_count": null,
      "outputs": []
    },
    {
      "cell_type": "markdown",
      "source": [
        "**Perceptron**"
      ],
      "metadata": {
        "id": "6hvUX4jm5eg_"
      }
    },
    {
      "cell_type": "code",
      "source": [
        "# Perceptron row instance calculation\n",
        "x_input = [0.1,0.5,0.2]\n",
        "w_weights = [0.4,0.3,0.6]\n",
        "\n",
        "threshold = 0.5\n",
        "\n",
        "def step(weighted_sum):\n",
        "  if weighted_sum > threshold:\n",
        "    return 1\n",
        "  else: \n",
        "    return 0\n",
        "\n",
        "def perceptron():\n",
        "    weighted_sum = 0\n",
        "    for x,w in zip(x_input, w_weights):\n",
        "      weighted_sum += x*w\n",
        "      print(weighted_sum)\n",
        "    return step(weighted_sum)\n",
        "\n",
        "output = perceptron()\n",
        "print(\"output: \" + str(output))"
      ],
      "metadata": {
        "colab": {
          "base_uri": "https://localhost:8080/"
        },
        "id": "n0bHooSi7GNN",
        "outputId": "8272daa5-1e20-4c3e-a04c-17050bf09e68"
      },
      "execution_count": null,
      "outputs": [
        {
          "output_type": "stream",
          "name": "stdout",
          "text": [
            "0.04000000000000001\n",
            "0.19\n",
            "0.31\n",
            "output: 0\n"
          ]
        }
      ]
    },
    {
      "cell_type": "code",
      "source": [
        "# evaluate a perceptron model on the dataset\n",
        "from numpy import mean\n",
        "from numpy import std\n",
        "from sklearn.datasets import make_classification\n",
        "from sklearn.model_selection import cross_val_score\n",
        "from sklearn.model_selection import RepeatedStratifiedKFold\n",
        "from sklearn.linear_model import Perceptron\n",
        "# define dataset\n",
        "X, y = make_classification(n_samples=1000, n_features=10, n_informative=10, n_redundant=0, random_state=1)\n",
        "# define model\n",
        "model = Perceptron()\n",
        "# define model evaluation method\n",
        "cv = RepeatedStratifiedKFold(n_splits=10, n_repeats=3, random_state=1)\n",
        "# evaluate model\n",
        "scores = cross_val_score(model, X, y, scoring='accuracy', cv=cv, n_jobs=-1)\n",
        "# summarize result\n",
        "print('Mean Accuracy: %.3f (%.3f)' % (mean(scores), std(scores)))"
      ],
      "metadata": {
        "id": "S2eFjw5x7GQP",
        "outputId": "6b7aefc1-f7d9-44ac-d475-b0119cbbb296",
        "colab": {
          "base_uri": "https://localhost:8080/"
        }
      },
      "execution_count": null,
      "outputs": [
        {
          "output_type": "stream",
          "name": "stdout",
          "text": [
            "Mean Accuracy: 0.847 (0.052)\n"
          ]
        }
      ]
    },
    {
      "cell_type": "code",
      "source": [
        "# make a prediction with a perceptron model on the dataset\n",
        "from sklearn.datasets import make_classification\n",
        "from sklearn.linear_model import Perceptron\n",
        "# define dataset\n",
        "X, y = make_classification(n_samples=1000, n_features=10, n_informative=10, n_redundant=0, random_state=1)\n",
        "# define model\n",
        "model = Perceptron()\n",
        "# fit model\n",
        "model.fit(X, y)\n",
        "# define new data\n",
        "row = [0.12777556,-3.64400522,-2.23268854,-1.82114386,1.75466361,0.1243966,1.03397657,2.35822076,1.01001752,0.56768485]\n",
        "# make a prediction\n",
        "yhat = model.predict([row])\n",
        "# summarize prediction\n",
        "print('Predicted Class: %d' % yhat)"
      ],
      "metadata": {
        "id": "G86PURqu7GTN",
        "outputId": "4445ada8-2bbe-4c4b-9648-03b1917eb150",
        "colab": {
          "base_uri": "https://localhost:8080/"
        }
      },
      "execution_count": null,
      "outputs": [
        {
          "output_type": "stream",
          "name": "stdout",
          "text": [
            "Predicted Class: 1\n"
          ]
        }
      ]
    },
    {
      "cell_type": "code",
      "source": [
        "\n",
        "# grid search total epochs for the perceptron\n",
        "from sklearn.datasets import make_classification\n",
        "from sklearn.model_selection import GridSearchCV\n",
        "from sklearn.model_selection import RepeatedStratifiedKFold\n",
        "from sklearn.linear_model import Perceptron\n",
        "# define dataset\n",
        "X, y = make_classification(n_samples=1000, n_features=10, n_informative=10, n_redundant=0, random_state=1)\n",
        "# define model\n",
        "model = Perceptron(eta0=0.0001)\n",
        "# define model evaluation method\n",
        "cv = RepeatedStratifiedKFold(n_splits=10, n_repeats=3, random_state=1)\n",
        "# Tune Perceptron Hyperparameters\n",
        "# define grid\n",
        "grid = dict()\n",
        "grid['max_iter'] = [1, 10, 100, 1000, 10000] # Epochs: number of training epochs we typically use values on a log scale between 1 and 1e+4.\n",
        "grid['eta0'] = [0.0001, 0.001, 0.01, 0.1, 1.0] # Learning Rate: It is common to test learning rates on a log scale between a small value such as 1e-4 (or smaller) and 1.0\n",
        "# define search\n",
        "search = GridSearchCV(model, grid, scoring='accuracy', cv=cv, n_jobs=-1)\n",
        "# perform the search\n",
        "results = search.fit(X, y)\n",
        "# summarize\n",
        "print('Mean Accuracy: %.3f' % results.best_score_)\n",
        "print('Config: %s' % results.best_params_)\n",
        "# summarize all\n",
        "means = results.cv_results_['mean_test_score']\n",
        "params = results.cv_results_['params']\n",
        "for mean, param in zip(means, params):\n",
        "    print(\">%.3f with: %r\" % (mean, param))"
      ],
      "metadata": {
        "id": "4inaK-rtFRLX",
        "outputId": "55f86a0f-8f0c-48c9-a376-73e21d87d9cb",
        "colab": {
          "base_uri": "https://localhost:8080/"
        }
      },
      "execution_count": null,
      "outputs": [
        {
          "output_type": "stream",
          "name": "stdout",
          "text": [
            "Mean Accuracy: 0.857\n",
            "Config: {'eta0': 0.0001, 'max_iter': 10}\n",
            ">0.850 with: {'eta0': 0.0001, 'max_iter': 1}\n",
            ">0.857 with: {'eta0': 0.0001, 'max_iter': 10}\n",
            ">0.857 with: {'eta0': 0.0001, 'max_iter': 100}\n",
            ">0.857 with: {'eta0': 0.0001, 'max_iter': 1000}\n",
            ">0.857 with: {'eta0': 0.0001, 'max_iter': 10000}\n",
            ">0.850 with: {'eta0': 0.001, 'max_iter': 1}\n",
            ">0.857 with: {'eta0': 0.001, 'max_iter': 10}\n",
            ">0.857 with: {'eta0': 0.001, 'max_iter': 100}\n",
            ">0.857 with: {'eta0': 0.001, 'max_iter': 1000}\n",
            ">0.857 with: {'eta0': 0.001, 'max_iter': 10000}\n",
            ">0.850 with: {'eta0': 0.01, 'max_iter': 1}\n",
            ">0.846 with: {'eta0': 0.01, 'max_iter': 10}\n",
            ">0.853 with: {'eta0': 0.01, 'max_iter': 100}\n",
            ">0.853 with: {'eta0': 0.01, 'max_iter': 1000}\n",
            ">0.853 with: {'eta0': 0.01, 'max_iter': 10000}\n",
            ">0.850 with: {'eta0': 0.1, 'max_iter': 1}\n",
            ">0.836 with: {'eta0': 0.1, 'max_iter': 10}\n",
            ">0.847 with: {'eta0': 0.1, 'max_iter': 100}\n",
            ">0.847 with: {'eta0': 0.1, 'max_iter': 1000}\n",
            ">0.847 with: {'eta0': 0.1, 'max_iter': 10000}\n",
            ">0.850 with: {'eta0': 1.0, 'max_iter': 1}\n",
            ">0.836 with: {'eta0': 1.0, 'max_iter': 10}\n",
            ">0.847 with: {'eta0': 1.0, 'max_iter': 100}\n",
            ">0.847 with: {'eta0': 1.0, 'max_iter': 1000}\n",
            ">0.847 with: {'eta0': 1.0, 'max_iter': 10000}\n"
          ]
        }
      ]
    },
    {
      "cell_type": "code",
      "source": [
        ""
      ],
      "metadata": {
        "id": "a7lvZXFVFISU"
      },
      "execution_count": null,
      "outputs": []
    }
  ]
}