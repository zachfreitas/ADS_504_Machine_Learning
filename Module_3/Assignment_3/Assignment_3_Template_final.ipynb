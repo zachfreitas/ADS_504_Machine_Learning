{
  "nbformat": 4,
  "nbformat_minor": 0,
  "metadata": {
    "colab": {
      "name": " Assignment #3 Template",
      "provenance": [],
      "collapsed_sections": [],
      "include_colab_link": true
    },
    "kernelspec": {
      "name": "python3",
      "display_name": "Python 3"
    },
    "language_info": {
      "name": "python"
    }
  },
  "cells": [
    {
      "cell_type": "markdown",
      "metadata": {
        "id": "view-in-github",
        "colab_type": "text"
      },
      "source": [
        "<a href=\"https://colab.research.google.com/github/zachfreitas/ADS_504_Machine_Learning/blob/main/Module_3/Assignment_3/Assignment_3_Template_final.ipynb\" target=\"_parent\"><img src=\"https://colab.research.google.com/assets/colab-badge.svg\" alt=\"Open In Colab\"/></a>"
      ]
    },
    {
      "cell_type": "code",
      "execution_count": 18,
      "metadata": {
        "id": "3SqDTDH6H2go"
      },
      "outputs": [],
      "source": [
        "# All IMPORTS you may need! \n",
        "\n",
        "import pandas as pd\n",
        "import numpy as np\n",
        "import json\n",
        "import os\n",
        "import matplotlib.pyplot as plt\n",
        "from sklearn.preprocessing import OneHotEncoder, OrdinalEncoder, LabelEncoder\n",
        "from sklearn.metrics import confusion_matrix, accuracy_score\n",
        "from sklearn.model_selection import train_test_split\n",
        "from sklearn.neighbors import KNeighborsClassifier\n",
        "from sklearn.linear_model import Perceptron\n",
        "\n",
        "\n",
        "# Turn off warnings to make results look cleaner.\n",
        "import warnings\n",
        "# warnings.filterwarnings(\"ignore\", category=DeprecationWarning)\n",
        "warnings.filterwarnings(\"ignore\")"
      ]
    },
    {
      "cell_type": "markdown",
      "source": [
        "**KNN on Audio Drum Data**\n",
        "\n",
        "One key to designing a k-nearest neighbor model is a good choice of the distance metric. By\n",
        "working through these examples (in order), you will overcome a few challenges in applying distances\n",
        "to datasets. Use scikit-learn’s neighbors. `KNeighborsClassifier` to train a classifier on each of the\n",
        "provided datasets.\n",
        "For all three datasets, because they are small in size, you will use most of the data for training.\n",
        "For all model, do a cross-validation split using:\n",
        "\n",
        "`X_train, X_test, y_train, y_test = train_test_split(X, y, test_size=0.10, random_state=42)`\n",
        "\n",
        "Load the Drum sounds dataset. Remember that these data are vectors, and each value is the\n",
        "amount of power (signal intensity) at that particular frequency. Use the distance metric euclidean.\n",
        "Next, staying with the Euclidean metric, increase the number of neighbors from1 to 9, only using\n",
        "odd numbers. Save the accuracy at each value of k, and you will be plotting them later. Change\n",
        "the distance metric to Manhattan distance. Again, vary the number of numbers and plot results\n",
        "for accuracy using both distance metrics on the Drum dataset. Plot both the training and test set\n",
        "errors as below."
      ],
      "metadata": {
        "id": "w3Zeapb6qWUM"
      }
    },
    {
      "cell_type": "markdown",
      "source": [
        "*2.1 Euclidean Distance*"
      ],
      "metadata": {
        "id": "PMnMRvNHr0iE"
      }
    },
    {
      "cell_type": "code",
      "source": [
        "#Load Audio dataset  here\n",
        "audio_df = pd.read_csv('https://raw.githubusercontent.com/zachfreitas/ADS_504_Machine_Learning/main/Module_3/Assignment_3/drum_data.csv')"
      ],
      "metadata": {
        "id": "sDLOPw0OqX8K"
      },
      "execution_count": 3,
      "outputs": []
    },
    {
      "cell_type": "code",
      "source": [
        "#Split the data into train and test, random state= 42 and 90% of data for training\n",
        "X = audio_df.drop(['Unnamed: 0','filename','label_text','label'], axis=1)\n",
        "le = LabelEncoder()\n",
        "labels = audio_df['label_text']\n",
        "le.fit(labels)\n",
        "y=le.transform(labels)\n",
        "\n",
        "# Split the dataset using the following line:\n",
        "X_train, X_test, y_train, y_test = train_test_split(X, y, test_size=0.10, random_state=42)"
      ],
      "metadata": {
        "id": "MyQQcr-HqolM"
      },
      "execution_count": 6,
      "outputs": []
    },
    {
      "cell_type": "markdown",
      "source": [
        "*KNN with k ∈ [1, 9]*"
      ],
      "metadata": {
        "id": "1I4cIzHIsSvk"
      }
    },
    {
      "cell_type": "code",
      "source": [
        "#This function is supposed to create and test a KNN model\n",
        "\n",
        "def k_neighbors(xtrain, ytrain, xtest, ytest, kvalues, metric):\n",
        "  knn_accuracy = []\n",
        "  clfs = []\n",
        "  for i in kvalues:\n",
        "    clf = KNeighborsClassifier(metric=metric, n_neighbors=i).fit(xtrain, ytrain)\n",
        "    clf_train_pred = clf.predict(xtrain)\n",
        "    clf_test_pred = clf.predict(xtest)\n",
        "    clfs.append(clf)\n",
        "    knn_accuracy.append({'k values': i,\n",
        "    'Training Accuracy':accuracy_score(clf_train_pred,ytrain),\n",
        "    'Test Accuracy': accuracy_score(clf_test_pred,ytest)})\n",
        "  return pd.DataFrame(knn_accuracy), clfs\n",
        "\n",
        "def plot_k_neighbors(k_neighbors_df, error=False, title = 'KNN'):\n",
        "  if error==True:\n",
        "    plt.plot(k_neighbors_df['k values'], 1 - k_neighbors_df['Training Accuracy'], linewidth=2, label='Training Accuracy',linestyle='dashed',marker='o')\n",
        "    plt.plot(k_neighbors_df['k values'], 1 - k_neighbors_df['Test Accuracy'], linewidth=2, label='Test Accuracy',linestyle='dashed',marker='o')\n",
        "    plt.ylabel('Error Rate = 1-Accuracy') \n",
        "  else:\n",
        "    plt.plot(k_neighbors_df['k values'], k_neighbors_df['Training Accuracy'], linewidth=2, label='Training Accuracy', linestyle='dashed',marker='o')\n",
        "    plt.plot(k_neighbors_df['k values'], k_neighbors_df['Test Accuracy'], linewidth=2, label='Test Accuracy',linestyle='dashed',marker='o')\n",
        "    plt.ylabel('Accuracy Rate')\n",
        "  plt.xlabel('k Neighbors')\n",
        "  plt.title(title)\n",
        "  plt.legend()\n",
        "  plt.show()"
      ],
      "metadata": {
        "id": "sy4RiVwMrG4M"
      },
      "execution_count": 57,
      "outputs": []
    },
    {
      "cell_type": "markdown",
      "source": [
        "*KNN using L2 norm*"
      ],
      "metadata": {
        "id": "eU4lO45kskot"
      }
    },
    {
      "cell_type": "code",
      "source": [
        "knn_euc_acc, knn_euc_clfs = k_neighbors(X_train, y_train, X_test, y_test,list(range(1,9+1,2)), 'euclidean')   #Define the range of 1 to 10 and the type as euclidean\n",
        "display(knn_euc_acc)"
      ],
      "metadata": {
        "id": "YQOmow_Zrcm8",
        "outputId": "9ad5a1d6-fdd6-474b-8071-22561add3512",
        "colab": {
          "base_uri": "https://localhost:8080/",
          "height": 206
        }
      },
      "execution_count": 58,
      "outputs": [
        {
          "output_type": "display_data",
          "data": {
            "text/plain": [
              "   k values  Training Accuracy  Test Accuracy\n",
              "0         1           1.000000       0.777778\n",
              "1         3           0.868421       0.777778\n",
              "2         5           0.723684       0.888889\n",
              "3         7           0.736842       0.888889\n",
              "4         9           0.710526       0.777778"
            ],
            "text/html": [
              "\n",
              "  <div id=\"df-db318201-a733-413f-89ed-119de2edf7d7\">\n",
              "    <div class=\"colab-df-container\">\n",
              "      <div>\n",
              "<style scoped>\n",
              "    .dataframe tbody tr th:only-of-type {\n",
              "        vertical-align: middle;\n",
              "    }\n",
              "\n",
              "    .dataframe tbody tr th {\n",
              "        vertical-align: top;\n",
              "    }\n",
              "\n",
              "    .dataframe thead th {\n",
              "        text-align: right;\n",
              "    }\n",
              "</style>\n",
              "<table border=\"1\" class=\"dataframe\">\n",
              "  <thead>\n",
              "    <tr style=\"text-align: right;\">\n",
              "      <th></th>\n",
              "      <th>k values</th>\n",
              "      <th>Training Accuracy</th>\n",
              "      <th>Test Accuracy</th>\n",
              "    </tr>\n",
              "  </thead>\n",
              "  <tbody>\n",
              "    <tr>\n",
              "      <th>0</th>\n",
              "      <td>1</td>\n",
              "      <td>1.000000</td>\n",
              "      <td>0.777778</td>\n",
              "    </tr>\n",
              "    <tr>\n",
              "      <th>1</th>\n",
              "      <td>3</td>\n",
              "      <td>0.868421</td>\n",
              "      <td>0.777778</td>\n",
              "    </tr>\n",
              "    <tr>\n",
              "      <th>2</th>\n",
              "      <td>5</td>\n",
              "      <td>0.723684</td>\n",
              "      <td>0.888889</td>\n",
              "    </tr>\n",
              "    <tr>\n",
              "      <th>3</th>\n",
              "      <td>7</td>\n",
              "      <td>0.736842</td>\n",
              "      <td>0.888889</td>\n",
              "    </tr>\n",
              "    <tr>\n",
              "      <th>4</th>\n",
              "      <td>9</td>\n",
              "      <td>0.710526</td>\n",
              "      <td>0.777778</td>\n",
              "    </tr>\n",
              "  </tbody>\n",
              "</table>\n",
              "</div>\n",
              "      <button class=\"colab-df-convert\" onclick=\"convertToInteractive('df-db318201-a733-413f-89ed-119de2edf7d7')\"\n",
              "              title=\"Convert this dataframe to an interactive table.\"\n",
              "              style=\"display:none;\">\n",
              "        \n",
              "  <svg xmlns=\"http://www.w3.org/2000/svg\" height=\"24px\"viewBox=\"0 0 24 24\"\n",
              "       width=\"24px\">\n",
              "    <path d=\"M0 0h24v24H0V0z\" fill=\"none\"/>\n",
              "    <path d=\"M18.56 5.44l.94 2.06.94-2.06 2.06-.94-2.06-.94-.94-2.06-.94 2.06-2.06.94zm-11 1L8.5 8.5l.94-2.06 2.06-.94-2.06-.94L8.5 2.5l-.94 2.06-2.06.94zm10 10l.94 2.06.94-2.06 2.06-.94-2.06-.94-.94-2.06-.94 2.06-2.06.94z\"/><path d=\"M17.41 7.96l-1.37-1.37c-.4-.4-.92-.59-1.43-.59-.52 0-1.04.2-1.43.59L10.3 9.45l-7.72 7.72c-.78.78-.78 2.05 0 2.83L4 21.41c.39.39.9.59 1.41.59.51 0 1.02-.2 1.41-.59l7.78-7.78 2.81-2.81c.8-.78.8-2.07 0-2.86zM5.41 20L4 18.59l7.72-7.72 1.47 1.35L5.41 20z\"/>\n",
              "  </svg>\n",
              "      </button>\n",
              "      \n",
              "  <style>\n",
              "    .colab-df-container {\n",
              "      display:flex;\n",
              "      flex-wrap:wrap;\n",
              "      gap: 12px;\n",
              "    }\n",
              "\n",
              "    .colab-df-convert {\n",
              "      background-color: #E8F0FE;\n",
              "      border: none;\n",
              "      border-radius: 50%;\n",
              "      cursor: pointer;\n",
              "      display: none;\n",
              "      fill: #1967D2;\n",
              "      height: 32px;\n",
              "      padding: 0 0 0 0;\n",
              "      width: 32px;\n",
              "    }\n",
              "\n",
              "    .colab-df-convert:hover {\n",
              "      background-color: #E2EBFA;\n",
              "      box-shadow: 0px 1px 2px rgba(60, 64, 67, 0.3), 0px 1px 3px 1px rgba(60, 64, 67, 0.15);\n",
              "      fill: #174EA6;\n",
              "    }\n",
              "\n",
              "    [theme=dark] .colab-df-convert {\n",
              "      background-color: #3B4455;\n",
              "      fill: #D2E3FC;\n",
              "    }\n",
              "\n",
              "    [theme=dark] .colab-df-convert:hover {\n",
              "      background-color: #434B5C;\n",
              "      box-shadow: 0px 1px 3px 1px rgba(0, 0, 0, 0.15);\n",
              "      filter: drop-shadow(0px 1px 2px rgba(0, 0, 0, 0.3));\n",
              "      fill: #FFFFFF;\n",
              "    }\n",
              "  </style>\n",
              "\n",
              "      <script>\n",
              "        const buttonEl =\n",
              "          document.querySelector('#df-db318201-a733-413f-89ed-119de2edf7d7 button.colab-df-convert');\n",
              "        buttonEl.style.display =\n",
              "          google.colab.kernel.accessAllowed ? 'block' : 'none';\n",
              "\n",
              "        async function convertToInteractive(key) {\n",
              "          const element = document.querySelector('#df-db318201-a733-413f-89ed-119de2edf7d7');\n",
              "          const dataTable =\n",
              "            await google.colab.kernel.invokeFunction('convertToInteractive',\n",
              "                                                     [key], {});\n",
              "          if (!dataTable) return;\n",
              "\n",
              "          const docLinkHtml = 'Like what you see? Visit the ' +\n",
              "            '<a target=\"_blank\" href=https://colab.research.google.com/notebooks/data_table.ipynb>data table notebook</a>'\n",
              "            + ' to learn more about interactive tables.';\n",
              "          element.innerHTML = '';\n",
              "          dataTable['output_type'] = 'display_data';\n",
              "          await google.colab.output.renderOutput(dataTable, element);\n",
              "          const docLink = document.createElement('div');\n",
              "          docLink.innerHTML = docLinkHtml;\n",
              "          element.appendChild(docLink);\n",
              "        }\n",
              "      </script>\n",
              "    </div>\n",
              "  </div>\n",
              "  "
            ]
          },
          "metadata": {}
        }
      ]
    },
    {
      "cell_type": "markdown",
      "source": [
        "K*NN L2 norm with k ∈ [0, 9] Accuracy plot*"
      ],
      "metadata": {
        "id": "ap1gem3gswuU"
      }
    },
    {
      "cell_type": "code",
      "source": [
        "#KNN L2 norm with k ∈ [0, 9] Accuracy plot here\n",
        "plot_k_neighbors(knn_euc_acc, error=True, title = 'KNN Accuracy - L2 Norm')"
      ],
      "metadata": {
        "id": "LAa8Ogw3rlMq",
        "outputId": "6de72d95-1f74-4ec8-f5e7-26ff42f53703",
        "colab": {
          "base_uri": "https://localhost:8080/",
          "height": 295
        }
      },
      "execution_count": 61,
      "outputs": [
        {
          "output_type": "display_data",
          "data": {
            "text/plain": [
              "<Figure size 432x288 with 1 Axes>"
            ],
            "image/png": "[encoded data removed]"
          },
          "metadata": {
            "needs_background": "light"
          }
        }
      ]
    },
    {
      "cell_type": "markdown",
      "source": [
        "**2.2 Manhattan Distance**\n",
        "\n",
        "*KNN using L1 norm*"
      ],
      "metadata": {
        "id": "6aV-Dpg6tLhN"
      }
    },
    {
      "cell_type": "code",
      "source": [
        "# Repeat same model this time with 'manhatan'\n",
        "knn_man_acc, knn_man_clfs = k_neighbors(X_train, y_train, X_test, y_test,list(range(1,9+1,2)), 'manhattan')   #Define the range of 1 to 10 and the type as euclidean\n",
        "display(knn_man_acc)"
      ],
      "metadata": {
        "id": "BvKNMcMvrrYx",
        "outputId": "66794088-d660-4524-e2b7-27f7aaeb9674",
        "colab": {
          "base_uri": "https://localhost:8080/",
          "height": 206
        }
      },
      "execution_count": 62,
      "outputs": [
        {
          "output_type": "display_data",
          "data": {
            "text/plain": [
              "   k values  Training Accuracy  Test Accuracy\n",
              "0         1           1.000000       0.777778\n",
              "1         3           0.842105       0.888889\n",
              "2         5           0.763158       0.888889\n",
              "3         7           0.750000       0.777778\n",
              "4         9           0.671053       0.777778"
            ],
            "text/html": [
              "\n",
              "  <div id=\"df-0fb66f25-1b60-4336-b6d3-1ffe8e799633\">\n",
              "    <div class=\"colab-df-container\">\n",
              "      <div>\n",
              "<style scoped>\n",
              "    .dataframe tbody tr th:only-of-type {\n",
              "        vertical-align: middle;\n",
              "    }\n",
              "\n",
              "    .dataframe tbody tr th {\n",
              "        vertical-align: top;\n",
              "    }\n",
              "\n",
              "    .dataframe thead th {\n",
              "        text-align: right;\n",
              "    }\n",
              "</style>\n",
              "<table border=\"1\" class=\"dataframe\">\n",
              "  <thead>\n",
              "    <tr style=\"text-align: right;\">\n",
              "      <th></th>\n",
              "      <th>k values</th>\n",
              "      <th>Training Accuracy</th>\n",
              "      <th>Test Accuracy</th>\n",
              "    </tr>\n",
              "  </thead>\n",
              "  <tbody>\n",
              "    <tr>\n",
              "      <th>0</th>\n",
              "      <td>1</td>\n",
              "      <td>1.000000</td>\n",
              "      <td>0.777778</td>\n",
              "    </tr>\n",
              "    <tr>\n",
              "      <th>1</th>\n",
              "      <td>3</td>\n",
              "      <td>0.842105</td>\n",
              "      <td>0.888889</td>\n",
              "    </tr>\n",
              "    <tr>\n",
              "      <th>2</th>\n",
              "      <td>5</td>\n",
              "      <td>0.763158</td>\n",
              "      <td>0.888889</td>\n",
              "    </tr>\n",
              "    <tr>\n",
              "      <th>3</th>\n",
              "      <td>7</td>\n",
              "      <td>0.750000</td>\n",
              "      <td>0.777778</td>\n",
              "    </tr>\n",
              "    <tr>\n",
              "      <th>4</th>\n",
              "      <td>9</td>\n",
              "      <td>0.671053</td>\n",
              "      <td>0.777778</td>\n",
              "    </tr>\n",
              "  </tbody>\n",
              "</table>\n",
              "</div>\n",
              "      <button class=\"colab-df-convert\" onclick=\"convertToInteractive('df-0fb66f25-1b60-4336-b6d3-1ffe8e799633')\"\n",
              "              title=\"Convert this dataframe to an interactive table.\"\n",
              "              style=\"display:none;\">\n",
              "        \n",
              "  <svg xmlns=\"http://www.w3.org/2000/svg\" height=\"24px\"viewBox=\"0 0 24 24\"\n",
              "       width=\"24px\">\n",
              "    <path d=\"M0 0h24v24H0V0z\" fill=\"none\"/>\n",
              "    <path d=\"M18.56 5.44l.94 2.06.94-2.06 2.06-.94-2.06-.94-.94-2.06-.94 2.06-2.06.94zm-11 1L8.5 8.5l.94-2.06 2.06-.94-2.06-.94L8.5 2.5l-.94 2.06-2.06.94zm10 10l.94 2.06.94-2.06 2.06-.94-2.06-.94-.94-2.06-.94 2.06-2.06.94z\"/><path d=\"M17.41 7.96l-1.37-1.37c-.4-.4-.92-.59-1.43-.59-.52 0-1.04.2-1.43.59L10.3 9.45l-7.72 7.72c-.78.78-.78 2.05 0 2.83L4 21.41c.39.39.9.59 1.41.59.51 0 1.02-.2 1.41-.59l7.78-7.78 2.81-2.81c.8-.78.8-2.07 0-2.86zM5.41 20L4 18.59l7.72-7.72 1.47 1.35L5.41 20z\"/>\n",
              "  </svg>\n",
              "      </button>\n",
              "      \n",
              "  <style>\n",
              "    .colab-df-container {\n",
              "      display:flex;\n",
              "      flex-wrap:wrap;\n",
              "      gap: 12px;\n",
              "    }\n",
              "\n",
              "    .colab-df-convert {\n",
              "      background-color: #E8F0FE;\n",
              "      border: none;\n",
              "      border-radius: 50%;\n",
              "      cursor: pointer;\n",
              "      display: none;\n",
              "      fill: #1967D2;\n",
              "      height: 32px;\n",
              "      padding: 0 0 0 0;\n",
              "      width: 32px;\n",
              "    }\n",
              "\n",
              "    .colab-df-convert:hover {\n",
              "      background-color: #E2EBFA;\n",
              "      box-shadow: 0px 1px 2px rgba(60, 64, 67, 0.3), 0px 1px 3px 1px rgba(60, 64, 67, 0.15);\n",
              "      fill: #174EA6;\n",
              "    }\n",
              "\n",
              "    [theme=dark] .colab-df-convert {\n",
              "      background-color: #3B4455;\n",
              "      fill: #D2E3FC;\n",
              "    }\n",
              "\n",
              "    [theme=dark] .colab-df-convert:hover {\n",
              "      background-color: #434B5C;\n",
              "      box-shadow: 0px 1px 3px 1px rgba(0, 0, 0, 0.15);\n",
              "      filter: drop-shadow(0px 1px 2px rgba(0, 0, 0, 0.3));\n",
              "      fill: #FFFFFF;\n",
              "    }\n",
              "  </style>\n",
              "\n",
              "      <script>\n",
              "        const buttonEl =\n",
              "          document.querySelector('#df-0fb66f25-1b60-4336-b6d3-1ffe8e799633 button.colab-df-convert');\n",
              "        buttonEl.style.display =\n",
              "          google.colab.kernel.accessAllowed ? 'block' : 'none';\n",
              "\n",
              "        async function convertToInteractive(key) {\n",
              "          const element = document.querySelector('#df-0fb66f25-1b60-4336-b6d3-1ffe8e799633');\n",
              "          const dataTable =\n",
              "            await google.colab.kernel.invokeFunction('convertToInteractive',\n",
              "                                                     [key], {});\n",
              "          if (!dataTable) return;\n",
              "\n",
              "          const docLinkHtml = 'Like what you see? Visit the ' +\n",
              "            '<a target=\"_blank\" href=https://colab.research.google.com/notebooks/data_table.ipynb>data table notebook</a>'\n",
              "            + ' to learn more about interactive tables.';\n",
              "          element.innerHTML = '';\n",
              "          dataTable['output_type'] = 'display_data';\n",
              "          await google.colab.output.renderOutput(dataTable, element);\n",
              "          const docLink = document.createElement('div');\n",
              "          docLink.innerHTML = docLinkHtml;\n",
              "          element.appendChild(docLink);\n",
              "        }\n",
              "      </script>\n",
              "    </div>\n",
              "  </div>\n",
              "  "
            ]
          },
          "metadata": {}
        }
      ]
    },
    {
      "cell_type": "markdown",
      "source": [
        "KNN L1 norm with k ∈ [0, 9] Accuracy plot"
      ],
      "metadata": {
        "id": "BfOWL8inWtdT"
      }
    },
    {
      "cell_type": "code",
      "source": [
        "#KNN L1 norm with k ∈ [0, 9] Accuracy plot here\n",
        "plot_k_neighbors(knn_man_acc, error=False, title = 'KNN Accuracy - L2 Norm')\n"
      ],
      "metadata": {
        "id": "SOVOtacVru6p",
        "outputId": "5830981f-42c1-4544-9bad-113ed8d1129d",
        "colab": {
          "base_uri": "https://localhost:8080/",
          "height": 295
        }
      },
      "execution_count": 63,
      "outputs": [
        {
          "output_type": "display_data",
          "data": {
            "text/plain": [
              "<Figure size 432x288 with 1 Axes>"
            ],
            "image/png": "[encoded data removed]"
          },
          "metadata": {
            "needs_background": "light"
          }
        }
      ]
    },
    {
      "cell_type": "markdown",
      "source": [
        "**3 KNN on Animal Shelter Data** \n",
        "\n",
        "Next, you will try the animal shelter data. To convert these categorical features to a vector, use\n",
        "`enc = OneHotEncoder(sparse=‘False’)`. Read the documentation on what `oneHotEncoder` is doing,\n",
        "and note how large the transformed data are. Plot a graph of accuracy using k varying from 1 to\n",
        "9 and using Cosine as the distance."
      ],
      "metadata": {
        "id": "sJflLXVOtgTl"
      }
    },
    {
      "cell_type": "code",
      "source": [
        "# Read the Shelter dataset\n",
        "shelter_df = pd.read_csv('https://raw.githubusercontent.com/zachfreitas/ADS_504_Machine_Learning/main/Module_3/Assignment_3/shelter_data.csv')"
      ],
      "metadata": {
        "id": "nnX3YU4Or-nQ"
      },
      "execution_count": 14,
      "outputs": []
    },
    {
      "cell_type": "code",
      "source": [
        "# Drop null values on Anima Data\n",
        "cleaned_data = shelter_df.dropna()\n",
        "# Define y as 'OutcomeType' and X as {'Name', 'DateTime', 'AnimalType', 'SexuponOutcome','AgeuponOutcome', 'Breed', 'Color'}\n",
        "X_data = cleaned_data[['Name', 'DateTime', 'AnimalType', 'SexuponOutcome','AgeuponOutcome', 'Breed', 'Color']]\n",
        "y_data = cleaned_data[['OutcomeType']]\n",
        "\n",
        "# one-hot encode\n",
        "ohe = OneHotEncoder(sparse=False).fit(X_data[['Name', 'AnimalType', 'SexuponOutcome','Breed', 'Color']])\n",
        "\n",
        "# ordinal\n",
        "ord = OrdinalEncoder().fit(X_data[['DateTime', 'AgeuponOutcome']])\n",
        "cat_df = pd.DataFrame(ohe.transform(X_data[['Name', 'AnimalType', 'SexuponOutcome','Breed', 'Color']]),\n",
        "                      columns=ohe.get_feature_names(['Name', 'AnimalType','SexuponOutcome', 'Breed','Color']))\n",
        "ord_df = pd.DataFrame(ord.transform(X_data[['DateTime', 'AgeuponOutcome']]),\n",
        "                      columns=['DateTime', 'AgeuponOutcome'])\n",
        "\n",
        "# concat the categoricals and ordinals\n",
        "X = pd.concat([cat_df, ord_df], axis=1)\n",
        "le = LabelEncoder()\n",
        "y = le.fit(y_data).transform(y_data)\n",
        "\n",
        "# split data to 90% for training with the random state of 42\n",
        "X_train, X_test, y_train, y_test = train_test_split(X, y, test_size=0.10, random_state=42)\n"
      ],
      "metadata": {
        "id": "V4QU0prGsNSn"
      },
      "execution_count": 30,
      "outputs": []
    },
    {
      "cell_type": "code",
      "source": [
        "# Repeat the same strategy above. Design the KNN in range of 1 to 10 with skip of 2 \n",
        "# this time use 'Cosine'\n",
        "knn_cos_acc, knn_cos_clfs = k_neighbors(X_train, y_train, X_test, y_test,list(range(1,9+1,2)), 'cosine')   #Define the range of 1 to 10 and the type as euclidean\n",
        "display(knn_man_acc)"
      ],
      "metadata": {
        "id": "KCTwHuRTuTuS",
        "outputId": "d797f71e-056e-466e-f1cc-223dbd916483",
        "colab": {
          "base_uri": "https://localhost:8080/",
          "height": 206
        }
      },
      "execution_count": 33,
      "outputs": [
        {
          "output_type": "display_data",
          "data": {
            "text/plain": [
              "   k values  Training Accuracy  Test Accuracy\n",
              "0         1           1.000000       0.954545\n",
              "1         3           0.978947       0.954545\n",
              "2         5           0.978947       0.954545\n",
              "3         7           0.978947       0.954545\n",
              "4         9           0.978947       0.954545"
            ],
            "text/html": [
              "\n",
              "  <div id=\"df-1efd4a99-43e5-472e-b242-23adac3e304a\">\n",
              "    <div class=\"colab-df-container\">\n",
              "      <div>\n",
              "<style scoped>\n",
              "    .dataframe tbody tr th:only-of-type {\n",
              "        vertical-align: middle;\n",
              "    }\n",
              "\n",
              "    .dataframe tbody tr th {\n",
              "        vertical-align: top;\n",
              "    }\n",
              "\n",
              "    .dataframe thead th {\n",
              "        text-align: right;\n",
              "    }\n",
              "</style>\n",
              "<table border=\"1\" class=\"dataframe\">\n",
              "  <thead>\n",
              "    <tr style=\"text-align: right;\">\n",
              "      <th></th>\n",
              "      <th>k values</th>\n",
              "      <th>Training Accuracy</th>\n",
              "      <th>Test Accuracy</th>\n",
              "    </tr>\n",
              "  </thead>\n",
              "  <tbody>\n",
              "    <tr>\n",
              "      <th>0</th>\n",
              "      <td>1</td>\n",
              "      <td>1.000000</td>\n",
              "      <td>0.954545</td>\n",
              "    </tr>\n",
              "    <tr>\n",
              "      <th>1</th>\n",
              "      <td>3</td>\n",
              "      <td>0.978947</td>\n",
              "      <td>0.954545</td>\n",
              "    </tr>\n",
              "    <tr>\n",
              "      <th>2</th>\n",
              "      <td>5</td>\n",
              "      <td>0.978947</td>\n",
              "      <td>0.954545</td>\n",
              "    </tr>\n",
              "    <tr>\n",
              "      <th>3</th>\n",
              "      <td>7</td>\n",
              "      <td>0.978947</td>\n",
              "      <td>0.954545</td>\n",
              "    </tr>\n",
              "    <tr>\n",
              "      <th>4</th>\n",
              "      <td>9</td>\n",
              "      <td>0.978947</td>\n",
              "      <td>0.954545</td>\n",
              "    </tr>\n",
              "  </tbody>\n",
              "</table>\n",
              "</div>\n",
              "      <button class=\"colab-df-convert\" onclick=\"convertToInteractive('df-1efd4a99-43e5-472e-b242-23adac3e304a')\"\n",
              "              title=\"Convert this dataframe to an interactive table.\"\n",
              "              style=\"display:none;\">\n",
              "        \n",
              "  <svg xmlns=\"http://www.w3.org/2000/svg\" height=\"24px\"viewBox=\"0 0 24 24\"\n",
              "       width=\"24px\">\n",
              "    <path d=\"M0 0h24v24H0V0z\" fill=\"none\"/>\n",
              "    <path d=\"M18.56 5.44l.94 2.06.94-2.06 2.06-.94-2.06-.94-.94-2.06-.94 2.06-2.06.94zm-11 1L8.5 8.5l.94-2.06 2.06-.94-2.06-.94L8.5 2.5l-.94 2.06-2.06.94zm10 10l.94 2.06.94-2.06 2.06-.94-2.06-.94-.94-2.06-.94 2.06-2.06.94z\"/><path d=\"M17.41 7.96l-1.37-1.37c-.4-.4-.92-.59-1.43-.59-.52 0-1.04.2-1.43.59L10.3 9.45l-7.72 7.72c-.78.78-.78 2.05 0 2.83L4 21.41c.39.39.9.59 1.41.59.51 0 1.02-.2 1.41-.59l7.78-7.78 2.81-2.81c.8-.78.8-2.07 0-2.86zM5.41 20L4 18.59l7.72-7.72 1.47 1.35L5.41 20z\"/>\n",
              "  </svg>\n",
              "      </button>\n",
              "      \n",
              "  <style>\n",
              "    .colab-df-container {\n",
              "      display:flex;\n",
              "      flex-wrap:wrap;\n",
              "      gap: 12px;\n",
              "    }\n",
              "\n",
              "    .colab-df-convert {\n",
              "      background-color: #E8F0FE;\n",
              "      border: none;\n",
              "      border-radius: 50%;\n",
              "      cursor: pointer;\n",
              "      display: none;\n",
              "      fill: #1967D2;\n",
              "      height: 32px;\n",
              "      padding: 0 0 0 0;\n",
              "      width: 32px;\n",
              "    }\n",
              "\n",
              "    .colab-df-convert:hover {\n",
              "      background-color: #E2EBFA;\n",
              "      box-shadow: 0px 1px 2px rgba(60, 64, 67, 0.3), 0px 1px 3px 1px rgba(60, 64, 67, 0.15);\n",
              "      fill: #174EA6;\n",
              "    }\n",
              "\n",
              "    [theme=dark] .colab-df-convert {\n",
              "      background-color: #3B4455;\n",
              "      fill: #D2E3FC;\n",
              "    }\n",
              "\n",
              "    [theme=dark] .colab-df-convert:hover {\n",
              "      background-color: #434B5C;\n",
              "      box-shadow: 0px 1px 3px 1px rgba(0, 0, 0, 0.15);\n",
              "      filter: drop-shadow(0px 1px 2px rgba(0, 0, 0, 0.3));\n",
              "      fill: #FFFFFF;\n",
              "    }\n",
              "  </style>\n",
              "\n",
              "      <script>\n",
              "        const buttonEl =\n",
              "          document.querySelector('#df-1efd4a99-43e5-472e-b242-23adac3e304a button.colab-df-convert');\n",
              "        buttonEl.style.display =\n",
              "          google.colab.kernel.accessAllowed ? 'block' : 'none';\n",
              "\n",
              "        async function convertToInteractive(key) {\n",
              "          const element = document.querySelector('#df-1efd4a99-43e5-472e-b242-23adac3e304a');\n",
              "          const dataTable =\n",
              "            await google.colab.kernel.invokeFunction('convertToInteractive',\n",
              "                                                     [key], {});\n",
              "          if (!dataTable) return;\n",
              "\n",
              "          const docLinkHtml = 'Like what you see? Visit the ' +\n",
              "            '<a target=\"_blank\" href=https://colab.research.google.com/notebooks/data_table.ipynb>data table notebook</a>'\n",
              "            + ' to learn more about interactive tables.';\n",
              "          element.innerHTML = '';\n",
              "          dataTable['output_type'] = 'display_data';\n",
              "          await google.colab.output.renderOutput(dataTable, element);\n",
              "          const docLink = document.createElement('div');\n",
              "          docLink.innerHTML = docLinkHtml;\n",
              "          element.appendChild(docLink);\n",
              "        }\n",
              "      </script>\n",
              "    </div>\n",
              "  </div>\n",
              "  "
            ]
          },
          "metadata": {}
        }
      ]
    },
    {
      "cell_type": "markdown",
      "source": [
        "KNN Cosine Similarity with k ∈ [0, 9] Accuracy plot"
      ],
      "metadata": {
        "id": "dI_KjFaiW0Up"
      }
    },
    {
      "cell_type": "code",
      "source": [
        "# Same as previous steps, KNN Cosine Similarity with k ∈ [0, 9] Accuracy plot\n",
        "plot_k_neighbors(knn_cos_acc, error=True, title = 'KNN Accuracy - Cosine')"
      ],
      "metadata": {
        "id": "0w5qafw-uhMa",
        "outputId": "dac22205-8835-434d-e64c-04ba7b2f377c",
        "colab": {
          "base_uri": "https://localhost:8080/",
          "height": 295
        }
      },
      "execution_count": 65,
      "outputs": [
        {
          "output_type": "display_data",
          "data": {
            "text/plain": [
              "<Figure size 432x288 with 1 Axes>"
            ],
            "image/png": "[encoded data removed]"
          },
          "metadata": {
            "needs_background": "light"
          }
        }
      ]
    },
    {
      "cell_type": "markdown",
      "source": [
        "**4 KNN on Text Data**\n",
        "\n",
        "Finally, load the text data using count_hamilton.csv. You will again use k-nearest neighbors to\n",
        "build a classifier, varying the number of neighbors from 1 to 9. Use both Cosine and Euclidean\n",
        "distance to plot accuracy as the number of neighbors increases."
      ],
      "metadata": {
        "id": "g1ueXJ65ulKS"
      }
    },
    {
      "cell_type": "code",
      "source": [
        "# Read text data\n",
        "text_df = pd.read_csv('https://github.com/zachfreitas/ADS_504_Machine_Learning/raw/main/Module_3/Assignment_3/count_hamilton.csv')\n"
      ],
      "metadata": {
        "id": "ZTPNB9PjsffG"
      },
      "execution_count": 37,
      "outputs": []
    },
    {
      "cell_type": "code",
      "source": [
        "# Drop meta_author and meta_title\n",
        "X = text_df.drop(['Unnamed: 0','meta_author','meta_title'], axis=1)\n",
        "\n",
        "# Use label encoder as you did in previous assignment and create 90% of data for training in random state of 42\n",
        "le = LabelEncoder()\n",
        "labels = text_df['meta_author']\n",
        "le.fit(labels)\n",
        "y=le.transform(labels)\n",
        "\n",
        "# Train split\n",
        "X_train, X_test, y_train, y_test = train_test_split(X, y, test_size=0.1, random_state=42)"
      ],
      "metadata": {
        "id": "JCLG_lZNutUi"
      },
      "execution_count": 39,
      "outputs": []
    },
    {
      "cell_type": "markdown",
      "source": [
        "**4.1 Euclidean Distance**\n",
        "\n",
        "KNN L2 norm"
      ],
      "metadata": {
        "id": "XwIW0uZYu9hD"
      }
    },
    {
      "cell_type": "code",
      "source": [
        "# Same strategy as before, create euclidean for the range of K"
      ],
      "metadata": {
        "id": "DuFhBdl0u886"
      },
      "execution_count": null,
      "outputs": []
    },
    {
      "cell_type": "code",
      "source": [
        "#KNN L2 norm with k ∈ [0, 9] Accuracy plot"
      ],
      "metadata": {
        "id": "HH9xoHzZvHKb"
      },
      "execution_count": null,
      "outputs": []
    },
    {
      "cell_type": "markdown",
      "source": [
        "**4.2 Cosine**\n",
        "\n",
        "KNN Cosine similarity"
      ],
      "metadata": {
        "id": "IA3bx7lavOHq"
      }
    },
    {
      "cell_type": "code",
      "source": [
        "# Same strategy as before, create cosine for the range of K"
      ],
      "metadata": {
        "id": "7SCp-AbsvQm6"
      },
      "execution_count": null,
      "outputs": []
    },
    {
      "cell_type": "code",
      "source": [
        "#KNN L2 norm with k ∈ [0, 9] Accuracy plot"
      ],
      "metadata": {
        "id": "Zjz7FhkyvQ4J"
      },
      "execution_count": null,
      "outputs": []
    },
    {
      "cell_type": "markdown",
      "source": [
        "**5 Perceptron Implementation.**\n",
        "\n",
        "Load the audio (Drum) dataset. Make sure you have plus and minus ones for labels. For example,\n",
        "you can modify the labels like this:\n",
        "\n",
        "```\n",
        "y = le.transform(labels)\n",
        "y[y==0] = -1\n",
        "```\n",
        "\n",
        "Write the following functions:\n",
        "\n",
        "`predict_perceptron(X,w)`\n",
        "\n",
        "This takes a dataset and a weight vector and returns all the predictions that would be made by a\n",
        "perceptron.\n",
        "\n",
        "`train_perceptron(X,w)`\n",
        "\n",
        "Returns w, the trained weight vector. This will take the form of a for loop over all the data points,\n",
        "checking against the pseudocode in the text.\n",
        "Train and test your perceptron using the audio (Drum) dataset. In addition, use scikit-learn’s\n",
        "perceptron classifier and compare. Verify that both your implementation and the built-in one are\n",
        "obtaining similar accuracy values."
      ],
      "metadata": {
        "id": "hDlybT9ivYSh"
      }
    },
    {
      "cell_type": "markdown",
      "source": [
        "Perceptron Implementation"
      ],
      "metadata": {
        "id": "CO-meaDitVHv"
      }
    },
    {
      "cell_type": "code",
      "source": [
        "# Create X and y (label_text). This time the encoding is different and is between -1 and 1 so wherever y is equal to 0, convert it to -1\n"
      ],
      "metadata": {
        "id": "b_bZOLmqtYX_"
      },
      "execution_count": null,
      "outputs": []
    },
    {
      "cell_type": "markdown",
      "source": [
        "Implementing Perceptron Classifier using python/numpy"
      ],
      "metadata": {
        "id": "PieXolDmwIRS"
      }
    },
    {
      "cell_type": "code",
      "source": [
        "class PerceptronClassifier():\n",
        "  def __init__(self, maxiter):\n",
        "    # hyperparameter\n",
        "    self.maxiter = maxiter\n",
        "  def train_perceptron(self, X, y):\n",
        "    # initialize weights, bias\n",
        "    self.w = np.zeros(X.shape[1])\n",
        "    self.b = 0\n",
        "    for i in range(self.maxiter):\n",
        "      for j in range(X.shape[0]):\n",
        "        a = sum(self.w * X.iloc[j]) + self.b\n",
        "        if y[j] * a <= 0:\n",
        "          # update weights\n",
        "          self.w += y[j] * X.iloc[j]\n",
        "          self.b += y[j]\n",
        "    # return trained weights, bias\n",
        "    return self.w, self.b\n",
        "  def predict_perceptron(self, X):\n",
        "    a = [sum(self.w * x) + self.b for i, x in X.iterrows()]\n",
        "    return np.sign(a).astype(int)"
      ],
      "metadata": {
        "id": "qr3igthKteKN"
      },
      "execution_count": null,
      "outputs": []
    },
    {
      "cell_type": "markdown",
      "source": [
        "Implemented Perceptron and predictions"
      ],
      "metadata": {
        "id": "5_nQzZbkwKsp"
      }
    },
    {
      "cell_type": "code",
      "source": [
        "perc = PerceptronClassifier(1)\n",
        "_, _ = perc.train_perceptron(X_train, y_train)\n",
        "\n",
        "perc_cm = confusion_matrix(y_test, perc.predict_perceptron(X_test))\n",
        "pd.DataFrame(perc_cm, index=aud_labels, columns=aud_labels)"
      ],
      "metadata": {
        "id": "u76Q1efAtwCT"
      },
      "execution_count": null,
      "outputs": []
    },
    {
      "cell_type": "code",
      "source": [
        "print('Implemented Perceptron Accuracy %2.2f ' % accuracy_score(y_test, perc.predict_perceptron(X_test)))"
      ],
      "metadata": {
        "id": "8DiqcFExt0wK"
      },
      "execution_count": null,
      "outputs": []
    },
    {
      "cell_type": "markdown",
      "source": [
        "Scikit-Learn Perceptron and predictions"
      ],
      "metadata": {
        "id": "FiTyx1iLwQvR"
      }
    },
    {
      "cell_type": "code",
      "source": [
        "sk_perc = Perceptron(max_iter=1).fit(X_train, y_train)\n",
        "\n",
        "sk_perc_cm = confusion_matrix(y_test, sk_perc.predict(X_test))\n",
        "pd.DataFrame(sk_perc_cm, index=aud_labels, columns=aud_labels)"
      ],
      "metadata": {
        "id": "_SpvU-_Bt5ug"
      },
      "execution_count": null,
      "outputs": []
    },
    {
      "cell_type": "code",
      "source": [
        "print('Scikit-Learn Perceptron Accuracy %2.2f ' % accuracy_score(y_test,sk_perc.predict(X_test)))"
      ],
      "metadata": {
        "id": "Qeo4hJe_t_bF"
      },
      "execution_count": null,
      "outputs": []
    }
  ]
}