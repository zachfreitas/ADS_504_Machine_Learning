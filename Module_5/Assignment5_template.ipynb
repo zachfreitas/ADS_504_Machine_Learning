{
  "nbformat": 4,
  "nbformat_minor": 0,
  "metadata": {
    "colab": {
      "name": "Assignment5_template.ipynb",
      "provenance": [],
      "collapsed_sections": [],
      "include_colab_link": true
    },
    "kernelspec": {
      "name": "python3",
      "display_name": "Python 3"
    },
    "language_info": {
      "name": "python"
    }
  },
  "cells": [
    {
      "cell_type": "markdown",
      "metadata": {
        "id": "view-in-github",
        "colab_type": "text"
      },
      "source": [
        "<a href=\"https://colab.research.google.com/github/zachfreitas/ADS_504_Machine_Learning/blob/main/Module_5/Assignment5_template.ipynb\" target=\"_parent\"><img src=\"https://colab.research.google.com/assets/colab-badge.svg\" alt=\"Open In Colab\"/></a>"
      ]
    },
    {
      "cell_type": "markdown",
      "source": [
        "# Assignment 5.1\n",
        "Zachariah Freitas"
      ],
      "metadata": {
        "id": "pSUwk-pQnZ4I"
      }
    },
    {
      "cell_type": "markdown",
      "source": [
        "## Linear Classification\n",
        "\n",
        "Install the package mlextend: http://rasbt.github.io/mlxtend/installation/ <br>\n",
        "\n",
        "Import libraries."
      ],
      "metadata": {
        "id": "UsWWOMcxW893"
      }
    },
    {
      "cell_type": "code",
      "execution_count": 32,
      "metadata": {
        "id": "3aYVh-umWgyc",
        "colab": {
          "base_uri": "https://localhost:8080/"
        },
        "outputId": "9932b158-2673-4259-84d4-ca4e86ca172e"
      },
      "outputs": [
        {
          "output_type": "stream",
          "name": "stdout",
          "text": [
            "The pycodestyle_magic extension is already loaded. To reload it, use:\n",
            "  %reload_ext pycodestyle_magic\n"
          ]
        }
      ],
      "source": [
        "# Import Libraries\n",
        "import pandas as pd\n",
        "import numpy as np\n",
        "import os\n",
        "import matplotlib.pyplot as plt\n",
        "import matplotlib\n",
        "import seaborn as sns\n",
        "import tarfile\n",
        "from sklearn.datasets import make_classification\n",
        "from sklearn.preprocessing import OneHotEncoder, OrdinalEncoder, LabelEncoder,StandardScaler, Normalizer\n",
        "from sklearn.metrics import confusion_matrix, accuracy_score,plot_confusion_matrix, classification_report\n",
        "from sklearn.model_selection import train_test_split, cross_val_score\n",
        "from sklearn.feature_extraction.text import TfidfVectorizer\n",
        "from sklearn.feature_selection import SelectKBest, chi2\n",
        "from sklearn.linear_model import SGDClassifier\n",
        "# !pip install mlxtend\n",
        "from mlxtend.plotting import plot_decision_regions\n",
        "from mlxtend.evaluate import bootstrap_point632_score\n",
        "import warnings\n",
        "warnings.simplefilter(action='ignore', category=FutureWarning)\n",
        "warnings.simplefilter(action='ignore', category=matplotlib.cbook.mplDeprecation)\n",
        "\n",
        "# Python Linter\n",
        "#!pip install pycodestyle pycodestyle_magic\n",
        "#!pip install flake8\n",
        "%load_ext pycodestyle_magic"
      ]
    },
    {
      "cell_type": "markdown",
      "source": [
        "Next, you will do a few exercises to visualize the difference between the different linear classifiers.\n",
        "\n",
        "Generate classification data using make_classification from sklearn.datasets:\n",
        "\n",
        "`X, y = make_classification(n_features=2, n_redundant=0, n_informative=2,random_state=1, n_clusters_per_class=1)`"
      ],
      "metadata": {
        "id": "I6gDr1B7wmea"
      }
    },
    {
      "cell_type": "code",
      "source": [
        "# %%pycodestyle # Python Linter\n",
        "X, y = make_classification(n_features=2,\n",
        "                           n_redundant=0,\n",
        "                           n_informative=2,\n",
        "                           random_state=1,\n",
        "                           n_clusters_per_class=1)\n",
        "\n",
        "print('X Data Review:\\n', X[:5])\n",
        "print('\\nY Data Review:\\n', y[:5])"
      ],
      "metadata": {
        "colab": {
          "base_uri": "https://localhost:8080/"
        },
        "id": "Vcn7KLbZxJ9z",
        "outputId": "8e277167-33ca-4d3f-919a-785efcc1477d"
      },
      "execution_count": 33,
      "outputs": [
        {
          "output_type": "stream",
          "name": "stdout",
          "text": [
            "X Data Review:\n",
            " [[-1.04948638  0.8786438 ]\n",
            " [ 0.8780991   0.89551051]\n",
            " [ 0.95928819  1.03967316]\n",
            " [-1.18013412  1.12062155]\n",
            " [-0.90731836  1.06040861]]\n",
            "\n",
            "Y Data Review:\n",
            " [1 0 0 1 1]\n"
          ]
        }
      ]
    },
    {
      "cell_type": "markdown",
      "source": [
        "Use SGDClassifier to train classifiers using different loss functions: log, hinge, and perceptron. Visualize the trained classifiers using `plot_decision_regions(X, y, clf=model, legend=2)` from the mlextend package. Plot the decision region for each of the three loss functions: a sample plot for hinge loss appears below."
      ],
      "metadata": {
        "id": "u2SxQpGIwm5w"
      }
    },
    {
      "cell_type": "markdown",
      "source": [
        "**SGD Classifier - Log Loss**"
      ],
      "metadata": {
        "id": "I2OkoRJ1XYpn"
      }
    },
    {
      "cell_type": "code",
      "source": [
        "# %%pycodestyle # Python Linter\n",
        "\n",
        "sgdclf_log = SGDClassifier(loss='log').fit(X, y)\n",
        "# Plot graph using instruction above\n",
        "plot_decision_regions(X, y, clf=sgdclf_log, legend=2)\n",
        "plt.title('SGD Classifier using Log Loss', size=16)\n",
        "plt.show()"
      ],
      "metadata": {
        "colab": {
          "base_uri": "https://localhost:8080/",
          "height": 283
        },
        "id": "wQjQWQLdXYF5",
        "outputId": "5d849ec6-8a5d-48a6-b209-d17d1f8e357f"
      },
      "execution_count": 34,
      "outputs": [
        {
          "output_type": "display_data",
          "data": {
            "text/plain": [
              "<Figure size 432x288 with 1 Axes>"
            ],
            "image/png": "[encoded data removed]"
          },
          "metadata": {
            "needs_background": "light"
          }
        }
      ]
    },
    {
      "cell_type": "markdown",
      "source": [
        "**SGD Classifier - Hinge Loss**"
      ],
      "metadata": {
        "id": "-cSyKsWDXedO"
      }
    },
    {
      "cell_type": "code",
      "source": [
        "# %%pycodestyle # Python Linter\n",
        "\n",
        "sgdclf_hinge = SGDClassifier(loss='hinge').fit(X, y)\n",
        "# Draw plot here\n",
        "plot_decision_regions(X, y, clf=sgdclf_hinge, legend=2)\n",
        "plt.title('SGD Classifier using Hinge Loss', size=16)\n",
        "plt.show()"
      ],
      "metadata": {
        "colab": {
          "base_uri": "https://localhost:8080/",
          "height": 283
        },
        "id": "nJ1_pRRmW8dv",
        "outputId": "492df246-14e5-4e1e-c77f-afb4322a87ca"
      },
      "execution_count": 35,
      "outputs": [
        {
          "output_type": "display_data",
          "data": {
            "text/plain": [
              "<Figure size 432x288 with 1 Axes>"
            ],
            "image/png": "[encoded data removed]"
          },
          "metadata": {
            "needs_background": "light"
          }
        }
      ]
    },
    {
      "cell_type": "markdown",
      "source": [
        "**SGD Classifier - Perceptron**"
      ],
      "metadata": {
        "id": "WokYVlFHXimu"
      }
    },
    {
      "cell_type": "code",
      "source": [
        "# %%pycodestyle # Python Linter\n",
        "\n",
        "sgdclf_perc = SGDClassifier(loss='perceptron').fit(X, y)\n",
        "# Draw plot here\n",
        "plot_decision_regions(X, y, clf=sgdclf_perc, legend=2)\n",
        "plt.title('SGD Classifier using Perceptron Loss', size=16)\n",
        "plt.show()"
      ],
      "metadata": {
        "colab": {
          "base_uri": "https://localhost:8080/",
          "height": 283
        },
        "id": "Begzvr2pW8gP",
        "outputId": "d8d4014a-52fb-4461-b819-82f434b6d34d"
      },
      "execution_count": 36,
      "outputs": [
        {
          "output_type": "display_data",
          "data": {
            "text/plain": [
              "<Figure size 432x288 with 1 Axes>"
            ],
            "image/png": "[encoded data removed]"
          },
          "metadata": {
            "needs_background": "light"
          }
        }
      ]
    },
    {
      "cell_type": "markdown",
      "source": [
        "Now, create a larger classification dataset. You will use cross_val_score from scikit-learn and\n",
        "compare this to bootstrap_scores from mlextend.\n",
        "Set up the simulated data as follows:\n",
        "\n",
        "`X, y = make_classification(n_samples=10000,n_features=20, n_redundant=0, n_informative=20,random_state=1,n_clusters_per_class=1)`"
      ],
      "metadata": {
        "id": "ALom1fn6Xntu"
      }
    },
    {
      "cell_type": "code",
      "source": [
        "# Create Dataset using description above.\n",
        "# %%pycodestyle # Python Linter\n",
        "X, y = make_classification(n_samples=10000,\n",
        "                           n_features=20,\n",
        "                           n_redundant=0,\n",
        "                           n_informative=20,\n",
        "                           random_state=1,\n",
        "                           n_clusters_per_class=1)\n",
        "\n",
        "print('X Data Review:\\n', X[:5])\n",
        "print('\\nY Data Review:\\n', y[:5])"
      ],
      "metadata": {
        "id": "SI8fnhmXW8in",
        "colab": {
          "base_uri": "https://localhost:8080/"
        },
        "outputId": "5915e7af-ad63-447d-ca87-9edffa9a6a7c"
      },
      "execution_count": 37,
      "outputs": [
        {
          "output_type": "stream",
          "name": "stdout",
          "text": [
            "X Data Review:\n",
            " [[ 1.06460426 -5.9282953   6.14595461  0.74601925 -2.45431139  2.63954225\n",
            "  -2.94346402 -5.00301173  0.0478375  -0.99593198  2.14338604  3.12274666\n",
            "   1.39157957  3.48634096 -2.0399121  -2.22097964 -0.60863797  0.063803\n",
            "  -4.98939136  1.00242768]\n",
            " [-0.54593793  0.79506324 -2.29880048  0.47313515 -1.77284017  1.12690474\n",
            "  -0.95919302 -2.97795541 -1.69065421  0.84674564 -0.50947172  1.01834072\n",
            "  -3.30398299 -1.15480457  3.45497122 -3.96662102  4.50085085  0.13688882\n",
            "  -1.07258261  0.06783055]\n",
            " [-1.27622708 -1.15214808  2.90574769  1.46938864  0.1926348  -4.09308035\n",
            "  -5.6886958  -2.20296396 -6.05815987 -2.53696895  1.45282517  2.71610233\n",
            "  -1.4386305   2.3736082   1.84370022 -1.83578165  0.31698638 -0.71003512\n",
            "   3.65414089  0.56820653]\n",
            " [ 2.06458431 -3.72162184  0.98004198 -0.6909682  -1.33809224 -0.29364528\n",
            "  -1.06797023  1.71403833 -2.95835107 -3.68026893  0.0351619  -1.16616927\n",
            "   2.2521748  -0.59746888 -4.66363464  3.539467    2.01531949  3.02625697\n",
            "   0.32615205  0.21765874]\n",
            " [-0.56005157 -2.10690814  0.09279364 -1.02970537  0.87308613 -0.51708136\n",
            "  -1.3002874  -5.08708619 -1.05193956 -0.68351876  3.97810463 -2.7698196\n",
            "   0.62338604 -1.3623038   3.91163393 -2.20553983  3.52372682 -0.25827147\n",
            "   1.87504217  3.31025731]]\n",
            "\n",
            "Y Data Review:\n",
            " [1 0 1 1 0]\n"
          ]
        }
      ]
    },
    {
      "cell_type": "markdown",
      "source": [
        "With your classifier in a variable called model (using SGDClassifier, as before), you can get the\n",
        "accuracies as follows:\n",
        "\n",
        "```\n",
        "scores = cross_val_score(model, X, y, cv=5,scoring=scoring)\n",
        "bootstrap_scores = bootstrap_point632_score(model, X, y, method='oob')\n",
        "```\n",
        "\n",
        "Create a table with the average of each cross-validation score and the average of the bootstrap\n",
        "scores."
      ],
      "metadata": {
        "id": "L7ARLZ5X2-7k"
      }
    },
    {
      "cell_type": "code",
      "source": [
        "# Here is a recommanded loop to create models\n",
        "# %%pycodestyle # Python Linter\n",
        "loss_f = ['log', 'hinge', 'perceptron']\n",
        "scores_list = []\n",
        "avg_list = []\n",
        "for i, loss in enumerate(loss_f):\n",
        "  sgdclfs = SGDClassifier(loss=loss)\n",
        "  cv = cross_val_score(sgdclfs, X, y, cv=5, scoring='accuracy') # cross_val_score is created here\n",
        "  bs = bootstrap_point632_score(sgdclfs, X, y, method='oob') # bootstrap is created here\n",
        "  scores_list.append({'model': loss, 'cv': cv, 'bs': bs}) # append loss as 'model', cv as 'cv' and bs as 'bs'\n",
        "  avg_list.append({'Model': loss, 'Average Cross Validation': cv.mean(), 'Average Bootstrap': bs.mean()}) # append loss, cv.mean(), bs.mean() with apropriate column names"
      ],
      "metadata": {
        "id": "w1N75PORW8lA"
      },
      "execution_count": 38,
      "outputs": []
    },
    {
      "cell_type": "markdown",
      "source": [
        "**Table of Average cross-validation/bootstrap scores**"
      ],
      "metadata": {
        "id": "0f9pAGQOYFsW"
      }
    },
    {
      "cell_type": "code",
      "source": [
        "pd.DataFrame(avg_list)"
      ],
      "metadata": {
        "colab": {
          "base_uri": "https://localhost:8080/",
          "height": 143
        },
        "id": "3ixZVEftYFP-",
        "outputId": "85a19ed3-69e7-422a-ae7d-e04be79ca974"
      },
      "execution_count": 39,
      "outputs": [
        {
          "output_type": "execute_result",
          "data": {
            "text/plain": [
              "        Model  Average Cross Validation  Average Bootstrap\n",
              "0         log                    0.9002           0.901873\n",
              "1       hinge                    0.8986           0.895406\n",
              "2  perceptron                    0.8740           0.873171"
            ],
            "text/html": [
              "\n",
              "  <div id=\"df-92a6bb38-68ec-4920-8364-4c49c120a091\">\n",
              "    <div class=\"colab-df-container\">\n",
              "      <div>\n",
              "<style scoped>\n",
              "    .dataframe tbody tr th:only-of-type {\n",
              "        vertical-align: middle;\n",
              "    }\n",
              "\n",
              "    .dataframe tbody tr th {\n",
              "        vertical-align: top;\n",
              "    }\n",
              "\n",
              "    .dataframe thead th {\n",
              "        text-align: right;\n",
              "    }\n",
              "</style>\n",
              "<table border=\"1\" class=\"dataframe\">\n",
              "  <thead>\n",
              "    <tr style=\"text-align: right;\">\n",
              "      <th></th>\n",
              "      <th>Model</th>\n",
              "      <th>Average Cross Validation</th>\n",
              "      <th>Average Bootstrap</th>\n",
              "    </tr>\n",
              "  </thead>\n",
              "  <tbody>\n",
              "    <tr>\n",
              "      <th>0</th>\n",
              "      <td>log</td>\n",
              "      <td>0.9002</td>\n",
              "      <td>0.901873</td>\n",
              "    </tr>\n",
              "    <tr>\n",
              "      <th>1</th>\n",
              "      <td>hinge</td>\n",
              "      <td>0.8986</td>\n",
              "      <td>0.895406</td>\n",
              "    </tr>\n",
              "    <tr>\n",
              "      <th>2</th>\n",
              "      <td>perceptron</td>\n",
              "      <td>0.8740</td>\n",
              "      <td>0.873171</td>\n",
              "    </tr>\n",
              "  </tbody>\n",
              "</table>\n",
              "</div>\n",
              "      <button class=\"colab-df-convert\" onclick=\"convertToInteractive('df-92a6bb38-68ec-4920-8364-4c49c120a091')\"\n",
              "              title=\"Convert this dataframe to an interactive table.\"\n",
              "              style=\"display:none;\">\n",
              "        \n",
              "  <svg xmlns=\"http://www.w3.org/2000/svg\" height=\"24px\"viewBox=\"0 0 24 24\"\n",
              "       width=\"24px\">\n",
              "    <path d=\"M0 0h24v24H0V0z\" fill=\"none\"/>\n",
              "    <path d=\"M18.56 5.44l.94 2.06.94-2.06 2.06-.94-2.06-.94-.94-2.06-.94 2.06-2.06.94zm-11 1L8.5 8.5l.94-2.06 2.06-.94-2.06-.94L8.5 2.5l-.94 2.06-2.06.94zm10 10l.94 2.06.94-2.06 2.06-.94-2.06-.94-.94-2.06-.94 2.06-2.06.94z\"/><path d=\"M17.41 7.96l-1.37-1.37c-.4-.4-.92-.59-1.43-.59-.52 0-1.04.2-1.43.59L10.3 9.45l-7.72 7.72c-.78.78-.78 2.05 0 2.83L4 21.41c.39.39.9.59 1.41.59.51 0 1.02-.2 1.41-.59l7.78-7.78 2.81-2.81c.8-.78.8-2.07 0-2.86zM5.41 20L4 18.59l7.72-7.72 1.47 1.35L5.41 20z\"/>\n",
              "  </svg>\n",
              "      </button>\n",
              "      \n",
              "  <style>\n",
              "    .colab-df-container {\n",
              "      display:flex;\n",
              "      flex-wrap:wrap;\n",
              "      gap: 12px;\n",
              "    }\n",
              "\n",
              "    .colab-df-convert {\n",
              "      background-color: #E8F0FE;\n",
              "      border: none;\n",
              "      border-radius: 50%;\n",
              "      cursor: pointer;\n",
              "      display: none;\n",
              "      fill: #1967D2;\n",
              "      height: 32px;\n",
              "      padding: 0 0 0 0;\n",
              "      width: 32px;\n",
              "    }\n",
              "\n",
              "    .colab-df-convert:hover {\n",
              "      background-color: #E2EBFA;\n",
              "      box-shadow: 0px 1px 2px rgba(60, 64, 67, 0.3), 0px 1px 3px 1px rgba(60, 64, 67, 0.15);\n",
              "      fill: #174EA6;\n",
              "    }\n",
              "\n",
              "    [theme=dark] .colab-df-convert {\n",
              "      background-color: #3B4455;\n",
              "      fill: #D2E3FC;\n",
              "    }\n",
              "\n",
              "    [theme=dark] .colab-df-convert:hover {\n",
              "      background-color: #434B5C;\n",
              "      box-shadow: 0px 1px 3px 1px rgba(0, 0, 0, 0.15);\n",
              "      filter: drop-shadow(0px 1px 2px rgba(0, 0, 0, 0.3));\n",
              "      fill: #FFFFFF;\n",
              "    }\n",
              "  </style>\n",
              "\n",
              "      <script>\n",
              "        const buttonEl =\n",
              "          document.querySelector('#df-92a6bb38-68ec-4920-8364-4c49c120a091 button.colab-df-convert');\n",
              "        buttonEl.style.display =\n",
              "          google.colab.kernel.accessAllowed ? 'block' : 'none';\n",
              "\n",
              "        async function convertToInteractive(key) {\n",
              "          const element = document.querySelector('#df-92a6bb38-68ec-4920-8364-4c49c120a091');\n",
              "          const dataTable =\n",
              "            await google.colab.kernel.invokeFunction('convertToInteractive',\n",
              "                                                     [key], {});\n",
              "          if (!dataTable) return;\n",
              "\n",
              "          const docLinkHtml = 'Like what you see? Visit the ' +\n",
              "            '<a target=\"_blank\" href=https://colab.research.google.com/notebooks/data_table.ipynb>data table notebook</a>'\n",
              "            + ' to learn more about interactive tables.';\n",
              "          element.innerHTML = '';\n",
              "          dataTable['output_type'] = 'display_data';\n",
              "          await google.colab.output.renderOutput(dataTable, element);\n",
              "          const docLink = document.createElement('div');\n",
              "          docLink.innerHTML = docLinkHtml;\n",
              "          element.appendChild(docLink);\n",
              "        }\n",
              "      </script>\n",
              "    </div>\n",
              "  </div>\n",
              "  "
            ]
          },
          "metadata": {},
          "execution_count": 39
        }
      ]
    },
    {
      "cell_type": "code",
      "source": [
        "scores_df = pd.DataFrame(scores_list)\n",
        "scores_df"
      ],
      "metadata": {
        "colab": {
          "base_uri": "https://localhost:8080/",
          "height": 143
        },
        "id": "j8FttGSZSSwc",
        "outputId": "a05985c0-f5db-47db-ef97-b22d03bf7f6c"
      },
      "execution_count": 40,
      "outputs": [
        {
          "output_type": "execute_result",
          "data": {
            "text/plain": [
              "        model                                       cv  \\\n",
              "0         log    [0.905, 0.899, 0.909, 0.8905, 0.8975]   \n",
              "1       hinge  [0.8915, 0.8995, 0.9105, 0.896, 0.8955]   \n",
              "2  perceptron  [0.889, 0.8795, 0.8795, 0.8495, 0.8725]   \n",
              "\n",
              "                                                  bs  \n",
              "0  [0.9080932784636488, 0.9114825979720471, 0.903...  \n",
              "1  [0.8967391304347826, 0.902312925170068, 0.9055...  \n",
              "2  [0.8902077151335311, 0.8675675675675676, 0.869...  "
            ],
            "text/html": [
              "\n",
              "  <div id=\"df-948c3c2a-a03f-44b6-ad6a-ecf7dcc411bf\">\n",
              "    <div class=\"colab-df-container\">\n",
              "      <div>\n",
              "<style scoped>\n",
              "    .dataframe tbody tr th:only-of-type {\n",
              "        vertical-align: middle;\n",
              "    }\n",
              "\n",
              "    .dataframe tbody tr th {\n",
              "        vertical-align: top;\n",
              "    }\n",
              "\n",
              "    .dataframe thead th {\n",
              "        text-align: right;\n",
              "    }\n",
              "</style>\n",
              "<table border=\"1\" class=\"dataframe\">\n",
              "  <thead>\n",
              "    <tr style=\"text-align: right;\">\n",
              "      <th></th>\n",
              "      <th>model</th>\n",
              "      <th>cv</th>\n",
              "      <th>bs</th>\n",
              "    </tr>\n",
              "  </thead>\n",
              "  <tbody>\n",
              "    <tr>\n",
              "      <th>0</th>\n",
              "      <td>log</td>\n",
              "      <td>[0.905, 0.899, 0.909, 0.8905, 0.8975]</td>\n",
              "      <td>[0.9080932784636488, 0.9114825979720471, 0.903...</td>\n",
              "    </tr>\n",
              "    <tr>\n",
              "      <th>1</th>\n",
              "      <td>hinge</td>\n",
              "      <td>[0.8915, 0.8995, 0.9105, 0.896, 0.8955]</td>\n",
              "      <td>[0.8967391304347826, 0.902312925170068, 0.9055...</td>\n",
              "    </tr>\n",
              "    <tr>\n",
              "      <th>2</th>\n",
              "      <td>perceptron</td>\n",
              "      <td>[0.889, 0.8795, 0.8795, 0.8495, 0.8725]</td>\n",
              "      <td>[0.8902077151335311, 0.8675675675675676, 0.869...</td>\n",
              "    </tr>\n",
              "  </tbody>\n",
              "</table>\n",
              "</div>\n",
              "      <button class=\"colab-df-convert\" onclick=\"convertToInteractive('df-948c3c2a-a03f-44b6-ad6a-ecf7dcc411bf')\"\n",
              "              title=\"Convert this dataframe to an interactive table.\"\n",
              "              style=\"display:none;\">\n",
              "        \n",
              "  <svg xmlns=\"http://www.w3.org/2000/svg\" height=\"24px\"viewBox=\"0 0 24 24\"\n",
              "       width=\"24px\">\n",
              "    <path d=\"M0 0h24v24H0V0z\" fill=\"none\"/>\n",
              "    <path d=\"M18.56 5.44l.94 2.06.94-2.06 2.06-.94-2.06-.94-.94-2.06-.94 2.06-2.06.94zm-11 1L8.5 8.5l.94-2.06 2.06-.94-2.06-.94L8.5 2.5l-.94 2.06-2.06.94zm10 10l.94 2.06.94-2.06 2.06-.94-2.06-.94-.94-2.06-.94 2.06-2.06.94z\"/><path d=\"M17.41 7.96l-1.37-1.37c-.4-.4-.92-.59-1.43-.59-.52 0-1.04.2-1.43.59L10.3 9.45l-7.72 7.72c-.78.78-.78 2.05 0 2.83L4 21.41c.39.39.9.59 1.41.59.51 0 1.02-.2 1.41-.59l7.78-7.78 2.81-2.81c.8-.78.8-2.07 0-2.86zM5.41 20L4 18.59l7.72-7.72 1.47 1.35L5.41 20z\"/>\n",
              "  </svg>\n",
              "      </button>\n",
              "      \n",
              "  <style>\n",
              "    .colab-df-container {\n",
              "      display:flex;\n",
              "      flex-wrap:wrap;\n",
              "      gap: 12px;\n",
              "    }\n",
              "\n",
              "    .colab-df-convert {\n",
              "      background-color: #E8F0FE;\n",
              "      border: none;\n",
              "      border-radius: 50%;\n",
              "      cursor: pointer;\n",
              "      display: none;\n",
              "      fill: #1967D2;\n",
              "      height: 32px;\n",
              "      padding: 0 0 0 0;\n",
              "      width: 32px;\n",
              "    }\n",
              "\n",
              "    .colab-df-convert:hover {\n",
              "      background-color: #E2EBFA;\n",
              "      box-shadow: 0px 1px 2px rgba(60, 64, 67, 0.3), 0px 1px 3px 1px rgba(60, 64, 67, 0.15);\n",
              "      fill: #174EA6;\n",
              "    }\n",
              "\n",
              "    [theme=dark] .colab-df-convert {\n",
              "      background-color: #3B4455;\n",
              "      fill: #D2E3FC;\n",
              "    }\n",
              "\n",
              "    [theme=dark] .colab-df-convert:hover {\n",
              "      background-color: #434B5C;\n",
              "      box-shadow: 0px 1px 3px 1px rgba(0, 0, 0, 0.15);\n",
              "      filter: drop-shadow(0px 1px 2px rgba(0, 0, 0, 0.3));\n",
              "      fill: #FFFFFF;\n",
              "    }\n",
              "  </style>\n",
              "\n",
              "      <script>\n",
              "        const buttonEl =\n",
              "          document.querySelector('#df-948c3c2a-a03f-44b6-ad6a-ecf7dcc411bf button.colab-df-convert');\n",
              "        buttonEl.style.display =\n",
              "          google.colab.kernel.accessAllowed ? 'block' : 'none';\n",
              "\n",
              "        async function convertToInteractive(key) {\n",
              "          const element = document.querySelector('#df-948c3c2a-a03f-44b6-ad6a-ecf7dcc411bf');\n",
              "          const dataTable =\n",
              "            await google.colab.kernel.invokeFunction('convertToInteractive',\n",
              "                                                     [key], {});\n",
              "          if (!dataTable) return;\n",
              "\n",
              "          const docLinkHtml = 'Like what you see? Visit the ' +\n",
              "            '<a target=\"_blank\" href=https://colab.research.google.com/notebooks/data_table.ipynb>data table notebook</a>'\n",
              "            + ' to learn more about interactive tables.';\n",
              "          element.innerHTML = '';\n",
              "          dataTable['output_type'] = 'display_data';\n",
              "          await google.colab.output.renderOutput(dataTable, element);\n",
              "          const docLink = document.createElement('div');\n",
              "          docLink.innerHTML = docLinkHtml;\n",
              "          element.appendChild(docLink);\n",
              "        }\n",
              "      </script>\n",
              "    </div>\n",
              "  </div>\n",
              "  "
            ]
          },
          "metadata": {},
          "execution_count": 40
        }
      ]
    },
    {
      "cell_type": "code",
      "source": [
        "#Use sns to plot hinge, log and perceptron. Remember they are all stored in scores_list['bs']\n",
        "\n",
        "for target in scores_list:\n",
        "  sns.distplot(target['bs'], hist=True, rug=True, label=target['model'])\n",
        "                 \n",
        "plt.title('SGD Classifiers using Bootstrap', size=16)\n",
        "plt.legend()\n",
        "plt.show()"
      ],
      "metadata": {
        "colab": {
          "base_uri": "https://localhost:8080/",
          "height": 283
        },
        "id": "g0VPd_4LYDwn",
        "outputId": "e4538335-3a79-4b44-b1c3-61ca8817714f"
      },
      "execution_count": 41,
      "outputs": [
        {
          "output_type": "display_data",
          "data": {
            "text/plain": [
              "<Figure size 432x288 with 1 Axes>"
            ],
            "image/png": "[encoded data removed]"
          },
          "metadata": {
            "needs_background": "light"
          }
        }
      ]
    },
    {
      "cell_type": "markdown",
      "source": [
        "Finally, you will look at the importance of setting the regularization parameter. Create a database\n",
        "with only two informative features:\n",
        "\n",
        "`X, y = make_classification(n_samples=1000,n_features=2000, n_redundant=0, n_informative=2,random_state=1, n_clusters_per_class=1)`"
      ],
      "metadata": {
        "id": "Odu_s7AsYMs2"
      }
    },
    {
      "cell_type": "code",
      "source": [
        "#Create X and y here\n",
        "X, y = make_classification(n_samples=1000,\n",
        "                           n_features=2000,\n",
        "                           n_redundant=0,\n",
        "                           n_informative=2,\n",
        "                           random_state=1,\n",
        "                           n_clusters_per_class=1)\n",
        "\n",
        "print('X Data Review:\\n', X[:5])\n",
        "print('\\nY Data Review:\\n', y[:5])"
      ],
      "metadata": {
        "id": "p_lIeVABYDy_",
        "colab": {
          "base_uri": "https://localhost:8080/"
        },
        "outputId": "5dc70a0b-3023-4fed-e5dd-e32db0a49ca1"
      },
      "execution_count": 42,
      "outputs": [
        {
          "output_type": "stream",
          "name": "stdout",
          "text": [
            "X Data Review:\n",
            " [[ 0.72449649  1.42764745 -1.22952259 ...  0.19157381 -0.75267059\n",
            "   0.7283777 ]\n",
            " [-1.06216581 -0.83039059 -1.21718872 ...  0.14143685 -1.5930176\n",
            "  -0.2391367 ]\n",
            " [ 0.27884552  1.31018457 -0.58385186 ... -0.90775873 -0.33590257\n",
            "  -1.4111209 ]\n",
            " [ 1.26752075  0.78497535 -1.27059612 ... -0.38110492 -1.19868103\n",
            "  -0.60957997]\n",
            " [-1.74172752 -0.91016544  1.52787128 ... -0.67246388 -2.15466316\n",
            "   0.50307096]]\n",
            "\n",
            "Y Data Review:\n",
            " [0 1 0 1 1]\n"
          ]
        }
      ]
    },
    {
      "cell_type": "markdown",
      "source": [
        "Train a regularized classifier using ‘log’ as the loss function. Try both types of regularization ‘l1’ and ‘l2’ and sweep alpha over a range from: [0.0001,0.001,0.01,0.1,1,10,100,1000]. Use fivefold cross-validation to measure accuracy. Create a table of accuracy indexed by alpha, and use this table to plot the accuracy for both types of regularization. "
      ],
      "metadata": {
        "id": "2h-kKDUgT2tT"
      }
    },
    {
      "cell_type": "code",
      "source": [
        "alphas = [0.0001, 0.001, 0.01, 0.1, 1, 10, 100, 1000]\n",
        "results = []\n",
        "for a in alphas:\n",
        "  l1clf = SGDClassifier(loss='log', penalty='l1', alpha=a) #Classifier with loss='log', penalty='l1', alpha=a, Then fit it on X and y\n",
        "  l2clf = SGDClassifier(loss='log', penalty='l2', alpha=a) #Classifier with loss='log', penalty='l2', alpha=a, Then fit it on X and y\n",
        "  l1cv = cross_val_score(l1clf, X, y, cv=5, scoring='accuracy') # Compute cross_val_score for l1clf, cv=5, scoring='accuracy' and mean\n",
        "  l2cv = cross_val_score(l2clf, X, y, cv=5, scoring='accuracy') # Compute cross_val_score for l2clf, cv=5, scoring='accuracy' and mean\n",
        "  results.append({'alpha': a, 'log L1': l1cv.mean(), 'log L2': l2cv.mean()})"
      ],
      "metadata": {
        "id": "DKQYNQmCYD1g"
      },
      "execution_count": 43,
      "outputs": []
    },
    {
      "cell_type": "markdown",
      "source": [
        "**Accuracy Table by alpha value**"
      ],
      "metadata": {
        "id": "iUNEoatDYZ_X"
      }
    },
    {
      "cell_type": "code",
      "source": [
        "#Create a dataframe of results and store it here\n",
        "reg_df = pd.DataFrame(results)\n",
        "reg_df"
      ],
      "metadata": {
        "colab": {
          "base_uri": "https://localhost:8080/",
          "height": 300
        },
        "id": "Q_9IqSloUS66",
        "outputId": "7e7f098a-23d6-4fde-fd2e-c9ee9725fe29"
      },
      "execution_count": 44,
      "outputs": [
        {
          "output_type": "execute_result",
          "data": {
            "text/plain": [
              "       alpha  log L1  log L2\n",
              "0     0.0001   0.655   0.666\n",
              "1     0.0010   0.659   0.665\n",
              "2     0.0100   0.721   0.652\n",
              "3     0.1000   0.891   0.668\n",
              "4     1.0000   0.503   0.684\n",
              "5    10.0000   0.499   0.505\n",
              "6   100.0000   0.499   0.499\n",
              "7  1000.0000   0.501   0.503"
            ],
            "text/html": [
              "\n",
              "  <div id=\"df-9f2f8203-09d6-46f9-bb6b-a90cf95c185a\">\n",
              "    <div class=\"colab-df-container\">\n",
              "      <div>\n",
              "<style scoped>\n",
              "    .dataframe tbody tr th:only-of-type {\n",
              "        vertical-align: middle;\n",
              "    }\n",
              "\n",
              "    .dataframe tbody tr th {\n",
              "        vertical-align: top;\n",
              "    }\n",
              "\n",
              "    .dataframe thead th {\n",
              "        text-align: right;\n",
              "    }\n",
              "</style>\n",
              "<table border=\"1\" class=\"dataframe\">\n",
              "  <thead>\n",
              "    <tr style=\"text-align: right;\">\n",
              "      <th></th>\n",
              "      <th>alpha</th>\n",
              "      <th>log L1</th>\n",
              "      <th>log L2</th>\n",
              "    </tr>\n",
              "  </thead>\n",
              "  <tbody>\n",
              "    <tr>\n",
              "      <th>0</th>\n",
              "      <td>0.0001</td>\n",
              "      <td>0.655</td>\n",
              "      <td>0.666</td>\n",
              "    </tr>\n",
              "    <tr>\n",
              "      <th>1</th>\n",
              "      <td>0.0010</td>\n",
              "      <td>0.659</td>\n",
              "      <td>0.665</td>\n",
              "    </tr>\n",
              "    <tr>\n",
              "      <th>2</th>\n",
              "      <td>0.0100</td>\n",
              "      <td>0.721</td>\n",
              "      <td>0.652</td>\n",
              "    </tr>\n",
              "    <tr>\n",
              "      <th>3</th>\n",
              "      <td>0.1000</td>\n",
              "      <td>0.891</td>\n",
              "      <td>0.668</td>\n",
              "    </tr>\n",
              "    <tr>\n",
              "      <th>4</th>\n",
              "      <td>1.0000</td>\n",
              "      <td>0.503</td>\n",
              "      <td>0.684</td>\n",
              "    </tr>\n",
              "    <tr>\n",
              "      <th>5</th>\n",
              "      <td>10.0000</td>\n",
              "      <td>0.499</td>\n",
              "      <td>0.505</td>\n",
              "    </tr>\n",
              "    <tr>\n",
              "      <th>6</th>\n",
              "      <td>100.0000</td>\n",
              "      <td>0.499</td>\n",
              "      <td>0.499</td>\n",
              "    </tr>\n",
              "    <tr>\n",
              "      <th>7</th>\n",
              "      <td>1000.0000</td>\n",
              "      <td>0.501</td>\n",
              "      <td>0.503</td>\n",
              "    </tr>\n",
              "  </tbody>\n",
              "</table>\n",
              "</div>\n",
              "      <button class=\"colab-df-convert\" onclick=\"convertToInteractive('df-9f2f8203-09d6-46f9-bb6b-a90cf95c185a')\"\n",
              "              title=\"Convert this dataframe to an interactive table.\"\n",
              "              style=\"display:none;\">\n",
              "        \n",
              "  <svg xmlns=\"http://www.w3.org/2000/svg\" height=\"24px\"viewBox=\"0 0 24 24\"\n",
              "       width=\"24px\">\n",
              "    <path d=\"M0 0h24v24H0V0z\" fill=\"none\"/>\n",
              "    <path d=\"M18.56 5.44l.94 2.06.94-2.06 2.06-.94-2.06-.94-.94-2.06-.94 2.06-2.06.94zm-11 1L8.5 8.5l.94-2.06 2.06-.94-2.06-.94L8.5 2.5l-.94 2.06-2.06.94zm10 10l.94 2.06.94-2.06 2.06-.94-2.06-.94-.94-2.06-.94 2.06-2.06.94z\"/><path d=\"M17.41 7.96l-1.37-1.37c-.4-.4-.92-.59-1.43-.59-.52 0-1.04.2-1.43.59L10.3 9.45l-7.72 7.72c-.78.78-.78 2.05 0 2.83L4 21.41c.39.39.9.59 1.41.59.51 0 1.02-.2 1.41-.59l7.78-7.78 2.81-2.81c.8-.78.8-2.07 0-2.86zM5.41 20L4 18.59l7.72-7.72 1.47 1.35L5.41 20z\"/>\n",
              "  </svg>\n",
              "      </button>\n",
              "      \n",
              "  <style>\n",
              "    .colab-df-container {\n",
              "      display:flex;\n",
              "      flex-wrap:wrap;\n",
              "      gap: 12px;\n",
              "    }\n",
              "\n",
              "    .colab-df-convert {\n",
              "      background-color: #E8F0FE;\n",
              "      border: none;\n",
              "      border-radius: 50%;\n",
              "      cursor: pointer;\n",
              "      display: none;\n",
              "      fill: #1967D2;\n",
              "      height: 32px;\n",
              "      padding: 0 0 0 0;\n",
              "      width: 32px;\n",
              "    }\n",
              "\n",
              "    .colab-df-convert:hover {\n",
              "      background-color: #E2EBFA;\n",
              "      box-shadow: 0px 1px 2px rgba(60, 64, 67, 0.3), 0px 1px 3px 1px rgba(60, 64, 67, 0.15);\n",
              "      fill: #174EA6;\n",
              "    }\n",
              "\n",
              "    [theme=dark] .colab-df-convert {\n",
              "      background-color: #3B4455;\n",
              "      fill: #D2E3FC;\n",
              "    }\n",
              "\n",
              "    [theme=dark] .colab-df-convert:hover {\n",
              "      background-color: #434B5C;\n",
              "      box-shadow: 0px 1px 3px 1px rgba(0, 0, 0, 0.15);\n",
              "      filter: drop-shadow(0px 1px 2px rgba(0, 0, 0, 0.3));\n",
              "      fill: #FFFFFF;\n",
              "    }\n",
              "  </style>\n",
              "\n",
              "      <script>\n",
              "        const buttonEl =\n",
              "          document.querySelector('#df-9f2f8203-09d6-46f9-bb6b-a90cf95c185a button.colab-df-convert');\n",
              "        buttonEl.style.display =\n",
              "          google.colab.kernel.accessAllowed ? 'block' : 'none';\n",
              "\n",
              "        async function convertToInteractive(key) {\n",
              "          const element = document.querySelector('#df-9f2f8203-09d6-46f9-bb6b-a90cf95c185a');\n",
              "          const dataTable =\n",
              "            await google.colab.kernel.invokeFunction('convertToInteractive',\n",
              "                                                     [key], {});\n",
              "          if (!dataTable) return;\n",
              "\n",
              "          const docLinkHtml = 'Like what you see? Visit the ' +\n",
              "            '<a target=\"_blank\" href=https://colab.research.google.com/notebooks/data_table.ipynb>data table notebook</a>'\n",
              "            + ' to learn more about interactive tables.';\n",
              "          element.innerHTML = '';\n",
              "          dataTable['output_type'] = 'display_data';\n",
              "          await google.colab.output.renderOutput(dataTable, element);\n",
              "          const docLink = document.createElement('div');\n",
              "          docLink.innerHTML = docLinkHtml;\n",
              "          element.appendChild(docLink);\n",
              "        }\n",
              "      </script>\n",
              "    </div>\n",
              "  </div>\n",
              "  "
            ]
          },
          "metadata": {},
          "execution_count": 44
        }
      ]
    },
    {
      "cell_type": "markdown",
      "source": [
        "**L1/L2 Regularization Accuracy Plot**\n",
        "\n",
        "Your plot should look like this:"
      ],
      "metadata": {
        "id": "rANlxPW2Yd_3"
      }
    },
    {
      "cell_type": "code",
      "source": [
        "sns.lineplot(data=reg_df, x=\"alpha\", y=\"log L2\", label=\"log L2\")\n",
        "sns.lineplot(data=reg_df, x=\"alpha\", y=\"log L1\", label=\"log L1\")\n",
        "                 \n",
        "plt.title('Regularization Accuracy', size=16)\n",
        "plt.legend()\n",
        "plt.gca().set_ylabel('Accuracy')\n",
        "plt.gca().set_xlabel('Alpha Value')\n",
        "plt.gca().set_xscale(\"log\")\n",
        "plt.show()"
      ],
      "metadata": {
        "colab": {
          "base_uri": "https://localhost:8080/",
          "height": 301
        },
        "id": "c4CM8YSAXP0i",
        "outputId": "119140b0-8f39-4919-bf3d-e94525a4724b"
      },
      "execution_count": 45,
      "outputs": [
        {
          "output_type": "display_data",
          "data": {
            "text/plain": [
              "<Figure size 432x288 with 1 Axes>"
            ],
            "image/png": "[encoded data removed]"
          },
          "metadata": {
            "needs_background": "light"
          }
        }
      ]
    },
    {
      "cell_type": "markdown",
      "source": [
        "**3 Large Scale Linear Classification**\n",
        "Next, you will use data from a dataset of movie reviews. Unzip the data in aclImdb_v1.tar.\n",
        "\n",
        "There are several formats of data here, but one simple way to load the data into python is to load\n",
        "the files individually into a python list, and then use tfidfVectorizer to convert the reviews into bag\n",
        "of words feature files. Make sure to use pd.DataFrame.sparse.from_spmatrix to make a dataframe\n",
        "from the word features.\n",
        "Now, you will use fivefold cross-validation to look at the effect of the regularization penalty on\n",
        "accuracy. You should be able to simply adapt your code from the earlier section with simulated\n",
        "data to work on this real data. Note that due to the larger size of this text data, this section will\n",
        "take several minutes or more to run.\n",
        "\n",
        "for alpha in [0.00001,0.0001,0.001,0.01,0.1,1,10,100,1000]: for penalty in [‘l1’,‘l2’]\n",
        "\n",
        "**3.1 Download Dataset**\n",
        "\n",
        "https://ai.stanford.edu/~amaas/data/sentiment/aclImdb_v1.tar.gz\n",
        "Since you run the assignment on Google Colab, you don't need to bother extracting all the text\n",
        "files from the tarball. The following cells just reads all the filenames in a dataframe and you will have\n",
        "7\n",
        "code iterating the training and test files, reading the text into a list and appending labels into a\n",
        "dataframe and the dataframes are constructed. "
      ],
      "metadata": {
        "id": "v7u_7lRIYinW"
      }
    },
    {
      "cell_type": "code",
      "source": [
        "import urllib.request\n",
        "# Download tar.gz file\n",
        "urllib.request.urlretrieve('https://ai.stanford.edu/~amaas/data/sentiment/aclImdb_v1.tar.gz', 'aclImdb_v1.tar.gz')"
      ],
      "metadata": {
        "colab": {
          "base_uri": "https://localhost:8080/"
        },
        "id": "OxFdlz0yYe83",
        "outputId": "fb53921c-b839-4916-ce0e-0ce3207e68ab"
      },
      "execution_count": 46,
      "outputs": [
        {
          "output_type": "execute_result",
          "data": {
            "text/plain": [
              "('aclImdb_v1.tar.gz', <http.client.HTTPMessage at 0x7f94568a3250>)"
            ]
          },
          "metadata": {},
          "execution_count": 46
        }
      ]
    },
    {
      "cell_type": "code",
      "source": [
        "tar = tarfile.open(\"aclImdb_v1.tar.gz\", \"r:gz\")\n",
        "file_df = pd.DataFrame([m.name for m in tar.getmembers()], columns=['filename'])\n",
        "# Paths\n",
        "train_neg = 'aclImdb/train/neg/'\n",
        "train_pos = 'aclImdb/train/pos/'\n",
        "test_neg = 'aclImdb/test/neg/'\n",
        "test_pos = 'aclImdb/test/pos/'"
      ],
      "metadata": {
        "id": "602sxhBVYe_W"
      },
      "execution_count": 47,
      "outputs": []
    },
    {
      "cell_type": "markdown",
      "source": [
        "**Training Dataset**"
      ],
      "metadata": {
        "id": "N-umGLJ4Y3ye"
      }
    },
    {
      "cell_type": "code",
      "source": [
        "# This part of code creates train data\n",
        "# Running this part takes quite some time\n",
        "files = file_df[file_df['filename'].str.startswith(train_neg)]['filename'].tolist()\n",
        "neglist = []\n",
        "for file in files:\n",
        "  f = tar.extractfile(file)\n",
        "  if f is not None:\n",
        "    neglist.append(f.read().decode(\"utf-8\"))\n",
        "files = file_df[file_df['filename'].str.startswith(train_pos)]['filename'].tolist()\n",
        "poslist = []\n",
        "for file in files:\n",
        "  f = tar.extractfile(file)\n",
        "  if f is not None:\n",
        "    poslist.append(f.read().decode(\"utf-8\"))\n",
        "train_neg_df = pd.DataFrame(list(zip(neglist, np.zeros(len(neglist)))),columns=['text', 'labels'])\n",
        "train_pos_df = pd.DataFrame(list(zip(poslist, np.ones(len(poslist)))),columns=['text', 'labels'])\n",
        "training = pd.concat([train_neg_df, train_pos_df], ignore_index=True)"
      ],
      "metadata": {
        "id": "OV5RUQYRYfCf"
      },
      "execution_count": 48,
      "outputs": []
    },
    {
      "cell_type": "code",
      "source": [
        "training.head()"
      ],
      "metadata": {
        "id": "kzVK17TjYD9_",
        "colab": {
          "base_uri": "https://localhost:8080/",
          "height": 206
        },
        "outputId": "11b0d7c8-ac2c-4a92-b4cd-20b843dcb614"
      },
      "execution_count": 49,
      "outputs": [
        {
          "output_type": "execute_result",
          "data": {
            "text/plain": [
              "                                                text  labels\n",
              "0  I rented I AM CURIOUS-YELLOW from my video sto...     0.0\n",
              "1  \"I Am Curious: Yellow\" is a risible and preten...     0.0\n",
              "2  If only to avoid making this type of film in t...     0.0\n",
              "3  This film was probably inspired by Godard's Ma...     0.0\n",
              "4  Oh, brother...after hearing about this ridicul...     0.0"
            ],
            "text/html": [
              "\n",
              "  <div id=\"df-037f6b04-5ebd-48e9-b452-3d61172fb194\">\n",
              "    <div class=\"colab-df-container\">\n",
              "      <div>\n",
              "<style scoped>\n",
              "    .dataframe tbody tr th:only-of-type {\n",
              "        vertical-align: middle;\n",
              "    }\n",
              "\n",
              "    .dataframe tbody tr th {\n",
              "        vertical-align: top;\n",
              "    }\n",
              "\n",
              "    .dataframe thead th {\n",
              "        text-align: right;\n",
              "    }\n",
              "</style>\n",
              "<table border=\"1\" class=\"dataframe\">\n",
              "  <thead>\n",
              "    <tr style=\"text-align: right;\">\n",
              "      <th></th>\n",
              "      <th>text</th>\n",
              "      <th>labels</th>\n",
              "    </tr>\n",
              "  </thead>\n",
              "  <tbody>\n",
              "    <tr>\n",
              "      <th>0</th>\n",
              "      <td>I rented I AM CURIOUS-YELLOW from my video sto...</td>\n",
              "      <td>0.0</td>\n",
              "    </tr>\n",
              "    <tr>\n",
              "      <th>1</th>\n",
              "      <td>\"I Am Curious: Yellow\" is a risible and preten...</td>\n",
              "      <td>0.0</td>\n",
              "    </tr>\n",
              "    <tr>\n",
              "      <th>2</th>\n",
              "      <td>If only to avoid making this type of film in t...</td>\n",
              "      <td>0.0</td>\n",
              "    </tr>\n",
              "    <tr>\n",
              "      <th>3</th>\n",
              "      <td>This film was probably inspired by Godard's Ma...</td>\n",
              "      <td>0.0</td>\n",
              "    </tr>\n",
              "    <tr>\n",
              "      <th>4</th>\n",
              "      <td>Oh, brother...after hearing about this ridicul...</td>\n",
              "      <td>0.0</td>\n",
              "    </tr>\n",
              "  </tbody>\n",
              "</table>\n",
              "</div>\n",
              "      <button class=\"colab-df-convert\" onclick=\"convertToInteractive('df-037f6b04-5ebd-48e9-b452-3d61172fb194')\"\n",
              "              title=\"Convert this dataframe to an interactive table.\"\n",
              "              style=\"display:none;\">\n",
              "        \n",
              "  <svg xmlns=\"http://www.w3.org/2000/svg\" height=\"24px\"viewBox=\"0 0 24 24\"\n",
              "       width=\"24px\">\n",
              "    <path d=\"M0 0h24v24H0V0z\" fill=\"none\"/>\n",
              "    <path d=\"M18.56 5.44l.94 2.06.94-2.06 2.06-.94-2.06-.94-.94-2.06-.94 2.06-2.06.94zm-11 1L8.5 8.5l.94-2.06 2.06-.94-2.06-.94L8.5 2.5l-.94 2.06-2.06.94zm10 10l.94 2.06.94-2.06 2.06-.94-2.06-.94-.94-2.06-.94 2.06-2.06.94z\"/><path d=\"M17.41 7.96l-1.37-1.37c-.4-.4-.92-.59-1.43-.59-.52 0-1.04.2-1.43.59L10.3 9.45l-7.72 7.72c-.78.78-.78 2.05 0 2.83L4 21.41c.39.39.9.59 1.41.59.51 0 1.02-.2 1.41-.59l7.78-7.78 2.81-2.81c.8-.78.8-2.07 0-2.86zM5.41 20L4 18.59l7.72-7.72 1.47 1.35L5.41 20z\"/>\n",
              "  </svg>\n",
              "      </button>\n",
              "      \n",
              "  <style>\n",
              "    .colab-df-container {\n",
              "      display:flex;\n",
              "      flex-wrap:wrap;\n",
              "      gap: 12px;\n",
              "    }\n",
              "\n",
              "    .colab-df-convert {\n",
              "      background-color: #E8F0FE;\n",
              "      border: none;\n",
              "      border-radius: 50%;\n",
              "      cursor: pointer;\n",
              "      display: none;\n",
              "      fill: #1967D2;\n",
              "      height: 32px;\n",
              "      padding: 0 0 0 0;\n",
              "      width: 32px;\n",
              "    }\n",
              "\n",
              "    .colab-df-convert:hover {\n",
              "      background-color: #E2EBFA;\n",
              "      box-shadow: 0px 1px 2px rgba(60, 64, 67, 0.3), 0px 1px 3px 1px rgba(60, 64, 67, 0.15);\n",
              "      fill: #174EA6;\n",
              "    }\n",
              "\n",
              "    [theme=dark] .colab-df-convert {\n",
              "      background-color: #3B4455;\n",
              "      fill: #D2E3FC;\n",
              "    }\n",
              "\n",
              "    [theme=dark] .colab-df-convert:hover {\n",
              "      background-color: #434B5C;\n",
              "      box-shadow: 0px 1px 3px 1px rgba(0, 0, 0, 0.15);\n",
              "      filter: drop-shadow(0px 1px 2px rgba(0, 0, 0, 0.3));\n",
              "      fill: #FFFFFF;\n",
              "    }\n",
              "  </style>\n",
              "\n",
              "      <script>\n",
              "        const buttonEl =\n",
              "          document.querySelector('#df-037f6b04-5ebd-48e9-b452-3d61172fb194 button.colab-df-convert');\n",
              "        buttonEl.style.display =\n",
              "          google.colab.kernel.accessAllowed ? 'block' : 'none';\n",
              "\n",
              "        async function convertToInteractive(key) {\n",
              "          const element = document.querySelector('#df-037f6b04-5ebd-48e9-b452-3d61172fb194');\n",
              "          const dataTable =\n",
              "            await google.colab.kernel.invokeFunction('convertToInteractive',\n",
              "                                                     [key], {});\n",
              "          if (!dataTable) return;\n",
              "\n",
              "          const docLinkHtml = 'Like what you see? Visit the ' +\n",
              "            '<a target=\"_blank\" href=https://colab.research.google.com/notebooks/data_table.ipynb>data table notebook</a>'\n",
              "            + ' to learn more about interactive tables.';\n",
              "          element.innerHTML = '';\n",
              "          dataTable['output_type'] = 'display_data';\n",
              "          await google.colab.output.renderOutput(dataTable, element);\n",
              "          const docLink = document.createElement('div');\n",
              "          docLink.innerHTML = docLinkHtml;\n",
              "          element.appendChild(docLink);\n",
              "        }\n",
              "      </script>\n",
              "    </div>\n",
              "  </div>\n",
              "  "
            ]
          },
          "metadata": {},
          "execution_count": 49
        }
      ]
    },
    {
      "cell_type": "markdown",
      "source": [
        "**Test Dataset**"
      ],
      "metadata": {
        "id": "Zk-7aVrcZKU1"
      }
    },
    {
      "cell_type": "code",
      "source": [
        "# Use similar strategy to create testing data\n",
        "# This part of code creates test data\n",
        "# Running this part takes quite some time\n",
        "files = file_df[file_df['filename'].str.startswith(test_neg)]['filename'].tolist()\n",
        "neglist = []\n",
        "for file in files:\n",
        "  f = tar.extractfile(file)\n",
        "  if f is not None:\n",
        "    neglist.append(f.read().decode(\"utf-8\"))\n",
        "files = file_df[file_df['filename'].str.startswith(test_pos)]['filename'].tolist()\n",
        "poslist = []\n",
        "for file in files:\n",
        "  f = tar.extractfile(file)\n",
        "  if f is not None:\n",
        "    poslist.append(f.read().decode(\"utf-8\"))\n",
        "test_neg_df = pd.DataFrame(list(zip(neglist, np.zeros(len(neglist)))),columns=['text', 'labels'])\n",
        "test_pos_df = pd.DataFrame(list(zip(poslist, np.ones(len(poslist)))),columns=['text', 'labels'])\n",
        "testing = pd.concat([test_neg_df, test_pos_df], ignore_index=True)"
      ],
      "metadata": {
        "id": "zzaGk6K7ZIpl"
      },
      "execution_count": 50,
      "outputs": []
    },
    {
      "cell_type": "code",
      "source": [
        "testing.head()"
      ],
      "metadata": {
        "id": "2y4orC-IZIr-",
        "colab": {
          "base_uri": "https://localhost:8080/",
          "height": 206
        },
        "outputId": "9c835365-561a-452a-e94b-e163bee86d4c"
      },
      "execution_count": 51,
      "outputs": [
        {
          "output_type": "execute_result",
          "data": {
            "text/plain": [
              "                                                text  labels\n",
              "0  I love sci-fi and am willing to put up with a ...     0.0\n",
              "1  Worth the entertainment value of a rental, esp...     0.0\n",
              "2  its a totally average film with a few semi-alr...     0.0\n",
              "3  STAR RATING: ***** Saturday Night **** Friday ...     0.0\n",
              "4  First off let me say, If you haven't enjoyed a...     0.0"
            ],
            "text/html": [
              "\n",
              "  <div id=\"df-3006cb23-3657-43a5-83c8-dc0efc912e3a\">\n",
              "    <div class=\"colab-df-container\">\n",
              "      <div>\n",
              "<style scoped>\n",
              "    .dataframe tbody tr th:only-of-type {\n",
              "        vertical-align: middle;\n",
              "    }\n",
              "\n",
              "    .dataframe tbody tr th {\n",
              "        vertical-align: top;\n",
              "    }\n",
              "\n",
              "    .dataframe thead th {\n",
              "        text-align: right;\n",
              "    }\n",
              "</style>\n",
              "<table border=\"1\" class=\"dataframe\">\n",
              "  <thead>\n",
              "    <tr style=\"text-align: right;\">\n",
              "      <th></th>\n",
              "      <th>text</th>\n",
              "      <th>labels</th>\n",
              "    </tr>\n",
              "  </thead>\n",
              "  <tbody>\n",
              "    <tr>\n",
              "      <th>0</th>\n",
              "      <td>I love sci-fi and am willing to put up with a ...</td>\n",
              "      <td>0.0</td>\n",
              "    </tr>\n",
              "    <tr>\n",
              "      <th>1</th>\n",
              "      <td>Worth the entertainment value of a rental, esp...</td>\n",
              "      <td>0.0</td>\n",
              "    </tr>\n",
              "    <tr>\n",
              "      <th>2</th>\n",
              "      <td>its a totally average film with a few semi-alr...</td>\n",
              "      <td>0.0</td>\n",
              "    </tr>\n",
              "    <tr>\n",
              "      <th>3</th>\n",
              "      <td>STAR RATING: ***** Saturday Night **** Friday ...</td>\n",
              "      <td>0.0</td>\n",
              "    </tr>\n",
              "    <tr>\n",
              "      <th>4</th>\n",
              "      <td>First off let me say, If you haven't enjoyed a...</td>\n",
              "      <td>0.0</td>\n",
              "    </tr>\n",
              "  </tbody>\n",
              "</table>\n",
              "</div>\n",
              "      <button class=\"colab-df-convert\" onclick=\"convertToInteractive('df-3006cb23-3657-43a5-83c8-dc0efc912e3a')\"\n",
              "              title=\"Convert this dataframe to an interactive table.\"\n",
              "              style=\"display:none;\">\n",
              "        \n",
              "  <svg xmlns=\"http://www.w3.org/2000/svg\" height=\"24px\"viewBox=\"0 0 24 24\"\n",
              "       width=\"24px\">\n",
              "    <path d=\"M0 0h24v24H0V0z\" fill=\"none\"/>\n",
              "    <path d=\"M18.56 5.44l.94 2.06.94-2.06 2.06-.94-2.06-.94-.94-2.06-.94 2.06-2.06.94zm-11 1L8.5 8.5l.94-2.06 2.06-.94-2.06-.94L8.5 2.5l-.94 2.06-2.06.94zm10 10l.94 2.06.94-2.06 2.06-.94-2.06-.94-.94-2.06-.94 2.06-2.06.94z\"/><path d=\"M17.41 7.96l-1.37-1.37c-.4-.4-.92-.59-1.43-.59-.52 0-1.04.2-1.43.59L10.3 9.45l-7.72 7.72c-.78.78-.78 2.05 0 2.83L4 21.41c.39.39.9.59 1.41.59.51 0 1.02-.2 1.41-.59l7.78-7.78 2.81-2.81c.8-.78.8-2.07 0-2.86zM5.41 20L4 18.59l7.72-7.72 1.47 1.35L5.41 20z\"/>\n",
              "  </svg>\n",
              "      </button>\n",
              "      \n",
              "  <style>\n",
              "    .colab-df-container {\n",
              "      display:flex;\n",
              "      flex-wrap:wrap;\n",
              "      gap: 12px;\n",
              "    }\n",
              "\n",
              "    .colab-df-convert {\n",
              "      background-color: #E8F0FE;\n",
              "      border: none;\n",
              "      border-radius: 50%;\n",
              "      cursor: pointer;\n",
              "      display: none;\n",
              "      fill: #1967D2;\n",
              "      height: 32px;\n",
              "      padding: 0 0 0 0;\n",
              "      width: 32px;\n",
              "    }\n",
              "\n",
              "    .colab-df-convert:hover {\n",
              "      background-color: #E2EBFA;\n",
              "      box-shadow: 0px 1px 2px rgba(60, 64, 67, 0.3), 0px 1px 3px 1px rgba(60, 64, 67, 0.15);\n",
              "      fill: #174EA6;\n",
              "    }\n",
              "\n",
              "    [theme=dark] .colab-df-convert {\n",
              "      background-color: #3B4455;\n",
              "      fill: #D2E3FC;\n",
              "    }\n",
              "\n",
              "    [theme=dark] .colab-df-convert:hover {\n",
              "      background-color: #434B5C;\n",
              "      box-shadow: 0px 1px 3px 1px rgba(0, 0, 0, 0.15);\n",
              "      filter: drop-shadow(0px 1px 2px rgba(0, 0, 0, 0.3));\n",
              "      fill: #FFFFFF;\n",
              "    }\n",
              "  </style>\n",
              "\n",
              "      <script>\n",
              "        const buttonEl =\n",
              "          document.querySelector('#df-3006cb23-3657-43a5-83c8-dc0efc912e3a button.colab-df-convert');\n",
              "        buttonEl.style.display =\n",
              "          google.colab.kernel.accessAllowed ? 'block' : 'none';\n",
              "\n",
              "        async function convertToInteractive(key) {\n",
              "          const element = document.querySelector('#df-3006cb23-3657-43a5-83c8-dc0efc912e3a');\n",
              "          const dataTable =\n",
              "            await google.colab.kernel.invokeFunction('convertToInteractive',\n",
              "                                                     [key], {});\n",
              "          if (!dataTable) return;\n",
              "\n",
              "          const docLinkHtml = 'Like what you see? Visit the ' +\n",
              "            '<a target=\"_blank\" href=https://colab.research.google.com/notebooks/data_table.ipynb>data table notebook</a>'\n",
              "            + ' to learn more about interactive tables.';\n",
              "          element.innerHTML = '';\n",
              "          dataTable['output_type'] = 'display_data';\n",
              "          await google.colab.output.renderOutput(dataTable, element);\n",
              "          const docLink = document.createElement('div');\n",
              "          docLink.innerHTML = docLinkHtml;\n",
              "          element.appendChild(docLink);\n",
              "        }\n",
              "      </script>\n",
              "    </div>\n",
              "  </div>\n",
              "  "
            ]
          },
          "metadata": {},
          "execution_count": 51
        }
      ]
    },
    {
      "cell_type": "markdown",
      "source": [
        "**3.2 Vectorizer - bag of words**"
      ],
      "metadata": {
        "id": "DwLZ82_6ZWzu"
      }
    },
    {
      "cell_type": "code",
      "source": [
        "vectorizer = TfidfVectorizer()\n",
        "spmat = vectorizer.fit_transform(training['text'])\n",
        "feat_names = vectorizer.get_feature_names()\n",
        "Xtrain = pd.DataFrame.sparse.from_spmatrix(spmat, columns=feat_names)\n",
        "ytrain = training['labels']"
      ],
      "metadata": {
        "id": "mimThqiBZWMP"
      },
      "execution_count": 52,
      "outputs": []
    },
    {
      "cell_type": "markdown",
      "source": [
        "**SGD Classifier - Log Loss L1 Regularization & Log Loss L2 Regularization**"
      ],
      "metadata": {
        "id": "e858n3AMZaZe"
      }
    },
    {
      "cell_type": "code",
      "source": [
        "alphas = [0.00001, 0.0001, 0.001, 0.01, 0.1, 1, 10, 100, 1000]\n",
        "results = []\n",
        "for a in alphas:\n",
        "  #Create SGDClassifier with loss of 'log', penalty of 'l1' and proper alpha=a then fit it on (Xtrain, ytrain)\n",
        "  l1clf = SGDClassifier(loss='log', penalty='l1', alpha=a) \n",
        "  l2clf = SGDClassifier(loss='log', penalty='l2', alpha=a) \n",
        "  print('Finished training, alpha=%f' % a)\n",
        "  #Create cross_val_score with l1clf for Xtrain and  ytrain with cv=5 'accuracy' as scoring='accuracy' it is good to define n_jobs to make it faster and compute the mean at the end\n",
        "  l1cv = cross_val_score(l1clf, Xtrain, ytrain, cv=5, scoring='accuracy', n_jobs=-1) \n",
        "  l2cv = cross_val_score(l2clf, Xtrain, ytrain, cv=5, scoring='accuracy', n_jobs=-1) \n",
        "  print('Finished 5-fold CV, alpha=%f' % a)\n",
        "  # append 'alpha' and 'log L1'\n",
        "  results.append({'alpha': a, 'log L1': l1cv.mean(), 'log L2': l2cv.mean()})\n",
        "\n",
        "l1_l2_acc = pd.DataFrame(results)"
      ],
      "metadata": {
        "id": "XS40Ha5EZWOz",
        "colab": {
          "base_uri": "https://localhost:8080/"
        },
        "outputId": "18caf65b-fb31-4a3b-ef75-80d4ce4cd286"
      },
      "execution_count": 53,
      "outputs": [
        {
          "output_type": "stream",
          "name": "stdout",
          "text": [
            "Finished training, alpha=0.000010\n",
            "Finished 5-fold CV, alpha=0.000010\n",
            "Finished training, alpha=0.000100\n",
            "Finished 5-fold CV, alpha=0.000100\n",
            "Finished training, alpha=0.001000\n",
            "Finished 5-fold CV, alpha=0.001000\n",
            "Finished training, alpha=0.010000\n",
            "Finished 5-fold CV, alpha=0.010000\n",
            "Finished training, alpha=0.100000\n",
            "Finished 5-fold CV, alpha=0.100000\n",
            "Finished training, alpha=1.000000\n",
            "Finished 5-fold CV, alpha=1.000000\n",
            "Finished training, alpha=10.000000\n",
            "Finished 5-fold CV, alpha=10.000000\n",
            "Finished training, alpha=100.000000\n",
            "Finished 5-fold CV, alpha=100.000000\n",
            "Finished training, alpha=1000.000000\n",
            "Finished 5-fold CV, alpha=1000.000000\n"
          ]
        }
      ]
    },
    {
      "cell_type": "code",
      "source": [
        "l1_l2_acc.head()"
      ],
      "metadata": {
        "colab": {
          "base_uri": "https://localhost:8080/",
          "height": 206
        },
        "id": "zYf_qsAsfKJe",
        "outputId": "ea3fd390-841b-4cf6-b071-ae55fc5fac33"
      },
      "execution_count": 54,
      "outputs": [
        {
          "output_type": "execute_result",
          "data": {
            "text/plain": [
              "     alpha   log L1   log L2\n",
              "0  0.00001  0.85536  0.85924\n",
              "1  0.00010  0.85432  0.86060\n",
              "2  0.00100  0.73480  0.82160\n",
              "3  0.01000  0.50000  0.77844\n",
              "4  0.10000  0.50000  0.64456"
            ],
            "text/html": [
              "\n",
              "  <div id=\"df-64551d23-eab1-4f76-a9f6-68582295b19f\">\n",
              "    <div class=\"colab-df-container\">\n",
              "      <div>\n",
              "<style scoped>\n",
              "    .dataframe tbody tr th:only-of-type {\n",
              "        vertical-align: middle;\n",
              "    }\n",
              "\n",
              "    .dataframe tbody tr th {\n",
              "        vertical-align: top;\n",
              "    }\n",
              "\n",
              "    .dataframe thead th {\n",
              "        text-align: right;\n",
              "    }\n",
              "</style>\n",
              "<table border=\"1\" class=\"dataframe\">\n",
              "  <thead>\n",
              "    <tr style=\"text-align: right;\">\n",
              "      <th></th>\n",
              "      <th>alpha</th>\n",
              "      <th>log L1</th>\n",
              "      <th>log L2</th>\n",
              "    </tr>\n",
              "  </thead>\n",
              "  <tbody>\n",
              "    <tr>\n",
              "      <th>0</th>\n",
              "      <td>0.00001</td>\n",
              "      <td>0.85536</td>\n",
              "      <td>0.85924</td>\n",
              "    </tr>\n",
              "    <tr>\n",
              "      <th>1</th>\n",
              "      <td>0.00010</td>\n",
              "      <td>0.85432</td>\n",
              "      <td>0.86060</td>\n",
              "    </tr>\n",
              "    <tr>\n",
              "      <th>2</th>\n",
              "      <td>0.00100</td>\n",
              "      <td>0.73480</td>\n",
              "      <td>0.82160</td>\n",
              "    </tr>\n",
              "    <tr>\n",
              "      <th>3</th>\n",
              "      <td>0.01000</td>\n",
              "      <td>0.50000</td>\n",
              "      <td>0.77844</td>\n",
              "    </tr>\n",
              "    <tr>\n",
              "      <th>4</th>\n",
              "      <td>0.10000</td>\n",
              "      <td>0.50000</td>\n",
              "      <td>0.64456</td>\n",
              "    </tr>\n",
              "  </tbody>\n",
              "</table>\n",
              "</div>\n",
              "      <button class=\"colab-df-convert\" onclick=\"convertToInteractive('df-64551d23-eab1-4f76-a9f6-68582295b19f')\"\n",
              "              title=\"Convert this dataframe to an interactive table.\"\n",
              "              style=\"display:none;\">\n",
              "        \n",
              "  <svg xmlns=\"http://www.w3.org/2000/svg\" height=\"24px\"viewBox=\"0 0 24 24\"\n",
              "       width=\"24px\">\n",
              "    <path d=\"M0 0h24v24H0V0z\" fill=\"none\"/>\n",
              "    <path d=\"M18.56 5.44l.94 2.06.94-2.06 2.06-.94-2.06-.94-.94-2.06-.94 2.06-2.06.94zm-11 1L8.5 8.5l.94-2.06 2.06-.94-2.06-.94L8.5 2.5l-.94 2.06-2.06.94zm10 10l.94 2.06.94-2.06 2.06-.94-2.06-.94-.94-2.06-.94 2.06-2.06.94z\"/><path d=\"M17.41 7.96l-1.37-1.37c-.4-.4-.92-.59-1.43-.59-.52 0-1.04.2-1.43.59L10.3 9.45l-7.72 7.72c-.78.78-.78 2.05 0 2.83L4 21.41c.39.39.9.59 1.41.59.51 0 1.02-.2 1.41-.59l7.78-7.78 2.81-2.81c.8-.78.8-2.07 0-2.86zM5.41 20L4 18.59l7.72-7.72 1.47 1.35L5.41 20z\"/>\n",
              "  </svg>\n",
              "      </button>\n",
              "      \n",
              "  <style>\n",
              "    .colab-df-container {\n",
              "      display:flex;\n",
              "      flex-wrap:wrap;\n",
              "      gap: 12px;\n",
              "    }\n",
              "\n",
              "    .colab-df-convert {\n",
              "      background-color: #E8F0FE;\n",
              "      border: none;\n",
              "      border-radius: 50%;\n",
              "      cursor: pointer;\n",
              "      display: none;\n",
              "      fill: #1967D2;\n",
              "      height: 32px;\n",
              "      padding: 0 0 0 0;\n",
              "      width: 32px;\n",
              "    }\n",
              "\n",
              "    .colab-df-convert:hover {\n",
              "      background-color: #E2EBFA;\n",
              "      box-shadow: 0px 1px 2px rgba(60, 64, 67, 0.3), 0px 1px 3px 1px rgba(60, 64, 67, 0.15);\n",
              "      fill: #174EA6;\n",
              "    }\n",
              "\n",
              "    [theme=dark] .colab-df-convert {\n",
              "      background-color: #3B4455;\n",
              "      fill: #D2E3FC;\n",
              "    }\n",
              "\n",
              "    [theme=dark] .colab-df-convert:hover {\n",
              "      background-color: #434B5C;\n",
              "      box-shadow: 0px 1px 3px 1px rgba(0, 0, 0, 0.15);\n",
              "      filter: drop-shadow(0px 1px 2px rgba(0, 0, 0, 0.3));\n",
              "      fill: #FFFFFF;\n",
              "    }\n",
              "  </style>\n",
              "\n",
              "      <script>\n",
              "        const buttonEl =\n",
              "          document.querySelector('#df-64551d23-eab1-4f76-a9f6-68582295b19f button.colab-df-convert');\n",
              "        buttonEl.style.display =\n",
              "          google.colab.kernel.accessAllowed ? 'block' : 'none';\n",
              "\n",
              "        async function convertToInteractive(key) {\n",
              "          const element = document.querySelector('#df-64551d23-eab1-4f76-a9f6-68582295b19f');\n",
              "          const dataTable =\n",
              "            await google.colab.kernel.invokeFunction('convertToInteractive',\n",
              "                                                     [key], {});\n",
              "          if (!dataTable) return;\n",
              "\n",
              "          const docLinkHtml = 'Like what you see? Visit the ' +\n",
              "            '<a target=\"_blank\" href=https://colab.research.google.com/notebooks/data_table.ipynb>data table notebook</a>'\n",
              "            + ' to learn more about interactive tables.';\n",
              "          element.innerHTML = '';\n",
              "          dataTable['output_type'] = 'display_data';\n",
              "          await google.colab.output.renderOutput(dataTable, element);\n",
              "          const docLink = document.createElement('div');\n",
              "          docLink.innerHTML = docLinkHtml;\n",
              "          element.appendChild(docLink);\n",
              "        }\n",
              "      </script>\n",
              "    </div>\n",
              "  </div>\n",
              "  "
            ]
          },
          "metadata": {},
          "execution_count": 54
        }
      ]
    },
    {
      "cell_type": "markdown",
      "source": [
        "**L1/L2 Accuracy Plot**"
      ],
      "metadata": {
        "id": "YCLE4tO9Zu99"
      }
    },
    {
      "cell_type": "code",
      "source": [
        "# Create an appropriate plot of L1/L2. remember to put legend and proper title\n",
        "sns.lineplot(data=l1_l2_acc, x=\"alpha\", y=\"log L2\", label=\"log L2\")\n",
        "sns.lineplot(data=l1_l2_acc, x=\"alpha\", y=\"log L1\", label=\"log L1\")\n",
        "                 \n",
        "plt.title('Regularization Accuracy', size=16)\n",
        "plt.legend()\n",
        "plt.gca().set_ylabel('Accuracy')\n",
        "plt.gca().set_xlabel('Alpha Value')\n",
        "plt.gca().set_xscale(\"log\")\n",
        "plt.show()"
      ],
      "metadata": {
        "id": "iYy3EXnhZWT1",
        "colab": {
          "base_uri": "https://localhost:8080/",
          "height": 301
        },
        "outputId": "661921e2-42bb-4b75-fbb1-e3a7645d9a32"
      },
      "execution_count": 55,
      "outputs": [
        {
          "output_type": "display_data",
          "data": {
            "text/plain": [
              "<Figure size 432x288 with 1 Axes>"
            ],
            "image/png": "[encoded data removed]"
          },
          "metadata": {
            "needs_background": "light"
          }
        }
      ]
    }
  ]
}