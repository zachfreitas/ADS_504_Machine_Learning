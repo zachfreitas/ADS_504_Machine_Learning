{
  "nbformat": 4,
  "nbformat_minor": 0,
  "metadata": {
    "colab": {
      "name": "Assignment Guide #4",
      "provenance": [],
      "collapsed_sections": [],
      "include_colab_link": true
    },
    "kernelspec": {
      "name": "python3",
      "display_name": "Python 3"
    },
    "language_info": {
      "name": "python"
    }
  },
  "cells": [
    {
      "cell_type": "markdown",
      "metadata": {
        "id": "view-in-github",
        "colab_type": "text"
      },
      "source": [
        "<a href=\"https://colab.research.google.com/github/zachfreitas/ADS_504_Machine_Learning/blob/main/Module_4/Assignment_4/Assignment_Guide_4.ipynb\" target=\"_parent\"><img src=\"https://colab.research.google.com/assets/colab-badge.svg\" alt=\"Open In Colab\"/></a>"
      ]
    },
    {
      "cell_type": "markdown",
      "source": [
        "# Assignment 4.1\n",
        "Zachariah Freitas"
      ],
      "metadata": {
        "id": "R2oaPmVDmlqj"
      }
    },
    {
      "cell_type": "markdown",
      "source": [
        "# Clothing Data\n",
        "\n",
        "For this assignment, you will work with data from a popular clothing website, modcloth.com. This\n",
        "gives us a chance to work with feature engineering, feature extraction, and unbalanced,\n",
        "multiclass datasets. You will train several different classification models based on different types\n",
        "of data from this dataset.\n",
        "\n",
        "As you go through the assignment, you will create several tables and figures. After you\n",
        "complete the programming section, use the tables and figures you generated to answer the questions.\n"
      ],
      "metadata": {
        "id": "da0174HjqBkP"
      }
    },
    {
      "cell_type": "code",
      "source": [
        "# All you may need as the IMPORTS :)\n",
        "import pandas as pd\n",
        "import numpy as np\n",
        "import json\n",
        "import os\n",
        "import matplotlib.pyplot as plt\n",
        "import seaborn as sns\n",
        "import json\n",
        "# This ensures that sklearn 0.24 is loaded on Google colab\n",
        "#!pip uninstall scikit-learn -y\n",
        "#!pip install -U scikit-learn\n",
        "\n",
        "from sklearn.preprocessing import OneHotEncoder, OrdinalEncoder, LabelEncoder, StandardScaler, Normalizer\n",
        "from sklearn.compose import ColumnTransformer\n",
        "from sklearn.impute import SimpleImputer\n",
        "from sklearn.metrics import confusion_matrix, accuracy_score, plot_confusion_matrix, classification_report, ConfusionMatrixDisplay\n",
        "from sklearn.model_selection import train_test_split, cross_val_score\n",
        "from sklearn.pipeline import make_pipeline, Pipeline\n",
        "from sklearn.feature_extraction.text import TfidfVectorizer\n",
        "from sklearn.feature_selection import SelectKBest, chi2\n",
        "from sklearn.linear_model import Perceptron"
      ],
      "metadata": {
        "id": "LYJmssLus9pG"
      },
      "execution_count": 2,
      "outputs": []
    },
    {
      "cell_type": "markdown",
      "source": [
        "# Pre-Processing and Loading Data:\n",
        "\n",
        "In your Blackboard assignment prompt is the modcloth_final_data.json file, which is a series of\n",
        "JSON objects from a popular clothing store, modcloth.com. Load these objects into a list, and\n",
        "then use pd.DataFrame to convert that list into a dataframe called modcloth_data.\n"
      ],
      "metadata": {
        "id": "ddjEgZ7bqng_"
      }
    },
    {
      "cell_type": "code",
      "execution_count": 3,
      "metadata": {
        "colab": {
          "base_uri": "https://localhost:8080/",
          "height": 374
        },
        "id": "S6VylzEyiloY",
        "outputId": "9b8a19b4-e632-4f34-9ccb-b558ae9473e6"
      },
      "outputs": [
        {
          "output_type": "execute_result",
          "data": {
            "text/plain": [
              "   item_id  waist  size  quality cup size  hips  bra size category bust  \\\n",
              "0   123373   29.0     7      5.0        d  38.0      34.0      new   36   \n",
              "1   123373   31.0    13      3.0        b  30.0      36.0      new  NaN   \n",
              "2   123373   30.0     7      2.0        b   NaN      32.0      new  NaN   \n",
              "3   123373    NaN    21      5.0     dd/e   NaN       NaN      new  NaN   \n",
              "4   123373    NaN    18      5.0        b   NaN      36.0      new  NaN   \n",
              "\n",
              "    height         user_name         length    fit  user_id  shoe size  \\\n",
              "0  5ft 6in             Emily     just right  small   991571        NaN   \n",
              "1  5ft 2in  sydneybraden2001     just right  small   587883        NaN   \n",
              "2  5ft 7in             Ugggh  slightly long  small   395665        9.0   \n",
              "3      NaN      alexmeyer626     just right    fit   875643        NaN   \n",
              "4  5ft 2in        dberrones1  slightly long  small   944840        NaN   \n",
              "\n",
              "  shoe width review_summary review_text  \n",
              "0        NaN            NaN         NaN  \n",
              "1        NaN            NaN         NaN  \n",
              "2        NaN            NaN         NaN  \n",
              "3        NaN            NaN         NaN  \n",
              "4        NaN            NaN         NaN  "
            ],
            "text/html": [
              "\n",
              "  <div id=\"df-edc9ffd1-ea0f-4496-b8d3-d66d15d0eee5\">\n",
              "    <div class=\"colab-df-container\">\n",
              "      <div>\n",
              "<style scoped>\n",
              "    .dataframe tbody tr th:only-of-type {\n",
              "        vertical-align: middle;\n",
              "    }\n",
              "\n",
              "    .dataframe tbody tr th {\n",
              "        vertical-align: top;\n",
              "    }\n",
              "\n",
              "    .dataframe thead th {\n",
              "        text-align: right;\n",
              "    }\n",
              "</style>\n",
              "<table border=\"1\" class=\"dataframe\">\n",
              "  <thead>\n",
              "    <tr style=\"text-align: right;\">\n",
              "      <th></th>\n",
              "      <th>item_id</th>\n",
              "      <th>waist</th>\n",
              "      <th>size</th>\n",
              "      <th>quality</th>\n",
              "      <th>cup size</th>\n",
              "      <th>hips</th>\n",
              "      <th>bra size</th>\n",
              "      <th>category</th>\n",
              "      <th>bust</th>\n",
              "      <th>height</th>\n",
              "      <th>user_name</th>\n",
              "      <th>length</th>\n",
              "      <th>fit</th>\n",
              "      <th>user_id</th>\n",
              "      <th>shoe size</th>\n",
              "      <th>shoe width</th>\n",
              "      <th>review_summary</th>\n",
              "      <th>review_text</th>\n",
              "    </tr>\n",
              "  </thead>\n",
              "  <tbody>\n",
              "    <tr>\n",
              "      <th>0</th>\n",
              "      <td>123373</td>\n",
              "      <td>29.0</td>\n",
              "      <td>7</td>\n",
              "      <td>5.0</td>\n",
              "      <td>d</td>\n",
              "      <td>38.0</td>\n",
              "      <td>34.0</td>\n",
              "      <td>new</td>\n",
              "      <td>36</td>\n",
              "      <td>5ft 6in</td>\n",
              "      <td>Emily</td>\n",
              "      <td>just right</td>\n",
              "      <td>small</td>\n",
              "      <td>991571</td>\n",
              "      <td>NaN</td>\n",
              "      <td>NaN</td>\n",
              "      <td>NaN</td>\n",
              "      <td>NaN</td>\n",
              "    </tr>\n",
              "    <tr>\n",
              "      <th>1</th>\n",
              "      <td>123373</td>\n",
              "      <td>31.0</td>\n",
              "      <td>13</td>\n",
              "      <td>3.0</td>\n",
              "      <td>b</td>\n",
              "      <td>30.0</td>\n",
              "      <td>36.0</td>\n",
              "      <td>new</td>\n",
              "      <td>NaN</td>\n",
              "      <td>5ft 2in</td>\n",
              "      <td>sydneybraden2001</td>\n",
              "      <td>just right</td>\n",
              "      <td>small</td>\n",
              "      <td>587883</td>\n",
              "      <td>NaN</td>\n",
              "      <td>NaN</td>\n",
              "      <td>NaN</td>\n",
              "      <td>NaN</td>\n",
              "    </tr>\n",
              "    <tr>\n",
              "      <th>2</th>\n",
              "      <td>123373</td>\n",
              "      <td>30.0</td>\n",
              "      <td>7</td>\n",
              "      <td>2.0</td>\n",
              "      <td>b</td>\n",
              "      <td>NaN</td>\n",
              "      <td>32.0</td>\n",
              "      <td>new</td>\n",
              "      <td>NaN</td>\n",
              "      <td>5ft 7in</td>\n",
              "      <td>Ugggh</td>\n",
              "      <td>slightly long</td>\n",
              "      <td>small</td>\n",
              "      <td>395665</td>\n",
              "      <td>9.0</td>\n",
              "      <td>NaN</td>\n",
              "      <td>NaN</td>\n",
              "      <td>NaN</td>\n",
              "    </tr>\n",
              "    <tr>\n",
              "      <th>3</th>\n",
              "      <td>123373</td>\n",
              "      <td>NaN</td>\n",
              "      <td>21</td>\n",
              "      <td>5.0</td>\n",
              "      <td>dd/e</td>\n",
              "      <td>NaN</td>\n",
              "      <td>NaN</td>\n",
              "      <td>new</td>\n",
              "      <td>NaN</td>\n",
              "      <td>NaN</td>\n",
              "      <td>alexmeyer626</td>\n",
              "      <td>just right</td>\n",
              "      <td>fit</td>\n",
              "      <td>875643</td>\n",
              "      <td>NaN</td>\n",
              "      <td>NaN</td>\n",
              "      <td>NaN</td>\n",
              "      <td>NaN</td>\n",
              "    </tr>\n",
              "    <tr>\n",
              "      <th>4</th>\n",
              "      <td>123373</td>\n",
              "      <td>NaN</td>\n",
              "      <td>18</td>\n",
              "      <td>5.0</td>\n",
              "      <td>b</td>\n",
              "      <td>NaN</td>\n",
              "      <td>36.0</td>\n",
              "      <td>new</td>\n",
              "      <td>NaN</td>\n",
              "      <td>5ft 2in</td>\n",
              "      <td>dberrones1</td>\n",
              "      <td>slightly long</td>\n",
              "      <td>small</td>\n",
              "      <td>944840</td>\n",
              "      <td>NaN</td>\n",
              "      <td>NaN</td>\n",
              "      <td>NaN</td>\n",
              "      <td>NaN</td>\n",
              "    </tr>\n",
              "  </tbody>\n",
              "</table>\n",
              "</div>\n",
              "      <button class=\"colab-df-convert\" onclick=\"convertToInteractive('df-edc9ffd1-ea0f-4496-b8d3-d66d15d0eee5')\"\n",
              "              title=\"Convert this dataframe to an interactive table.\"\n",
              "              style=\"display:none;\">\n",
              "        \n",
              "  <svg xmlns=\"http://www.w3.org/2000/svg\" height=\"24px\"viewBox=\"0 0 24 24\"\n",
              "       width=\"24px\">\n",
              "    <path d=\"M0 0h24v24H0V0z\" fill=\"none\"/>\n",
              "    <path d=\"M18.56 5.44l.94 2.06.94-2.06 2.06-.94-2.06-.94-.94-2.06-.94 2.06-2.06.94zm-11 1L8.5 8.5l.94-2.06 2.06-.94-2.06-.94L8.5 2.5l-.94 2.06-2.06.94zm10 10l.94 2.06.94-2.06 2.06-.94-2.06-.94-.94-2.06-.94 2.06-2.06.94z\"/><path d=\"M17.41 7.96l-1.37-1.37c-.4-.4-.92-.59-1.43-.59-.52 0-1.04.2-1.43.59L10.3 9.45l-7.72 7.72c-.78.78-.78 2.05 0 2.83L4 21.41c.39.39.9.59 1.41.59.51 0 1.02-.2 1.41-.59l7.78-7.78 2.81-2.81c.8-.78.8-2.07 0-2.86zM5.41 20L4 18.59l7.72-7.72 1.47 1.35L5.41 20z\"/>\n",
              "  </svg>\n",
              "      </button>\n",
              "      \n",
              "  <style>\n",
              "    .colab-df-container {\n",
              "      display:flex;\n",
              "      flex-wrap:wrap;\n",
              "      gap: 12px;\n",
              "    }\n",
              "\n",
              "    .colab-df-convert {\n",
              "      background-color: #E8F0FE;\n",
              "      border: none;\n",
              "      border-radius: 50%;\n",
              "      cursor: pointer;\n",
              "      display: none;\n",
              "      fill: #1967D2;\n",
              "      height: 32px;\n",
              "      padding: 0 0 0 0;\n",
              "      width: 32px;\n",
              "    }\n",
              "\n",
              "    .colab-df-convert:hover {\n",
              "      background-color: #E2EBFA;\n",
              "      box-shadow: 0px 1px 2px rgba(60, 64, 67, 0.3), 0px 1px 3px 1px rgba(60, 64, 67, 0.15);\n",
              "      fill: #174EA6;\n",
              "    }\n",
              "\n",
              "    [theme=dark] .colab-df-convert {\n",
              "      background-color: #3B4455;\n",
              "      fill: #D2E3FC;\n",
              "    }\n",
              "\n",
              "    [theme=dark] .colab-df-convert:hover {\n",
              "      background-color: #434B5C;\n",
              "      box-shadow: 0px 1px 3px 1px rgba(0, 0, 0, 0.15);\n",
              "      filter: drop-shadow(0px 1px 2px rgba(0, 0, 0, 0.3));\n",
              "      fill: #FFFFFF;\n",
              "    }\n",
              "  </style>\n",
              "\n",
              "      <script>\n",
              "        const buttonEl =\n",
              "          document.querySelector('#df-edc9ffd1-ea0f-4496-b8d3-d66d15d0eee5 button.colab-df-convert');\n",
              "        buttonEl.style.display =\n",
              "          google.colab.kernel.accessAllowed ? 'block' : 'none';\n",
              "\n",
              "        async function convertToInteractive(key) {\n",
              "          const element = document.querySelector('#df-edc9ffd1-ea0f-4496-b8d3-d66d15d0eee5');\n",
              "          const dataTable =\n",
              "            await google.colab.kernel.invokeFunction('convertToInteractive',\n",
              "                                                     [key], {});\n",
              "          if (!dataTable) return;\n",
              "\n",
              "          const docLinkHtml = 'Like what you see? Visit the ' +\n",
              "            '<a target=\"_blank\" href=https://colab.research.google.com/notebooks/data_table.ipynb>data table notebook</a>'\n",
              "            + ' to learn more about interactive tables.';\n",
              "          element.innerHTML = '';\n",
              "          dataTable['output_type'] = 'display_data';\n",
              "          await google.colab.output.renderOutput(dataTable, element);\n",
              "          const docLink = document.createElement('div');\n",
              "          docLink.innerHTML = docLinkHtml;\n",
              "          element.appendChild(docLink);\n",
              "        }\n",
              "      </script>\n",
              "    </div>\n",
              "  </div>\n",
              "  "
            ]
          },
          "metadata": {},
          "execution_count": 3
        }
      ],
      "source": [
        "df = pd.read_json(\n",
        "    'https://github.com/zachfreitas/ADS_504_Machine_Learning/raw/main/Module_4/Assignment_4/modcloth_final_data.zip',\n",
        "     lines = True\n",
        "     )\n",
        "df.head()\n",
        "\n",
        "modcloth = pd.DataFrame(df)\n",
        "# remove rows with null quality values\n",
        "modcloth = modcloth[modcloth['quality'].notna()]\n",
        "# remove bust outlier\n",
        "modcloth = modcloth[modcloth['bust'] != '37-39']\n",
        "\n",
        "modcloth.head()"
      ]
    },
    {
      "cell_type": "code",
      "source": [
        "modcloth.describe().T"
      ],
      "metadata": {
        "id": "CHkjbBESvCDH",
        "colab": {
          "base_uri": "https://localhost:8080/",
          "height": 300
        },
        "outputId": "cdf67d7e-2480-4095-ef9b-a135ada76bfa"
      },
      "execution_count": 4,
      "outputs": [
        {
          "output_type": "execute_result",
          "data": {
            "text/plain": [
              "             count           mean            std       min       25%  \\\n",
              "item_id    82721.0  469317.955912  213997.525023  123373.0  314980.0   \n",
              "waist       2842.0      31.323716       5.291110      20.0      28.0   \n",
              "size       82721.0      12.661585       8.271349       0.0       8.0   \n",
              "quality    82721.0       3.949046       0.992782       1.0       3.0   \n",
              "hips       56030.0      40.358058       5.827110      30.0      36.0   \n",
              "bra size   76722.0      35.972237       3.224544      28.0      34.0   \n",
              "user_id    82721.0  498817.452908  286379.634536       6.0  252860.0   \n",
              "shoe size  27885.0       8.145060       1.324220       5.0       7.0   \n",
              "\n",
              "                50%       75%       max  \n",
              "item_id    454030.0  658440.0  807722.0  \n",
              "waist          30.0      34.0      50.0  \n",
              "size           12.0      15.0      38.0  \n",
              "quality         4.0       5.0       5.0  \n",
              "hips           39.0      43.0      60.0  \n",
              "bra size       36.0      38.0      48.0  \n",
              "user_id    497769.0  744746.0  999972.0  \n",
              "shoe size       8.0       9.0      11.5  "
            ],
            "text/html": [
              "\n",
              "  <div id=\"df-61635eeb-73a7-45d9-9a85-012709897332\">\n",
              "    <div class=\"colab-df-container\">\n",
              "      <div>\n",
              "<style scoped>\n",
              "    .dataframe tbody tr th:only-of-type {\n",
              "        vertical-align: middle;\n",
              "    }\n",
              "\n",
              "    .dataframe tbody tr th {\n",
              "        vertical-align: top;\n",
              "    }\n",
              "\n",
              "    .dataframe thead th {\n",
              "        text-align: right;\n",
              "    }\n",
              "</style>\n",
              "<table border=\"1\" class=\"dataframe\">\n",
              "  <thead>\n",
              "    <tr style=\"text-align: right;\">\n",
              "      <th></th>\n",
              "      <th>count</th>\n",
              "      <th>mean</th>\n",
              "      <th>std</th>\n",
              "      <th>min</th>\n",
              "      <th>25%</th>\n",
              "      <th>50%</th>\n",
              "      <th>75%</th>\n",
              "      <th>max</th>\n",
              "    </tr>\n",
              "  </thead>\n",
              "  <tbody>\n",
              "    <tr>\n",
              "      <th>item_id</th>\n",
              "      <td>82721.0</td>\n",
              "      <td>469317.955912</td>\n",
              "      <td>213997.525023</td>\n",
              "      <td>123373.0</td>\n",
              "      <td>314980.0</td>\n",
              "      <td>454030.0</td>\n",
              "      <td>658440.0</td>\n",
              "      <td>807722.0</td>\n",
              "    </tr>\n",
              "    <tr>\n",
              "      <th>waist</th>\n",
              "      <td>2842.0</td>\n",
              "      <td>31.323716</td>\n",
              "      <td>5.291110</td>\n",
              "      <td>20.0</td>\n",
              "      <td>28.0</td>\n",
              "      <td>30.0</td>\n",
              "      <td>34.0</td>\n",
              "      <td>50.0</td>\n",
              "    </tr>\n",
              "    <tr>\n",
              "      <th>size</th>\n",
              "      <td>82721.0</td>\n",
              "      <td>12.661585</td>\n",
              "      <td>8.271349</td>\n",
              "      <td>0.0</td>\n",
              "      <td>8.0</td>\n",
              "      <td>12.0</td>\n",
              "      <td>15.0</td>\n",
              "      <td>38.0</td>\n",
              "    </tr>\n",
              "    <tr>\n",
              "      <th>quality</th>\n",
              "      <td>82721.0</td>\n",
              "      <td>3.949046</td>\n",
              "      <td>0.992782</td>\n",
              "      <td>1.0</td>\n",
              "      <td>3.0</td>\n",
              "      <td>4.0</td>\n",
              "      <td>5.0</td>\n",
              "      <td>5.0</td>\n",
              "    </tr>\n",
              "    <tr>\n",
              "      <th>hips</th>\n",
              "      <td>56030.0</td>\n",
              "      <td>40.358058</td>\n",
              "      <td>5.827110</td>\n",
              "      <td>30.0</td>\n",
              "      <td>36.0</td>\n",
              "      <td>39.0</td>\n",
              "      <td>43.0</td>\n",
              "      <td>60.0</td>\n",
              "    </tr>\n",
              "    <tr>\n",
              "      <th>bra size</th>\n",
              "      <td>76722.0</td>\n",
              "      <td>35.972237</td>\n",
              "      <td>3.224544</td>\n",
              "      <td>28.0</td>\n",
              "      <td>34.0</td>\n",
              "      <td>36.0</td>\n",
              "      <td>38.0</td>\n",
              "      <td>48.0</td>\n",
              "    </tr>\n",
              "    <tr>\n",
              "      <th>user_id</th>\n",
              "      <td>82721.0</td>\n",
              "      <td>498817.452908</td>\n",
              "      <td>286379.634536</td>\n",
              "      <td>6.0</td>\n",
              "      <td>252860.0</td>\n",
              "      <td>497769.0</td>\n",
              "      <td>744746.0</td>\n",
              "      <td>999972.0</td>\n",
              "    </tr>\n",
              "    <tr>\n",
              "      <th>shoe size</th>\n",
              "      <td>27885.0</td>\n",
              "      <td>8.145060</td>\n",
              "      <td>1.324220</td>\n",
              "      <td>5.0</td>\n",
              "      <td>7.0</td>\n",
              "      <td>8.0</td>\n",
              "      <td>9.0</td>\n",
              "      <td>11.5</td>\n",
              "    </tr>\n",
              "  </tbody>\n",
              "</table>\n",
              "</div>\n",
              "      <button class=\"colab-df-convert\" onclick=\"convertToInteractive('df-61635eeb-73a7-45d9-9a85-012709897332')\"\n",
              "              title=\"Convert this dataframe to an interactive table.\"\n",
              "              style=\"display:none;\">\n",
              "        \n",
              "  <svg xmlns=\"http://www.w3.org/2000/svg\" height=\"24px\"viewBox=\"0 0 24 24\"\n",
              "       width=\"24px\">\n",
              "    <path d=\"M0 0h24v24H0V0z\" fill=\"none\"/>\n",
              "    <path d=\"M18.56 5.44l.94 2.06.94-2.06 2.06-.94-2.06-.94-.94-2.06-.94 2.06-2.06.94zm-11 1L8.5 8.5l.94-2.06 2.06-.94-2.06-.94L8.5 2.5l-.94 2.06-2.06.94zm10 10l.94 2.06.94-2.06 2.06-.94-2.06-.94-.94-2.06-.94 2.06-2.06.94z\"/><path d=\"M17.41 7.96l-1.37-1.37c-.4-.4-.92-.59-1.43-.59-.52 0-1.04.2-1.43.59L10.3 9.45l-7.72 7.72c-.78.78-.78 2.05 0 2.83L4 21.41c.39.39.9.59 1.41.59.51 0 1.02-.2 1.41-.59l7.78-7.78 2.81-2.81c.8-.78.8-2.07 0-2.86zM5.41 20L4 18.59l7.72-7.72 1.47 1.35L5.41 20z\"/>\n",
              "  </svg>\n",
              "      </button>\n",
              "      \n",
              "  <style>\n",
              "    .colab-df-container {\n",
              "      display:flex;\n",
              "      flex-wrap:wrap;\n",
              "      gap: 12px;\n",
              "    }\n",
              "\n",
              "    .colab-df-convert {\n",
              "      background-color: #E8F0FE;\n",
              "      border: none;\n",
              "      border-radius: 50%;\n",
              "      cursor: pointer;\n",
              "      display: none;\n",
              "      fill: #1967D2;\n",
              "      height: 32px;\n",
              "      padding: 0 0 0 0;\n",
              "      width: 32px;\n",
              "    }\n",
              "\n",
              "    .colab-df-convert:hover {\n",
              "      background-color: #E2EBFA;\n",
              "      box-shadow: 0px 1px 2px rgba(60, 64, 67, 0.3), 0px 1px 3px 1px rgba(60, 64, 67, 0.15);\n",
              "      fill: #174EA6;\n",
              "    }\n",
              "\n",
              "    [theme=dark] .colab-df-convert {\n",
              "      background-color: #3B4455;\n",
              "      fill: #D2E3FC;\n",
              "    }\n",
              "\n",
              "    [theme=dark] .colab-df-convert:hover {\n",
              "      background-color: #434B5C;\n",
              "      box-shadow: 0px 1px 3px 1px rgba(0, 0, 0, 0.15);\n",
              "      filter: drop-shadow(0px 1px 2px rgba(0, 0, 0, 0.3));\n",
              "      fill: #FFFFFF;\n",
              "    }\n",
              "  </style>\n",
              "\n",
              "      <script>\n",
              "        const buttonEl =\n",
              "          document.querySelector('#df-61635eeb-73a7-45d9-9a85-012709897332 button.colab-df-convert');\n",
              "        buttonEl.style.display =\n",
              "          google.colab.kernel.accessAllowed ? 'block' : 'none';\n",
              "\n",
              "        async function convertToInteractive(key) {\n",
              "          const element = document.querySelector('#df-61635eeb-73a7-45d9-9a85-012709897332');\n",
              "          const dataTable =\n",
              "            await google.colab.kernel.invokeFunction('convertToInteractive',\n",
              "                                                     [key], {});\n",
              "          if (!dataTable) return;\n",
              "\n",
              "          const docLinkHtml = 'Like what you see? Visit the ' +\n",
              "            '<a target=\"_blank\" href=https://colab.research.google.com/notebooks/data_table.ipynb>data table notebook</a>'\n",
              "            + ' to learn more about interactive tables.';\n",
              "          element.innerHTML = '';\n",
              "          dataTable['output_type'] = 'display_data';\n",
              "          await google.colab.output.renderOutput(dataTable, element);\n",
              "          const docLink = document.createElement('div');\n",
              "          docLink.innerHTML = docLinkHtml;\n",
              "          element.appendChild(docLink);\n",
              "        }\n",
              "      </script>\n",
              "    </div>\n",
              "  </div>\n",
              "  "
            ]
          },
          "metadata": {},
          "execution_count": 4
        }
      ]
    },
    {
      "cell_type": "code",
      "source": [
        "modcloth.isna().sum().T"
      ],
      "metadata": {
        "id": "LrmAMTyTvdUa",
        "colab": {
          "base_uri": "https://localhost:8080/"
        },
        "outputId": "17271597-9def-49a5-fd14-e9909b618524"
      },
      "execution_count": 5,
      "outputs": [
        {
          "output_type": "execute_result",
          "data": {
            "text/plain": [
              "item_id               0\n",
              "waist             79879\n",
              "size                  0\n",
              "quality               0\n",
              "cup size           6231\n",
              "hips              26691\n",
              "bra size           5999\n",
              "category              0\n",
              "bust              70889\n",
              "height             1103\n",
              "user_name             0\n",
              "length               25\n",
              "fit                   0\n",
              "user_id               0\n",
              "shoe size         54836\n",
              "shoe width        64134\n",
              "review_summary     6722\n",
              "review_text        6722\n",
              "dtype: int64"
            ]
          },
          "metadata": {},
          "execution_count": 5
        }
      ]
    },
    {
      "cell_type": "markdown",
      "source": [
        "Create a variable named ‘labels’ using the ‘quality’ column. These are the labels that we will use\n",
        "for the rest of this assignment.\n",
        "\n",
        "Next, you will transform these data into numerical vectors you can use for classification.\n",
        "For the variables ‘waist’, ’size’, ’hips’, ‘bra size’, and ‘shoe size’ you can use\n",
        "pd.to_numeric(modcloth_data[variable] to convert them to numerical values. Store\n",
        "these in a data frame.\n"
      ],
      "metadata": {
        "id": "CdQDB4s5v5U-"
      }
    },
    {
      "cell_type": "markdown",
      "source": [
        "For the next variable, ‘height’, the strings need some processing to convert them into numeric\n",
        "values. You can use pd.apply to apply a transformation to the column of the data frame. Write a\n",
        "short python function to convert these to a meaningful categorical variable: convert the strings to\n",
        "height (in inches). Also, do this for the variable ‘bust’ - there are some outliers that could be handled by writing and applying another python function. Convert height and bust and store the\n",
        "numeric values to the same data frame as the other numeric features.\n"
      ],
      "metadata": {
        "id": "F9SOunEczhYK"
      }
    },
    {
      "cell_type": "code",
      "source": [
        "# Feel free to have you own function(s). Here is a suggestion for you to get an idea \n",
        "\n",
        "def conv_height(x):\n",
        "    if pd.isnull(x):\n",
        "        return x\n",
        "    spt = x.split(' ')\n",
        "    ft = int(spt[0].split('ft')[0])\n",
        "    inch = 0\n",
        "    if len(spt) > 1:\n",
        "        inch = int(spt[1].split('in')[0])\n",
        "    return (ft * 12) + inch\n",
        "    \n",
        "def conv_bust(x):\n",
        "    if pd.isnull(x):\n",
        "        return x\n",
        "    spt = x.split('-')\n",
        "    # if range, split the difference\n",
        "    if len(spt) > 1:\n",
        "        return (int(spt[1]) - int(spt[0]) // 2) + int(spt[0])\n",
        "    return int(spt[0])"
      ],
      "metadata": {
        "id": "nQDlO-WIyJLJ"
      },
      "execution_count": 6,
      "outputs": []
    },
    {
      "cell_type": "code",
      "source": [
        "labels = modcloth['quality']\n",
        "# Convert waist, size, hips, bra size, shoe size to numeric:\n",
        "num_cols = ['waist','size','hips','bra size','shoe size']\n",
        "\n",
        "# store to dataframe\n",
        "num_df = pd.DataFrame()\n",
        "num_df[num_cols] = modcloth[num_cols].apply(pd.to_numeric, errors='coerce')\n",
        "# Convert height\n",
        "num_df['height (inch)'] = modcloth['height'].apply(conv_height)\n",
        "# Convert bust\n",
        "num_df['bust (inch)'] = modcloth['bust'].apply(conv_bust)"
      ],
      "metadata": {
        "id": "9jYhPjypln5j"
      },
      "execution_count": 7,
      "outputs": []
    },
    {
      "cell_type": "markdown",
      "source": [
        "Plot the height using seaborn’s distplot function. You should see a normal distribution of height,\n",
        "which should match your expectations for what the distribution of human heights should look\n",
        "like.\n"
      ],
      "metadata": {
        "id": "f4V0Jt8Xz0fi"
      }
    },
    {
      "cell_type": "code",
      "source": [
        "sns.distplot(num_df['height (inch)'])\n",
        "plt.title('Height Distribution')\n",
        "plt.show();"
      ],
      "metadata": {
        "colab": {
          "base_uri": "https://localhost:8080/",
          "height": 350
        },
        "id": "YboRM8nEmyx3",
        "outputId": "0a299892-b1e5-45a2-c7b9-7c9416984468"
      },
      "execution_count": 8,
      "outputs": [
        {
          "output_type": "stream",
          "name": "stderr",
          "text": [
            "/usr/local/lib/python3.7/dist-packages/seaborn/distributions.py:2619: FutureWarning: `distplot` is a deprecated function and will be removed in a future version. Please adapt your code to use either `displot` (a figure-level function with similar flexibility) or `histplot` (an axes-level function for histograms).\n",
            "  warnings.warn(msg, FutureWarning)\n"
          ]
        },
        {
          "output_type": "display_data",
          "data": {
            "text/plain": [
              "<Figure size 432x288 with 1 Axes>"
            ],
            "image/png": "[encoded data removed]"
          },
          "metadata": {
            "needs_background": "light"
          }
        }
      ]
    },
    {
      "cell_type": "code",
      "source": [
        "#Plot 'bust (inch)' here\n",
        "sns.distplot(num_df['bust (inch)'])\n",
        "plt.title('Bust (inch) Distribution')\n",
        "plt.show();"
      ],
      "metadata": {
        "id": "bEjInVYWm_Tl",
        "colab": {
          "base_uri": "https://localhost:8080/",
          "height": 350
        },
        "outputId": "54f46a49-05a7-4969-c243-946ac5aa86e4"
      },
      "execution_count": 9,
      "outputs": [
        {
          "output_type": "stream",
          "name": "stderr",
          "text": [
            "/usr/local/lib/python3.7/dist-packages/seaborn/distributions.py:2619: FutureWarning: `distplot` is a deprecated function and will be removed in a future version. Please adapt your code to use either `displot` (a figure-level function with similar flexibility) or `histplot` (an axes-level function for histograms).\n",
            "  warnings.warn(msg, FutureWarning)\n"
          ]
        },
        {
          "output_type": "display_data",
          "data": {
            "text/plain": [
              "<Figure size 432x288 with 1 Axes>"
            ],
            "image/png": "[encoded data removed]"
          },
          "metadata": {
            "needs_background": "light"
          }
        }
      ]
    },
    {
      "cell_type": "markdown",
      "source": [
        "Make a plot of the waist data, which should look like this:\n"
      ],
      "metadata": {
        "id": "Prrr8_XZDs_v"
      }
    },
    {
      "cell_type": "code",
      "source": [
        "#Plot Waist data here\n",
        "sns.distplot(num_df['waist'])\n",
        "plt.title('Waist Distribution')\n",
        "plt.show();"
      ],
      "metadata": {
        "id": "iHR809pRzQIE",
        "colab": {
          "base_uri": "https://localhost:8080/",
          "height": 350
        },
        "outputId": "ef2a8f90-9473-4b45-97d1-aeb2c8b662a3"
      },
      "execution_count": 10,
      "outputs": [
        {
          "output_type": "stream",
          "name": "stderr",
          "text": [
            "/usr/local/lib/python3.7/dist-packages/seaborn/distributions.py:2619: FutureWarning: `distplot` is a deprecated function and will be removed in a future version. Please adapt your code to use either `displot` (a figure-level function with similar flexibility) or `histplot` (an axes-level function for histograms).\n",
            "  warnings.warn(msg, FutureWarning)\n"
          ]
        },
        {
          "output_type": "display_data",
          "data": {
            "text/plain": [
              "<Figure size 432x288 with 1 Axes>"
            ],
            "image/png": "[encoded data removed]"
          },
          "metadata": {
            "needs_background": "light"
          }
        }
      ]
    },
    {
      "cell_type": "markdown",
      "source": [
        "\n",
        "# Categorical Data for Reviews\n",
        "\n",
        "For these values, ‘cup size’, ‘length’, ‘category’, use OneHotEncoder to convert these to a data\n",
        "frame called cat_feat.\n",
        "Use make_pipeline to compare these two classifiers: \n",
        "\n",
        "\n",
        "\n",
        "```\n",
        "balanced_model = make_pipeline(,Perceptronclass_weight='balanced'))\n",
        "unbalanced_model = make_pipeline(,Perceptron())\n",
        "```\n",
        "\n",
        "\n"
      ],
      "metadata": {
        "id": "6cBnnyFvnDqW"
      }
    },
    {
      "cell_type": "markdown",
      "source": [
        "Train a classifier using the data in cat_feat. Use train_test_split and test_size=0.50 to get a\n",
        "50/50 train and test split.\n",
        "Use metrics.plot_confusion_matrix and metrics.classification_report to report and visualize the\n",
        "confusion matrix and results. Perform this for both the balanced and unbalanced models."
      ],
      "metadata": {
        "id": "enIzPq-lDGux"
      }
    },
    {
      "cell_type": "code",
      "source": [
        "# one-hot encode\n",
        "# Categorical Data for Reviews:\n",
        "# For these values, ‘cup size’, ‘length’, ‘category’, use OneHotEncoder to convert these to a data frame called cat_feat.\n",
        "\n",
        "# one-hot encode\n",
        "cat_feat = modcloth[['cup size', 'length', 'category']]\n",
        "\n",
        "# train_test_split here\n",
        "X_train, X_test, y_train, y_test = train_test_split(cat_feat, labels, test_size=0.50) #, random_state=42)\n",
        "\n",
        "balanced_model = make_pipeline(OneHotEncoder(),Perceptron(class_weight='balanced'))\n",
        "unbalanced_model = make_pipeline(OneHotEncoder(), Perceptron())\n",
        "\n",
        "# fit the models here:\n",
        "balanced_model.fit(X_train, y_train)\n",
        "balanced_model.predict(X_train)\n",
        "\n",
        "unbalanced_model.fit(X_train, y_train)\n",
        "unbalanced_model.predict(X_train)"
      ],
      "metadata": {
        "id": "-fw5jTgHnFoG",
        "colab": {
          "base_uri": "https://localhost:8080/"
        },
        "outputId": "56839445-65bc-4a27-c563-adbb16ddf705"
      },
      "execution_count": 11,
      "outputs": [
        {
          "output_type": "execute_result",
          "data": {
            "text/plain": [
              "array([4., 5., 5., ..., 3., 3., 5.])"
            ]
          },
          "metadata": {},
          "execution_count": 11
        }
      ]
    },
    {
      "cell_type": "code",
      "source": [
        "#Plot Balanced here\n",
        "y_pred = balanced_model.predict(X_test)\n",
        "ConfusionMatrixDisplay.from_predictions(y_test, y_pred)"
      ],
      "metadata": {
        "id": "Oiowc7RDw5dY",
        "outputId": "11bc78f4-02b9-4bce-cef5-a71f2e51d8c4",
        "colab": {
          "base_uri": "https://localhost:8080/",
          "height": 296
        }
      },
      "execution_count": 12,
      "outputs": [
        {
          "output_type": "execute_result",
          "data": {
            "text/plain": [
              "<sklearn.metrics._plot.confusion_matrix.ConfusionMatrixDisplay at 0x7fc86ee7ef90>"
            ]
          },
          "metadata": {},
          "execution_count": 12
        },
        {
          "output_type": "display_data",
          "data": {
            "text/plain": [
              "<Figure size 432x288 with 2 Axes>"
            ],
            "image/png": "[encoded data removed]"
          },
          "metadata": {
            "needs_background": "light"
          }
        }
      ]
    },
    {
      "cell_type": "code",
      "source": [
        "#print classification_report balanced here\n",
        "print(classification_report(y_test, y_pred))"
      ],
      "metadata": {
        "id": "x7c7a5YV3bIZ",
        "colab": {
          "base_uri": "https://localhost:8080/"
        },
        "outputId": "e5fc599f-48a7-47a8-dd06-d098df80b86f"
      },
      "execution_count": 13,
      "outputs": [
        {
          "output_type": "stream",
          "name": "stdout",
          "text": [
            "              precision    recall  f1-score   support\n",
            "\n",
            "         1.0       0.02      0.23      0.03       675\n",
            "         2.0       0.06      0.42      0.11      2528\n",
            "         3.0       0.23      0.12      0.16      9758\n",
            "         4.0       0.33      0.23      0.27     13408\n",
            "         5.0       0.41      0.03      0.05     14992\n",
            "\n",
            "    accuracy                           0.14     41361\n",
            "   macro avg       0.21      0.21      0.12     41361\n",
            "weighted avg       0.32      0.14      0.15     41361\n",
            "\n"
          ]
        }
      ]
    },
    {
      "cell_type": "code",
      "source": [
        "#Plot unBalanced here\n",
        "y_pred = unbalanced_model.predict(X_test)\n",
        "ConfusionMatrixDisplay.from_predictions(y_test, y_pred)"
      ],
      "metadata": {
        "id": "INIEZH1m4IIS",
        "colab": {
          "base_uri": "https://localhost:8080/",
          "height": 296
        },
        "outputId": "f05edddb-15d8-42d6-f1d1-cd0a9cc2b2f8"
      },
      "execution_count": 14,
      "outputs": [
        {
          "output_type": "execute_result",
          "data": {
            "text/plain": [
              "<sklearn.metrics._plot.confusion_matrix.ConfusionMatrixDisplay at 0x7fc86ee97190>"
            ]
          },
          "metadata": {},
          "execution_count": 14
        },
        {
          "output_type": "display_data",
          "data": {
            "text/plain": [
              "<Figure size 432x288 with 2 Axes>"
            ],
            "image/png": "[encoded data removed]"
          },
          "metadata": {
            "needs_background": "light"
          }
        }
      ]
    },
    {
      "cell_type": "code",
      "source": [
        "#print classification_report Unbalanced here\n",
        "print(classification_report(y_test, y_pred))"
      ],
      "metadata": {
        "colab": {
          "base_uri": "https://localhost:8080/"
        },
        "id": "0BaIJzY84a0D",
        "outputId": "8db79126-45bd-487c-b134-bef92d6634dd"
      },
      "execution_count": 15,
      "outputs": [
        {
          "output_type": "stream",
          "name": "stdout",
          "text": [
            "              precision    recall  f1-score   support\n",
            "\n",
            "         1.0       0.03      0.17      0.05       675\n",
            "         2.0       0.07      0.03      0.05      2528\n",
            "         3.0       0.26      0.25      0.25      9758\n",
            "         4.0       0.33      0.18      0.23     13408\n",
            "         5.0       0.39      0.50      0.44     14992\n",
            "\n",
            "    accuracy                           0.30     41361\n",
            "   macro avg       0.22      0.23      0.20     41361\n",
            "weighted avg       0.31      0.30      0.30     41361\n",
            "\n"
          ]
        }
      ]
    },
    {
      "cell_type": "markdown",
      "source": [
        "# Categorical and Numeric Features\n",
        "Next, you will add in data from the numeric features. Unfortunately, many of these values are\n",
        "missing: not every JSON object will have a value for this numeric value. \n"
      ],
      "metadata": {
        "id": "R24qMA_R4g9d"
      }
    },
    {
      "cell_type": "code",
      "source": [
        "comb_df = pd.merge(cat_feat, num_df[num_df.index.isin(cat_feat.index)],left_index=True, right_index=True)\n",
        "#train_test_split here\n",
        "X_train, X_test, y_train, y_test = train_test_split(comb_df, labels, test_size=0.50) #, random_state=42)\n",
        "\n",
        "\n",
        "categorical = ['cup size', 'length', 'category']\n",
        "numerical = ['waist', 'size', 'hips', 'bra size', 'shoe size', 'height (inch)','bust (inch)']"
      ],
      "metadata": {
        "id": "fGVBeMGN4mi1"
      },
      "execution_count": 16,
      "outputs": []
    },
    {
      "cell_type": "markdown",
      "source": [
        "# Pipelines\n",
        "\n",
        "\n",
        "You will use imputation\n",
        "as implemented in https://scikit-learn.org/stable/modules/impute.html to fill in the missing values\n",
        "before classification: **use SimpleImputer.**\n",
        "\n",
        "\n",
        "Next, you will create three pipelines. Create one pipeline using SimpleImputer to impute the missing\n",
        "values and the balanced perceptron. \n",
        "\n",
        "\n",
        "Next, create a pipeline using **preprocessing.Normalizer()**.\n",
        "\n",
        "Finally, create a different pipeline using preprocessing.**StandardScaler()**.\n",
        "\n",
        "For each of the pipeline,l do fivefold cross-validation, using\n",
        "**scores = cross_val_score(model, X, y, cv=5,scoring=’accuracy’)**\n",
        "\n",
        "to compute the accuracy of each of the pipelines.\n",
        "Create a table, with a row (labeled) for each pipeline you created. \n"
      ],
      "metadata": {
        "id": "ZEApJihd42KO"
      }
    },
    {
      "cell_type": "code",
      "source": [
        "# Categorical pipeline\n",
        "cat_pipe = Pipeline([('encoder', OneHotEncoder(handle_unknown='ignore',sparse=False))])\n",
        "\n",
        "# Simple Imputer pipeline\n",
        "impute_pipe = Pipeline([('imputer', SimpleImputer(missing_values=np.nan,strategy='median'))])\n",
        "\n",
        "impute_model = make_pipeline(ColumnTransformer([('cat', cat_pipe, categorical),\n",
        "                                                ('num', impute_pipe, numerical)]),\n",
        "                             Perceptron(class_weight='balanced'))\n",
        "\n",
        "\n",
        "\n",
        "\n",
        "# Normalize pipeline:\n",
        "normalize_pipe = Pipeline([('imputer', SimpleImputer(missing_values=np.nan,strategy='median')),\n",
        "                           ('normalizer', Normalizer())])\n",
        "\n",
        "normalize_model = make_pipeline(ColumnTransformer([('cat', cat_pipe, categorical),\n",
        "                                                   ('normalizer', normalize_pipe, numerical)]),\n",
        "                                Perceptron(class_weight='balanced'))\n",
        "\n",
        "\n",
        "\n",
        "\n",
        "# Standardize pipeline:\n",
        "\n",
        "standardize_pipe = Pipeline([('imputer', SimpleImputer(missing_values=np.nan,strategy='median')),\n",
        "                             ('standardize', StandardScaler())])\n",
        "\n",
        "standardize_model = make_pipeline(ColumnTransformer([('cat', cat_pipe, categorical),\n",
        "                                                     ('num', standardize_pipe, numerical)]),\n",
        "                                  Perceptron(class_weight='balanced'))\n",
        "\n",
        "\n",
        "\n",
        "impute_model_scores = cross_val_score(impute_model, X_train, y_train, cv=5, scoring='accuracy')\n",
        "normalize_model_scores = cross_val_score(normalize_model, X_train, y_train, cv=5, scoring='accuracy')\n",
        "standardize_model_scores = cross_val_score(standardize_model, X_train, y_train, cv=5, scoring='accuracy')\n"
      ],
      "metadata": {
        "id": "kFT7uhsN4821"
      },
      "execution_count": 17,
      "outputs": []
    },
    {
      "cell_type": "code",
      "source": [
        "\n",
        "COLUMNS = ['CV1', 'CV2', 'CV3', 'CV4', 'CV5']\n",
        "\n",
        "df1 = pd.DataFrame(impute_model_scores.reshape(1,-1), columns = COLUMNS)\n",
        "df2 = pd.DataFrame(normalize_model_scores.reshape(1,-1), columns = COLUMNS)\n",
        "df3 = pd.DataFrame(standardize_model_scores.reshape(1,-1), columns = COLUMNS)\n",
        "\n",
        "df = pd.concat([pd.DataFrame({})] + [df1, df2, df3], axis=0)\n",
        "\n",
        "models = ['Impute Model', 'Normalized Model', 'Standardized Model']\n",
        "df.insert(0,'Models', models )\n",
        "print(df)"
      ],
      "metadata": {
        "id": "fXuG-Gwl6veb",
        "outputId": "5c1ed12c-ee8c-4452-a649-dc760dab5cdb",
        "colab": {
          "base_uri": "https://localhost:8080/"
        }
      },
      "execution_count": 18,
      "outputs": [
        {
          "output_type": "stream",
          "name": "stdout",
          "text": [
            "               Models       CV1       CV2       CV3       CV4       CV5\n",
            "0        Impute Model  0.337645  0.063346  0.325556  0.342481  0.016925\n",
            "0    Normalized Model  0.199589  0.221591  0.193544  0.189192  0.213370\n",
            "0  Standardized Model  0.310928  0.228119  0.250000  0.174686  0.141441\n"
          ]
        }
      ]
    },
    {
      "cell_type": "code",
      "source": [
        ""
      ],
      "metadata": {
        "id": "s55po1V4ABCN"
      },
      "execution_count": 18,
      "outputs": []
    },
    {
      "cell_type": "code",
      "source": [
        "#impute_scores = \n",
        "impute_model.fit(X_train, y_train)\n",
        "impute_label = \"Impute Model Accuracy:\"\n",
        "print(impute_label); print(\"=\"*len(impute_label))\n",
        "print(f\"TRAIN: {impute_model_scores.mean()}\")\n",
        "print(f\"TEST: {accuracy_score(y_test, impute_model.predict(X_test))}\", \"\\n\")\n",
        "\n",
        "#norm_scores = \n",
        "normalize_model.fit(X_train, y_train)\n",
        "norm_label = \"Normalized Model Accuracy:\"\n",
        "print(norm_label); print(\"=\"*len(norm_label))\n",
        "print(f\"TRAIN: {normalize_model_scores.mean()}\")\n",
        "print(f\"TEST: {accuracy_score(y_test, normalize_model.predict(X_test))}\", \"\\n\")\n",
        "\n",
        "#std_scores = \n",
        "standardize_model.fit(X_train, y_train)\n",
        "std_label = \"Standardized Model Accuracy:\"\n",
        "print(std_label); print(\"=\"*len(std_label))\n",
        "print(f\"TRAIN: {standardize_model_scores.mean()}\")\n",
        "print(f\"TEST: {accuracy_score(y_test, standardize_model.predict(X_test))}\", \"\\n\")\n"
      ],
      "metadata": {
        "id": "495zJOQT57R2",
        "colab": {
          "base_uri": "https://localhost:8080/"
        },
        "outputId": "fab2b7ef-b5c4-4641-8a11-6da01b929bae"
      },
      "execution_count": 19,
      "outputs": [
        {
          "output_type": "stream",
          "name": "stdout",
          "text": [
            "Impute Model Accuracy:\n",
            "======================\n",
            "TRAIN: 0.21719052224371374\n",
            "TEST: 0.3253548028335872 \n",
            "\n",
            "Normalized Model Accuracy:\n",
            "==========================\n",
            "TRAIN: 0.20345744680851063\n",
            "TEST: 0.3062788617296487 \n",
            "\n",
            "Standardized Model Accuracy:\n",
            "============================\n",
            "TRAIN: 0.22103481624758223\n",
            "TEST: 0.30889001716592923 \n",
            "\n"
          ]
        }
      ]
    },
    {
      "cell_type": "markdown",
      "source": [
        "# Model Accuracy\n",
        "\n",
        "\n",
        "The table should report the\n",
        "*maximum*, *minimum*, and *mean* of accuracy for each of the pipelines."
      ],
      "metadata": {
        "id": "nyIGjyD_-YpZ"
      }
    },
    {
      "cell_type": "code",
      "source": [
        "all_scores = df.set_index(['Models']).T.agg(['max', 'min', 'mean'])\n",
        "pd.DataFrame(all_scores)\n"
      ],
      "metadata": {
        "id": "qvOtVy8a-ZEK",
        "colab": {
          "base_uri": "https://localhost:8080/",
          "height": 143
        },
        "outputId": "4434b4ba-1c15-4d68-8aa0-20954da08023"
      },
      "execution_count": 20,
      "outputs": [
        {
          "output_type": "execute_result",
          "data": {
            "text/plain": [
              "Models  Impute Model  Normalized Model  Standardized Model\n",
              "max         0.342481          0.221591            0.310928\n",
              "min         0.016925          0.189192            0.141441\n",
              "mean        0.217191          0.203457            0.221035"
            ],
            "text/html": [
              "\n",
              "  <div id=\"df-310c15e0-370e-4df0-befc-dbe23cc8d79e\">\n",
              "    <div class=\"colab-df-container\">\n",
              "      <div>\n",
              "<style scoped>\n",
              "    .dataframe tbody tr th:only-of-type {\n",
              "        vertical-align: middle;\n",
              "    }\n",
              "\n",
              "    .dataframe tbody tr th {\n",
              "        vertical-align: top;\n",
              "    }\n",
              "\n",
              "    .dataframe thead th {\n",
              "        text-align: right;\n",
              "    }\n",
              "</style>\n",
              "<table border=\"1\" class=\"dataframe\">\n",
              "  <thead>\n",
              "    <tr style=\"text-align: right;\">\n",
              "      <th>Models</th>\n",
              "      <th>Impute Model</th>\n",
              "      <th>Normalized Model</th>\n",
              "      <th>Standardized Model</th>\n",
              "    </tr>\n",
              "  </thead>\n",
              "  <tbody>\n",
              "    <tr>\n",
              "      <th>max</th>\n",
              "      <td>0.342481</td>\n",
              "      <td>0.221591</td>\n",
              "      <td>0.310928</td>\n",
              "    </tr>\n",
              "    <tr>\n",
              "      <th>min</th>\n",
              "      <td>0.016925</td>\n",
              "      <td>0.189192</td>\n",
              "      <td>0.141441</td>\n",
              "    </tr>\n",
              "    <tr>\n",
              "      <th>mean</th>\n",
              "      <td>0.217191</td>\n",
              "      <td>0.203457</td>\n",
              "      <td>0.221035</td>\n",
              "    </tr>\n",
              "  </tbody>\n",
              "</table>\n",
              "</div>\n",
              "      <button class=\"colab-df-convert\" onclick=\"convertToInteractive('df-310c15e0-370e-4df0-befc-dbe23cc8d79e')\"\n",
              "              title=\"Convert this dataframe to an interactive table.\"\n",
              "              style=\"display:none;\">\n",
              "        \n",
              "  <svg xmlns=\"http://www.w3.org/2000/svg\" height=\"24px\"viewBox=\"0 0 24 24\"\n",
              "       width=\"24px\">\n",
              "    <path d=\"M0 0h24v24H0V0z\" fill=\"none\"/>\n",
              "    <path d=\"M18.56 5.44l.94 2.06.94-2.06 2.06-.94-2.06-.94-.94-2.06-.94 2.06-2.06.94zm-11 1L8.5 8.5l.94-2.06 2.06-.94-2.06-.94L8.5 2.5l-.94 2.06-2.06.94zm10 10l.94 2.06.94-2.06 2.06-.94-2.06-.94-.94-2.06-.94 2.06-2.06.94z\"/><path d=\"M17.41 7.96l-1.37-1.37c-.4-.4-.92-.59-1.43-.59-.52 0-1.04.2-1.43.59L10.3 9.45l-7.72 7.72c-.78.78-.78 2.05 0 2.83L4 21.41c.39.39.9.59 1.41.59.51 0 1.02-.2 1.41-.59l7.78-7.78 2.81-2.81c.8-.78.8-2.07 0-2.86zM5.41 20L4 18.59l7.72-7.72 1.47 1.35L5.41 20z\"/>\n",
              "  </svg>\n",
              "      </button>\n",
              "      \n",
              "  <style>\n",
              "    .colab-df-container {\n",
              "      display:flex;\n",
              "      flex-wrap:wrap;\n",
              "      gap: 12px;\n",
              "    }\n",
              "\n",
              "    .colab-df-convert {\n",
              "      background-color: #E8F0FE;\n",
              "      border: none;\n",
              "      border-radius: 50%;\n",
              "      cursor: pointer;\n",
              "      display: none;\n",
              "      fill: #1967D2;\n",
              "      height: 32px;\n",
              "      padding: 0 0 0 0;\n",
              "      width: 32px;\n",
              "    }\n",
              "\n",
              "    .colab-df-convert:hover {\n",
              "      background-color: #E2EBFA;\n",
              "      box-shadow: 0px 1px 2px rgba(60, 64, 67, 0.3), 0px 1px 3px 1px rgba(60, 64, 67, 0.15);\n",
              "      fill: #174EA6;\n",
              "    }\n",
              "\n",
              "    [theme=dark] .colab-df-convert {\n",
              "      background-color: #3B4455;\n",
              "      fill: #D2E3FC;\n",
              "    }\n",
              "\n",
              "    [theme=dark] .colab-df-convert:hover {\n",
              "      background-color: #434B5C;\n",
              "      box-shadow: 0px 1px 3px 1px rgba(0, 0, 0, 0.15);\n",
              "      filter: drop-shadow(0px 1px 2px rgba(0, 0, 0, 0.3));\n",
              "      fill: #FFFFFF;\n",
              "    }\n",
              "  </style>\n",
              "\n",
              "      <script>\n",
              "        const buttonEl =\n",
              "          document.querySelector('#df-310c15e0-370e-4df0-befc-dbe23cc8d79e button.colab-df-convert');\n",
              "        buttonEl.style.display =\n",
              "          google.colab.kernel.accessAllowed ? 'block' : 'none';\n",
              "\n",
              "        async function convertToInteractive(key) {\n",
              "          const element = document.querySelector('#df-310c15e0-370e-4df0-befc-dbe23cc8d79e');\n",
              "          const dataTable =\n",
              "            await google.colab.kernel.invokeFunction('convertToInteractive',\n",
              "                                                     [key], {});\n",
              "          if (!dataTable) return;\n",
              "\n",
              "          const docLinkHtml = 'Like what you see? Visit the ' +\n",
              "            '<a target=\"_blank\" href=https://colab.research.google.com/notebooks/data_table.ipynb>data table notebook</a>'\n",
              "            + ' to learn more about interactive tables.';\n",
              "          element.innerHTML = '';\n",
              "          dataTable['output_type'] = 'display_data';\n",
              "          await google.colab.output.renderOutput(dataTable, element);\n",
              "          const docLink = document.createElement('div');\n",
              "          docLink.innerHTML = docLinkHtml;\n",
              "          element.appendChild(docLink);\n",
              "        }\n",
              "      </script>\n",
              "    </div>\n",
              "  </div>\n",
              "  "
            ]
          },
          "metadata": {},
          "execution_count": 20
        }
      ]
    },
    {
      "cell_type": "markdown",
      "source": [
        "# Text Data from Reviews\n",
        "\n",
        "Finally, you will use the words in the consumer reviews to build a classifier to predict the results.\n",
        "*corpus = modcloth_data['review_text']*\n",
        "\n",
        "Create a new variable from the text data, after removing outliers, which are records that contain\n",
        "no text data (these will be nans in your data frame). This new variable is a list of strings, where\n",
        "every string is a consumer review.\n",
        "\n"
      ],
      "metadata": {
        "id": "bWsP7qaV-nrx"
      }
    },
    {
      "cell_type": "code",
      "source": [
        "modcloth.columns"
      ],
      "metadata": {
        "id": "TsAy3JGIWMH0",
        "outputId": "f580e430-1761-4e66-cde4-6e8dad10c863",
        "colab": {
          "base_uri": "https://localhost:8080/"
        }
      },
      "execution_count": 21,
      "outputs": [
        {
          "output_type": "execute_result",
          "data": {
            "text/plain": [
              "Index(['item_id', 'waist', 'size', 'quality', 'cup size', 'hips', 'bra size',\n",
              "       'category', 'bust', 'height', 'user_name', 'length', 'fit', 'user_id',\n",
              "       'shoe size', 'shoe width', 'review_summary', 'review_text'],\n",
              "      dtype='object')"
            ]
          },
          "metadata": {},
          "execution_count": 21
        }
      ]
    },
    {
      "cell_type": "code",
      "source": [
        "corpus = modcloth[['review_text','quality']].dropna()\n",
        "\n",
        "corpus"
      ],
      "metadata": {
        "id": "IAcceogtAIAI",
        "colab": {
          "base_uri": "https://localhost:8080/",
          "height": 424
        },
        "outputId": "3fbc2e32-2a14-4d90-a56c-b26aced88b0f"
      },
      "execution_count": 22,
      "outputs": [
        {
          "output_type": "execute_result",
          "data": {
            "text/plain": [
              "                                             review_text  quality\n",
              "6725   I liked the color, the silhouette, and the fab...      4.0\n",
              "6726   From the other reviews it seems like this dres...      5.0\n",
              "6727   I love the design and fit of this dress!  I wo...      3.0\n",
              "6728   I bought this dress for work  it is flattering...      3.0\n",
              "6729   This is a very professional look. It is Great ...      5.0\n",
              "...                                                  ...      ...\n",
              "82785                                       Cute jacket!      4.0\n",
              "82786  It's a beautiful jacket. I love how it's knit ...      5.0\n",
              "82787  I love this blazer. It is a great office piece...      5.0\n",
              "82788  I love this blazer!! I wore it yesterday and g...      4.0\n",
              "82789       I love this piece. I'm really happy with it!      4.0\n",
              "\n",
              "[75999 rows x 2 columns]"
            ],
            "text/html": [
              "\n",
              "  <div id=\"df-9cc6112f-fed6-40c3-8608-e1400e5f7999\">\n",
              "    <div class=\"colab-df-container\">\n",
              "      <div>\n",
              "<style scoped>\n",
              "    .dataframe tbody tr th:only-of-type {\n",
              "        vertical-align: middle;\n",
              "    }\n",
              "\n",
              "    .dataframe tbody tr th {\n",
              "        vertical-align: top;\n",
              "    }\n",
              "\n",
              "    .dataframe thead th {\n",
              "        text-align: right;\n",
              "    }\n",
              "</style>\n",
              "<table border=\"1\" class=\"dataframe\">\n",
              "  <thead>\n",
              "    <tr style=\"text-align: right;\">\n",
              "      <th></th>\n",
              "      <th>review_text</th>\n",
              "      <th>quality</th>\n",
              "    </tr>\n",
              "  </thead>\n",
              "  <tbody>\n",
              "    <tr>\n",
              "      <th>6725</th>\n",
              "      <td>I liked the color, the silhouette, and the fab...</td>\n",
              "      <td>4.0</td>\n",
              "    </tr>\n",
              "    <tr>\n",
              "      <th>6726</th>\n",
              "      <td>From the other reviews it seems like this dres...</td>\n",
              "      <td>5.0</td>\n",
              "    </tr>\n",
              "    <tr>\n",
              "      <th>6727</th>\n",
              "      <td>I love the design and fit of this dress!  I wo...</td>\n",
              "      <td>3.0</td>\n",
              "    </tr>\n",
              "    <tr>\n",
              "      <th>6728</th>\n",
              "      <td>I bought this dress for work  it is flattering...</td>\n",
              "      <td>3.0</td>\n",
              "    </tr>\n",
              "    <tr>\n",
              "      <th>6729</th>\n",
              "      <td>This is a very professional look. It is Great ...</td>\n",
              "      <td>5.0</td>\n",
              "    </tr>\n",
              "    <tr>\n",
              "      <th>...</th>\n",
              "      <td>...</td>\n",
              "      <td>...</td>\n",
              "    </tr>\n",
              "    <tr>\n",
              "      <th>82785</th>\n",
              "      <td>Cute jacket!</td>\n",
              "      <td>4.0</td>\n",
              "    </tr>\n",
              "    <tr>\n",
              "      <th>82786</th>\n",
              "      <td>It's a beautiful jacket. I love how it's knit ...</td>\n",
              "      <td>5.0</td>\n",
              "    </tr>\n",
              "    <tr>\n",
              "      <th>82787</th>\n",
              "      <td>I love this blazer. It is a great office piece...</td>\n",
              "      <td>5.0</td>\n",
              "    </tr>\n",
              "    <tr>\n",
              "      <th>82788</th>\n",
              "      <td>I love this blazer!! I wore it yesterday and g...</td>\n",
              "      <td>4.0</td>\n",
              "    </tr>\n",
              "    <tr>\n",
              "      <th>82789</th>\n",
              "      <td>I love this piece. I'm really happy with it!</td>\n",
              "      <td>4.0</td>\n",
              "    </tr>\n",
              "  </tbody>\n",
              "</table>\n",
              "<p>75999 rows × 2 columns</p>\n",
              "</div>\n",
              "      <button class=\"colab-df-convert\" onclick=\"convertToInteractive('df-9cc6112f-fed6-40c3-8608-e1400e5f7999')\"\n",
              "              title=\"Convert this dataframe to an interactive table.\"\n",
              "              style=\"display:none;\">\n",
              "        \n",
              "  <svg xmlns=\"http://www.w3.org/2000/svg\" height=\"24px\"viewBox=\"0 0 24 24\"\n",
              "       width=\"24px\">\n",
              "    <path d=\"M0 0h24v24H0V0z\" fill=\"none\"/>\n",
              "    <path d=\"M18.56 5.44l.94 2.06.94-2.06 2.06-.94-2.06-.94-.94-2.06-.94 2.06-2.06.94zm-11 1L8.5 8.5l.94-2.06 2.06-.94-2.06-.94L8.5 2.5l-.94 2.06-2.06.94zm10 10l.94 2.06.94-2.06 2.06-.94-2.06-.94-.94-2.06-.94 2.06-2.06.94z\"/><path d=\"M17.41 7.96l-1.37-1.37c-.4-.4-.92-.59-1.43-.59-.52 0-1.04.2-1.43.59L10.3 9.45l-7.72 7.72c-.78.78-.78 2.05 0 2.83L4 21.41c.39.39.9.59 1.41.59.51 0 1.02-.2 1.41-.59l7.78-7.78 2.81-2.81c.8-.78.8-2.07 0-2.86zM5.41 20L4 18.59l7.72-7.72 1.47 1.35L5.41 20z\"/>\n",
              "  </svg>\n",
              "      </button>\n",
              "      \n",
              "  <style>\n",
              "    .colab-df-container {\n",
              "      display:flex;\n",
              "      flex-wrap:wrap;\n",
              "      gap: 12px;\n",
              "    }\n",
              "\n",
              "    .colab-df-convert {\n",
              "      background-color: #E8F0FE;\n",
              "      border: none;\n",
              "      border-radius: 50%;\n",
              "      cursor: pointer;\n",
              "      display: none;\n",
              "      fill: #1967D2;\n",
              "      height: 32px;\n",
              "      padding: 0 0 0 0;\n",
              "      width: 32px;\n",
              "    }\n",
              "\n",
              "    .colab-df-convert:hover {\n",
              "      background-color: #E2EBFA;\n",
              "      box-shadow: 0px 1px 2px rgba(60, 64, 67, 0.3), 0px 1px 3px 1px rgba(60, 64, 67, 0.15);\n",
              "      fill: #174EA6;\n",
              "    }\n",
              "\n",
              "    [theme=dark] .colab-df-convert {\n",
              "      background-color: #3B4455;\n",
              "      fill: #D2E3FC;\n",
              "    }\n",
              "\n",
              "    [theme=dark] .colab-df-convert:hover {\n",
              "      background-color: #434B5C;\n",
              "      box-shadow: 0px 1px 3px 1px rgba(0, 0, 0, 0.15);\n",
              "      filter: drop-shadow(0px 1px 2px rgba(0, 0, 0, 0.3));\n",
              "      fill: #FFFFFF;\n",
              "    }\n",
              "  </style>\n",
              "\n",
              "      <script>\n",
              "        const buttonEl =\n",
              "          document.querySelector('#df-9cc6112f-fed6-40c3-8608-e1400e5f7999 button.colab-df-convert');\n",
              "        buttonEl.style.display =\n",
              "          google.colab.kernel.accessAllowed ? 'block' : 'none';\n",
              "\n",
              "        async function convertToInteractive(key) {\n",
              "          const element = document.querySelector('#df-9cc6112f-fed6-40c3-8608-e1400e5f7999');\n",
              "          const dataTable =\n",
              "            await google.colab.kernel.invokeFunction('convertToInteractive',\n",
              "                                                     [key], {});\n",
              "          if (!dataTable) return;\n",
              "\n",
              "          const docLinkHtml = 'Like what you see? Visit the ' +\n",
              "            '<a target=\"_blank\" href=https://colab.research.google.com/notebooks/data_table.ipynb>data table notebook</a>'\n",
              "            + ' to learn more about interactive tables.';\n",
              "          element.innerHTML = '';\n",
              "          dataTable['output_type'] = 'display_data';\n",
              "          await google.colab.output.renderOutput(dataTable, element);\n",
              "          const docLink = document.createElement('div');\n",
              "          docLink.innerHTML = docLinkHtml;\n",
              "          element.appendChild(docLink);\n",
              "        }\n",
              "      </script>\n",
              "    </div>\n",
              "  </div>\n",
              "  "
            ]
          },
          "metadata": {},
          "execution_count": 22
        }
      ]
    },
    {
      "cell_type": "markdown",
      "source": [
        "**TfidfVectorizer**\n",
        "\n",
        "Pass this new variable to sklearn’sTfidfVectorizer\n",
        "(https://scikit-learn.org/stable/modules/feature_extraction.html#text-feature-extraction) to load\n",
        "the data. Create a new dataframe called X from the bag of words features, using\n",
        "*pd.DataFrame.sparse.from_spmatrix*, and subset the labels to only those which have text data\n",
        "present.\n",
        "\n"
      ],
      "metadata": {
        "id": "0L0bYUmPAVK-"
      }
    },
    {
      "cell_type": "markdown",
      "source": [
        "**Feature Selection - Top 10**\n",
        "\n",
        "Next, use feature selection\n",
        "(https://scikit-learn.org/stable/modules/feature_selection.html#feature-selection) to subset the\n",
        "text data to only the most relevant features. Be sure to do this based on the training set, then\n",
        "apply the transformation to the test set. Using the pipeline can make this step easier.\n",
        "\n",
        "Use *SelectKBest* and *chi-2* to select features. Make sure you have the latest version (at least\n",
        "0.24 of scikit-learn, or you may get errors). \n",
        "\n",
        "Print a list of the top ten features selected. Hint: Use\n",
        "*vectorizer.get_feature_names(), XKBest.fit()* and then *XNew.get_support()*.\n",
        "\n",
        "\n"
      ],
      "metadata": {
        "id": "Wys2vZ-2Af0_"
      }
    },
    {
      "cell_type": "code",
      "source": [
        "# Check out the shared link for the \"TfidfVectorizer\" and review 6.2.3.3. Common Vectorizer usage\n",
        "# Use the function here \n",
        "vectorizer = TfidfVectorizer()\n",
        "#spmat = fit_transform here \n",
        "spmat = vectorizer.fit_transform(corpus['review_text'])\n",
        "#feat_names = get_feature_names here\n",
        "feat_names = vectorizer.get_feature_names_out()\n",
        "\n",
        "X = pd.DataFrame.sparse.from_spmatrix(spmat, columns=feat_names)\n",
        "#train_test_split here\n",
        "X_train, X_test, y_train, y_test = train_test_split(X, corpus['quality'], test_size=0.20) #, random_state=42)"
      ],
      "metadata": {
        "id": "M1K7HwSuAYRg"
      },
      "execution_count": 47,
      "outputs": []
    },
    {
      "cell_type": "code",
      "source": [
        "# Check out the shared link about FS and review 1.13.2. Univariate feature selection\n",
        "\n",
        "kbest = SelectKBest(chi2, k=10)\n",
        "kbest.fit_transform(X_train, y_train)\n",
        "X_train.columns[kbest.get_support()].tolist()\n",
        "#print('Top 10 features %s' % Xtrain.columns[kbest.get_support()].tolist())"
      ],
      "metadata": {
        "id": "jhYxcoV5Agqg",
        "colab": {
          "base_uri": "https://localhost:8080/"
        },
        "outputId": "07c6b418-7737-4f51-b8d6-838fc26631a7"
      },
      "execution_count": 48,
      "outputs": [
        {
          "output_type": "execute_result",
          "data": {
            "text/plain": [
              "['apart',\n",
              " 'cheap',\n",
              " 'disappointed',\n",
              " 'love',\n",
              " 'perfect',\n",
              " 'poor',\n",
              " 'returned',\n",
              " 'ripped',\n",
              " 'thin',\n",
              " 'was']"
            ]
          },
          "metadata": {},
          "execution_count": 48
        }
      ]
    },
    {
      "cell_type": "markdown",
      "source": [
        "**Accuracy**\n",
        "\n",
        "For k in the range [10,25,50,100,250,500,1000,10000], plot the accuracy of the\n",
        "classifier for each value of k. "
      ],
      "metadata": {
        "id": "OlSOIf4WArHL"
      }
    },
    {
      "cell_type": "code",
      "source": [
        "k_vals = [10,25,50,100,250,500,1000,10000]\n",
        "results = []\n",
        "for k in k_vals:\n",
        "    \n",
        "    # print('Top 10 features at k=%d %s' % (k, Xtrain.columns[kbest.get_support()].tolist()))\n",
        "    kbest = SelectKBest(chi2, k=k)\n",
        "    kbest.fit_transform(X_train, y_train)\n",
        "    columns = X_train.columns[kbest.get_support()].tolist()\n",
        "\n",
        "    pr = Perceptron(class_weight='balanced')\n",
        "    pr.fit(X_train.loc[:,columns], y_train)\n",
        "    print('Top 10 features at k=%d %s' % (k, X_train.columns[kbest.get_support()].tolist()))\n",
        "    # X_new has k best features:\n",
        "\n",
        "    # Test Accuracy using kbest features from training:\n",
        "    train_acc = accuracy_score(y_train, pr.predict(X_train.loc[:,columns]))\n",
        "    test_acc = accuracy_score(y_test, pr.predict(X_test.loc[:,columns]))\n",
        "    results.append({'k-value': k, 'Training Accuracy': train_acc, 'Test Accuracy':test_acc})"
      ],
      "metadata": {
        "id": "eHR5prrAAr0s",
        "colab": {
          "base_uri": "https://localhost:8080/"
        },
        "outputId": "3844f336-cdf2-4a91-d125-68e38cf37c02"
      },
      "execution_count": 56,
      "outputs": [
        {
          "output_type": "stream",
          "name": "stdout",
          "text": [
            "Top 10 features at k=10 ['apart', 'cheap', 'disappointed', 'love', 'perfect', 'poor', 'returned', 'ripped', 'thin', 'was']\n",
            "Top 10 features at k=25 ['absolutely', 'after', 'amazing', 'apart', 'beautiful', 'cheap', 'didn', 'disappointed', 'favorite', 'hole', 'itchy', 'love', 'material', 'not', 'perfect', 'poor', 'poorly', 'price', 'returned', 'ripped', 'scratchy', 'soft', 'terrible', 'thin', 'was']\n",
            "Top 10 features at k=50 ['absolutely', 'after', 'amazing', 'apart', 'awful', 'beautiful', 'cheap', 'cheaply', 'colors', 'comfortable', 'cute', 'didn', 'disappointed', 'disappointing', 'ever', 'every', 'fabric', 'favorite', 'felt', 'flimsy', 'hole', 'horrible', 'horrid', 'itchy', 'love', 'material', 'not', 'ok', 'perfect', 'perfectly', 'pills', 'poor', 'poorly', 'price', 'quality', 'return', 'returned', 'returning', 'ripped', 'scratchy', 'seam', 'seams', 'sent', 'soft', 'started', 'terrible', 'thin', 'was', 'weird', 'within']\n",
            "Top 10 features at k=100 ['absolutely', 'after', 'amazing', 'apart', 'awful', 'awkward', 'back', 'barley', 'beautiful', 'began', 'bit', 'broke', 'but', 'cheap', 'cheaper', 'cheaply', 'coat', 'colors', 'comfortable', 'compliments', 'cute', 'didn', 'disappointed', 'disappointing', 'disappointment', 'dress', 'easily', 'ever', 'every', 'fabric', 'favorite', 'felt', 'fits', 'flimsy', 'gorgeous', 'great', 'hated', 'hole', 'horrible', 'horrid', 'itchy', 'little', 'looked', 'love', 'mania', 'material', 'meh', 'money', 'not', 'ok', 'overpriced', 'perfect', 'perfectly', 'piled', 'pill', 'pilling', 'pills', 'polyester', 'poor', 'poorly', 'popped', 'price', 'quality', 'return', 'returned', 'returning', 'ripped', 'rough', 'scratchy', 'seam', 'seams', 'sent', 'shiny', 'shrunk', 'snags', 'so', 'soft', 'started', 'stitching', 'terrible', 'the', 'thin', 'thinner', 'this', 'threads', 'tight', 'unflattering', 'unfortunately', 'was', 'wash', 'washed', 'wasn', 'wears', 'weird', 'were', 'within', 'worst', 'wrinkles', 'xxxl', 'zipper']\n",
            "Top 10 features at k=250 ['60', 'absolutely', 'accumulating', 'acuskyntorso', 'adore', 'after', 'also', 'amazing', 'and', 'apart', 'arms', 'awesome', 'awful', 'awkward', 'awkwardly', 'awry', 'back', 'badly', 'bah', 'barley', 'beautiful', 'began', 'best', 'bit', 'blob', 'boobed', 'bro', 'broke', 'but', 'buttons', 'buy', 'buzz', 'can', 'cardigan', 'cheap', 'cheaper', 'cheapfeeling', 'cheaply', 'cheapy', 'cheesy', 'chemicals', 'china', 'client', 'climbs', 'coat', 'colors', 'comfortable', 'comfy', 'compliments', 'cost', 'cowel', 'crappy', 'crinkly', 'crooked', 'cute', 'daylight', 'designated', 'didn', 'disappointed', 'disappointing', 'disappointment', 'disintegrate', 'dissappointment', 'dress', 'dresses', 'easily', 'eh', 'ever', 'every', 'everything', 'excellent', 'execution', 'expected', 'expecting', 'fabric', 'faded', 'favorite', 'feathering', 'feels', 'fell', 'felt', 'fifty', 'first', 'fiteven', 'fits', 'fittedwas', 'flareesquire', 'flattering', 'flimsy', 'forming', 'fsu', 'glove', 'good', 'google', 'gorgeous', 'great', 'had', 'hated', 'highcut', 'highly', 'hole', 'horrible', 'horrid', 'however', 'husky', 'impressed', 'inexpensive', 'injury', 'is', 'itchy', 'kind', 'like', 'liked', 'little', 'looked', 'love', 'mania', 'many', 'material', 'meh', 'midstomach', 'misaligned', 'modcloth', 'money', 'monthpostpartum', 'my', 'new', 'nice', 'nonsweatshirt', 'not', 'odd', 'oddly', 'off', 'ok', 'okay', 'once', 'onsale', 'otherwise', 'overpriced', 'own', 'paper', 'perfect', 'perfection', 'perfectly', 'piled', 'pill', 'pilled', 'pilling', 'pills', 'plastic', 'plasticy', 'pokadots', 'polyester', 'poor', 'poorly', 'popped', 'price', 'prison', 'prototype', 'purchase', 'quality', 'quickly', 'repair', 'return', 'returned', 'returning', 'rip', 'ripped', 'rough', 'ruined', 'sad', 'sadly', 'scoured', 'scratchy', 'seam', 'seams', 'seemed', 'sender', 'sending', 'sent', 'sewn', 'shiny', 'shrinked', 'shrunk', 'siiiigh', 'small', 'smell', 'snags', 'so', 'soft', 'sometgig', 'sorely', 'spanish', 'starchier', 'started', 'starting', 'staticky', 'stiff', 'stillbulged', 'stilling', 'stitching', 'stll', 'strands', 'strange', 'strangely', 'subpar', 'swimwear', 'synthetic', 'terrible', 'tester', 'than', 'the', 'thin', 'thinner', 'this', 'though', 'threads', 'through', 'tight', 'too', 'toooo', 'trash', 'twice', 'ummmm', 'unflattering', 'unfortunately', 'unseat', 'wait', 'want', 'warm', 'was', 'wash', 'washed', 'wasn', 'way', 'wears', 'wedding', 'weird', 'were', 'whawha', 'winter', 'with', 'within', 'wonderful', 'worst', 'worth', 'wrinkled', 'wrinkles', 'xxxl', 'zipper']\n",
            "Top 10 features at k=500 ['15c', '249', '60', '77', 'absolutely', 'accumulating', 'across', 'acuskyntorso', 'adore', 'after', 'all', 'alland', 'along', 'already', 'also', 'am', 'amazing', 'amyself', 'and', 'anjkes', 'anvils', 'apart', 'armpit', 'arms', 'arrived', 'awesome', 'awful', 'awkward', 'awkwardly', 'awnings', 'awry', 'back', 'bad', 'badly', 'bah', 'balled', 'balls', 'barley', 'beautiful', 'beautifully', 'bedding', 'began', 'belling', 'best', 'better', 'bigs', 'bit', 'blob', 'boobed', 'bordered', 'bought', 'bro', 'broke', 'bubbled', 'bueno', 'bummed', 'busyellow', 'but', 'buttons', 'buy', 'buying', 'buzz', 'can', 'cardigan', 'cardigans', 'carigan', 'cautionary', 'centered', 'cheap', 'cheaper', 'cheapfeeling', 'cheaply', 'cheapy', 'cheesy', 'chemicals', 'chest', 'children', 'china', 'chinsy', 'classy', 'cleanings', 'client', 'climbs', 'clings', 'clingy', 'coat', 'color', 'colors', 'comfortable', 'comfy', 'coming', 'compliments', 'conceived', 'concept', 'consistency', 'contact', 'cost', 'costume', 'cowel', 'cowltype', 'crappy', 'crazy', 'crepe', 'crinkly', 'crooked', 'crouch', 'crumbled', 'cute', 'damaged', 'damages', 'daylight', 'decline', 'designated', 'deteriorated', 'didn', 'dingy', 'disappointed', 'disappointing', 'disappointment', 'discount', 'dishwasher', 'disintegrate', 'disintegrated', 'disliked', 'dissapointing', 'dissappointment', 'donated', 'donating', 'doorway', 'dream', 'dress', 'dressed', 'dresses', 'dropwaist', 'easily', 'eh', 'ended', 'enough', 'ever', 'every', 'everything', 'evident', 'excellent', 'execution', 'expect', 'expected', 'expecting', 'fabic', 'fabric', 'faded', 'fan', 'fantastic', 'favorite', 'feathering', 'feels', 'fell', 'felt', 'fifty', 'first', 'fiteven', 'fits', 'fittedwas', 'flareesquire', 'flattering', 'flimsy', 'fling', 'forming', 'fray', 'frayed', 'fraying', 'fron', 'fsu', 'funny', 'fupa', 'garbage', 'gauzy', 'glad', 'glove', 'glutes', 'good', 'google', 'gorgeous', 'grayyellow', 'great', 'had', 'hand', 'hanged', 'happier', 'happy', 'hated', 'hems', 'highcut', 'highest', 'highly', 'hits', 'hold', 'hole', 'holes', 'horrible', 'horribly', 'horrid', 'hours', 'however', 'huge', 'hung', 'husky', 'ick', 'illfitting', 'immediately', 'impressed', 'improvised', 'incorrectly', 'inexpensive', 'injury', 'instareturn', 'is', 'isn', 'itchy', 'itchynot', 'jeans', 'kept', 'kind', 'kinda', 'lacking', 'lampshade', 'lasted', 'lefthand', 'leggings', 'lemon', 'length', 'like', 'liked', 'linear', 'lingers', 'little', 'looked', 'lookes', 'loooved', 'love', 'lovely', 'made', 'mandee', 'mania', 'many', 'material', 'meh', 'midcloth', 'midstomach', 'mildew', 'minimum', 'misaligned', 'modcloth', 'mode', 'money', 'month', 'monthpostpartum', 'my', 'napkin', 'nasty', 'naturalfiber', 'new', 'nice', 'nobodies', 'nonsensical', 'nonsweatshirt', 'nope', 'not', 'noticed', 'now', 'obsessed', 'odd', 'oddly', 'off', 'ok', 'okay', 'oldet', 'olivey', 'once', 'only', 'onsale', 'or', 'orderd', 'otherwise', 'overall', 'overpriced', 'own', 'paid', 'paper', 'paperwork', 'parachute', 'parachutelike', 'patchy', 'penny', 'perfect', 'perfection', 'perfectly', 'picturing', 'piled', 'pill', 'pilled', 'pilling', 'pills', 'pils', 'plastic', 'plasticy', 'pokadots', 'policy', 'polyester', 'poor', 'poorest', 'poorly', 'popoff', 'popped', 'practices', 'price', 'prison', 'production', 'profusely', 'prompted', 'prototype', 'provocation', 'pulls', 'purchase', 'pyjama', 'quality', 'quickly', 'really', 'recommend', 'repacked', 'repair', 'repeatedly', 'residue', 'resnapped', 'responding', 'resulting', 'return', 'returned', 'returning', 'revive', 'rip', 'ripped', 'rolypoly', 'ross', 'rough', 'rounds', 'rubbery', 'ruined', 'runs', 'sad', 'sadly', 'satinish', 'scoured', 'scratchy', 'screeched', 'seam', 'seams', 'see', 'seemed', 'seinfeld', 'send', 'sender', 'sending', 'sent', 'serged', 'sewedon', 'sewing', 'sewn', 'shiny', 'shoulders', 'shrank', 'shrinked', 'shrunk', 'siiiigh', 'sketch', 'skip', 'skirt', 'small', 'smell', 'smelled', 'smelling', 'snagged', 'snags', 'so', 'soft', 'sometgig', 'sorely', 'spanish', 'starchier', 'started', 'starting', 'static', 'staticky', 'stiff', 'stillbulged', 'stilling', 'stitched', 'stitching', 'stll', 'store', 'storewhere', 'strands', 'strange', 'strangely', 'straplessbraandspanx', 'strings', 'stuck', 'stunning', 'sturday', 'stylish', 'subpar', 'super', 'surrounding', 'swimwear', 'synthetic', 'tablecloth', 'tarp', 'tear', 'teared', 'tearing', 'tears', 'techsavvy', 'teeth', 'terrible', 'terribletwo', 'terribly', 'tester', 'than', 'the', 'these', 'thick', 'thin', 'thinner', 'this', 'though', 'threads', 'threefourth', 'through', 'tide', 'tight', 'tonnn', 'too', 'toobig', 'toooo', 'tragic', 'trash', 'tried', 'twice', 'ugly', 'ummmm', 'unacceptable', 'uncomfortable', 'uncool', 'uncuff', 'underwhelmed', 'unfinished', 'unflattering', 'unfortunately', 'unfrayed', 'unhemmed', 'unlined', 'unmatching', 'unpacked', 'unraveled', 'unseat', 'values', 'versatile', 'visibly', 'waistup', 'wait', 'walmart', 'want', 'wanted', 'warm', 'was', 'wash', 'washed', 'wasn', 'way', 'wayy', 'wear', 'wears', 'wedding', 'weird', 'were', 'whawha', 'windsor', 'winter', 'with', 'within', 'wonderful', 'worst', 'worth', 'wrinkled', 'wrinkles', 'wrinkly', 'wrong', 'xxxl', 'yawn', 'yuck', 'zipper']\n",
            "Top 10 features at k=1000 ['00', '10year', '15c', '16w18w', '23x', '249', '40', '40something', '50', '60', '65', '69', '77', '84', '99', 'abide', 'absolute', 'absolutely', 'accumulating', 'across', 'acuskyntorso', 'additionally', 'adequate', 'adorable', 'adore', 'after', 'agitator', 'ago', 'akwardly', 'all', 'alland', 'along', 'aloy', 'already', 'alright', 'also', 'always', 'am', 'amazing', 'amazingly', 'amyself', 'ana', 'and', 'anjkes', 'annoying', 'anvils', 'any', 'apart', 'appendages', 'appleshaped', 'area', 'argh', 'arm', 'armpit', 'arms', 'arrived', 'assess', 'at', 'awesome', 'awful', 'awfully', 'awkward', 'awkwardly', 'awnings', 'awry', 'back', 'backups', 'bacterial', 'bad', 'badly', 'bag', 'bah', 'balled', 'ballooned', 'balls', 'barley', 'basic', 'beaut', 'beautiful', 'beautifully', 'bedding', 'before', 'began', 'belling', 'best', 'better', 'bey', 'bias', 'biege', 'big', 'bigs', 'binds', 'bit', 'bitterly', 'blazerand', 'bled', 'blob', 'boobed', 'boots', 'bordered', 'botton', 'bought', 'boxy', 'braline', 'bread', 'bro', 'broke', 'broken', 'bubbled', 'bucks', 'bueno', 'buffalo', 'bummed', 'bummer', 'burly', 'bust', 'busti', 'busyellow', 'but', 'button', 'buttons', 'buy', 'buying', 'buzz', 'came', 'can', 'cardigan', 'cardigans', 'carigan', 'casings', 'casual', 'causing', 'cautionary', 'centered', 'charter', 'cheap', 'cheapens', 'cheaper', 'cheapfeeling', 'cheapish', 'cheaplooking', 'cheaply', 'cheapy', 'cheep', 'cheesy', 'chemically', 'chemicals', 'chest', 'children', 'china', 'chinsy', 'classy', 'cleanings', 'client', 'climbs', 'clings', 'clingy', 'coachella', 'coat', 'coffin', 'collection', 'color', 'colors', 'colours', 'comfortable', 'comfy', 'coming', 'complaint', 'completely', 'compliments', 'concave', 'conceived', 'concentrated', 'concept', 'conclude', 'conclusions', 'consigned', 'consistency', 'contact', 'cost', 'costing', 'costume', 'cotton', 'couldn', 'cowel', 'cowltype', 'cozy', 'craft', 'craftsmanship', 'crappy', 'crazy', 'creamier', 'crepe', 'crinkly', 'crooked', 'crosszip', 'crotch', 'crouch', 'crumbled', 'crummy', 'crunchy', 'cute', 'cyber', 'damaged', 'damages', 'dashed', 'daylight', 'decent', 'decline', 'deep', 'defect', 'definitely', 'delays', 'design', 'designated', 'desired', 'detached', 'detaching', 'deteriorated', 'developed', 'develops', 'didin', 'didn', 'dim', 'diminish', 'dimly', 'dingy', 'dirty', 'dirtylooking', 'disappoint', 'disappointed', 'disappointedmaterial', 'disappointing', 'disappointment', 'discount', 'dish', 'dishwasher', 'disintegrate', 'disintegrated', 'disliked', 'dissapointing', 'dissappointed', 'dissappointment', 'distract', 'donate', 'donated', 'donating', 'doorway', 'down', 'drain', 'dream', 'dress', 'dressed', 'dresses', 'drooled', 'dropwaist', 'dry', 'dye', 'easily', 'edged', 'eh', 'ehh', 'elegant', 'embarrassing', 'ended', 'enough', 'esley', 'evans', 'even', 'ever', 'every', 'everyone', 'everything', 'evident', 'exactly', 'excelent', 'excellent', 'excited', 'executed', 'execution', 'expect', 'expected', 'expecting', 'expensive', 'exquisitely', 'extremly', 'fabic', 'fabric', 'fabulous', 'facing', 'faded', 'fades', 'fakenot', 'fall', 'fan', 'fans', 'fantastic', 'fast', 'fatness', 'faultiness', 'faulting', 'faves', 'favorite', 'favors', 'favourite', 'feathering', 'feels', 'fell', 'felt', 'feminine', 'few', 'fierce', 'fifty', 'final', 'finally', 'fine', 'finishing', 'fins', 'first', 'fiteven', 'fits', 'fittedwas', 'flammable', 'flareesquire', 'flatout', 'flats', 'flattening', 'flattering', 'flawed', 'flimsiest', 'flimsy', 'fling', 'formal', 'forming', 'fray', 'frayed', 'fraying', 'fron', 'front', 'fsu', 'fun', 'functionally', 'funny', 'fupa', 'fuzz', 'fuzzball', 'fuzzies', 'fwiw', 'garbage', 'gatsby', 'gauzy', 'gentle', 'get', 'gift', 'girllike', 'gives', 'glad', 'glove', 'glutes', 'go', 'goes', 'good', 'google', 'gorgeous', 'goto', 'grayyellow', 'great', 'green', 'grommets', 'guiding', 'had', 'halloween', 'hand', 'hanged', 'hanger', 'hanging', 'happier', 'happy', 'hassle', 'hate', 'hated', 'heartbroken', 'heavy', 'heels', 'heights', 'hems', 'hesitate', 'highcut', 'highest', 'highly', 'highwaistedbut', 'hips', 'hitches', 'hits', 'ho', 'hold', 'hole', 'holes', 'hopes', 'hoping', 'horrible', 'horribly', 'horrid', 'hounds', 'hour', 'hours', 'however', 'hr', 'huge', 'hum', 'hung', 'husky', 'iceland', 'ick', 'icky', 'idea', 'ill', 'illfitting', 'immediately', 'impress', 'impressed', 'improvised', 'in', 'inappopriate', 'incautious', 'incompatible', 'inconsistently', 'incorrectly', 'inexpensive', 'inexplicably', 'inferior', 'injury', 'inline', 'inside', 'inspection', 'instareturn', 'interwoven', 'investigated', 'iron', 'is', 'isn', 'isolated', 'itchy', 'itchynot', 'item', 'jeans', 'jerseytype', 'keep', 'keeping', 'kept', 'kind', 'kinda', 'knee', 'knittoo', 'lacking', 'lampshade', 'lasted', 'laundry', 'lay', 'layering', 'lefthand', 'leggings', 'lemon', 'length', 'leotard', 'less', 'like', 'liked', 'likened', 'limp', 'linear', 'lingers', 'lining', 'little', 'locally', 'long', 'longer', 'longerthanusual', 'looked', 'lookes', 'loooved', 'lopsided', 'loses', 'loungewear', 'love', 'lovely', 'lowquality', 'lump', 'lumpy', 'made', 'mandee', 'mania', 'manufacturer', 'many', 'material', 'materialand', 'materialwas', 'maternity', 'maternitytotally', 'me', 'meaty', 'meh', 'mehh', 'melts', 'mer', 'midcloth', 'midstomach', 'midupper', 'mildew', 'million', 'minimalistic', 'minimum', 'minuses', 'minutes', 'misaligned', 'misshape', 'modcloth', 'modclotharrivesinthemail', 'mode', 'modshop', 'money', 'month', 'monthpostpartum', 'months', 'mothlike', 'mulling', 'my', 'mystery', 'napkin', 'narrow', 'nasty', 'naturalfiber', 'navy', 'never', 'new', 'nice', 'nicely', 'night', 'no', 'nobodies', 'noises', 'nonbreathable', 'nonsensical', 'nonsweatshirt', 'nope', 'not', 'notation', 'noteventwice', 'noticed', 'now', 'nowhere', 'obsessed', 'occasion', 'odd', 'oddly', 'of', 'off', 'ok', 'okay', 'old', 'oldet', 'olivey', 'olympic', 'omfg', 'once', 'one', 'only', 'onsale', 'opened', 'opinion', 'or', 'orderd', 'otherwise', 'overall', 'overpriced', 'own', 'owned', 'packaged', 'paid', 'paired', 'pancho', 'paper', 'paperwork', 'papery', 'parachute', 'parachutelike', 'particle', 'partying', 'passing', 'patchy', 'paying', 'pealed', 'pegged', 'penny', 'perfect', 'perfection', 'perfectly', 'permissible', 'perspiration', 'petroleum', 'picturing', 'pijama', 'piled', 'pill', 'pilled', 'pillie', 'pilling', 'pills', 'pils', 'pint', 'plastic', 'plasticky', 'plasticy', 'pleased', 'pointe', 'pointless', 'pokadots', 'policy', 'poly', 'polyester', 'poor', 'poorest', 'poorly', 'popoff', 'popped', 'practices', 'prepaid', 'pretty', 'price', 'prime', 'prints', 'prison', 'production', 'professional', 'profusely', 'project', 'promote', 'prompted', 'prone', 'prototype', 'provocation', 'puled', 'pulled', 'pulls', 'purchase', 'purchases', 'purged', 'pyjama', 'quality', 'qualitythin', 'quickly', 'quite', 'rag', 'ran', 'rates', 'ratty', 'reaaaaaally', 'really', 'reattach', 'receiving', 'recommend', 'red', 'refering', 'reflective', 'reform', 'refund', 'regifted', 'regret', 'remind', 'reminded', 'rendering', 'repacked', 'repair', 'repaired', 'repairing', 'repeatedly', 'residue', 'resilience', 'resnapped', 'respond', 'responding', 'resulting', 'return', 'returned', 'returning', 'returns', 'revive', 'rhe', 'rich', 'ridic', 'ridiculously', 'rip', 'ripped', 'ripple', 'rips', 'rivet', 'robbed', 'rolypoly', 'ross', 'rough', 'rounds', 'rubbery', 'rubs', 'ruined', 'runs', 'sad', 'sadly', 'sale', 'same', 'sand', 'satinish', 'save', 'scheduled', 'school', 'scoured', 'scratchy', 'screeched', 'scrunchy', 'seam', 'seams', 'seasonround', 'seconds', 'sections', 'see', 'seemed', 'seems', 'seethrough', 'seinfeld', 'send', 'sender', 'sending', 'sent', 'serged', 'seriously', 'seriousness', 'service', 'sew', 'sewedon', 'sewing', 'sewn', 'sexy', 'shabby', 'shame', 'shapeless', 'shiny', 'shirley', 'shirts', 'short', 'shorter', 'shorts', 'shoulders', 'shrank', 'shrinked', 'shrunk', 'side', 'sides', 'siiiigh', 'sixyearold', 'sketch', 'skip', 'skirt', 'skirts', 'slicing', 'slippy', 'small', 'smell', 'smelled', 'smelling', 'smells', 'snag', 'snagged', 'snags', 'snaps', 'so', 'soft', 'sometgig', 'somewhat', 'sorely', 'soso', 'sowed', 'span', 'spandexlike', 'spanish', 'spend', 'spending', 'spent', 'split', 'staple', 'starchier', 'started', 'starting', 'static', 'staticfilled', 'staticky', 'sticked', 'sticks', 'stiff', 'still', 'stillbulged', 'stilling', 'stinking', 'stinky', 'stitched', 'stitching', 'stll', 'store', 'storewhere', 'straightleg', 'strait', 'strands', 'strange', 'strangely', 'strangereminds', 'straplessbraandspanx', 'streak', 'stream', 'strings', 'strongest', 'stubborn', 'stuck', 'stunk', 'stunning', 'sturday', 'sturdy', 'stylish', 'subpar', 'such', 'suit', 'super', 'superior', 'supersensitive', 'surrounding', 'sweaters', 'swimwear', 'synthetic', 'tab', 'tablecloth', 'tag', 'tallgirl', 'tapestry', 'tarp', 'tear', 'teared', 'tearing', 'tears', 'techsavvy', 'teenagers', 'teeth', 'temple', 'tendrils', 'terrible', 'terribletwo', 'terribly', 'tester', 'than', 'thank', 'thanks', 'that', 'the', 'themi', 'there', 'these', 'thick', 'thin', 'thinned', 'thinner', 'this', 'though', 'thought', 'thoughz', 'thread', 'threading', 'threads', 'threefourth', 'through', 'throughish', 'throught', 'thrreads', 'tide', 'tight', 'tights', 'time', 'times', 'tonnn', 'tons', 'too', 'toobig', 'toooo', 'topstitching', 'tore', 'toys', 'tragic', 'translucence', 'transparent', 'trash', 'tried', 'tufts', 'turnoff', 'twice', 'twirl', 'ugh', 'ugly', 'ummmm', 'unacceptable', 'unappealing', 'uncheerful', 'uncomfortable', 'uncool', 'uncuff', 'underwhelmed', 'undone', 'uneven', 'unfinished', 'unflattered', 'unflattering', 'unfortunately', 'unfrayed', 'unhemmed', 'unhook', 'unimpressed', 'unlined', 'unmatching', 'unpacked', 'unravel', 'unraveled', 'unraveling', 'unravelled', 'unremarkable', 'unseat', 'us70', 'values', 've', 'versatile', 'versatilegreat', 'vibrant', 'visibly', 'waaaaaaay', 'waist', 'waistup', 'wait', 'walmart', 'want', 'wanted', 'wardrobe', 'warm', 'was', 'wash', 'washed', 'washes', 'washing', 'wasn', 'waster', 'water', 'waterproof', 'way', 'wayy', 'wayyyyyyyy', 'wear', 'wears', 'weather', 'wedding', 'weight', 'weird', 'weirdly', 'wellmade', 'were', 'weren', 'whawha', 'widely', 'windsor', 'winter', 'wish', 'with', 'within', 'without', 'wonderful', 'wonderfully', 'wonky', 'wore', 'work', 'workacceptable', 'worried', 'worst', 'worth', 'worthless', 'would', 'wrinkled', 'wrinkles', 'wrinkly', 'wrong', 'xxxl', 'ya', 'yarns', 'yawn', 'yuck', 'zeal', 'zigzags', 'zip', 'zipper', 'zoiks']\n",
            "Top 10 features at k=10000 ['00', '01', '10', '100', '1000', '100degree', '101', '1015', '1015lbs', '102', '104lbs', '105', '105lbs', '10d', '10uk', '10us', '10x', '10year', '112', '114', '115120lbs', '116', '117', '11s', '12', '120', '120lbs', '1216', '122', '124', '125lbs', '126lbs', '129', '12c', '12e', '12pm', '12uk', '12x', '13', '130135', '134', '135', '135lbs', '13s', '13th', '14', '140', '140lbs', '144', '145', '149', '14yo', '150', '150lbs', '154', '155lbs', '156lbs', '15c', '15lbs', '160', '160cm', '160lbs', '163lbs', '165lbs', '167cms', '168', '168lbs', '16ish', '16uk', '16w18w', '17', '170', '170lb', '170lbs', '173', '175', '178', '17wks', '1820w', '1822', '19', '1920s', '1940s', '1950', '1950s', '1980s', '1size', '1the', '1thread', '1x', '1x2x', '1x4x', '1xi', '1xs', '200', '2000', '200lbs', '2012', '2014', '2015', '2016', '2017', '20cm', '20lbs', '20something', '20th', '20w', '210', '21st', '220', '235', '23x', '24', '2425', '249', '25', '2530', '2535', '25lbs', '26', '260lbs', '2627', '27', '28', '2931', '2cm', '2inch', '2nd', '2pm', '2x', '2x3x', '2xl', '2xs', '30', '30ddd', '30g', '30in', '30something', '30th', '30yearold', '31yearold', '3233in', '32dd', '32ddd', '32f', '32h', '32i', '32in', '332535', '3334', '342637', '3435', '3436', '34a', '34b', '34b2536', '34d', '34dd', '34dds', '34f', '34g', '34in', '34x', '35', '3536', '3638', '36c', '36dd', '36f', '36g', '36h', '37', '38', '382939', '383038', '38b', '38c', '38d', '38h', '38k', '3d', '3inch', '3quarter', '3xli', '40', '403244', '4041', '40d', '40dd', '40e', '40gg', '40ish', '40s', '40s50s', '40something', '40sstyle', '410', '411', '42', '423747', '4245in', '42d', '42dd', '42ddd', '42in', '44', '44ddd', '44f', '45', '453545', '46dd', '49', '4h', '4length', '4p', '4star', '4th', '4x', '50', '50s', '52', '52536', '533', '55', '58kgs', '59', '5foot', '5ft', '5ft2', '5ft2in', '5ft3in', '5inch', '5inches', '5star', '5th', '60', '60ish', '60kgs', '60slike', '61', '62kg', '64', '65', '66', '68', '69', '6ft', '6monthold', '6th', '6yearold', '70', '7080', '70s', '75', '77', '78', '7in', '7m', '7returning', '80', '80100', '80s', '810', '82cmi', '84', '85', '89', '8n', '8uk', '90', '91', '93', '95', '95ish', '96', '97', '99', '_that_', 'a2x', 'aaand', 'aah', 'abc', 'abck', 'abdomen', 'abdominal', 'abfab', 'abhor', 'abide', 'abit', 'abosolutely', 'about', 'above', 'abovetheknee', 'abrasive', 'abroad', 'abruptly', 'abs', 'absent', 'absloutely', 'absolute', 'absolutely', 'absolutley', 'absorb', 'absurd', 'abundance', 'abut', 'abysmal', 'ac', 'acardigan', 'acc', 'accent', 'accented', 'accentuate', 'accentuated', 'accentuates', 'accept', 'acceptable', 'acceptably', 'accesories', 'access', 'accessaries', 'accessible', 'accessories', 'accessorize', 'accessorizing', 'accessory', 'accessorythan', 'accid', 'accommodate', 'accommodates', 'accomodating', 'accompanied', 'accompaniment', 'accordance', 'according', 'account', 'accumulating', 'accurately', 'ace', 'achieved', 'acid', 'ackward', 'acquire', 'across', 'acrylic', 'action', 'active', 'activities', 'activity', 'actor', 'actresses', 'acts', 'actual', 'actuality', 'actually', 'acuskyntorso', 'adams', 'adaptation', 'adaptations', 'add', 'addamsesque', 'addict', 'addicted', 'addiction', 'addition', 'additional', 'additionally', 'additions', 'adds', 'adequate', 'adequately', 'adjust', 'adjustable', 'adjusted', 'adjusting', 'adjustment', 'adma', 'admirers', 'admiring', 'adoooorable', 'adorable', 'adorablegot', 'adorbable', 'adorbale', 'adorbs', 'adore', 'adored', 'adorned', 'adorns', 'adult', 'adventure', 'advert', 'advertised', 'advertises', 'advertising', 'advise', 'advisment', 'ae', 'aesthetic', 'aesthetically', 'aesthetician', 'afar', 'affair', 'affairs', 'affects', 'affixed', 'afford', 'affordability', 'affordable', 'afraid', 'afreakindorable', 'africa', 'after', 'afternoon', 'afterward', 'against', 'aged', 'ages', 'aggravating', 'aging', 'agitation', 'agitator', 'ago', 'agonizing', 'agr', 'agree', 'agreeable', 'ahead', 'ahh', 'ahhhed', 'ahhhh', 'ahirt', 'ahmazing', 'aiding', 'ain', 'air', 'airdrying', 'aires', 'airey', 'airiness', 'airing', 'airless', 'airplane', 'airport', 'airy', 'airyif', 'aka', 'akin', 'akward', 'akwardly', 'alabama', 'alarmed', 'alas', 'alaska', 'albeit', 'albuquerque', 'alcohol', 'aldo', 'algood', 'alice', 'alien', 'align', 'aligned', 'alike', 'alil', 'aline', 'alines', 'alittle', 'alive', 'all', 'alland', 'allday', 'allergic', 'alleviate', 'allgetout', 'allif', 'allinone', 'alll', 'alllll', 'allllll', 'allllllllmost', 'allot', 'allow', 'allowing', 'allows', 'allseasons', 'allsynthetic', 'allthere', 'alltime', 'allure', 'almost', 'along', 'alot', 'aloy', 'already', 'alreadywide', 'alright', 'alrightish', 'als', 'also', 'alter', 'alterable', 'alteration', 'alterations', 'alteratuons', 'altered', 'alternates', 'alternative', 'alternatives', 'altho', 'although', 'altough', 'always', 'alwayssss', 'am', 'amaaaazing', 'amazed', 'amazing', 'amazingggg', 'amazinggggg', 'amazingly', 'amazingness', 'amazonian', 'ambiance', 'amd', 'ameliorate', 'amen', 'america', 'americans', 'amethyst', 'amishesqe', 'ammedium', 'among', 'amount', 'amp', 'amped', 'ampleness', 'amusement', 'amusing', 'amyself', 'an', 'ana', 'analysis', 'analyze', 'anatomical', 'and', 'andy', 'angel', 'angeles', 'angels', 'angle', 'angular', 'animal', 'animals', 'anjkes', 'ankles', 'annd', 'annie', 'annieish', 'anniversary', 'annoy', 'annoyance', 'annoying', 'annoyingly', 'annoys', 'anntaylor', 'annual', 'another', 'anriiron', 'ans', 'ant', 'anther', 'anthing', 'anthropologie', 'anthropology', 'anti', 'anticipated', 'anticipating', 'anticipation', 'antiques', 'antistatic', 'anvils', 'anxiety', 'anxious', 'anxiously', 'any', 'anybody', 'anyhow', 'anylonger', 'anymore', 'anyone', 'anything', 'anywarmth', 'anyway', 'anywhere', 'anywy', 'ao', 'aok', 'aournd', 'ap', 'aparently', 'apart', 'apartment', 'apologies', 'apparent', 'apparently', 'appealing', 'appeared', 'appearing', 'appears', 'appendages', 'appetizer', 'appleshape', 'appleshaped', 'applicable', 'applied', 'applies', 'appliqu', 'applique', 'apply', 'apposed', 'appoximately', 'appreciated', 'appreciates', 'appreciation', 'apprehensive', 'appro', 'approaches', 'approaching', 'appropriate', 'appropriately', 'approval', 'approved', 'apricot', 'april', 'apt', 'aptly', 'aqua', 'aquarium', 'arch', 'arctic', 'are', 'area', 'areabut', 'areasbig', 'aren', 'arena', 'arent', 'areso', 'argh', 'argue', 'arizona', 'arkansas', 'arm', 'armour', 'armpit', 'armpits', 'arms', 'armscye', 'armsif', 'armsythe', 'army', 'arnt', 'around', 'aroundit', 'arranged', 'array', 'arrive', 'arrived', 'arrivedi', 'arrives', 'arriving', 'arrow', 'arse', 'art', 'article', 'articulates', 'artificial', 'artist', 'artistic', 'arts', 'artwalk', 'as', 'ascot', 'ash', 'ashamed', 'aside', 'ask', 'asked', 'asking', 'asks', 'aspect', 'aspiring', 'assess', 'assistance', 'assistant', 'assumed', 'assumes', 'assuming', 'assumption', 'assured', 'assuredly', 'assymetrical', 'assymetry', 'astonishing', 'astray', 'astro', 'astronauts', 'astronomy', 'asu', 'asymmetric', 'asymmetrical', 'at', 'ate', 'atlanta', 'atrocious', 'att', 'attached', 'attaches', 'attaching', 'attack', 'attacked', 'attempt', 'attempted', 'attendant', 'attendanty', 'attended', 'attenion', 'attention', 'attentiongetting', 'attentive', 'attest', 'attested', 'attire', 'attitude', 'attorney', 'attorneys', 'attract', 'attracted', 'attracts', 'attributed', 'auction', 'audibly', 'audience', 'audition', 'audrey', 'audry', 'augments', 'august', 'aunt', 'aus', 'aus18', 'aussies', 'austin', 'australia', 'authentic', 'authentically', 'authority', 'automatic', 'autum', 'autumn', 'autumnal', 'autumnwinter', 'av', 'avail', 'availability', 'available', 'avaliable', 'average', 'avg', 'aviatrix', 'avoid', 'avoided', 'avoids', 'aw', 'award', 'awards', 'aware', 'away', 'awed', 'aweful', 'awesome', 'awesomely', 'awesomeness', 'awful', 'awfull', 'awfully', 'awkward', 'awkwardly', 'awkwardlythe', 'awkwardness', 'awnings', 'awry', 'awsome', 'aww', 'awwwww', 'azur', 'ba', 'baaaarely', 'babe', 'baby', 'babydoll', 'babydolltype', 'babying', 'bacause', 'back', 'backcouldn', 'backer', 'backfat', 'background', 'backit', 'backlight', 'backpack', 'backstage', 'backup', 'backups', 'bacon', 'bacterial', 'bad', 'bada', 'badly', 'bae', 'baffled', 'bag', 'bagged', 'baggie', 'baggier', 'bagginess', 'baggy', 'bah', 'baht', 'bait', 'baking', 'balance', 'balk', 'ball', 'ballad', 'balled', 'ballerina', 'ballet', 'balling', 'ballooned', 'balls', 'bally', 'bananarepublic', 'band', 'bandage', 'banded', 'banding', 'bandmate', 'bands', 'bang', 'bangon', 'bank', 'banking', 'banquet', 'barbecues', 'bare', 'barefoot', 'barefooted', 'barely', 'bargain', 'baring', 'barista', 'barley', 'barn', 'bars', 'bartending', 'base', 'baseball', 'based', 'bases', 'bash', 'basic', 'basically', 'basicbutinteresting', 'basictrue', 'basil', 'basketball', 'bast', 'batch', 'bathrobe', 'bathroom', 'batista', 'batman', 'bats', 'battered', 'battle', 'batwing', 'batwings', 'baubles', 'bave', 'bb', 'bbq', 'bc', 'bcuz', 'be', 'bead', 'beading', 'beads', 'beagle', 'beale', 'bear', 'bearable', 'bearing', 'bears', 'beast', 'beasts', 'beatnik', 'beats', 'beauitful', 'beaut', 'beauties', 'beautifu', 'beautiful', 'beautifull', 'beautifully', 'beautifullyalthough', 'beauty', 'became', 'becaue', 'becaues', 'because', 'become', 'becomes', 'becoming', 'bed', 'bedding', 'bedroom', 'bee', 'beef', 'beehive', 'beeing', 'been', 'beer', 'bees', 'beeswax', 'before', 'beforeat', 'began', 'beggars', 'begging', 'begin', 'beginnings', 'begins', 'begone', 'begrudgingly', 'begs', 'begun', 'behind', 'beige', 'beijing', 'being', 'believe', 'believed', 'believing', 'bell', 'bellbottom', 'belle', 'belling', 'belllike', 'bellow', 'bells', 'belly', 'bellybutton', 'bellyconfidence', 'belong', 'belonged', 'belongs', 'below', 'belowtheknee', 'belt', 'belted', 'belting', 'belts', 'ben', 'bending', 'bends', 'benefits', 'bent', 'bermuda', 'bernadette', 'bernie', 'berry', 'bery', 'beside', 'besides', 'best', 'bestcardigansanywhere', 'bestie', 'bestsellers', 'betsey', 'better', 'betterlooking', 'bettie', 'betting', 'betty', 'between', 'betwen', 'beutiful', 'beutifull', 'beware', 'bewhich', 'bey', 'beyond', 'bf', 'bias', 'biased', 'bib', 'bicep', 'biceps', 'bicycle', 'bid', 'biege', 'bif', 'big', 'bigbox', 'bigbusted', 'bigbuttproblems', 'bigchested', 'bigfoot', 'bigger', 'biggest', 'biggie', 'bigi', 'bigish', 'bigs', 'bike', 'biker', 'biking', 'bill', 'billed', 'billiards', 'billowed', 'billowing', 'billows', 'billowy', 'binder', 'binding', 'binds', 'bing', 'bioshock', 'bird', 'birds', 'birkenstocks', 'birth', 'birthday', 'birthing', 'biscuits', 'bit', 'biti', 'biting', 'bitoh', 'bitterly', 'bizarre', 'bizarrely', 'black', 'blackandwhite', 'blackblack', 'blackmilk', 'blacks', 'blade', 'blades', 'blah', 'blame', 'bland', 'blank', 'blast', 'blazer', 'blazerand', 'blazeri', 'blazerlike', 'blazerperfect', 'blazers', 'bled', 'bleed', 'bleeding', 'bleedthrough', 'bleh', 'blend', 'blessedly', 'blessing', 'bleu', 'blew', 'blinding', 'blingy', 'blink', 'blizzard', 'blk', 'bloat', 'blob', 'block', 'blocked', 'blocky', 'blogger', 'blonde', 'blonds', 'bloom', 'bloomsbury', 'blossom', 'blouse', 'blouseand', 'bloused', 'blouses', 'blousier', 'blousing', 'blousy', 'blousyness', 'blow', 'blown', 'blue', 'blueberry', 'blueishpurple', 'bluer', 'blues', 'bluethey', 'blustery', 'bo', 'board', 'boardroom', 'boat', 'boatnecks', 'bobbed', 'bobbing', 'bobbles', 'bobbly', 'bod', 'bodice', 'bodicr', 'bodied', 'bodies', 'bods', 'body', 'bodytype', 'bodytypes', 'bodywill', 'bohemian', 'boho', 'bold', 'bolero', 'bolt', 'bomber', 'bon', 'boned', 'bonus', 'bonusno', 'bony', 'boo', 'boob', 'boobed', 'boobies', 'booboo', 'boobs', 'boobsmall', 'boogie', 'boogies', 'book', 'bookie', 'bookkeeper', 'books', 'bookshop', 'bookworm', 'booo', 'boooo', 'boosms', 'bootay', 'bootcut', 'bootie', 'booties', 'bootilicous', 'bootleg', 'boots', 'bordered', 'borderline', 'borders', 'boring', 'born', 'borrowing', 'bosom', 'bosoms', 'bossom', 'boston', 'bosy', 'bot', 'botanical', 'both', 'bother', 'bothered', 'bothering', 'bothers', 'bothersome', 'bottem', 'bottom', 'bottoms', 'botton', 'botyom', 'bought', 'bouncy', 'bout', 'boutique', 'bow', 'box', 'boxes', 'boxier', 'boxy', 'boys', 'boyshorts', 'bra', 'bracket', 'brackets', 'bradley', 'braid', 'braided', 'brained', 'brainer', 'brainier', 'brainwash', 'braless', 'braline', 'brands', 'brandthe', 'bras', 'brassy', 'brave', 'bread', 'break', 'breakdown', 'breaker', 'breakers', 'breakfast', 'breaking', 'breaks', 'breast', 'breasted', 'breastfeeding', 'breastmilk', 'breasts', 'breath', 'breathable', 'breathe', 'breathes', 'breaths', 'breathtaking', 'breathy', 'breats', 'breazy', 'breed', 'breeze', 'breezier', 'breezy', 'brewers', 'brick', 'bridal', 'bride', 'bridesmaid', 'bridesmaides', 'bridesmaids', 'bright', 'brightlycolored', 'brightness', 'brilliance', 'brilliant', 'brilliantly', 'brillo', 'bringing', 'brisk', 'brite', 'bro', 'broad', 'broadcloth', 'broader', 'brocade', 'brogled', 'broke', 'broken', 'bronze', 'brooch', 'brooklyn', 'brother', 'brothers', 'brought', 'brown', 'brownish', 'browns', 'browse', 'brunch', 'brunchbut', 'brunches', 'brush', 'brushed', 'brushes', 'bryant', 'btl', 'btw', 'bu', 'bubble', 'bubblebutt', 'bubbled', 'bubblegum', 'bubblegumy', 'bubbles', 'bucket', 'buckle', 'buckling', 'bucks', 'buddha', 'budge', 'budgeting', 'budging', 'bueno', 'buenos', 'buffalo', 'bug', 'bugged', 'bugle', 'buhbye', 'build', 'builder', 'builders', 'built', 'builtin', 'buldgey', 'bulge', 'bulged', 'bulges', 'bulgey', 'bulgy', 'bulk', 'bulkiness', 'bulky', 'bullet', 'bum', 'bumbed', 'bummed', 'bummer', 'bumming', 'bump', 'bumped', 'bumping', 'bumps', 'bums', 'bun', 'bunch', 'bunched', 'bunches', 'bunchie', 'bunchier', 'bunching', 'bunchy', 'bundle', 'bundled', 'bundling', 'bunny', 'bur', 'burgandy', 'burial', 'buried', 'burlap', 'burlesquey', 'burly', 'burned', 'burning', 'burst', 'bust', 'buste', 'busted', 'buster', 'busti', 'bustier', 'bustiness', 'busting', 'bustle', 'bustline', 'bustwise', 'busty', 'bustyand', 'busy', 'busyellow', 'but', 'buts', 'butt', 'buttcrack', 'butted', 'buttflap', 'butthe', 'buttocks', 'button', 'buttonattachment', 'buttoned', 'buttonedi', 'buttonedup', 'buttonfly', 'buttonhole', 'buttonholes', 'buttoning', 'buttonned', 'buttons', 'buttonup', 'butts', 'buttso', 'buuuuut', 'buy', 'buyer', 'buyers', 'buying', 'buys', 'buytwo', 'buzz', 'by', 'ca', 'cabbage', 'cable', 'caboose', 'cacti', 'cactus', 'cad', 'cadi', 'cafe', 'cage', 'cake', 'cakes', 'calendar', 'calf', 'calfs', 'california', 'call', 'callout', 'calls', 'calmed', 'calves', 'calvin', 'came', 'camel', 'camelcoloured', 'cami', 'camis', 'camisole', 'camisolew', 'cammies', 'cammy', 'camo', 'camouflage', 'camouflaged', 'camouflages', 'camp', 'camping', 'can', 'canada', 'canadians', 'canary', 'cancel', 'canceled', 'cancelled', 'candid', 'candle', 'candy', 'candyfloss', 'cannot', 'cant', 'canvasy', 'cap', 'capacity', 'cape', 'capey', 'capitol', 'capped', 'capri', 'capris', 'caps', 'capsleeve', 'capsleeved', 'capsule', 'captivated', 'captured', 'car', 'cardboard', 'cardi', 'cardiagen', 'cardie', 'cardies', 'cardigan', 'cardigana', 'cardiganand', 'cardigani', 'cardigans', 'cardigansi', 'cardigansthey', 'cardigansworking', 'cardiganwhich', 'cardingan', 'cardio', 'cardis', 'cardy', 'cardys', 'care', 'cared', 'career', 'carefree', 'careful', 'carefully', 'cargigan', 'cargos', 'carigan', 'carnigan', 'caroline', 'carrying', 'cars', 'carter', 'cartigan', 'carty', 'cartys', 'cas', 'casal', 'cascade', 'cascading', 'case', 'cash', 'casings', 'cast', 'castoff', 'casual', 'casualdayatwork', 'casually', 'casuals', 'casualties', 'casualworkwear', 'cat', 'catastrophe', 'catastrophically', 'catcalling', 'catch', 'catcher', 'catches', 'catchi', 'catching', 'category', 'catlover', 'cato', 'cats', 'caucasian', 'caught', 'causally', 'caused', 'causes', 'causing', 'causious', 'caution', 'cautionary', 'cautious', 'caveat', 'ccup', 'ceases', 'celeb', 'celebrate', 'celebration', 'celebrations', 'celio', 'cello', 'cellphone', 'cellulitey', 'censor', 'cent', 'center', 'centered', 'centers', 'centimeter', 'centimetres', 'centred', 'cents', 'century', 'ceremonies', 'ceremony', 'certainly', 'certificate', 'chaff', 'chai', 'chairs', 'chalk', 'chalked', 'challenged', 'chambray', 'champ', 'chance', 'chanced', 'change', 'changed', 'changing', 'chaotic', 'char', 'character', 'characterful', 'charcoal', 'charge', 'charged', 'charity', 'charm', 'charming', 'charms', 'charter', 'charterhouse', 'charters', 'chartreuse', 'chat', 'chatted', 'cheap', 'cheaped', 'cheapen', 'cheapens', 'cheaper', 'cheapest', 'cheapfeeling', 'cheapish', 'cheaplooking', 'cheaply', 'cheaplymade', 'cheapy', 'cheat', 'cheated', 'checkered', 'checking', 'checks', 'cheeked', 'cheep', 'cheerful', 'cheery', 'cheesy', 'chemical', 'chemically', 'chemicals', 'chemicaly', 'chemistry', 'cherry', 'cherryred', 'chest', 'chested', 'chestier', 'chestprobably', 'chests', 'chevron', 'chew', 'chewed', 'chi', 'chic', 'chicago', 'chichi', 'chicks', 'chicness', 'child', 'childish', 'children', 'childsicknesses', 'chill', 'chilled', 'chillin', 'chilling', 'chillingathome', 'chills', 'chilly', 'china', 'chinese', 'chinsy', 'chintzy', 'chip', 'chocking', 'chocolate', 'choker', 'chokes', 'choking', 'chomped', 'choose', 'choosecarefully', 'choosers', 'choosing', 'chose', 'christmas', 'christmassy', 'christmasy', 'chronic', 'chronicles', 'chubb', 'chubbier', 'chubrub', 'chuck', 'chunk', 'chunkiness', 'chunky', 'church', 'churches', 'churchish', 'chute', 'cinderelladress', 'cindy', 'circle', 'circletype', 'circulated', 'circus', 'cite', 'cities', 'citrus', 'city', 'cl', 'claimed', 'claps', 'clarifying', 'clasp', 'clasped', 'clasps', 'claspthing', 'class', 'classes', 'classic', 'classical', 'classically', 'classics', 'classmates', 'classy', 'claus', 'clean', 'cleaned', 'cleaner', 'cleaners', 'cleaning', 'cleanings', 'cleanly', 'clear', 'clearance', 'cleared', 'clearer', 'clearly', 'cleavage', 'cleave', 'clever', 'cleverly', 'click', 'client', 'clients', 'climates', 'climbs', 'clincher', 'clinger', 'clinginess', 'clinging', 'clings', 'clingy', 'clips', 'cloak', 'clolors', 'close', 'closefitting', 'closely', 'closeness', 'closer', 'closest', 'closet', 'closets', 'cloth', 'clothcovered', 'clothes', 'clothespins', 'clothesshopping', 'clothing', 'clothingfyi', 'cloud', 'cloudy', 'clould', 'clours', 'clown', 'clowning', 'clownish', 'clowny', 'club', 'clump', 'clumps', 'clumpy', 'clung', 'clutch', 'clutches', 'cms', 'co', 'coach', 'coachella', 'coarse', 'coarser', 'coast', 'coastal', 'coat', 'coats', 'coatseriously', 'coaxing', 'cobalt', 'cocktail', 'cocktails', 'cocoa', 'code', 'coffin', 'coil', 'coincidence', 'colar', 'cold', 'colder', 'coldest', 'coldwater', 'coldweather', 'cole', 'collar', 'collarbones', 'collars', 'colleagues', 'collect', 'collected', 'collectif', 'collecting', 'collection', 'collector', 'collects', 'college', 'colletage', 'colo', 'color', 'colorant', 'coloration', 'colore', 'colored', 'colores', 'colorfast', 'colorful', 'coloring', 'colorreally', 'colors', 'colorsit', 'colorsnavy', 'colour', 'coloured', 'colouring', 'colours', 'coloursecond', 'column', 'com', 'comb', 'combination', 'combine', 'combined', 'combines', 'combing', 'come', 'comes', 'comet', 'comfertable', 'comfey', 'comfiest', 'comforable', 'comfortable', 'comfortableeven', 'comfortableperfect', 'comfortably', 'comforter', 'comfortwise', 'comfotable', 'comfty', 'comfy', 'comfy3', 'comfycute', 'comic', 'comical', 'coming', 'comission', 'commensurately', 'comment', 'commenter', 'comments', 'commit', 'communicates', 'community', 'commute', 'commutes', 'companies', 'companion', 'company', 'comparably', 'comparative', 'comparatively', 'compare', 'compared', 'compares', 'comparing', 'comparison', 'compatible', 'compel', 'compements', 'compensate', 'competitions', 'compiments', 'complaining', 'complaint', 'complaints', 'complement', 'complementary', 'complemented', 'complements', 'complete', 'completed', 'completely', 'compliant', 'complicate', 'complications', 'complimebts', 'complimentary', 'complimentative', 'complimented', 'complimenting', 'compliments', 'complimentsome', 'complments', 'comply', 'component', 'compresses', 'compromises', 'compromising', 'compulsive', 'compute', 'computer', 'con', 'concave', 'concealed', 'conceals', 'conceived', 'concentrated', 'concept', 'concern', 'concerning', 'concerns', 'concert', 'concerts', 'concidering', 'conclude', 'conclusions', 'condition', 'conditioned', 'conditioner', 'conditioning', 'conditions', 'condtition', 'conducive', 'conealed', 'conference', 'conferences', 'confess', 'confident', 'confidentit', 'configuration', 'conflicted', 'conform', 'conforms', 'confortable', 'confuse', 'confused', 'confusing', 'confusion', 'congressman', 'conjunction', 'connect', 'connected', 'connects', 'connoisseur', 'conpliments', 'cons', 'conscience', 'conscientious', 'conscious', 'consecutively', 'conservative', 'considerable', 'considerably', 'considered', 'considering', 'consigned', 'consistency', 'conspicuous', 'conspills', 'constant', 'constantly', 'constellations', 'constrained', 'constraining', 'constrict', 'constricted', 'constricting', 'constrictive', 'constricts', 'constructed', 'construction', 'consulted', 'consumer', 'consuming', 'contact', 'contain', 'container', 'contemplating', 'contending', 'content', 'contents', 'contest', 'contestalthough', 'continental', 'continually', 'continued', 'continues', 'continuing', 'continuous', 'contious', 'contortionist', 'contour', 'contours', 'convenience', 'convenient', 'convention', 'conversation', 'converse', 'conversely', 'convert', 'convertible', 'converting', 'convince', 'coo', 'coobie', 'cooking', 'cool', 'cooler', 'coolest', 'coolness', 'cools', 'coordinate', 'coordinated', 'coordinates', 'coouldn', 'copies', 'copper', 'coppery', 'copy', 'coral', 'cording', 'corduroy', 'corn', 'corners', 'corporate', 'corrected', 'correctly', 'correspond', 'corsetry', 'cos', 'cosiderably', 'cosplay', 'cost', 'costeffective', 'costing', 'costly', 'costs', 'costume', 'costumelike', 'costumes', 'costumey', 'costumy', 'cosy', 'coton', 'cotten', 'cottn', 'cotton', 'cottonpoly', 'cottontwill', 'couch', 'couldn', 'couldnt', 'count', 'counted', 'counter', 'counteract', 'counterpart', 'counterparts', 'counting', 'countless', 'countries', 'country', 'coupe', 'couple', 'coupled', 'coupleinches', 'coupon', 'courageous', 'course', 'court', 'courthouse', 'cousin', 'couture', 'cover', 'coverage', 'covered', 'covers', 'covert', 'coverup', 'coverups', 'coveryourarmsatwork', 'coveted', 'cowboy', 'cowel', 'cowgirl', 'cowl', 'cowllike', 'cowltype', 'coworker', 'coworkers', 'coz', 'cozier', 'coziest', 'coziness', 'cozy', 'cozycombos', 'cracked', 'cracking', 'craft', 'crafter', 'craftsmanship', 'crafty', 'cranberry', 'cranny', 'crap', 'crappy', 'crapshoot', 'crave', 'craving', 'crawl', 'crayon', 'craze', 'crazy', 'crazycat', 'crazycomfortable', 'creamcolored', 'creamier', 'creams', 'creamy', 'creasable', 'creased', 'creases', 'creasing', 'creat', 'creating', 'creation', 'creatively', 'credit', 'creditcard', 'credits', 'creep', 'creepers', 'creeps', 'creepy', 'creme', 'crenoline', 'crepe', 'crepelike', 'crest', 'crew', 'criminally', 'crimson', 'cringed', 'crinkling', 'crinkly', 'crinoline', 'crisply', 'crisscross', 'crisscrossed', 'criteria', 'criticism', 'critique', 'critiques', 'crochet', 'crock', 'crooked', 'crookedly', 'crop', 'cropped', 'croppedcardi', 'cross', 'crossbody', 'crossed', 'crossover', 'crosszip', 'crotch', 'crouch', 'crow', 'crowd', 'crown', 'crucial', 'cruel', 'cruise', 'crumble', 'crumbled', 'crummy', 'crumple', 'crumpled', 'crumples', 'crunchy', 'crush', 'crushed', 'crushes', 'crushing', 'cry', 'csection', 'ct', 'cuddly', 'cue', 'cuff', 'cuffing', 'cuffs', 'cult', 'culture', 'cumbersome', 'cumfy', 'cummerbund', 'cupage', 'cupcakey', 'cups', 'curious', 'curiously', 'curl', 'curled', 'curls', 'currently', 'curry', 'cursing', 'curtain', 'curtains', 'curved', 'curverevealing', 'curves', 'curvey', 'curvier', 'curviest', 'curving', 'curvless', 'curvy', 'curvymindy', 'cushion', 'cusp', 'customer', 'customers', 'customizable', 'cut', 'cute', 'cutedress', 'cuteget', 'cuteness', 'cuter', 'cutesie', 'cutest', 'cutesy', 'cutewasn', 'cutie', 'cutmaybe', 'cutoffs', 'cuts', 'cutsie', 'cutter', 'cutting', 'cuuuute', 'cuuuuute', 'cuuuuutttteeeee', 'cuz', 'cyber', 'cycle', 'cz', 'da', 'dad', 'dads', 'daggy', 'dailly', 'daily', 'dainty', 'daisies', 'dakota', 'damage', 'damaged', 'damages', 'damaging', 'damask', 'dance', 'danced', 'dancers', 'dancing', 'dandyish', 'dane', 'dang', 'dangerous', 'dangerously', 'dangling', 'dapper', 'dared', 'daring', 'dark', 'darker', 'darkest', 'darkness', 'darks', 'darkwash', 'darling', 'darlingi', 'darted', 'dashed', 'dashing', 'dat', 'date', 'datenight', 'dates', 'daughterinlaw', 'daughters', 'day', 'daydress', 'daylight', 'days', 'daysstill', 'daytime', 'daytonight', 'dc', 'dd', 'ddd', 'ddds', 'dds', 'deaccentuate', 'dead', 'deal', 'dealbreaker', 'dealbreakers', 'dealt', 'dear', 'dearest', 'debacle', 'debris', 'decades', 'decal', 'deceivingdress', 'december', 'decency', 'decent', 'decently', 'decentlymade', 'deceptive', 'deceptively', 'decided', 'decides', 'decision', 'decisions', 'deck', 'declared', 'decline', 'decolletage', 'decorate', 'decoration', 'decreased', 'dedicated', 'deep', 'deepenoughtouse', 'deeper', 'deeply', 'default', 'defeated', 'defeats', 'defect', 'defective', 'defense', 'deff', 'definately', 'definatley', 'defined', 'defines', 'definite', 'definitelu', 'definitely', 'definitive', 'definitively', 'defintely', 'deft', 'defuzz', 'defy', 'deg', 'degrade', 'degree', 'delays', 'delegates', 'deliberating', 'delicacy', 'delicate', 'delicated', 'delicately', 'delicious', 'deliciously', 'delight', 'delightful', 'delightfully', 'deliriously', 'deliverers', 'delude', 'demin', 'demonstrating', 'demure', 'denim', 'denimish', 'denmark', 'dense', 'dent', 'denver', 'denying', 'deodorant', 'department', 'depending', 'depict', 'depicted', 'depicting', 'depill', 'depiller', 'depite', 'depressed', 'depressingly', 'depression', 'dept', 'depth', 'des', 'desapointement', 'descent', 'descibed', 'described', 'describing', 'describtion', 'description', 'descriptions', 'deseapers', 'deserve', 'deserves', 'desiderate', 'design', 'designalmost', 'designated', 'designed', 'designers', 'designit', 'designs', 'desing', 'desire', 'desired', 'desk', 'desperate', 'desperately', 'despite', 'dessous', 'destination', 'destroyed', 'detach', 'detachable', 'detached', 'detaching', 'detail', 'detailed', 'details', 'detatched', 'detect', 'detector', 'detergent', 'detergents', 'deteriorated', 'deteriorates', 'deteriorating', 'determine', 'determined', 'determining', 'detriment', 'devastated', 'develop', 'developed', 'developing', 'develops', 'devestated', 'devoted', 'dewrinkle', 'dewrinkled', 'dexter', 'diagonal', 'diagonally', 'diamond', 'diaper', 'dicey', 'dickie', 'dictate', 'dictionary', 'did', 'didin', 'didn', 'didnt', 'didnti', 'die', 'died', 'diego', 'diehard', 'diet', 'dieting', 'different', 'differently', 'differentlymuch', 'difficult', 'difficultly', 'digging', 'diggity', 'digs', 'diguise', 'dijon', 'dilemma', 'dim', 'dimension', 'dimensions', 'diminish', 'diminished', 'diminishes', 'dimly', 'dimple', 'dimpling', 'din', 'diner', 'dingy', 'dining', 'dinner', 'dinners', 'dinofor', 'dinos', 'dinosaurs', 'dipped', 'dir', 'dire', 'direct', 'directed', 'directions', 'director', 'dirt', 'dirty', 'dirtylooking', 'dis', 'disapointing', 'disappear', 'disappeared', 'disappears', 'disappinted', 'disappoint', 'disappointed', 'disappointedi', 'disappointedmaterial', 'disappointing', 'disappointingly', 'disappointment', 'disappointments', 'disastrous', 'disclosed', 'disco', 'discoloration', 'discolour', 'disconnection', 'discount', 'discounted', 'discouraged', 'discover', 'discovered', 'discreet', 'discret', 'disenchanted', 'disguise', 'disguises', 'disguising', 'dish', 'disheveled', 'dishwasher', 'disintegrate', 'disintegrated', 'disintegrating', 'dislike', 'disliked', 'dislikes', 'dislocated', 'dislodged', 'dismay', 'disneyland', 'displacing', 'display', 'displayed', 'displays', 'displeased', 'disposable', 'disproportionate', 'dissapointed', 'dissapointing', 'dissapointment', 'dissappointed', 'dissappointing', 'dissappointment', 'dissatisfaction', 'dissatisfied', 'dissipated', 'distance', 'distances', 'distant', 'distasteful', 'distinct', 'distinctive', 'distorts', 'distract', 'distracted', 'distracting', 'distracts', 'distraught', 'distress', 'distressingly', 'ditch', 'ditto', 'dive', 'diverse', 'diversity', 'divine', 'divinely', 'dk', 'do', 'docked', 'docking', 'docs', 'doctor', 'doctors', 'doens', 'does', 'doesn', 'doesnt', 'doest', 'dog', 'dogg', 'doggies', 'doglover', 'dogs', 'doilies', 'doing', 'doll', 'dollar', 'dollars', 'dolled', 'dolls', 'dolmanlike', 'dolor', 'dome', 'domed', 'domesticated', 'don', 'donate', 'donated', 'donating', 'donation', 'done', 'doneup', 'donning', 'donut', 'donuts', 'doodad', 'doodle', 'doom', 'door', 'doorway', 'dorky', 'dose', 'dosen', 'dota', 'dotage', 'doth', 'dotted', 'double', 'doublebreasted', 'doublechecked', 'doubled', 'doublesided', 'doubletakes', 'doublezipper', 'doubt', 'doubted', 'doubting', 'dove', 'dowdiness', 'dowdy', 'down', 'downer', 'downfall', 'downfalli', 'downhill', 'downi', 'downit', 'downplayed', 'downright', 'downs', 'downside', 'downsides', 'downsize', 'downsized', 'downsizing', 'dozen', 'dozens', 'dr', 'drab', 'drabs', 'drafty', 'drag', 'drags', 'drain', 'drama', 'dramatic', 'dramatically', 'drape', 'draped', 'drapes', 'draping', 'drapy', 'drastic', 'drawback', 'drawbacks', 'drawer', 'drawn', 'drawstrings', 'dreaded', 'dreadful', 'dreading', 'dream', 'dreamofthecrop', 'dreams', 'dreamy', 'drees', 'dreses', 'dress', 'dressand', 'dressanother', 'dressed', 'dressedup', 'dresses', 'dresseses', 'dressfits', 'dressform', 'dressgreat', 'dresshowever', 'dressi', 'dressier', 'dressiness', 'dressing', 'dressit', 'dressladen', 'dresslength', 'dressmost', 'dressthe', 'dressup', 'dressvery', 'dresswithjeans', 'dressy', 'dressycasual', 'dried', 'drier', 'drink', 'drinking', 'drip', 'drive', 'drives', 'drizzly', 'drone', 'drool', 'drooled', 'drooling', 'droop', 'drooped', 'droopey', 'droopily', 'droops', 'droopy', 'dropped', 'dropping', 'drops', 'dropwaist', 'droughtfriendly', 'drove', 'drowned', 'dry', 'dryclean', 'drycleaning', 'dryel', 'dryer', 'dryers', 'drying', 'dsw', 'du', 'dubious', 'duck', 'dud', 'dude', 'duds', 'due', 'dull', 'duller', 'dumb', 'dumbledore', 'dummy', 'dump', 'dumpy', 'dungeon', 'dunhappy', 'dunno', 'dupe', 'durability', 'durable', 'duration', 'during', 'dust', 'dutchy', 'duts', 'dwarfed', 'dwarfing', 'dye', 'dyed', 'dyeing', 'dying', 'dynamite', 'each', 'eager', 'ear', 'earlier', 'early', 'earned', 'earrings', 'ears', 'ease', 'easier', 'easiest', 'easilubbe', 'easily', 'east', 'easter', 'easy', 'easygoing', 'eating', 'ebay', 'ebbs', 'eccentric', 'eccentricities', 'ecommerce', 'ect', 'ed', 'edged', 'edges', 'edgey', 'edgy', 'editing', 'eeeek', 'eek', 'effect', 'effective', 'efficienttoafault', 'effie', 'effort', 'effortless', 'effortlessly', 'eh', 'ehh', 'ehhh', 'ehhhh', 'eight', 'eighth', 'either', 'eitheryou', 'el', 'elastasized', 'elastic', 'elasticated', 'elasticback', 'elasticised', 'elasticized', 'elastics', 'elbow', 'elbowleaner', 'elderly', 'electricity', 'elegance', 'elegant', 'elephant', 'elephants', 'eleven', 'elicits', 'elizabeth', 'elle', 'elongated', 'elope', 'eloped', 'elopement', 'else', 'elses', 'elsewhere', 'elusive', 'em', 'email', 'embarrassed', 'embarrassing', 'embarrassingly', 'embarrassment', 'embellishments', 'embody', 'embrace', 'embrodary', 'embroider', 'emerald', 'emily', 'emma', 'emphasised', 'emphasize', 'emphasized', 'emphasizes', 'emphasizing', 'employ', 'employee', 'employment', 'empty', 'en', 'enamoured', 'enchanted', 'encounter', 'end', 'ended', 'ender', 'ending', 'endless', 'endlessly', 'endorse', 'endowed', 'ends', 'endures', 'enemies', 'enemy', 'engagement', 'english', 'engulfed', 'enjoy', 'enjoyable', 'enjoyed', 'enjoying', 'enjoys', 'enlarged', 'enormous', 'enormously', 'enough', 'enought', 'enter', 'entering', 'entertaining', 'enthralled', 'enthusiast', 'enthusiastic', 'entire', 'entirely', 'entirety', 'envision', 'envisioned', 'eould', 'epoxy', 'equal', 'equality', 'equals', 'equates', 'equation', 'equine', 'equipped', 'er', 'era', 'erg', 'errand', 'errands', 'erred', 'error', 'errors', 'ers', 'erykah', 'es', 'esc', 'esley', 'especially', 'especialy', 'esq', 'essential', 'essentially', 'est', 'esteem', 'estes', 'estimate', 'et', 'ethereal', 'ethnic', 'euro', 'europe', 'european', 'evans', 'eve', 'even', 'evening', 'evenings', 'evenly', 'evens', 'event', 'events', 'ever', 'everchanging', 'every', 'everyday', 'everyone', 'everyonewhich', 'everything', 'everythingz', 'everytime', 'everyway', 'everywhere', 'evidenced', 'evident', 'evidently', 'evolution', 'evrything', 'ewe', 'ewww', 'ex', 'exacerbated', 'exact', 'exacting', 'exactly', 'exaggerated', 'exaggerating', 'exaggeration', 'examine', 'example', 'exceeded', 'exceedingly', 'exceeds', 'excelent', 'excellence', 'excellent', 'excentuates', 'excentuatse', 'except', 'excepted', 'excepting', 'exceptional', 'exceptionally', 'excersize', 'excessive', 'excessively', 'exchange', 'exchanged', 'exchanges', 'exchanging', 'excited', 'excitedly', 'excitement', 'excites', 'exciting', 'exclusively', 'excuse', 'excuses', 'executed', 'execution', 'exempt', 'exercise', 'exercising', 'exfoliator', 'exhcanged', 'exhibit', 'existing', 'exists', 'exlarge', 'expand', 'expandable', 'expanding', 'expands', 'expect', 'expectantly', 'expectation', 'expectations', 'expected', 'expectedafter', 'expectes', 'expecting', 'expendable', 'expenditure', 'expense', 'expensive', 'experiance', 'experience', 'experiences', 'expert', 'explain', 'explained', 'explode', 'exploding', 'explorer', 'expose', 'exposes', 'exposing', 'exposure', 'express', 'expressive', 'exquisite', 'exquisitely', 'extander', 'extended', 'extending', 'extensively', 'extent', 'extenuate', 'extra', 'extramini', 'extraordinarily', 'extraordinary', 'extras', 'extrasmall', 'extravagant', 'extreme', 'extremely', 'extremities', 'extremly', 'eye', 'eyeballing', 'eyeballs', 'eyed', 'eyeing', 'eyelet', 'eyes', 'faaaaar', 'faaaar', 'fab', 'fabic', 'fabirc', 'fabric', 'fabricate', 'fabrication', 'fabricbut', 'fabriccovered', 'fabricgreat', 'fabrick', 'fabrics', 'fabricthere', 'fabricthis', 'fabulous', 'fabulously', 'faces', 'facetiming', 'facing', 'facings', 'factor', 'factory', 'facts', 'fade', 'faded', 'fadedlooking', 'fades', 'fading', 'fail', 'failed', 'failsafe', 'failure', 'fair', 'faired', 'fairing', 'fairly', 'fairness', 'fairs', 'fairy', 'faith', 'faithfully', 'fake', 'fakenot', 'fakewhiskering', 'fall', 'fallappropriate', 'fallen', 'falling', 'fallish', 'falls', 'fallsso', 'fallwinterspring', 'fallwould', 'false', 'faltering', 'fam', 'familiar', 'families', 'family', 'familys', 'fan', 'fancied', 'fancier', 'fancy', 'fanicer', 'fanny', 'fans', 'fantastic', 'fantastical', 'fantastically', 'fantasy', 'far', 'farbic', 'fare', 'farenheit', 'farm', 'farmer', 'farmers', 'farmthemed', 'farther', 'fascinator', 'fashion', 'fashionable', 'fashionista', 'fast', 'fasten', 'fastened', 'fastener', 'fastening', 'faster', 'fat', 'fathom', 'fatness', 'fatter', 'fatty', 'fault', 'faultiness', 'faulting', 'faults', 'fav', 'fave', 'faves', 'favorite', 'favorited', 'favorites', 'favority', 'favors', 'favour', 'favourite', 'favourites', 'favours', 'favric', 'fear', 'feared', 'feasting', 'feather', 'feathering', 'featherweight', 'feature', 'featured', 'feb', 'february', 'fedex', 'fedora', 'fee', 'feed', 'feeding', 'feeing', 'feel', 'feeling', 'feelingit', 'feelings', 'feels', 'fees', 'feet', 'fell', 'felling', 'felt', 'female', 'feminine', 'feminineg', 'fence', 'feq', 'fern', 'fervour', 'festivals', 'festive', 'festivities', 'fetish', 'few', 'fewer', 'fiance', 'fiasco', 'fibers', 'fibres', 'fiddling', 'fidget', 'field', 'fierce', 'fiercely', 'fiesta', 'fifteen', 'fiftes', 'fifth', 'fifty', 'figure', 'figured', 'figureflattered', 'figureflattering', 'filigree', 'filling', 'fills', 'film', 'filter', 'fin', 'final', 'finally', 'finals', 'find', 'finder', 'finding', 'finds', 'fine', 'finedefinitely', 'fineit', 'finer', 'finessing', 'finger', 'fingers', 'finicky', 'finish', 'finished', 'finishing', 'finnish', 'fins', 'fir', 'fire', 'firmer', 'firming', 'first', 'firstly', 'firsts', 'firstssass', 'firstthis', 'fisher', 'fishing', 'fishy', 'fit', 'fitandflair', 'fitespecially', 'fiteven', 'fiting', 'fitit', 'fitmodest', 'fitness', 'fits', 'fitshop', 'fitsit', 'fitted', 'fittedness', 'fittedwas', 'fitter', 'fittest', 'fitthis', 'fitting', 'fitts', 'fitwise', 'five', 'fix', 'fixable', 'fixall', 'fixed', 'fixes', 'fixing', 'fixture', 'fize', 'flabby', 'flair', 'flairs', 'flaking', 'flame', 'flamenco', 'flames', 'flammable', 'flannel', 'flannellike', 'flapped', 'flappy', 'flaps', 'flare', 'flared', 'flareesquire', 'flaring', 'flashbacks', 'flashes', 'flashy', 'flat', 'flatchested', 'flatdried', 'flaterring', 'flatout', 'flats', 'flatten', 'flattened', 'flattening', 'flatter', 'flattered', 'flattering', 'flatteringly', 'flatters', 'flaunted', 'flava', 'flaw', 'flawed', 'flawless', 'flaws', 'flecks', 'fleecelined', 'flesh', 'flew', 'flex', 'flexibility', 'flexible', 'flies', 'flight', 'flimsier', 'flimsiest', 'flimsy', 'fling', 'flipflopping', 'flipflops', 'flipped', 'flips', 'flirty', 'float', 'floated', 'floating', 'floaty', 'floods', 'floof', 'floozy', 'floppier', 'floppy', 'flops', 'floral', 'florida', 'flounce', 'flour', 'flowed', 'flowers', 'flowery', 'flowey', 'flowfactor', 'flowier', 'flowing', 'flowly', 'flown', 'flows', 'flowsreally', 'flowy', 'fluctuates', 'fluff', 'fluffed', 'fluffyco', 'fluid', 'fluke', 'flush', 'flutter', 'fluttering', 'flutters', 'fluttery', 'flux', 'fly', 'flyaway', 'flys', 'fo', 'foam', 'focused', 'fold', 'folded', 'foldedup', 'folder', 'foldig', 'foldover', 'folds', 'foley', 'folk', 'follow', 'following', 'follows', 'fond', 'fonda', 'fondly', 'font', 'food', 'foodfilled', 'fooled', 'fooling', 'foot', 'football', 'for', 'fora', 'forarm', 'foray', 'forbid', 'forcing', 'fore', 'forearms', 'forecast', 'forehead', 'foresee', 'forest', 'forestgreen', 'forever', 'forewarned', 'forewarning', 'forgave', 'forget', 'forgivable', 'forgive', 'forgiven', 'forgiveness', 'forgiving', 'forgo', 'forgoodmeasurelovely', 'forgot', 'forlornly', 'form', 'formal', 'formallooking', 'formally', 'format', 'formed', 'formfitted', 'formfitting', 'forming', 'formless', 'forms', 'fort', 'fortunate', 'fortunately', 'forty', 'forward', 'fossils', 'foster', 'fot', 'fought', 'foul', 'found', 'foundations', 'fountain', 'four', 'fourfold', 'fourseason', 'fourteen', 'fourth', 'fox', 'foxiest', 'foxtail', 'foxy', 'fraction', 'fragile', 'fragility', 'frame', 'francisco', 'fraud', 'fray', 'frayed', 'fraying', 'frays', 'freak', 'freaked', 'freakin', 'freaking', 'freaky', 'freckled', 'free', 'freebie', 'freedom', 'freeloader', 'freetie', 'freeze', 'freezing', 'frequency', 'frequent', 'frequently', 'fresh', 'fresher', 'freshphoto', 'freying', 'friction', 'friday', 'friend', 'friends', 'friggin', 'frill', 'frills', 'fringe', 'frist', 'frizz', 'fro', 'frock', 'frog', 'from', 'frompyness', 'fromthe', 'fron', 'frond', 'front', 'frontright', 'frosty', 'frozen', 'frumoy', 'frump', 'frumpier', 'frumptastic', 'frumpville', 'frumpy', 'frumpylooking', 'frustrated', 'frustrates', 'frustrating', 'frustration', 'fsu', 'ft', 'fto', 'ftw', 'fulfill', 'full', 'fuller', 'fulllength', 'fullness', 'fullon', 'fullprice', 'fully', 'fum', 'fun', 'functional', 'functionality', 'functionally', 'functions', 'funeral', 'funk', 'funkier', 'funkiest', 'funky', 'funnily', 'funny', 'fupa', 'furst', 'further', 'furthermore', 'fuschia', 'fussed', 'fusses', 'fussing', 'future', 'fuzz', 'fuzzball', 'fuzzed', 'fuzzies', 'fwiw', 'gag', 'gain', 'gained', 'gal', 'gala', 'galaxy', 'galentine', 'galore', 'gambling', 'game', 'gamechanger', 'gangly', 'gap', 'gape', 'gaped', 'gapes', 'gaping', 'gaposis', 'gapped', 'gappy', 'gaps', 'garbage', 'garcia', 'gardeninapark', 'garish', 'garlic', 'garment', 'garments', 'garnments', 'gartered', 'gasped', 'gather', 'gathered', 'gathering', 'gatherings', 'gathers', 'gatsby', 'gatsy', 'gaudy', 'gauge', 'gauged', 'gaurd', 'gauze', 'gauzelike', 'gauzy', 'gave', 'gawdy', 'gazebo', 'gazillion', 'gazing', 'ge', 'gear', 'geek', 'gel', 'gem', 'gems', 'gender', 'general', 'generaly', 'generated', 'generates', 'generic', 'generous', 'generously', 'genre', 'gentle', 'gentleman', 'gentler', 'gently', 'geologist', 'georgette', 'germany', 'gesticulations', 'get', 'getgo', 'gets', 'gettin', 'getting', 'gettogether', 'gf', 'gg', 'ghastly', 'giant', 'gift', 'gifting', 'gifts', 'gigantic', 'gigs', 'gili', 'gilli', 'ginger', 'girl', 'girlfriends', 'girlie', 'girliest', 'girllike', 'girls', 'girlslegs', 'girly', 'girlyfy', 'girs', 'girth', 'give', 'givemaybe', 'given', 'gives', 'giving', 'glad', 'glade', 'gladly', 'glamorous', 'glamour', 'glance', 'glares', 'glaringly', 'glass', 'glide', 'glides', 'glimmer', 'glitch', 'glittery', 'glorified', 'gloriously', 'glossiness', 'glossy', 'glove', 'glow', 'glowed', 'glowin', 'glows', 'glue', 'glued', 'glutes', 'go', 'goal', 'god', 'goddess', 'godly', 'godson', 'goes', 'gogo', 'goi', 'going', 'goingout', 'goingtogigs', 'gold', 'golly', 'gone', 'gong', 'gongs', 'gonig', 'goo', 'good', 'goodasnew', 'goodbye', 'goodlooking', 'goodness', 'goodquality', 'goods', 'goodunder', 'goodwill', 'goofier', 'goofy', 'googd', 'google', 'goopy', 'gorge', 'gorgeous', 'gorgeousexactly', 'gorgeously', 'gorilla', 'gory', 'gosh', 'gosling', 'got', 'goth', 'gothic', 'goti', 'goto', 'gotta', 'gotten', 'gotto', 'gouged', 'government', 'gown', 'grabbed', 'grabs', 'grad', 'grade', 'graders', 'gradual', 'graduating', 'graduation', 'graduationi', 'graf', 'grail', 'grainy', 'grams', 'grandma', 'grandmotherly', 'grandparents', 'grandpas', 'grannybutt', 'granted', 'grape', 'graphics', 'grass', 'grate', 'grateful', 'graveyard', 'gravity', 'gray', 'grayer', 'grayish', 'grayyellow', 'grazes', 'greaaat', 'greasing', 'great', 'greatbut', 'greater', 'greatest', 'greatfeeling', 'greatright', 'greats', 'greatthe', 'greatttt', 'greatvery', 'grecian', 'gree', 'greece', 'greedy', 'green', 'greenhazel', 'greenish', 'greet', 'greeting', 'greetings', 'grest', 'grew', 'grey', 'greyish', 'grief', 'grievance', 'grievances', 'grimaced', 'grip', 'gripe', 'gripes', 'grit', 'grits', 'grocery', 'grommet', 'grommets', 'groom', 'groomsmaid', 'groove', 'groovy', 'gross', 'grossly', 'ground', 'group', 'groutfit', 'growing', 'grown', 'grownup', 'growth', 'grrat', 'grrl', 'grrr', 'grrrr', 'grump', 'grumpy', 'grunge', 'grungy', 'guard', 'guess', 'guessed', 'guessif', 'guessing', 'guesswork', 'guest', 'guideline', 'guidelines', 'guiding', 'guilty', 'guitar', 'gulf', 'gun', 'guns', 'gush', 'gushing', 'gusset', 'gussy', 'gut', 'gutted', 'guys', 'ha', 'haaaated', 'habit', 'habits', 'habitual', 'habitually', 'had', 'hada', 'hade', 'hadn', 'hahaha', 'hair', 'haired', 'hairs', 'hairspray', 'hairy', 'half', 'halfway', 'halite', 'hall', 'hallmarks', 'halloween', 'hamhocks', 'hammer', 'hammerhead', 'hamper', 'hand', 'handbag', 'handbags', 'handcuffs', 'handed', 'handful', 'handing', 'handle', 'handled', 'handler', 'handling', 'handm', 'hands', 'handsome', 'handwash', 'handwashes', 'handwashing', 'handwashings', 'handy', 'hanes', 'hang', 'hangdrying', 'hanged', 'hanger', 'hangin', 'hanging', 'hangs', 'hangy', 'haphazard', 'haphazardly', 'happened', 'happening', 'happens', 'happenthey', 'happier', 'happy', 'hard', 'harder', 'hardly', 'hardware', 'hare', 'harem', 'harley', 'harm', 'harmonious', 'harry', 'harsh', 'has', 'hasa', 'hasn', 'hasnt', 'hassle', 'hat', 'hate', 'hated', 'hater', 'hates', 'hathway', 'hating', 'haul', 'have', 'havea', 'havent', 'haver', 'haves', 'havock', 'havr', 'hawaii', 'hawed', 'hazel', 'he', 'headache', 'headband', 'headless', 'headlines', 'heads', 'heal', 'heals', 'heap', 'heaps', 'hear', 'heart', 'heartbreak', 'heartbroken', 'hearted', 'heat', 'heathered', 'heathergrey', 'heathering', 'heaven', 'heavey', 'heavier', 'heavily', 'heaviness', 'heaving', 'heavy', 'heavyduty', 'heavyish', 'heavyperfect', 'heavyweight', 'hee', 'heeded', 'heel', 'heeled', 'heels', 'heft', 'hefty', 'hehe', 'height', 'heights', 'heightwise', 'held', 'hell', 'hella', 'help', 'helped', 'helps', 'helptoo', 'hem', 'hemd', 'hemline', 'hemmed', 'hems', 'hence', 'hepburn', 'hepburnstyle', 'her', 'here', 'hereit', 'heres', 'herman', 'hers', 'herself', 'hesitant', 'hesitantly', 'hesitate', 'hesitated', 'hesitating', 'hghwaist', 'hhe', 'hi', 'hiccups', 'hideous', 'hideously', 'hides', 'hiding', 'high', 'highcut', 'highend', 'higher', 'higherquality', 'highest', 'highlight', 'highlighted', 'highlighting', 'highly', 'highmore', 'highquality', 'highrise', 'hight', 'hightop', 'highwaisted', 'highwaistedbut', 'hike', 'hilarious', 'hill', 'hindsight', 'hinky', 'hint', 'hints', 'hinty', 'hip', 'hipbones', 'hipped', 'hippockets', 'hippyer', 'hips', 'hipsbut', 'hiptowaist', 'his', 'history', 'hitch', 'hitches', 'hitormiss', 'hits', 'hmm', 'ho', 'hoard', 'hobbity', 'hobby', 'hoe', 'hoestly', 'hoist', 'hold', 'holding', 'holdsandsmooths', 'hole', 'holes', 'holiday', 'holidayish', 'holidays', 'hollow', 'holywrinkles', 'homage', 'home', 'homecoming', 'homely', 'homerun', 'homogenous', 'honest', 'honestly', 'honesty', 'honey', 'honeymoon', 'hoochy', 'hoocked', 'hood', 'hooded', 'hoodie', 'hoodies', 'hoods', 'hook', 'hookandeyes', 'hooked', 'hoop', 'hooray', 'hoot', 'hootchie', 'hop', 'hoped', 'hopeful', 'hopefully', 'hopes', 'hoping', 'horizontal', 'horizontally', 'horrendous', 'horrendously', 'horrible', 'horribly', 'horrid', 'horror', 'hosiery', 'hospital', 'host', 'hosting', 'hot', 'hotbutton', 'hotel', 'hotter', 'houdstooth', 'hound', 'hounds', 'houndstooth', 'hour', 'hourglass', 'hourglasses', 'hourglassshaped', 'hours', 'house', 'housepants', 'houses', 'housewife', 'housework', 'houston', 'hover', 'hovers', 'how', 'howdy', 'however', 'hr', 'hub', 'hubby', 'hue', 'hued', 'hues', 'hug', 'huge', 'hugely', 'hugging', 'huggy', 'huging', 'hugs', 'hulk', 'hulked', 'hullabaloo', 'hum', 'human', 'humble', 'humidity', 'hummid', 'humor', 'humph', 'hundred', 'hundreds', 'hung', 'hungover', 'hurdle', 'hurry', 'hurt', 'hurts', 'husband', 'husker', 'husky', 'huspand', 'huuuge', 'huuuuuuuge', 'hybrid', 'hype', 'hypothetic', 'ia', 'iam', 'ibought', 'ibtc', 'ice', 'icebreaker', 'iceland', 'icewhite', 'ick', 'icky', 'ickyfeeling', 'id', 'idea', 'ideally', 'identical', 'identified', 'identify', 'idid', 'ididnt', 'if', 'iffy', 'ignore', 'ignored', 'ihavetohavehtatomg', 'ii', 'iiked', 'ike', 'il', 'ill', 'illfitting', 'illinois', 'illusion', 'illustrated', 'im', 'imaged', 'images', 'imaginable', 'imagination', 'imagined', 'imaginedif', 'imagining', 'imho', 'imitation', 'immature', 'immediate', 'immediately', 'immensely', 'immobile', 'immodest', 'imo', 'impatient', 'impeccable', 'impeccably', 'impede', 'imperfect', 'imperfection', 'imperfections', 'implementation', 'implied', 'import', 'important', 'importantly', 'imposed', 'impossible', 'impress', 'impressed', 'impressing', 'impression', 'improbable', 'improperly', 'improve', 'improved', 'improvement', 'improvised', 'in', 'ina', 'inability', 'inaccurate', 'inappopriate', 'inappropriate', 'inappropriately', 'inatructions', 'inauspicious', 'incautious', 'incentive', 'inch', 'inches', 'incident', 'incidentally', 'include', 'including', 'incompatible', 'incomplete', 'inconsistency', 'inconsistent', 'inconsistently', 'inconvenience', 'inconveniently', 'incorporate', 'incorrect', 'incorrectly', 'increadibly', 'increasing', 'incredbly', 'incredible', 'incredibly', 'indecently', 'indent', 'inder', 'india', 'indian', 'indianapolis', 'indicated', 'indicates', 'indication', 'indiechic', 'indigo', 'indistinguishable', 'indoor', 'indowestern', 'inexpensive', 'inexplicably', 'inferior', 'infinite', 'infinitely', 'inflexible', 'info', 'informative', 'infront', 'inhale', 'initially', 'injury', 'ink', 'inline', 'inn', 'inner', 'inproportionately', 'input', 'inquiries', 'insane', 'insanely', 'insanity', 'inseams', 'insecure', 'insert', 'inside', 'insidejust', 'insideout', 'insides', 'insight', 'insomnia', 'inspect', 'inspected', 'inspecting', 'inspection', 'inspired', 'inspiring', 'insta', 'installed', 'instant', 'instantly', 'instareturn', 'instead', 'instruction', 'instructions', 'instructor', 'insubstantial', 'insulating', 'insulation', 'insure', 'intact', 'integrate', 'integrity', 'intend', 'intense', 'intent', 'intention', 'interaction', 'interfered', 'interior', 'internatinal', 'international', 'internet', 'internship', 'interpretation', 'interrupted', 'intersting', 'interview', 'interviews', 'interwebz', 'interwoven', 'inthe', 'inventive', 'invert', 'invest', 'invested', 'investigated', 'investment', 'invoice', 'involves', 'iread', 'ireland', 'iridescent', 'iron', 'ironed', 'ironer', 'ironically', 'ironing', 'irony', 'irregular', 'irregularity', 'irreparably', 'irresistible', 'irritate', 'irritated', 'irritating', 'irritation', 'is', 'ish', 'ishould', 'isn', 'isnt', 'isolated', 'issue', 'issued', 'issuesthe', 'it', 'ita', 'italian', 'itand', 'itbut', 'itch', 'itched', 'itches', 'itchier', 'itchiness', 'itchy', 'itchynot', 'itchyto', 'itd', 'item', 'items', 'itexactly', 'ithoping', 'iti', 'itit', 'itjust', 'itll', 'itnis', 'itplus', 'its', 'itself', 'itselt', 'itthe', 'itthough', 'ittt', 'itty', 'itvs', 'itwith', 'iusually', 'ive', 'ivories', 'ivory', 'jab', 'jacked', 'jacket', 'jacketcardiganwhatever', 'jackie', 'jacks', 'jackson', 'jade', 'jammed', 'jammies', 'jangle', 'janky', 'jar', 'jaunt', 'jaunty', 'jazz', 'jazzed', 'jeannette', 'jeans', 'jeansbut', 'jeansfriday', 'jeanstype', 'jeez', 'jegging', 'jeggingesuqe', 'jeggingist', 'jeggings', 'jeggingsstyle', 'jeggingtype', 'jerk', 'jerseyish', 'jerseytype', 'jessica', 'jet', 'jetsetter', 'jetson', 'jewelry', 'jiggle', 'jiggles', 'jipped', 'jive', 'jjacket', 'joanns', 'jobs', 'jogging', 'john', 'johnson', 'join', 'joined', 'joked', 'journalism', 'journalist', 'journey', 'joy', 'jr', 'jsut', 'juat', 'judge', 'judged', 'judgement', 'judy', 'juggler', 'jugs', 'juice', 'july', 'jumbled', 'jumbo', 'jump', 'jumpsuit', 'junior', 'juniorsized', 'junk', 'junky', 'jupe', 'jurassic', 'jurrasic', 'jus', 'jusssssst', 'just', 'justbelowtheknee', 'juste', 'justice', 'justified', 'justify', 'juts', 'juuusssttt', 'juuuust', 'juuuuuust', 'juuuuuuust', 'juvenile', 'k2', 'kadonkadonk', 'kaelasinclairmusic', 'kale', 'kaling', 'kangaroo', 'kareoke', 'kayak', 'keep', 'keeper', 'keepers', 'keepin', 'keeping', 'keeps', 'keg', 'kegs', 'kentucky', 'kep', 'kept', 'ketchup', 'kg', 'khakis', 'kick', 'kickstarter', 'kid', 'kiddish', 'kiddos', 'kids', 'kiiiiinda', 'killed', 'killer', 'kills', 'kilos', 'kilt', 'kilter', 'kim', 'kimonostyle', 'kin', 'kind', 'kinda', 'kindergarteners', 'kindly', 'king', 'kink', 'kipper', 'kiss', 'kissed', 'kit', 'kitchen', 'kitschy', 'kitted', 'kitties', 'kitting', 'klein', 'knack', 'knee', 'kneea', 'kneecap', 'kneelength', 'knees', 'knew', 'knife', 'kniton', 'knits', 'knitted', 'knittoo', 'knobby', 'knocking', 'knockoff', 'knockout', 'knot', 'knots', 'knotted', 'knotting', 'know', 'knowing', 'known', 'knows', 'konmari', 'korea', 'labeled', 'labelled', 'lace', 'laced', 'laceup', 'lack', 'lacked', 'lacking', 'lacks', 'lackthereof', 'lacy', 'lady', 'ladybugs', 'ladylike', 'lage', 'laid', 'lain', 'lam', 'lamp', 'lampshade', 'landed', 'landries', 'lands', 'landscape', 'lane', 'language', 'languishing', 'lanyard', 'lap', 'laptop', 'large', 'largechested', 'largeish', 'larger', 'largerbreasted', 'largerbusted', 'larges', 'largetoo', 'largewaisted', 'largexl', 'last', 'lasted', 'lasting', 'lastly', 'late', 'lately', 'later', 'latest', 'latex', 'lattice', 'laugh', 'laughable', 'laughably', 'laughs', 'laundered', 'laundering', 'laundry', 'lavender', 'law', 'laws', 'lay', 'layback', 'layed', 'layer', 'layerable', 'layered', 'layering', 'layers', 'laying', 'lazier', 'laziest', 'lazing', 'lbal', 'lbd', 'lbs', 'ld', 'le', 'lead', 'leading', 'leafgreen', 'leak', 'leaned', 'leaner', 'leap', 'leapt', 'lear', 'learned', 'learning', 'learnt', 'least', 'leather', 'leatherlike', 'leaves', 'leaving', 'ledge', 'leeway', 'left', 'lefthand', 'legged', 'leggier', 'leggies', 'leggings', 'leggingsnot', 'leggingsperfect', 'leggingstype', 'leggingswhich', 'leggining', 'leggins', 'legible', 'legitimately', 'legnth', 'legs', 'leipzing', 'lemon', 'lends', 'lengeth', 'lenght', 'length', 'lengthand', 'lengthappropriate', 'lengthbut', 'lengthcan', 'lengths', 'lengthwise', 'lengthy', 'lenient', 'lenth', 'leopard', 'leotard', 'leotards', 'les', 'less', 'lessattractive', 'lessen', 'lesser', 'lessexpensive', 'lesson', 'lesspleasingtotheskin', 'lessthan', 'lessthanideal', 'lessthanperfect', 'let', 'lettering', 'levels', 'levis', 'lg', 'li', 'liabilities', 'librarian', 'library', 'librarydork', 'lickin', 'lie', 'lied', 'lies', 'lieu', 'life', 'lifetime', 'lifted', 'light', 'lighten', 'lightened', 'lightens', 'lighter', 'lightest', 'lighthouse', 'lighting', 'lightolive', 'lights', 'lightweight', 'lightweightgreat', 'lightweigt', 'liiiiiittle', 'liiiittle', 'like', 'liked', 'likened', 'likewise', 'likey', 'liking', 'lil', 'lilac', 'limbo', 'lime', 'limited', 'limiting', 'limits', 'limp', 'limply', 'lindy', 'line', 'linear', 'linebacker', 'linebackerish', 'lined', 'linen', 'linenlike', 'liner', 'lines', 'lineup', 'ling', 'lingerie', 'lingerieish', 'lingers', 'lining', 'linings', 'link', 'lint', 'lintremover', 'linty', 'lip', 'liposuction', 'lipstick', 'liquid', 'lisbon', 'list', 'listen', 'listing', 'lit', 'lite', 'literally', 'litle', 'litte', 'litter', 'little', 'littleeeee', 'littlegirly', 'littleore', 'littler', 'littles', 'littlr', 'live', 'lived', 'livens', 'living', 'll', 'lngth', 'loaded', 'loader', 'loads', 'lobby', 'lobe', 'lobger', 'local', 'locally', 'locate', 'located', 'location', 'locker', 'locks', 'loe', 'lofty', 'log', 'loger', 'logged', 'logs', 'lol', 'lon', 'london', 'loner', 'long', 'longer', 'longeri', 'longerthanusual', 'longevity', 'longish', 'longit', 'longlegged', 'longsleeve', 'longsleeved', 'longsleeves', 'longstanding', 'longterm', 'longtime', 'longtorso', 'longtorsoed', 'longwaisted', 'look', 'lookalways', 'looked', 'lookes', 'lookin', 'looking', 'lookout', 'looks', 'loooooong', 'looooooong', 'loooooooong', 'looooooooooove', 'loooooooove', 'looooooove', 'loooooove', 'loooooovee', 'looooove', 'looooovvvvvvveeeeee', 'loooot', 'loooove', 'looove', 'loooved', 'loop', 'loops', 'loose', 'loosefitting', 'loosely', 'loosen', 'looseness', 'loosens', 'looser', 'looses', 'loosest', 'loosey', 'loosing', 'loost', 'looveee', 'loovveeeee', 'loovvvvveee', 'lop', 'lopsided', 'lord', 'los', 'lose', 'losely', 'loser', 'loses', 'losing', 'lost', 'lot', 'lotr', 'lots', 'loud', 'louder', 'loudswishy', 'louisiana', 'lounge', 'loungearoundthehouse', 'loungewear', 'loungey', 'lounging', 'loungy', 'love', 'loved', 'loveeee', 'loveeeee', 'loveeeeee', 'loveeeeeee', 'lovehate', 'lovei', 'loveliest', 'lovelovelove', 'lovely', 'lovelydress', 'lovenit', 'lover', 'lovers', 'loves', 'lovey', 'lovin', 'loving', 'lovvve', 'lovw', 'low', 'lowchest', 'lowcut', 'lower', 'lowerrise', 'lowest', 'lowkey', 'lowquality', 'lowrise', 'loyalty', 'lrg', 'lt', 'lucille', 'luck', 'lucked', 'luckily', 'lucy', 'ludicrous', 'lug', 'lukewarm', 'lularoe', 'lumberjack', 'lump', 'lumpier', 'lumps', 'lumpy', 'lunch', 'luncheon', 'lurking', 'luscious', 'lush', 'lusted', 'luster', 'lustrous', 'lutece', 'lux', 'luxe', 'luxurious', 'lxl', 'lying', 'maaaaay', 'macaroni', 'macchiato', 'macgyver', 'machine', 'machined', 'mack', 'madden', 'made', 'madmemoiselle', 'madscientist', 'maerial', 'magenta', 'magic', 'magical', 'magically', 'magnet', 'magnets', 'magnificent', 'mail', 'mailbox', 'mailing', 'mailman', 'main', 'maintain', 'maintained', 'maintenance', 'major', 'majority', 'mak', 'make', 'makeorbreak', 'makes', 'makeup', 'makings', 'malformed', 'malfunctions', 'mall', 'mallstore', 'managable', 'manageable', 'manageably', 'managed', 'manager', 'mandala', 'mandarin', 'mandatory', 'mandee', 'mania', 'manipulation', 'manmade', 'mannequin', 'manner', 'mans', 'manual', 'manufacture', 'manufactured', 'manufacturer', 'manufacturered', 'manufacturers', 'manufactures', 'manufacturing', 'many', 'marathons', 'marbles', 'marbling', 'marching', 'margin', 'marial', 'marietta', 'marine', 'mark', 'marked', 'marketed', 'marketing', 'marking', 'marks', 'marm', 'marooncolored', 'marriage', 'married', 'marriedinmodcloth', 'marry', 'martini', 'martins', 'marvelous', 'masculine', 'mashed', 'mask', 'masquerade', 'masquerading', 'mass', 'massey', 'massive', 'master', 'mastermind', 'match', 'matched', 'matches', 'matching', 'material', 'materialand', 'materialisn', 'materialjust', 'materiallike', 'materiallooks', 'materially', 'materials', 'materialwas', 'materialwise', 'materiel', 'maternity', 'maternitylike', 'maternitystyle', 'maternitytotally', 'math', 'matronly', 'matter', 'mattered', 'matters', 'mauve', 'maxi', 'maximises', 'may', 'maybe', 'mayhaps', 'mc', 'me', 'meal', 'meals', 'meaning', 'means', 'meant', 'meantime', 'measly', 'measurement', 'measurements', 'measurementwise', 'measurments', 'meaty', 'mebut', 'meddling', 'medical', 'medication', 'mediium', 'mediocre', 'medium', 'mediumduty', 'mediumlarge', 'mediums', 'mediumsized', 'mediumsmall', 'mediumthick', 'mediumtoheavy', 'medlarge', 'meeting', 'meets', 'mega', 'megasale', 'meh', 'mehh', 'mei', 'mel', 'mela', 'mellow', 'melony', 'melt', 'melted', 'melting', 'melts', 'mem', 'memorable', 'memorial', 'memories', 'men', 'mend', 'mended', 'mending', 'menopause', 'mention', 'mentioned', 'mentioning', 'mentionned', 'meow', 'mer', 'merely', 'merest', 'merino', 'merits', 'merona', 'mesh', 'meshlike', 'mess', 'message', 'messed', 'messes', 'messy', 'met', 'metal', 'metallic', 'meteor', 'mevery', 'mew', 'mews', 'mewseum', 'mezzanine', 'mget', 'mi', 'miami', 'miankle', 'mic', 'mich', 'michael', 'michigan', 'microscopic', 'mid', 'mid30s', 'mid40s', 'midarm', 'midblue', 'midboob', 'midbust', 'midcalf', 'midcalfand', 'midcalfish', 'midcloth', 'midday', 'middle', 'midfall', 'midfebruary', 'midget', 'midhip', 'midhips', 'mididress', 'midilength', 'midis', 'midiskirt', 'midknee', 'midlower', 'midrise', 'midsection', 'midshin', 'midstomach', 'midthighlength', 'midtone', 'midtorso', 'midupper', 'midway', 'midweght', 'mightve', 'mighty', 'migrate', 'mil', 'milage', 'milder', 'mildew', 'mildly', 'mile', 'miles', 'militaryesk', 'milk', 'mill', 'million', 'millions', 'millionth', 'mince', 'mind', 'mindful', 'minds', 'mindy', 'mini', 'minidress', 'minimal', 'minimalistic', 'minimally', 'minimise', 'minimising', 'minimize', 'minimized', 'minimizer', 'minimizes', 'minimizing', 'minimum', 'miniskirt', 'ministers', 'minnesota', 'minor', 'minority', 'mins', 'mint', 'minuses', 'minute', 'minutes', 'miraculous', 'miraculously', 'mirrored', 'mis', 'misaligned', 'misery', 'mishap', 'mishaps', 'mishmash', 'misjudged', 'mislabeled', 'mislabled', 'misleading', 'mismarked', 'mismatch', 'mismatched', 'misplacing', 'missed', 'misshape', 'misshapen', 'missing', 'missionary', 'missouri', 'misstep', 'mistake', 'mistaken', 'mistakes', 'mite', 'mitigate', 'mittens', 'mix', 'mixed', 'mixnmatch', 'mixup', 'mmmhmmm', 'mny', 'mobile', 'mobility', 'mock', 'mod', 'modclogh', 'modcloth', 'modclotharrivesinthemail', 'modclothbelt', 'modclothers', 'modclothmarriage', 'modcloths', 'modclothwhat', 'modclotj', 'mode', 'models', 'modem', 'modemployee', 'moderate', 'moderately', 'modern', 'modernmeetsbreakfastattiffany', 'modest', 'modesty', 'modifications', 'modmeetsjaneausten', 'modo', 'mods', 'modshop', 'modshopper', 'modstylist', 'modulo', 'moist', 'moisture', 'mom', 'mombid', 'moment', 'moments', 'momma', 'mommy', 'mommytummy', 'monday', 'money', 'moneys', 'monitor', 'monk', 'monkey', 'monoboob', 'monochromatic', 'monroe', 'montana', 'monterey', 'month', 'monthpostpartum', 'months', 'moo', 'moon', 'moore', 'more', 'moreflow', 'moreit', 'moreover', 'moreso', 'morethanfair', 'morocco', 'morph', 'mortician', 'morton', 'mos', 'most', 'mostloved', 'mostly', 'mothball', 'mother', 'mothers', 'mothlike', 'motivate', 'moto', 'mountain', 'move', 'moveability', 'moveable', 'moved', 'movement', 'movementrestricted', 'movements', 'moves', 'movie', 'movies', 'moving', 'ms', 'mt', 'much', 'muchdreaded', 'muchif', 'muchthe', 'mud', 'muddier', 'muffet', 'muffins', 'muggy', 'mulling', 'multi', 'multiple', 'multiples', 'multipurpose', 'multitasking', 'mummy', 'mumu', 'mumus', 'murder', 'mus', 'muscled', 'muscular', 'museum', 'mushroom', 'music', 'musical', 'must', 'mustard', 'mustardcolored', 'mustardhoney', 'mustardish', 'mustardit', 'mustardy', 'musthave', 'mute', 'muumuu', 'muy', 'my', 'myfavorite', 'myself', 'myselfhere', 'mysteriously', 'mystery', 'mystic', 'na', 'nailed', 'nails', 'naked', 'name', 'nancy', 'nanna', 'napkin', 'napoleon', 'napping', 'narnia', 'narrow', 'narrowest', 'nasty', 'national', 'natural', 'naturalfiber', 'nature', 'naughty', 'nautical', 'navel', 'navy', 'navycolored', 'nay', 'ncup', 'nd', 'near', 'nearby', 'nearer', 'nearly', 'neat', 'nebula', 'neccesity', 'necessary', 'necessitates', 'neck', 'neckhole', 'necklace', 'neckstyle', 'neckvery', 'need', 'needin', 'needing', 'needle', 'needless', 'needs', 'neeed', 'neeeeeedddddddd', 'neef', 'negates', 'negative', 'negatives', 'negligence', 'neighborhood', 'neither', 'neon', 'nerd', 'nerds', 'nerdy', 'nervous', 'ness', 'nest', 'net', 'netflix', 'neutral', 'neutralcolored', 'neutrals', 'never', 'nevertheless', 'new', 'newer', 'newspaper', 'newspapers', 'newsroom', 'newton', 'neyla', 'nf', 'nice', 'nicecasual', 'niceish', 'nicelooking', 'nicely', 'nick', 'nickels', 'nicley', 'niece', 'nieces', 'night', 'nightie', 'nightmare', 'nights', 'nightshirt', 'nine', 'nipped', 'nipping', 'nipples', 'nit', 'nitpick', 'nitpicker', 'nitpicky', 'no', 'noah', 'nobodies', 'nobrainier', 'nofuss', 'noggin', 'nogive', 'nogo', 'noice', 'noirish', 'noise', 'noises', 'noisewise', 'noisey', 'noisy', 'nola', 'nomally', 'noman', 'non', 'nonadjustable', 'nonbreathable', 'nonchalantly', 'noncheap', 'nonclingy', 'nonconstraining', 'none', 'nonelastic', 'nonetheless', 'nonforgiving', 'nonfunctional', 'nonissue', 'nonload', 'nonmaternity', 'nonnatural', 'nonpolyester', 'nonsense', 'nonsensical', 'nonstretch', 'nonsweatshirt', 'nonsynthetic', 'nontheless', 'nook', 'nooooooooooooooooooooope', 'nopantyline', 'nope', 'nor', 'normal', 'normall', 'normally', 'north', 'northeast', 'norwegian', 'noshow', 'nostalgic', 'not', 'notable', 'notation', 'notbland', 'notch', 'notcute', 'note', 'noted', 'notes', 'noteventwice', 'nothighgapshere', 'nothimg', 'nothing', 'noticably', 'noticeable', 'noticeably', 'noticed', 'noticing', 'notification', 'noting', 'notions', 'notive', 'notlarge', 'notmal', 'notquiteworkappropriate', 'notsleeves', 'notsoflattering', 'notsogood', 'notsomuch', 'notsoslim', 'nottoodark', 'nottoolight', 'notweird', 'novel', 'novels', 'novelty', 'november', 'now', 'nowadays', 'nowdays', 'nowhere', 'nozip', 'nromal', 'nub', 'nubbiness', 'nubby', 'nubs', 'nude', 'nuetural', 'numbers', 'numbly', 'nun', 'nurse', 'nutcracker', 'nw', 'ny', 'nyc', 'nylon', 'nylony', 'o12', 'ob', 'obi', 'objects', 'obnoxious', 'obnoxiously', 'obscenely', 'obscured', 'obscuring', 'obsessed', 'obsession', 'obsessive', 'obtain', 'obv', 'obvi', 'obvious', 'obviously', 'ocassions', 'occasion', 'occasional', 'occasiongo', 'occasions', 'occassion', 'occassions', 'occur', 'occurred', 'october', 'odd', 'oddest', 'oddly', 'oddlyshapen', 'oddness', 'odds', 'odor', 'of', 'off', 'offcentered', 'offcentre', 'offense', 'offensively', 'offer', 'offered', 'offerings', 'offers', 'offgray', 'office', 'officeapprpriate', 'officefriendly', 'offices', 'officiate', 'offkilter', 'offputting', 'offset', 'offshoulder', 'offtheshoulder', 'offwhite', 'oft', 'often', 'ogled', 'oh', 'ohh', 'ohhh', 'ohio', 'ohso', 'ohsowell', 'oil', 'ok', 'okaaaay', 'okay', 'okayif', 'okey', 'okit', 'oklahoma', 'ol', 'old', 'older', 'oldest', 'oldet', 'oldfashioned', 'oldlady', 'oldschool', 'olive', 'olivey', 'olivia', 'olson', 'olympic', 'omfg', 'omg', 'omggggggg', 'omgosh', 'on', 'once', 'one', 'onehopefully', 'onelove', 'ones', 'onetime', 'onewith', 'ongo', 'online', 'only', 'onme', 'onsale', 'onscreen', 'onseam', 'onto', 'ood', 'oof', 'oohed', 'ooo', 'ooooo', 'oos', 'opac', 'opaque', 'opaqueness', 'open', 'opened', 'opener', 'openfront', 'opening', 'opera', 'operate', 'opinion', 'opportunity', 'opposed', 'opposite', 'opshop', 'opted', 'optimizes', 'options', 'opus', 'or', 'orangered', 'orangey', 'orangeymustard', 'orangy', 'orangyred', 'orboots', 'orcas', 'orchid', 'ordeal', 'order', 'orderd', 'ordere', 'ordered', 'orderig', 'ordering', 'orders', 'ordinary', 'ordred', 'ore', 'organize', 'orginally', 'orginially', 'orherwise', 'originally', 'orleans', 'orphan', 'os', 'ot', 'other', 'otherswhich', 'otherwise', 'otherwize', 'otterbox', 'ought', 'our', 'ours', 'out', 'outcome', 'outdoor', 'outdoors', 'outer', 'outerwear', 'outey', 'outfit', 'outfits', 'outfitsaver', 'outfitstaple', 'outgrew', 'outing', 'outings', 'outline', 'outlines', 'outofshape', 'outofthisworld', 'outrageous', 'outrageously', 'outs', 'outside', 'outstanding', 'outtings', 'outward', 'outweighs', 'oval', 'oveall', 'oven', 'over', 'overairconditioned', 'overal', 'overall', 'overalls', 'overally', 'overdressing', 'overdue', 'overemphasized', 'overestimated', 'overexposed', 'overheated', 'overkill', 'overlapping', 'overlock', 'overlocked', 'overlong', 'overlook', 'overlooked', 'overlooking', 'overly', 'overlyair', 'overlycold', 'overlypink', 'overpaid', 'overpriced', 'overrated', 'overreacting', 'oversight', 'oversized', 'oversizing', 'oversold', 'overstated', 'overstretchy', 'oversweater', 'overtheknee', 'overthetop', 'overtime', 'overtop', 'overwash', 'overweight', 'overwhelmed', 'overwhelming', 'overwhelmingly', 'overwhelms', 'ow', 'owed', 'owing', 'owl', 'owls', 'own', 'owned', 'owner', 'owners', 'ownership', 'owning', 'oxblood', 'oxford', 'p90d', 'pacific', 'pack', 'package', 'packaged', 'packaging', 'packagingnot', 'packets', 'packing', 'pacman', 'pad', 'padding', 'pads', 'paid', 'pain', 'painful', 'painless', 'pains', 'paint', 'painting', 'paints', 'pair', 'paired', 'pairing', 'pairings', 'pairs', 'pajama', 'pajamaish', 'pajamalike', 'pajamas', 'pal', 'palate', 'pale', 'palette', 'palettes', 'palm', 'palms', 'pancake', 'pancho', 'panders', 'panel', 'paneling', 'panelist', 'panelling', 'panels', 'panic', 'panicked', 'pansy', 'pant', 'pantie', 'panties', 'pantryhose', 'pants', 'pantsblouse', 'pantsuit', 'pantyhose', 'pantyline', 'papaya', 'paper', 'paperthin', 'paperwhite', 'paperwork', 'papery', 'paprika', 'par', 'parachute', 'parachutelike', 'parachutey', 'parade', 'parallel', 'parcel', 'pared', 'parents', 'paring', 'paris', 'parisian', 'parisienne', 'park', 'parka', 'parked', 'parks', 'parkside', 'part', 'parti', 'partial', 'partially', 'particle', 'particular', 'particularly', 'parties', 'partly', 'parts', 'partthe', 'partum', 'party', 'partying', 'pass', 'passable', 'passed', 'passenger', 'passes', 'passing', 'past', 'pastel', 'patched', 'patchwork', 'patchy', 'patdown', 'patient', 'patiently', 'patients', 'patrick', 'patterned', 'patterni', 'patterns', 'paunchy', 'pause', 'paws', 'pay', 'payed', 'paying', 'pdq', 'pea', 'peach', 'peachy', 'peachypink', 'peacoat', 'peak', 'peakock', 'peaks', 'pealed', 'pear', 'pearl', 'pearls', 'pears', 'pearshape', 'pearshapes', 'peculiar', 'pedi', 'peel', 'peeling', 'peels', 'peep', 'peeps', 'peeptoe', 'peewee', 'pefect', 'pegged', 'peices', 'pelting', 'pelvis', 'pencil', 'pencils', 'penelope', 'penguin', 'penny', 'pensieve', 'peobably', 'people', 'peopled', 'peoples', 'peplums', 'pepped', 'pepper', 'peppermint', 'peppy', 'perfcct', 'perfect', 'perfect1', 'perfectcozy', 'perfected', 'perfection', 'perfectionism', 'perfectly', 'perfectlyexcept', 'perfectlyexcepta', 'perfectlyi', 'perfectlylike', 'perfecto', 'perfects', 'perfectsize', 'perfectttt', 'perfet', 'perfetly', 'perffffff', 'perfit', 'performance', 'perhaps', 'period', 'permanent', 'permanently', 'permissible', 'permit', 'perpetually', 'perplexed', 'perportions', 'perrson', 'person', 'person3', 'personailty', 'personal', 'personality', 'perspiration', 'persuaded', 'peruse', 'petals', 'petered', 'peti', 'petit', 'petiteandcurvy', 'petites', 'petote', 'petroleum', 'pets', 'petticoat', 'petty', 'pewtercolored', 'phased', 'phenomenal', 'phenomenon', 'phew', 'phone', 'phot', 'photo', 'photobomb', 'photographed', 'photographs', 'photoshoot', 'photosit', 'phryne', 'physics', 'physique', 'pi', 'piano', 'pick', 'picked', 'pickiest', 'picking', 'picks', 'pickups', 'picnic', 'pics', 'picture', 'pictured', 'pictures', 'picturing', 'pie', 'piece', 'pieceif', 'piecenot', 'pieces', 'pig', 'pijama', 'pil', 'pile', 'piled', 'piles', 'pilgrim', 'pilgrimy', 'piling', 'pill', 'pillbury', 'pilled', 'pillie', 'pilling', 'pillow', 'pills', 'pilly', 'pilot', 'pils', 'pin', 'pinafore', 'pinched', 'pinches', 'pine', 'pineapplealso', 'pined', 'pink', 'pinker', 'pinkish', 'pinned', 'pinning', 'pint', 'pinterest', 'pintuck', 'pinup', 'pinupy', 'pipes', 'pirate', 'pit', 'pita', 'pitfall', 'pitiful', 'pits', 'pitted', 'pitty', 'pity', 'piucture', 'pizzaz', 'pj', 'pjs', 'pk', 'placard', 'placate', 'place', 'placed', 'placement', 'places', 'placket', 'plaid', 'plaids', 'plain', 'plainer', 'plan', 'plane', 'planeed', 'planet', 'planets', 'planned', 'planning', 'plans', 'plastic', 'plasticbag', 'plasticey', 'plasticish', 'plasticky', 'plasticlike', 'plasticy', 'plastiquey', 'platform', 'platinum', 'play', 'player', 'players', 'playful', 'plays', 'playsuits', 'pleasant', 'pleasantly', 'please', 'pleased', 'pleasef', 'pleasently', 'pleasing', 'pleat', 'pleated', 'pleather', 'pleating', 'plentiful', 'plenty', 'pleted', 'plethora', 'pliers', 'plum', 'plumb', 'plumcolored', 'plummeted', 'plump', 'plumy', 'plunge', 'plural', 'plus', 'pluses', 'plush', 'pluss', 'plussized', 'pluto', 'ply', 'pockes', 'pocket', 'pocketed', 'pocketless', 'pockets', 'pocketsas', 'pocketyou', 'podge', 'point', 'pointe', 'pointed', 'pointilism', 'pointing', 'pointless', 'points', 'pokadots', 'poke', 'pokemon', 'pokers', 'pokes', 'poking', 'pol', 'policy', 'polished', 'polite', 'politely', 'political', 'polka', 'polkadotted', 'poly', 'polycream', 'polyester', 'polyestertype', 'polyestery', 'polystery', 'pom', 'poncho', 'poncholike', 'ponder', 'ponte', 'pooches', 'pooching', 'poochthing', 'poodle', 'poof', 'poofed', 'pooffy', 'poofing', 'poofs', 'poofy', 'poofywe', 'pool', 'pooped', 'poor', 'poorer', 'poorest', 'poorly', 'poorquality', 'poosible', 'popeish', 'popeye', 'popoff', 'popped', 'popping', 'poppins', 'popular', 'population', 'porch', 'porter', 'portly', 'portraits', 'portside', 'posh', 'positioned', 'positions', 'positive', 'positively', 'positives', 'possess', 'possessed', 'possession', 'possibilities', 'possibility', 'possible', 'post', 'postage', 'postbaby', 'poster', 'posterior', 'posting', 'postpregnqncy', 'posts', 'posture', 'pot', 'potage', 'potato', 'potatoes', 'potential', 'potentially', 'pots', 'potter', 'pouchy', 'pouf', 'poufs', 'poufy', 'pounced', 'pounds', 'poured', 'power', 'powerful', 'powerless', 'ppl', 'ppp', 'pr', 'practical', 'practically', 'practices', 'practise', 'practitioner', 'prairie', 'prairieesque', 'praise', 'praises', 'pray', 'prayed', 'prayers', 'praying', 'prebaby', 'precious', 'precise', 'precisely', 'predictably', 'prefect', 'prefectly', 'prefer', 'preferable', 'prefered', 'preferences', 'preferred', 'preferring', 'prefers', 'preggers', 'preggo', 'preggy', 'pregnancy', 'pregnant', 'pregnantish', 'pregnantly', 'prego', 'premier', 'premiere', 'premise', 'premium', 'prepaid', 'prepare', 'prepared', 'preppy', 'preschooler', 'present', 'presentable', 'presentations', 'preserves', 'presh', 'preshrunk', 'president', 'pressed', 'pressure', 'presumably', 'pretending', 'prett', 'prettttttttty', 'pretty', 'prevalent', 'prevent', 'preventing', 'prevents', 'previous', 'previously', 'prewedding', 'price', 'priced', 'priceeven', 'pricepoint', 'prices', 'pricetag', 'pricey', 'pride', 'prim', 'prime', 'princess', 'princessy', 'print', 'printed', 'printits', 'prints', 'prior', 'prison', 'pristine', 'privates', 'pro', 'prob', 'probably', 'problem', 'problemjust', 'problemo', 'problemplace', 'processand', 'processed', 'processes', 'produce', 'produced', 'product', 'production', 'professional', 'professionalgood', 'professionallooking', 'professionally', 'professor', 'profile', 'profit', 'profusely', 'progress', 'progresses', 'prohibitive', 'project', 'projects', 'prolly', 'prolong', 'prom', 'prominence', 'promised', 'promises', 'promising', 'promote', 'promoting', 'prompt', 'prompted', 'prone', 'pronto', 'properly', 'properties', 'proplem', 'proportional', 'proportioned', 'proportions', 'proposal', 'proposition', 'pros', 'proscomfortable', 'protect', 'prototype', 'protuberant', 'proud', 'proudly', 'prove', 'proven', 'proves', 'provided', 'provides', 'provocation', 'prude', 'pry', 'psa', 'psyched', 'pub', 'public', 'publicly', 'pucker', 'puckered', 'puckering', 'puckers', 'puckery', 'puddled', 'pudge', 'puffed', 'puffiness', 'puffs', 'puffy', 'puled', 'pull', 'pulled', 'pulling', 'pullover', 'pulls', 'pullup', 'pump', 'pumped', 'pumping', 'pumpkin', 'pumps', 'pun', 'punds', 'punk', 'punny', 'pup', 'puppies', 'puppy', 'pups', 'purchace', 'purchase', 'purchased', 'purchases', 'purchasing', 'purchesed', 'pure', 'purfect', 'purged', 'purple', 'purplegray', 'purpose', 'purposely', 'purposes', 'purr', 'purrfect', 'purrfectly', 'purrrrfect', 'purse', 'push', 'pushups', 'pussybow', 'put', 'putting', 'puuuurfect', 'puzzle', 'pyjama', 'pyjamas', 'qc', 'qua', 'quad', 'quailty', 'quaint', 'qualities', 'quality', 'qualitymade', 'qualityrecommended', 'qualitythey', 'qualitythin', 'qualitywashes', 'qualm', 'qualms', 'quarrel', 'quarter', 'quarters', 'queen', 'queensland', 'quest', 'questionable', 'questions', 'quiality', 'quibble', 'quick', 'quicker', 'quickly', 'quickthrowsomethingon', 'quilt', 'quilted', 'quilters', 'quirk', 'quirkiness', 'quirks', 'quirky', 'quit', 'quite', 'quote', 'quoted', 'quotes', 'raccoons', 'racer', 'rack', 'rag', 'ragged', 'rah', 'rainbow', 'raincoat', 'rained', 'raining', 'rains', 'rainslicker', 'rainy', 'raises', 'raising', 'rally', 'ramble', 'ran', 'random', 'randomly', 'range', 'ranges', 'rapidly', 'rapport', 'rare', 'rarely', 'rarity', 'rash', 'raspberry', 'rated', 'raters', 'rates', 'rather', 'rating', 'ratings', 'ratio', 'ration', 'rats', 'ratting', 'rattle', 'ratty', 'rave', 'ravel', 'raves', 'raving', 'raw', 'rawr', 'rayon', 'rayony', 'razer', 'razor', 'rcvd', 're', 'reaaaaaally', 'reached', 'reaches', 'reaching', 'react', 'reaction', 'reacts', 'readily', 'readjusted', 'reads', 'ready', 'real', 'realise', 'realised', 'reality', 'realize', 'realizing', 'realllllly', 'reallllly', 'really', 'rear', 'reason', 'reasons', 'reassess', 'reassurance', 'reattach', 'reattached', 'rebought', 'rebutton', 'rebuy', 'rebuying', 'rec', 'recall', 'reccomend', 'reccommend', 'receipt', 'receive', 'received', 'receiving', 'recent', 'recently', 'reception', 'receptions', 'receved', 'recieve', 'recipe', 'recipient', 'recital', 'recived', 'reciving', 'recognition', 'recommend', 'recommendable', 'recommendation', 'recommendations', 'recommended', 'reconciled', 'reconsider', 'reconsidered', 'reconstructed', 'record', 'recording', 'rectangle', 'recurring', 'recut', 'recycling', 'red', 'reddish', 'reddishpurple', 'redeemable', 'redeeming', 'redesigned', 'redid', 'redoing', 'redonkulous', 'redraft', 'reduced', 'reduces', 'reduction', 'redudant', 'redy', 'reeeeaaaallly', 'reeeeeally', 'reeeeeeally', 'reeked', 'reeled', 'refectory', 'refer', 'reference', 'refering', 'refined', 'refitted', 'refixing', 'reflect', 'reflective', 'reflects', 'reform', 'refund', 'refunded', 'refunding', 'refuse', 'refused', 'refuses', 'regal', 'regard', 'regarding', 'regards', 'regifted', 'region', 'regions', 'regret', 'regretfully', 'regrets', 'regrettably', 'regretting', 'regular', 'regularlength', 'regularly', 'rehearsal', 'rehearsals', 'rehemmed', 'rehersal', 'reinforce', 'reinforcing', 'related', 'relation', 'relationship', 'relatively', 'relax', 'relaxation', 'relaxed', 'releases', 'relegated', 'reliable', 'relieved', 'religious', 'relived', 'reluctantly', 'rely', 'remain', 'remains', 'remedies', 'remedy', 'remembers', 'remembrance', 'remind', 'reminded', 'reminder', 'reminds', 'reminiscent', 'remix', 'remorse', 'remotely', 'removable', 'remove', 'removeable', 'remover', 'rendering', 'reorder', 'repacked', 'repaie', 'repair', 'repaired', 'repairing', 'repairs', 'repeal', 'repeated', 'repeatedly', 'repelled', 'repellent', 'replace', 'replaced', 'replacement', 'replacing', 'reply', 'reported', 'repositioning', 'repped', 'represent', 'representation', 'representative', 'representive', 'repulsive', 'repurchase', 'repurchased', 'repurchasing', 'reputation', 'requested', 'requesting', 'requests', 'required', 'requires', 'requiring', 'reread', 'rerun', 'rerurned', 'resale', 'rescuer', 'research', 'resell', 'resembled', 'resent', 'reservation', 'reservations', 'reserved', 'resetting', 'resew', 'resewed', 'resewer', 'resewing', 'resewn', 'residual', 'residue', 'resilience', 'resist', 'resistant', 'resisted', 'resister', 'resisting', 'resized', 'reslly', 'resnapped', 'resolve', 'respectable', 'respects', 'respond', 'responded', 'responding', 'responsive', 'rest', 'restart', 'restaurant', 'restitching', 'restock', 'restocked', 'restored', 'restraightened', 'restricting', 'restrictive', 'rests', 'result', 'resulting', 'retail', 'retailer', 'retailers', 'retain', 'retained', 'retaining', 'retains', 'retention', 'rethink', 'retired', 'retiring', 'retriever', 'retro', 'retroliscious', 'retrolooking', 'retrostyle', 'retuned', 'retuning', 'return', 'returned', 'returning', 'returnnneedddddd', 'returns', 'reular', 'reunited', 'reusable', 'reuseable', 'reutrned', 'reveal', 'revealed', 'revealing', 'reveiwers', 'reversible', 'review', 'reviewcontest', 'reviewcontestlove', 'reviewcontestthis', 'reviewer', 'reviewers', 'reviews', 'reviewsit', 'revive', 'revived', 'reviwer', 'rewash', 'rewashed', 'rewrinkle', 'rhe', 'rhinestone', 'rhodesian', 'rhw', 'rhyms', 'ribbed', 'ribcage', 'rich', 'richness', 'ricky', 'rid', 'ride', 'rider', 'rides', 'ridgeback', 'ridic', 'ridiculous', 'ridiculously', 'riding', 'right', 'righton', 'rights', 'rightthis', 'rigid', 'ring', 'rinse', 'riot', 'rip', 'rippable', 'ripped', 'ripping', 'ripple', 'ripples', 'rippling', 'rips', 'rises', 'risk', 'risked', 'risks', 'risky', 'risqu', 'rivet', 'rivets', 'road', 'roaming', 'robbed', 'robe', 'rock', 'rockabilia', 'rocked', 'rocker', 'rocket', 'rockin', 'rode', 'rogers', 'roles', 'roll', 'rolled', 'roller', 'rolling', 'rolls', 'rolypoly', 'roman', 'rompers', 'rooftop', 'room', 'roomate', 'roomi', 'roomie', 'roominess', 'roomy', 'rope', 'ros', 'rosalind', 'rose', 'roses', 'ross', 'rotate', 'rotates', 'rotations', 'roucheing', 'rouching', 'roug', 'rouged', 'rough', 'rougher', 'roughly', 'roughness', 'round', 'rounded', 'roundfaced', 'rounds', 'routinely', 'row', 'royalty', 'rrally', 'rub', 'rubbed', 'rubber', 'rubberized', 'rubbery', 'rubs', 'ruby', 'rucheing', 'rude', 'ruffle', 'ruffled', 'ruffles', 'ruffley', 'rugged', 'ruined', 'ruins', 'rule', 'rules', 'rumors', 'rump', 'rumpled', 'rumpling', 'run', 'runched', 'runic', 'runner', 'runny', 'runofthemill', 'runs', 'runt', 'russe', 'rust', 'rustic', 'rustling', 'ryan', 'sack', 'sacklike', 'sacks', 'sacramento', 'sacred', 'sacrifice', 'sacrifices', 'sad', 'saddens', 'saddlebags', 'saddly', 'sadly', 'safe', 'safer', 'safety', 'safetypinned', 'sag', 'sage', 'sagged', 'sagging', 'saggy', 'sags', 'said', 'saidmixed', 'sailor', 'saints', 'salads', 'sale', 'salem', 'sales', 'sallow', 'salt', 'salts', 'salty', 'salvage', 'same', 'sample', 'san', 'sand', 'sandals', 'sanders', 'sandpaper', 'sans', 'sansleggings', 'santa', 'saran', 'sassy', 'sat', 'satchel', 'satinish', 'satiny', 'satisfied', 'satisfy', 'saturated', 'saturday', 'saturdays', 'sausage', 'save', 'saved', 'saver', 'saving', 'savings', 'savior', 'saw', 'say', 'saying', 'says', 'scale', 'scalloped', 'scam', 'scandalously', 'scanner', 'scare', 'scared', 'scares', 'scarf', 'scarlet', 'scarlett', 'scarves', 'scenario', 'scene', 'scented', 'sceptical', 'scheduled', 'scheme', 'schlubby', 'school', 'schoolers', 'schoolmaster', 'scientists', 'scifi', 'scissors', 'scone', 'scoop', 'scooped', 'scoops', 'score', 'scored', 'scores', 'scotty', 'scoured', 'scouring', 'scout', 'scraped', 'scrappy', 'scratch', 'scratched', 'scratcher', 'scratches', 'scratchier', 'scratchiness', 'scratching', 'scratchy', 'scratcy', 'scrawny', 'scream', 'screamed', 'screams', 'screeched', 'screenprinting', 'screws', 'scrimped', 'scrub', 'scrubbing', 'scrubs', 'scruffy', 'scrunched', 'scrunches', 'scrunchie', 'scrunching', 'scrunchy', 'scrutinize', 'scrutiny', 'scuba', 'sculptured', 'se', 'sea', 'seaching', 'seafoam', 'seahorse', 'seam', 'seaming', 'seams', 'seamstress', 'seamtress', 'search', 'searching', 'season', 'seasonal', 'seasonality', 'seasonround', 'seasons', 'seat', 'seated', 'seattle', 'seberg', 'second', 'secondhand', 'secondly', 'seconds', 'secret', 'secretary', 'section', 'sections', 'secure', 'secured', 'securely', 'see', 'seem', 'seemed', 'seemes', 'seeming', 'seemingly', 'seems', 'seen', 'seeped', 'seersucker', 'seethrew', 'seethrough', 'seethru', 'seeves', 'seinfeld', 'select', 'selected', 'selecting', 'selection', 'selections', 'self', 'selfie', 'sell', 'sellers', 'selling', 'sells', 'selves', 'semicasual', 'semicheap', 'semiclingy', 'semicomplaint', 'semiparisian', 'semisheer', 'semistretchy', 'send', 'sender', 'sendin', 'sending', 'senior', 'sensations', 'sense', 'sensitive', 'sensitivity', 'sensual', 'sent', 'separate', 'separated', 'separating', 'september', 'sequence', 'sequin', 'sequined', 'serged', 'serging', 'series', 'seriously', 'seriousness', 'serve', 'server', 'serves', 'service', 'serviceable', 'services', 'serving', 'session', 'sets', 'setting', 'settled', 'settles', 'settling', 'setup', 'seventh', 'several', 'severe', 'sew', 'sewed', 'sewedon', 'sewer', 'sewing', 'sewn', 'sex', 'sexiest', 'sexiness', 'sexton', 'sexy', 'sexygood', 'sfw', 'sh', 'shabby', 'shade', 'shades', 'shadow', 'shall', 'shallow', 'shame', 'shamelessly', 'shank', 'shape', 'shaped', 'shapedits', 'shapeless', 'shapely', 'shaper', 'shapes', 'shapewear', 'shapewise', 'share', 'shared', 'shark', 'sharpen', 'shave', 'shaver', 'shaving', 'shawls', 'shazaam', 'she', 'sheath', 'sheaths', 'shed', 'shedding', 'sheds', 'sheen', 'sheeny', 'sheer', 'sheerand', 'sheerer', 'sheergreat', 'sheerness', 'sheers', 'sheet', 'sheets', 'shell', 'shifting', 'shifts', 'shiiiiiirt', 'shimmers', 'shimmery', 'shimmy', 'shin', 'shine', 'shined', 'shinier', 'shining', 'shins', 'shiny', 'shinythe', 'shipped', 'shipping', 'ships', 'shirley', 'shirred', 'shirt', 'shirtdresses', 'shirtit', 'shirtlike', 'shirts', 'shirtsthis', 'shit', 'shlumpy', 'shock', 'shocked', 'shockingly', 'shocks', 'shoddily', 'shoddy', 'shoe', 'shoes', 'shoessuper', 'shooooort', 'shooting', 'shop', 'shopped', 'shopping', 'shops', 'short', 'shortcomings', 'shortcropped', 'shorted', 'shortened', 'shortening', 'shorter', 'shortersleeved', 'shortest', 'shorties', 'shortish', 'shortness', 'shortprobably', 'shorts', 'shortville', 'shortwaisted', 'shorty', 'shortyshorts', 'shot', 'shoter', 'shots', 'shottily', 'shotty', 'should', 'shoulda', 'shoulder', 'shouldered', 'shoulderpads', 'shoulders', 'shouldersi', 'shouldertoshoulder', 'shouldn', 'shouldve', 'shove', 'show', 'showed', 'shower', 'showers', 'showin', 'showing', 'shrank', 'shred', 'shredded', 'shredding', 'shrieked', 'shrink', 'shrinkability', 'shrinkage', 'shrinked', 'shrinking', 'shrinks', 'shrug', 'shrunk', 'shrunken', 'shy', 'sick', 'sickly', 'side', 'sided', 'sidei', 'sideit', 'sidenote', 'sides', 'sideview', 'sideways', 'sienna', 'sift', 'sigh', 'sights', 'signature', 'significantly', 'siiiigh', 'sil', 'silhouette', 'silhouettes', 'silk', 'silkier', 'silkiness', 'silks', 'silky', 'silkymaterial', 'sill', 'silly', 'siloette', 'silouette', 'silouhette', 'silver', 'silverware', 'similar', 'simpel', 'simple', 'simplecardigan', 'simpler', 'simply', 'simultaneously', 'since', 'sincere', 'sincerely', 'sinch', 'sing', 'singed', 'single', 'singlet', 'singletoned', 'sink', 'sins', 'sip', 'sirs', 'sis', 'sister', 'sit', 'site', 'sites', 'sith', 'sits', 'sitting', 'sitts', 'situation', 'situations', 'six', 'sixes', 'sixteen', 'sixties', 'sixyearold', 'siz', 'sizable', 'size', 'size5', 'sizeable', 'sized', 'sizedup', 'sizem', 'sizers', 'sizethe', 'sizewas', 'sizewise', 'sizewould', 'skater', 'skaterlength', 'skates', 'skating', 'skelekitty', 'skeletons', 'skeptical', 'sketch', 'skews', 'ski', 'skill', 'skilled', 'skills', 'skimmed', 'skimmers', 'skimmies', 'skimpy', 'skims', 'skin', 'skincolor', 'skiniest', 'skinned', 'skinniest', 'skinny', 'skins', 'skinz', 'skip', 'skirt', 'skirt100', 'skirtcomfortable', 'skirted', 'skirts', 'skirtsanddresses', 'skirtthe', 'skits', 'skooched', 'skort', 'skorts', 'skull', 'skulls', 'sky', 'slacks', 'slain', 'slapped', 'slay', 'sleaves', 'sleeker', 'sleekget', 'sleeve', 'sleeved', 'sleevehole', 'sleeveless', 'sleeves', 'sleevless', 'slenderizing', 'slept', 'sleve', 'slicing', 'slick', 'slickness', 'slide', 'slides', 'sliding', 'slighlty', 'slight', 'slightest', 'slightly', 'slightlytoohot', 'sliiiightly', 'slimer', 'slimfitting', 'sliming', 'slimlegged', 'slimmer', 'slimming', 'slims', 'slinks', 'slinky', 'slip', 'slipped', 'slippery', 'slippy', 'slips', 'slit', 'slits', 'sloppier', 'sloppily', 'sloppy', 'slot', 'slots', 'slouch', 'slouched', 'slouchier', 'slouchy', 'slowly', 'slubby', 'slumps', 'slung', 'slut', 'slutty', 'sm', 'small', 'smallbut', 'smaller', 'smallest', 'smalli', 'smallish', 'smallit', 'smalllllll', 'smallmedium', 'smallness', 'smallthey', 'smallwaisted', 'smart', 'smartens', 'smashed', 'smashing', 'smedium', 'smell', 'smelled', 'smelling', 'smells', 'smelly', 'smidgen', 'smig', 'smitten', 'smock', 'smocked', 'smog', 'smoke', 'smoking', 'smooshes', 'smooth', 'smoothed', 'smoother', 'smoothest', 'smoothly', 'smooths', 'smug', 'smushed', 'snag', 'snagged', 'snagging', 'snags', 'snap', 'snapped', 'snappy', 'snappybusinessy', 'snaps', 'snarled', 'snatch', 'snatched', 'snatching', 'snaz', 'snazzier', 'snd', 'sniff', 'snigger', 'snip', 'sniped', 'snipping', 'snipsnip', 'snob', 'snow', 'snowbelt', 'snowing', 'snowpants', 'snowpantsy', 'snowy', 'snug', 'snugdefinitely', 'snugfitting', 'snugger', 'snuggerfitting', 'snuggling', 'snuggly', 'snugly', 'snugshould', 'so', 'soak', 'soaking', 'soaks', 'soany', 'sobbing', 'socal', 'socially', 'society', 'sock', 'socked', 'soda', 'sofar', 'sofisticated', 'soflowy', 'soft', 'softand', 'softandsupple', 'softball', 'soften', 'softened', 'softener', 'softening', 'softens', 'softer', 'softest', 'softly', 'softness', 'softy', 'sofy', 'soild', 'soiree', 'solar', 'soldperhaps', 'sole', 'solely', 'soley', 'solid', 'solider', 'solo', 'solution', 'solvang', 'solve', 'some', 'somehow', 'someone', 'sometgig', 'something', 'sometime', 'sometimes', 'somewhat', 'somewhere', 'son', 'sone', 'song', 'sonnet', 'sons', 'soo', 'sookie', 'soon', 'sooner', 'soontocome', 'sooo', 'soooo', 'sooooft', 'sooooo', 'soooooo', 'sooooooo', 'soooooooo', 'soooooooooo', 'sophisticated', 'sore', 'sorely', 'sorghum', 'sorority', 'sorry', 'sort', 'sorta', 'sorting', 'soso', 'sosoas', 'souch', 'soul', 'soulmate', 'sound', 'sounds', 'south', 'southern', 'southwestern', 'sowed', 'sowing', 'sown', 'sozed', 'sp', 'spa', 'space', 'spaced', 'spaces', 'spacing', 'spaghetti', 'span', 'spandex', 'spandexlike', 'spandexy', 'spandexyness', 'spanish', 'spanks', 'spanx', 'spanxx', 'spared', 'sparingly', 'sparkle', 'sparkley', 'sparkly', 'speaking', 'spearmint', 'spec', 'special', 'specialbut', 'specially', 'specific', 'specs', 'spectrum', 'speech', 'speechless', 'speed', 'speedy', 'speing', 'spend', 'spending', 'spends', 'spent', 'spice', 'spices', 'spider', 'spikes', 'spill', 'spilt', 'spin', 'spinning', 'spinny', 'spinworthy', 'spite', 'splendid', 'splendidly', 'split', 'splitfront', 'splits', 'splitting', 'splurge', 'splurged', 'splurging', 'spoiled', 'spoke', 'spongelike', 'spongey', 'spongy', 'spooky', 'sport', 'sported', 'spot', 'spotlight', 'spots', 'spouses', 'spray', 'sprayed', 'spraying', 'spreading', 'spree', 'spring', 'springtime', 'springy', 'sprinig', 'spritely', 'spruce', 'spruced', 'sprung', 'spun', 'spy', 'square', 'squash', 'squat', 'squatsized', 'squatting', 'squatty', 'squeaky', 'squealed', 'squeezed', 'squirrel', 'squished', 'squishing', 'sratchy', 'srly', 'srsly', 'sstyle', 'st', 'stabbing', 'stable', 'stackhousemeetsstepford', 'stage', 'staic', 'stain', 'stained', 'stains', 'stairs', 'stalk', 'stalking', 'stalls', 'stamp', 'standalone', 'standard', 'standards', 'standin', 'standing', 'standpoint', 'stands', 'staple', 'staples', 'star', 'starbucks', 'starch', 'starched', 'starchier', 'starchy', 'stargazing', 'staring', 'starkly', 'starlet', 'stars', 'starsand', 'start', 'started', 'starter', 'starting', 'starts', 'starving', 'state', 'stated', 'statement', 'states', 'static', 'staticclingy', 'staticfilled', 'staticky', 'staticy', 'stating', 'statures', 'status', 'stay', 'stayathomemom', 'stayed', 'staying', 'stays', 'steadfast', 'steadily', 'steal', 'stealing', 'steals', 'steam', 'steamed', 'steampunk', 'steamy', 'steel', 'steep', 'steer', 'stem', 'stench', 'stepdaughter', 'steps', 'stepsisters', 'stereotypical', 'sternum', 'steve', 'stiching', 'stick', 'sticked', 'sticker', 'sticking', 'stickings', 'sticks', 'sticky', 'stiff', 'stiffening', 'stiffer', 'stiffly', 'stiffness', 'stiffstarchy', 'stifling', 'stigfer', 'stigma', 'stil', 'stile', 'still', 'stillbulged', 'stilling', 'stills', 'sting', 'stink', 'stinking', 'stinks', 'stinky', 'stitch', 'stitched', 'stitchery', 'stitches', 'stitchesit', 'stitching', 'stll', 'stoaked', 'stock', 'stockings', 'stoked', 'stole', 'stomach', 'stomachs', 'stone', 'stood', 'stop', 'stopped', 'stopper', 'stops', 'stopwatch', 'storage', 'store', 'stored', 'storewhere', 'stories', 'stout', 'straddle', 'stragling', 'straight', 'straighten', 'straightleg', 'strain', 'straining', 'strait', 'strands', 'strange', 'strangely', 'strangeness', 'stranger', 'strangereminds', 'strangers', 'strangest', 'strangle', 'strap', 'strapless', 'straplessbraandspanx', 'strappy', 'strategies', 'straw', 'stray', 'streak', 'streaky', 'stream', 'streamcolored', 'streams', 'streatch', 'streatchy', 'strech', 'strechy', 'street', 'streets', 'strength', 'strengthen', 'strengths', 'strenuous', 'stressed', 'stretch', 'stretched', 'stretchiness', 'stretching', 'stretchy', 'stretchybut', 'stretchyer', 'stretchyness', 'stricter', 'strike', 'strikes', 'string', 'strings', 'stringy', 'strip', 'stripe', 'striped', 'stripes', 'stripey', 'stripped', 'strips', 'stripy', 'stroll', 'strong', 'strongest', 'strongly', 'struck', 'structure', 'structured', 'strucured', 'struggles', 'stubble', 'stubborn', 'stubbornness', 'stuck', 'student', 'students', 'studier', 'studio', 'studious', 'studs', 'studying', 'stuff', 'stuffed', 'stumbled', 'stunk', 'stunner', 'stunnerrrrr', 'stunning', 'stunted', 'stupid', 'stupidly', 'sturday', 'sturdier', 'sturdily', 'sturdy', 'stury', 'style', 'stylei', 'styleit', 'styles', 'stylewise', 'styling', 'stylish', 'stylishly', 'stylishthe', 'stylist', 'stylists', 'stylized', 'suave', 'sub', 'subject', 'subjective', 'submitted', 'subpar', 'subsequently', 'substance', 'subtle', 'subtly', 'subtropical', 'success', 'successfully', 'such', 'suck', 'sucker', 'suckers', 'sucking', 'sucks', 'suede', 'suffer', 'suffers', 'sufficient', 'sufficiently', 'suffocate', 'suffocating', 'suffocatingly', 'suggestions', 'suggestively', 'suggests', 'suit', 'suitable', 'suitcase', 'suite', 'suited', 'suitesque', 'suits', 'sum', 'summary', 'summer', 'summerish', 'summerly', 'summers', 'summertime', 'summery', 'summit', 'sun', 'sunday', 'sundays', 'sundress', 'sundresses', 'sunflower', 'sunlight', 'sunnier', 'sunny', 'sunnygirl', 'sunscreen', 'sunshine', 'sup', 'super', 'superb', 'superbillowy', 'supercomfortable', 'supercozy', 'supercute', 'superfluous', 'superglue', 'superhero', 'superior', 'superlong', 'superlowriding', 'supermodel', 'supernova', 'supersensitive', 'superskinny', 'supersoft', 'superstition', 'superwoman', 'supple', 'supplement', 'support', 'supporting', 'supportive', 'suppose', 'supreme', 'supremely', 'suprise', 'suprised', 'sure', 'surely', 'surfaces', 'surgery', 'surplice', 'surprise', 'surprises', 'surprisingly', 'surprize', 'surreptitiously', 'surrounding', 'survived', 'susceptible', 'sushi', 'suspect', 'suspected', 'suspender', 'suspicion', 'suspicious', 'sustain', 'sustainability', 'suuper', 'suuuuper', 'suuuuuper', 'suuuuuuppper', 'sw', 'swaeter', 'swalled', 'swallow', 'swallowed', 'swallowing', 'swallows', 'swam', 'swamped', 'swan', 'swap', 'swapped', 'swapping', 'swaps', 'swatch', 'sway', 'sweat', 'sweater', 'sweatera', 'sweaterit', 'sweaterlike', 'sweaters', 'sweatersi', 'sweather', 'sweatinducing', 'sweating', 'sweatpants', 'sweats', 'sweatshirt', 'sweatshirtlike', 'sweatshirts', 'sweatshop', 'sweaty', 'sweet', 'sweetlegs', 'swell', 'swelter', 'swim', 'swimmer', 'swimming', 'swimsuit', 'swimsuitesque', 'swimsuits', 'swimwear', 'swing', 'swingy', 'swirls', 'swish', 'swishes', 'swishey', 'swishing', 'swishy', 'swishynoisy', 'switch', 'switched', 'switches', 'switzerland', 'swngy', 'swoon', 'swooning', 'swoooshes', 'swoop', 'swooshes', 'sxl', 'sydney', 'symmetrical', 'symphonic', 'synching', 'synthetic', 'syntheticfeeling', 'syntheticlooking', 'sz', 'sz12', 'sze', 'ta', 'taaaad', 'tab', 'table', 'tablecloth', 'tablecloths', 'tabs', 'tack', 'tackier', 'tackle', 'tacky', 'tad', 'taffeta', 'taffy', 'tag', 'tagged', 'tags', 'taille', 'tailor', 'tailored', 'tailoring', 'tailormade', 'tails', 'taken', 'taking', 'tale', 'talent', 'tales', 'talk', 'tall', 'taller', 'tallest', 'tallgirl', 'tallgirlproblems', 'tame', 'tangled', 'tank', 'tanks', 'tanktops', 'tanned', 'tans', 'tape', 'taped', 'taper', 'tapered', 'tapering', 'tapestry', 'target', 'tarp', 'tarplike', 'tartan', 'taste', 'tasteful', 'tastes', 'tasting', 'tata', 'tattered', 'taupe', 'taut', 'tax', 'taxes', 'tbd', 'tbh', 'teach', 'teacher', 'teaches', 'teaching', 'teacup', 'teal', 'tealength', 'team', 'tear', 'teared', 'tearing', 'tears', 'tech', 'technically', 'techsavvy', 'tedious', 'tee', 'teenage', 'teenagers', 'teeniest', 'teensiest', 'teensy', 'teeny', 'tees', 'teeth', 'telescope', 'telling', 'temp', 'temper', 'temperate', 'temperature', 'temperatures', 'template', 'temple', 'temps', 'tempted', 'ten', 'tenative', 'tend', 'tended', 'tendency', 'tender', 'tendrils', 'tends', 'tension', 'tent', 'tention', 'tentmaker', 'tents', 'tenty', 'term', 'terrible', 'terribletwo', 'terribly', 'terrific', 'terry', 'tesl', 'tesla', 'test', 'tested', 'tester', 'teutonic', 'texas', 'textile', 'texture', 'texturebumpy', 'textured', 'textures', 'tey', 'tge', 'tgough', 'th', 'thai', 'than', 'thang', 'thank', 'thankful', 'thankfully', 'thanks', 'that', 'thaught', 'thay', 'the', 'thearms', 'theater', 'theatre', 'thee', 'theighs', 'their', 'theirs', 'them', 'themall', 'themed', 'themes', 'themi', 'themmaybe', 'themotherwise', 'themselves', 'then', 'theory', 'theperfectgift', 'therapy', 'there', 'thereby', 'therefore', 'therei', 'thereof', 'thermal', 'thes', 'these', 'thesebut', 'theses', 'thet', 'thete', 'they', 'theyre', 'theyve', 'thia', 'thick', 'thicker', 'thickerthe', 'thickness', 'thickthighsquad', 'thid', 'thief', 'thier', 'thigh', 'thighholes', 'thighs', 'thight', 'thights', 'thiiiiiiis', 'thikg', 'thin', 'thinbutnotsee', 'thing', 'thingjust', 'things', 'thingslike', 'thingy', 'thini', 'think', 'thinking', 'thinkness', 'thinks', 'thinnearly', 'thinned', 'thinner', 'thinness', 'thinnest', 'thinning', 'thinnish', 'thins', 'thinthe', 'third', 'thirdly', 'thirty', 'this', 'thisin', 'thisit', 'thisshirt', 'thisup', 'thivk', 'thivkness', 'tho', 'thong', 'thongs', 'thons', 'thorough', 'thoroughly', 'those', 'thou', 'thoug', 'though', 'thoughi', 'thought', 'thoughts', 'thoughvery', 'thoughz', 'thougt', 'thr', 'thread', 'threaded', 'threading', 'threads', 'threatening', 'three', 'threefourth', 'threequarterlength', 'threeyearold', 'threw', 'thrice', 'thrift', 'thrilled', 'thrills', 'throat', 'through', 'throughish', 'throughout', 'throught', 'throw', 'thrown', 'thrreads', 'thru', 'thrust', 'tht', 'thumb', 'thunder', 'thus', 'thwy', 'thx', 'thye', 'ti', 'tiana', 'tic', 'tick', 'ticked', 'tickers', 'ticket', 'tickin', 'ticking', 'tickly', 'tide', 'tidily', 'tidy', 'tidying', 'tie', 'tied', 'tieneck', 'tier', 'tiffany', 'tiger', 'tight', 'tightened', 'tightener', 'tightening', 'tighter', 'tightes', 'tightfitting', 'tightish', 'tightly', 'tightmy', 'tights', 'tightsonly', 'tightsperfect', 'tightthink', 'tightxl', 'tiiiiiiny', 'tiiiiiny', 'til', 'till', 'tilt', 'time', 'timeee', 'timei', 'timeit', 'timeless', 'timelessly', 'timer', 'times', 'timesline', 'timesnice', 'timethe', 'timetraveler', 'timey', 'tinge', 'tinier', 'tiniest', 'tinker', 'tint', 'tinted', 'tiny', 'tipped', 'tips', 'tired', 'tis', 'tish', 'tissue', 'tit', 'title', 'titled', 'tknow', 'tknowwhattowear', 'tl', 'tlength', 'tline', 'tmi', 'to', 'toastie', 'toasty', 'tobe', 'today', 'toddler', 'toddlers', 'toed', 'toeing', 'together', 'tokhes', 'tolater', 'told', 'tolerable', 'tolerance', 'tolerate', 'tomato', 'tommorow', 'toms', 'ton', 'tone', 'tonnes', 'tonnn', 'tons', 'too', 'toobig', 'took', 'tools', 'toooo', 'tooooo', 'toooooo', 'tooooooo', 'toosmall', 'tooth', 'top', 'topchic', 'topheavy', 'topi', 'topit', 'topmost', 'topnotch', 'topon', 'tops', 'topstitching', 'tor', 'tore', 'torn', 'torquoise', 'torrid', 'torso', 'torsos', 'tos', 'toss', 'tossing', 'tossup', 'total', 'totally', 'totes', 'touch', 'touchandgo', 'touched', 'touches', 'touching', 'tougher', 'toughest', 'tought', 'tour', 'tourniquet', 'toward', 'towards', 'towels', 'tower', 'town', 'toxic', 'toyed', 'toying', 'toys', 'traces', 'track', 'tracking', 'tracks', 'tracksuit', 'traded', 'trades', 'trading', 'traditionally', 'tragic', 'trailed', 'trailered', 'trailing', 'transeasonal', 'transfer', 'transferring', 'transfers', 'transforms', 'transition', 'transitioned', 'transitions', 'translated', 'translates', 'translucence', 'translucency', 'translucent', 'transparent', 'transseasonal', 'trap', 'trapped', 'traps', 'trash', 'trashy', 'trauma', 'traumatizing', 'traveled', 'traveling', 'travelingsuper', 'trawl', 'treads', 'treasure', 'treasures', 'treat', 'treated', 'treatment', 'tree', 'trek', 'tremendous', 'trench', 'trendsetter', 'trendy', 'trexes', 'trhanks', 'trial', 'triangle', 'triangles', 'tricep', 'triceps', 'trick', 'tricked', 'tricky', 'tried', 'trigger', 'trim', 'trimester', 'trimmed', 'trimming', 'trimmings', 'trip', 'tris', 'triumph', 'trivia', 'trolley', 'tropical', 'tropics', 'trouble', 'troubles', 'troubleshooting', 'troublesome', 'troublespot', 'troubling', 'trough', 'trouser', 'trucked', 'true', 'truer', 'truewaist', 'truly', 'trumping', 'trunk', 'trust', 'trusted', 'trusting', 'trusty', 'truthfully', 'try', 'trying', 'ts', 'tshirt', 'tshirtlike', 'tshirty', 'tsleeves', 'tts', 'tube', 'tubular', 'tuck', 'tucked', 'tuckedin', 'tucker', 'tuckied', 'tucking', 'tucks', 'tuesday', 'tuffet', 'tufts', 'tugging', 'tugs', 'tulle', 'tulleish', 'tumble', 'tumbles', 'tummies', 'tummy', 'tuna', 'tuned', 'tunic', 'tunicalmost', 'tunicit', 'tunics', 'tunicy', 'turnhimon', 'turnoff', 'turns', 'turquoise', 'tushie', 'tutor', 'tutu', 'tv', 'twas', 'tweed', 'tweedy', 'tween', 'twelve', 'twenties', 'twenty', 'twice', 'twicewith', 'twiggy', 'twill', 'twinky', 'twirl', 'twirlability', 'twirled', 'twirlfactor', 'twirling', 'twirlingjust', 'twirls', 'twirlworthy', 'twirly', 'twist', 'twisted', 'twists', 'two', 'twodollar', 'twomore', 'twothree', 'tx', 'tx22', 'tye', 'tyler', 'type', 'types', 'typewriter', 'typewriters', 'typical', 'typically', 'typle', 'uber', 'ubertight', 'ubique', 'ugg', 'ugh', 'ugly', 'uh', 'uhhh', 'uhhhgg', 'uk', 'uk16', 'uk6', 'ultimate', 'ultimately', 'ultracomfy', 'ultrapositive', 'um', 'umbrella', 'umbrellas', 'ummm', 'ummmm', 'un', 'unable', 'unacceptable', 'unacceptably', 'unaccessorized', 'unappealing', 'unappreciated', 'unashamedly', 'unattractive', 'unattractively', 'unavailable', 'unavoidable', 'unbearable', 'unbelievable', 'unbelievably', 'unbottoned', 'unboxy', 'unbreathable', 'unbuttonable', 'unbuttoning', 'uncapped', 'uncheerful', 'uncofortable', 'uncomfortable', 'uncomfortably', 'uncommon', 'unconditional', 'uncool', 'uncovered', 'uncuff', 'und', 'undecided', 'undego', 'undeniably', 'under', 'underarm', 'underarmour', 'underarms', 'underboss', 'underbust', 'underestimated', 'underflap', 'undergarments', 'undergone', 'underlayer', 'underneath', 'underneathe', 'underneatn', 'underpants', 'undershirt', 'undershirts', 'underside', 'undersized', 'underskirt', 'underskirts', 'underslip', 'underso', 'understand', 'understanding', 'understate', 'understated', 'undertones', 'underwater', 'underwear', 'underwhelmed', 'underwhelming', 'undid', 'undies', 'undoing', 'undone', 'undoubtedly', 'undress', 'unequivocally', 'uneven', 'uneveness', 'unevenly', 'unexpectedit', 'unexpectedly', 'unfamiliar', 'unfinished', 'unflattered', 'unflattering', 'unflatteringly', 'unfold', 'unfolded', 'unforgivably', 'unforgiving', 'unfortnate', 'unfortunate', 'unfortunatelly', 'unfortunately', 'unfortunatly', 'unfortunetly', 'unfourtunatley', 'unfrayed', 'unhappy', 'unhemmed', 'unhook', 'uni', 'unidentifiable', 'uniformity', 'unimpressed', 'unimpressive', 'uninhibited', 'unintentional', 'unintentionally', 'unique', 'uniquely', 'universally', 'universe', 'university', 'unjustified', 'unkempt', 'unlattering', 'unless', 'unlike', 'unlikely', 'unlined', 'unlovely', 'unmanagable', 'unmatching', 'unnecessarily', 'unnecessary', 'unnerving', 'unpacked', 'unpalatable', 'unpleasant', 'unpleasing', 'unpolished', 'unprofessional', 'unprofessionally', 'unravel', 'unraveled', 'unraveling', 'unravelled', 'unravelling', 'unravels', 'unreal', 'unrealistic', 'unreasonable', 'unrecognizable', 'unremarkable', 'unrolled', 'unrolling', 'unrolls', 'unsatisfied', 'unseasonably', 'unseat', 'unsecure', 'unseemly', 'unsewed', 'unsexy', 'unshapely', 'unsightly', 'unsnap', 'unspeakably', 'unstitch', 'unstitched', 'unstoppable', 'unstructured', 'unstylish', 'unsubstantial', 'unsure', 'unsurprising', 'unsurprisingly', 'unsuspecting', 'unthreaded', 'untied', 'until', 'untucked', 'unusable', 'unuseable', 'unusual', 'unusually', 'unwanted', 'unwearable', 'unwieldy', 'unworkable', 'unworn', 'unwrapped', 'unwravel', 'unwrinkly', 'unzip', 'unzipped', 'unzippered', 'unzipping', 'uooooooooooo', 'up', 'upcoming', 'update', 'upespecially', 'upfront', 'upholstery', 'upi', 'upkeep', 'upon', 'upper', 'upping', 'upright', 'ups', 'upsetting', 'upsidedown', 'upsize', 'upsized', 'upward', 'ur', 'urge', 'urgh', 'us', 'us12', 'us1416', 'us70', 'usa', 'usability', 'usable', 'usage', 'use', 'usefull', 'usefulness', 'useless', 'user', 'users', 'uses', 'using', 'ussizes', 'usual', 'usually', 'ususally', 'ut', 'utterly', 'va', 'vacation', 'vacuum', 'vader', 'val', 'valentine', 'valley', 'valuable', 'value', 'valued', 'values', 'vampire', 'vanish', 'vans', 'variation', 'variations', 'varied', 'varies', 'variety', 'vastly', 'vaulting', 'vavava', 'vavoom', 've', 'veeerrryyyy', 'veen', 'veery', 'velcro', 'velvet', 'velvety', 'vendor', 'vendors', 'venice', 'venue', 'venues', 'ver', 'verge', 'verges', 'verified', 'verrrrrrry', 'verrrry', 'verry', 'versa', 'versatel', 'versatile', 'versatilebut', 'versatilegreat', 'versatility', 'versed', 'verses', 'version', 'versions', 'versitality', 'versitile', 'versitle', 'versus', 'veruca', 'very', 'veryobviouslypolyester', 'veterinary', 'vey', 'vibe', 'vibes', 'vibrant', 'vibrantyou', 'vice', 'victim', 'victoria', 'vid', 'vie', 'viens', 'viewed', 'viewing', 'vigilant', 'vigor', 'vigorous', 'vinegar', 'vintage', 'vintagelooking', 'vintagestyle', 'vintagethemed', 'vintagey', 'vinyl', 'viola', 'violet', 'violin', 'virginia', 'virtual', 'virtually', 'virtues', 'viscose', 'visibility', 'visible', 'visibly', 'visits', 'visual', 'visually', 'viva', 'vivacious', 'vivid', 'vneck', 'vnecks', 'voila', 'voluminousjust', 'voluptuous', 'voom', 'vow', 'vowed', 'vs', 'waaaaaaaay', 'waaaaaaay', 'waaaaaay', 'waaaaay', 'waaaasay', 'waaaay', 'waaaayyy', 'waaaayyyyyy', 'waaay', 'waaayy', 'waayy', 'wadded', 'waering', 'waffled', 'waffleknit', 'wages', 'wahhhhhhh', 'waist', 'waistband', 'waistcinching', 'waisted', 'waisteven', 'waistheight', 'waistif', 'waistline', 'waistlineyou', 'waists', 'waistsmall', 'waisttohip', 'waistup', 'wait', 'waiting', 'waitress', 'waits', 'waive', 'wake', 'wales', 'walkingtoyoga', 'wall', 'walmart', 'wan', 'wandering', 'waned', 'wanna', 'wannabe', 'want', 'wanted', 'wantedit', 'wanting', 'war', 'wardbrobe', 'wardobe', 'wardrobe', 'wardrobes', 'wardrobevery', 'warehouse', 'wares', 'waring', 'warm', 'warmed', 'warmer', 'warmest', 'warming', 'warms', 'warmsweatery', 'warmth', 'warmthi', 'warmweather', 'warn', 'warned', 'warnedthis', 'warns', 'warp', 'warped', 'warrant', 'warrants', 'wars', 'was', 'waseven', 'wash', 'washable', 'washboard', 'washed', 'washer', 'washes', 'washing', 'washings', 'washington', 'washit', 'washtub', 'wasn', 'wasnt', 'waspier', 'waspies', 'wast', 'waste', 'wasted', 'wasteful', 'waster', 'watchers', 'watching', 'water', 'waterfall', 'waterproof', 'wave', 'wavy', 'wax', 'way', 'waybill', 'wayjust', 'ways', 'wayy', 'wayyy', 'wayyyy', 'wayyyyy', 'wayyyyyyyy', 'we', 'weak', 'weakly', 'weaning', 'wear', 'wearability', 'wearable', 'wearing', 'wearings', 'wears', 'wearting', 'weary', 'weater', 'weather', 'weave', 'weaving', 'webs', 'website', 'wed', 'weddimg', 'wedding', 'weddings', 'wedge', 'wedges', 'wedgie', 'wedgy', 'wednesday', 'wednesdayadamsesque', 'wee', 'week', 'weekend', 'weekends', 'weekly', 'weeks', 'weeny', 'wego', 'weigh', 'weighed', 'weight', 'weighted', 'weightless', 'weightlifting', 'weights', 'weighty', 'weinkle', 'weird', 'weirdest', 'weirdfitting', 'weirdlooking', 'weirdly', 'weirdness', 'weirdo', 'weist', 'wel', 'welcome', 'welcomed', 'well', 'wellappointed', 'wellconstructed', 'wellcrafted', 'wellendowed', 'wellfitted', 'wellit', 'welljust', 'wellleaving', 'wellmade', 'wellmatched', 'wellmoisturized', 'wellness', 'wellred', 'wellworn', 'wen', 'went', 'were', 'weren', 'werid', 'west', 'westernish', 'wet', 'weta', 'wetsuit', 'whack', 'what', 'whatever', 'whateves', 'whatevs', 'whats', 'whatsoever', 'whawha', 'wheather', 'when', 'whenever', 'where', 'wherein', 'wherever', 'whether', 'whew', 'which', 'whichway', 'whiff', 'while', 'whim', 'whimsical', 'whimsy', 'whit', 'white', 'whiteedged', 'whiteit', 'whites', 'who', 'whoa', 'whoever', 'whole', 'wholly', 'whom', 'whomp', 'whoops', 'whose', 'why', 'whyyy', 'wich', 'wicked', 'wickedly', 'wickedshort', 'wicks', 'wiconsin', 'wide', 'widebrimmed', 'widehip', 'wideish', 'widelegged', 'widely', 'widen', 'wider', 'wideshouldered', 'widest', 'width', 'wierd', 'wife', 'wiggle', 'wiiiide', 'wiith', 'wild', 'wile', 'will', 'willing', 'willingness', 'willy', 'win', 'wind', 'windbreaker', 'window', 'windows', 'windsor', 'windy', 'wine', 'wings', 'wink', 'winner', 'winners', 'winning', 'winter', 'winterize', 'winters', 'wintertime', 'wintery', 'wintry', 'winwin', 'wire', 'wirj', 'wis', 'wisconsin', 'wisely', 'wish', 'wished', 'wishes', 'wishful', 'wishing', 'wishlist', 'wit', 'witch', 'witchcraft', 'witchery', 'witchy', 'with', 'within', 'without', 'withstand', 'withstands', 'withy', 'wizard', 'wizards', 'woeked', 'woke', 'woman', 'womans', 'womens', 'womp', 'womsn', 'wonder', 'wondered', 'wonderful', 'wonderfull', 'wonderfully', 'wonderland', 'wonka', 'wonks', 'wonky', 'wonnnnderful', 'wood', 'wooden', 'woof', 'woohoo', 'wool', 'woolite', 'wooly', 'woooo', 'woot', 'word', 'words', 'wordslove', 'wore', 'work', 'workacceptable', 'workbe', 'workday', 'worked', 'workers', 'workhorse', 'worki', 'workif', 'workmanship', 'workplace', 'workready', 'works', 'workshirt', 'workshops', 'world', 'worm', 'worms', 'worn', 'worried', 'worries', 'worry', 'worryfree', 'worrying', 'worse', 'worsen', 'worst', 'worth', 'worthless', 'worths', 'worthwhile', 'worthy', 'woth', 'would', 'wouldbe', 'wouldn', 'wouldve', 'wound', 'woven', 'wow', 'wowed', 'wowworthy', 'wowza', 'wrangle', 'wrapdress', 'wrapped', 'wrapping', 'wraps', 'wraptype', 'wre', 'wried', 'wriggle', 'wright', 'wrinkes', 'wrinkle', 'wrinkled', 'wrinklefree', 'wrinkles', 'wrinkling', 'wrinkly', 'wrist', 'write', 'writer', 'writers', 'writes', 'writing', 'wrong', 'wrry', 'wuite', 'xacto', 'xams', 'xhested', 'xl', 'xl1x', 'xl1xl', 'xland', 'xlarge', 'xllarge', 'xox', 'xoxo', 'xs', 'xxl', 'xxs', 'xxx', 'xxxl', 'xxxxx', 'xyz', 'ya', 'yanking', 'yarn', 'yarns', 'yawn', 'yay', 'yayyyyyy', 'yea', 'year', 'yearlong', 'yearround', 'years', 'yeeeeessssi', 'yellow', 'yellowalmost', 'yellower', 'yellowfleckedcolored', 'yellowgreen', 'yellows', 'yep', 'yes', 'yessssss', 'yesterday', 'yet', 'yetbut', 'yettobepublished', 'yeye', 'yhough', 'yikes', 'yipee', 'yippie', 'yogatype', 'yokecons', 'yolo', 'yom', 'york', 'yorkie', 'you', 'youd', 'youknowwhat', 'youll', 'young', 'your', 'youre', 'yourself', 'youve', 'yowza', 'yu', 'yuck', 'yucky', 'yummo', 'yummy', 'yuss', 'zags', 'zeal', 'zero', 'zest', 'zhe', 'zig', 'zigzag', 'zigzags', 'zip', 'zipout', 'zipped', 'zipper', 'zippered', 'zippers', 'zipping', 'zips', 'zipup', 'zoiks', 'zones', 'zoo']\n"
          ]
        }
      ]
    },
    {
      "cell_type": "code",
      "source": [
        "results_df = pd.DataFrame(results)\n",
        "results_df"
      ],
      "metadata": {
        "id": "5LLDHQYqBG8E",
        "outputId": "6eacb1db-acc6-4166-934c-1a9ee2d0c794",
        "colab": {
          "base_uri": "https://localhost:8080/",
          "height": 300
        }
      },
      "execution_count": 57,
      "outputs": [
        {
          "output_type": "execute_result",
          "data": {
            "text/plain": [
              "   k-value  Training Accuracy  Test Accuracy\n",
              "0       10           0.353756       0.349013\n",
              "1       25           0.336042       0.335197\n",
              "2       50           0.311535       0.308947\n",
              "3      100           0.307160       0.299211\n",
              "4      250           0.372638       0.364408\n",
              "5      500           0.382769       0.369474\n",
              "6     1000           0.399727       0.388158\n",
              "7    10000           0.509071       0.371908"
            ],
            "text/html": [
              "\n",
              "  <div id=\"df-899faa64-d3e9-4570-af09-e8f5e17ecb53\">\n",
              "    <div class=\"colab-df-container\">\n",
              "      <div>\n",
              "<style scoped>\n",
              "    .dataframe tbody tr th:only-of-type {\n",
              "        vertical-align: middle;\n",
              "    }\n",
              "\n",
              "    .dataframe tbody tr th {\n",
              "        vertical-align: top;\n",
              "    }\n",
              "\n",
              "    .dataframe thead th {\n",
              "        text-align: right;\n",
              "    }\n",
              "</style>\n",
              "<table border=\"1\" class=\"dataframe\">\n",
              "  <thead>\n",
              "    <tr style=\"text-align: right;\">\n",
              "      <th></th>\n",
              "      <th>k-value</th>\n",
              "      <th>Training Accuracy</th>\n",
              "      <th>Test Accuracy</th>\n",
              "    </tr>\n",
              "  </thead>\n",
              "  <tbody>\n",
              "    <tr>\n",
              "      <th>0</th>\n",
              "      <td>10</td>\n",
              "      <td>0.353756</td>\n",
              "      <td>0.349013</td>\n",
              "    </tr>\n",
              "    <tr>\n",
              "      <th>1</th>\n",
              "      <td>25</td>\n",
              "      <td>0.336042</td>\n",
              "      <td>0.335197</td>\n",
              "    </tr>\n",
              "    <tr>\n",
              "      <th>2</th>\n",
              "      <td>50</td>\n",
              "      <td>0.311535</td>\n",
              "      <td>0.308947</td>\n",
              "    </tr>\n",
              "    <tr>\n",
              "      <th>3</th>\n",
              "      <td>100</td>\n",
              "      <td>0.307160</td>\n",
              "      <td>0.299211</td>\n",
              "    </tr>\n",
              "    <tr>\n",
              "      <th>4</th>\n",
              "      <td>250</td>\n",
              "      <td>0.372638</td>\n",
              "      <td>0.364408</td>\n",
              "    </tr>\n",
              "    <tr>\n",
              "      <th>5</th>\n",
              "      <td>500</td>\n",
              "      <td>0.382769</td>\n",
              "      <td>0.369474</td>\n",
              "    </tr>\n",
              "    <tr>\n",
              "      <th>6</th>\n",
              "      <td>1000</td>\n",
              "      <td>0.399727</td>\n",
              "      <td>0.388158</td>\n",
              "    </tr>\n",
              "    <tr>\n",
              "      <th>7</th>\n",
              "      <td>10000</td>\n",
              "      <td>0.509071</td>\n",
              "      <td>0.371908</td>\n",
              "    </tr>\n",
              "  </tbody>\n",
              "</table>\n",
              "</div>\n",
              "      <button class=\"colab-df-convert\" onclick=\"convertToInteractive('df-899faa64-d3e9-4570-af09-e8f5e17ecb53')\"\n",
              "              title=\"Convert this dataframe to an interactive table.\"\n",
              "              style=\"display:none;\">\n",
              "        \n",
              "  <svg xmlns=\"http://www.w3.org/2000/svg\" height=\"24px\"viewBox=\"0 0 24 24\"\n",
              "       width=\"24px\">\n",
              "    <path d=\"M0 0h24v24H0V0z\" fill=\"none\"/>\n",
              "    <path d=\"M18.56 5.44l.94 2.06.94-2.06 2.06-.94-2.06-.94-.94-2.06-.94 2.06-2.06.94zm-11 1L8.5 8.5l.94-2.06 2.06-.94-2.06-.94L8.5 2.5l-.94 2.06-2.06.94zm10 10l.94 2.06.94-2.06 2.06-.94-2.06-.94-.94-2.06-.94 2.06-2.06.94z\"/><path d=\"M17.41 7.96l-1.37-1.37c-.4-.4-.92-.59-1.43-.59-.52 0-1.04.2-1.43.59L10.3 9.45l-7.72 7.72c-.78.78-.78 2.05 0 2.83L4 21.41c.39.39.9.59 1.41.59.51 0 1.02-.2 1.41-.59l7.78-7.78 2.81-2.81c.8-.78.8-2.07 0-2.86zM5.41 20L4 18.59l7.72-7.72 1.47 1.35L5.41 20z\"/>\n",
              "  </svg>\n",
              "      </button>\n",
              "      \n",
              "  <style>\n",
              "    .colab-df-container {\n",
              "      display:flex;\n",
              "      flex-wrap:wrap;\n",
              "      gap: 12px;\n",
              "    }\n",
              "\n",
              "    .colab-df-convert {\n",
              "      background-color: #E8F0FE;\n",
              "      border: none;\n",
              "      border-radius: 50%;\n",
              "      cursor: pointer;\n",
              "      display: none;\n",
              "      fill: #1967D2;\n",
              "      height: 32px;\n",
              "      padding: 0 0 0 0;\n",
              "      width: 32px;\n",
              "    }\n",
              "\n",
              "    .colab-df-convert:hover {\n",
              "      background-color: #E2EBFA;\n",
              "      box-shadow: 0px 1px 2px rgba(60, 64, 67, 0.3), 0px 1px 3px 1px rgba(60, 64, 67, 0.15);\n",
              "      fill: #174EA6;\n",
              "    }\n",
              "\n",
              "    [theme=dark] .colab-df-convert {\n",
              "      background-color: #3B4455;\n",
              "      fill: #D2E3FC;\n",
              "    }\n",
              "\n",
              "    [theme=dark] .colab-df-convert:hover {\n",
              "      background-color: #434B5C;\n",
              "      box-shadow: 0px 1px 3px 1px rgba(0, 0, 0, 0.15);\n",
              "      filter: drop-shadow(0px 1px 2px rgba(0, 0, 0, 0.3));\n",
              "      fill: #FFFFFF;\n",
              "    }\n",
              "  </style>\n",
              "\n",
              "      <script>\n",
              "        const buttonEl =\n",
              "          document.querySelector('#df-899faa64-d3e9-4570-af09-e8f5e17ecb53 button.colab-df-convert');\n",
              "        buttonEl.style.display =\n",
              "          google.colab.kernel.accessAllowed ? 'block' : 'none';\n",
              "\n",
              "        async function convertToInteractive(key) {\n",
              "          const element = document.querySelector('#df-899faa64-d3e9-4570-af09-e8f5e17ecb53');\n",
              "          const dataTable =\n",
              "            await google.colab.kernel.invokeFunction('convertToInteractive',\n",
              "                                                     [key], {});\n",
              "          if (!dataTable) return;\n",
              "\n",
              "          const docLinkHtml = 'Like what you see? Visit the ' +\n",
              "            '<a target=\"_blank\" href=https://colab.research.google.com/notebooks/data_table.ipynb>data table notebook</a>'\n",
              "            + ' to learn more about interactive tables.';\n",
              "          element.innerHTML = '';\n",
              "          dataTable['output_type'] = 'display_data';\n",
              "          await google.colab.output.renderOutput(dataTable, element);\n",
              "          const docLink = document.createElement('div');\n",
              "          docLink.innerHTML = docLinkHtml;\n",
              "          element.appendChild(docLink);\n",
              "        }\n",
              "      </script>\n",
              "    </div>\n",
              "  </div>\n",
              "  "
            ]
          },
          "metadata": {},
          "execution_count": 57
        }
      ]
    },
    {
      "cell_type": "code",
      "source": [
        "#Plot it here\n",
        "\n",
        "plt.plot(results_df['k-value'], results_df['Training Accuracy'], linewidth=2, label='Training Accuracy', linestyle='dashed',marker='o')\n",
        "plt.plot(results_df['k-value'], results_df['Test Accuracy'], linewidth=2, label='Test Accuracy',linestyle='dashed',marker='o')\n",
        "plt.ylabel('Accuracy Rate')\n",
        "plt.xlabel('Number of Features')\n",
        "plt.title('Accuracy by Number of Features')\n",
        "plt.legend()\n",
        "plt.show()"
      ],
      "metadata": {
        "id": "Pn7FYUCIBJ6B",
        "outputId": "0b136cb0-e196-4e84-925d-8ef3b5c4fb44",
        "colab": {
          "base_uri": "https://localhost:8080/",
          "height": 295
        }
      },
      "execution_count": 60,
      "outputs": [
        {
          "output_type": "display_data",
          "data": {
            "text/plain": [
              "<Figure size 432x288 with 1 Axes>"
            ],
            "image/png": "[encoded data removed]"
          },
          "metadata": {
            "needs_background": "light"
          }
        }
      ]
    }
  ]
}