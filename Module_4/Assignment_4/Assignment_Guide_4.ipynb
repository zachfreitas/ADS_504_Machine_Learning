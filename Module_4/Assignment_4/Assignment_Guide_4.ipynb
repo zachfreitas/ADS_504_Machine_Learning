{
  "nbformat": 4,
  "nbformat_minor": 0,
  "metadata": {
    "colab": {
      "name": "Assignment Guide #4",
      "provenance": [],
      "collapsed_sections": [],
      "include_colab_link": true
    },
    "kernelspec": {
      "name": "python3",
      "display_name": "Python 3"
    },
    "language_info": {
      "name": "python"
    }
  },
  "cells": [
    {
      "cell_type": "markdown",
      "metadata": {
        "id": "view-in-github",
        "colab_type": "text"
      },
      "source": [
        "<a href=\"https://colab.research.google.com/github/zachfreitas/ADS_504_Machine_Learning/blob/main/Module_4/Assignment_4/Assignment_Guide_4.ipynb\" target=\"_parent\"><img src=\"https://colab.research.google.com/assets/colab-badge.svg\" alt=\"Open In Colab\"/></a>"
      ]
    },
    {
      "cell_type": "markdown",
      "source": [
        "# Assignment 4.1\n",
        "Zachariah Freitas"
      ],
      "metadata": {
        "id": "R2oaPmVDmlqj"
      }
    },
    {
      "cell_type": "markdown",
      "source": [
        "# Clothing Data\n",
        "\n",
        "For this assignment, you will work with data from a popular clothing website, modcloth.com. This\n",
        "gives us a chance to work with feature engineering, feature extraction, and unbalanced,\n",
        "multiclass datasets. You will train several different classification models based on different types\n",
        "of data from this dataset.\n",
        "\n",
        "As you go through the assignment, you will create several tables and figures. After you\n",
        "complete the programming section, use the tables and figures you generated to answer the questions.\n"
      ],
      "metadata": {
        "id": "da0174HjqBkP"
      }
    },
    {
      "cell_type": "code",
      "source": [
        "# All you may need as the IMPORTS :)\n",
        "import pandas as pd\n",
        "import numpy as np\n",
        "import json\n",
        "import os\n",
        "import matplotlib.pyplot as plt\n",
        "import seaborn as sns\n",
        "import json\n",
        "# This ensures that sklearn 0.24 is loaded on Google colab\n",
        "#!pip uninstall scikit-learn -y\n",
        "#!pip install -U scikit-learn\n",
        "\n",
        "from sklearn.preprocessing import OneHotEncoder, OrdinalEncoder, LabelEncoder, StandardScaler, Normalizer\n",
        "from sklearn.compose import ColumnTransformer\n",
        "from sklearn.impute import SimpleImputer\n",
        "from sklearn.metrics import confusion_matrix, accuracy_score, plot_confusion_matrix, classification_report, ConfusionMatrixDisplay\n",
        "from sklearn.model_selection import train_test_split, cross_val_score\n",
        "from sklearn.pipeline import make_pipeline, Pipeline\n",
        "from sklearn.feature_extraction.text import TfidfVectorizer\n",
        "from sklearn.feature_selection import SelectKBest, chi2\n",
        "from sklearn.linear_model import Perceptron"
      ],
      "metadata": {
        "id": "LYJmssLus9pG"
      },
      "execution_count": 2,
      "outputs": []
    },
    {
      "cell_type": "markdown",
      "source": [
        "# Pre-Processing and Loading Data:\n",
        "\n",
        "In your Blackboard assignment prompt is the modcloth_final_data.json file, which is a series of\n",
        "JSON objects from a popular clothing store, modcloth.com. Load these objects into a list, and\n",
        "then use pd.DataFrame to convert that list into a dataframe called modcloth_data.\n"
      ],
      "metadata": {
        "id": "ddjEgZ7bqng_"
      }
    },
    {
      "cell_type": "code",
      "execution_count": 3,
      "metadata": {
        "colab": {
          "base_uri": "https://localhost:8080/",
          "height": 374
        },
        "id": "S6VylzEyiloY",
        "outputId": "8524d804-7f0f-4882-fbf4-595ba58fed50"
      },
      "outputs": [
        {
          "output_type": "execute_result",
          "data": {
            "text/plain": [
              "   item_id  waist  size  quality cup size  hips  bra size category bust  \\\n",
              "0   123373   29.0     7      5.0        d  38.0      34.0      new   36   \n",
              "1   123373   31.0    13      3.0        b  30.0      36.0      new  NaN   \n",
              "2   123373   30.0     7      2.0        b   NaN      32.0      new  NaN   \n",
              "3   123373    NaN    21      5.0     dd/e   NaN       NaN      new  NaN   \n",
              "4   123373    NaN    18      5.0        b   NaN      36.0      new  NaN   \n",
              "\n",
              "    height         user_name         length    fit  user_id  shoe size  \\\n",
              "0  5ft 6in             Emily     just right  small   991571        NaN   \n",
              "1  5ft 2in  sydneybraden2001     just right  small   587883        NaN   \n",
              "2  5ft 7in             Ugggh  slightly long  small   395665        9.0   \n",
              "3      NaN      alexmeyer626     just right    fit   875643        NaN   \n",
              "4  5ft 2in        dberrones1  slightly long  small   944840        NaN   \n",
              "\n",
              "  shoe width review_summary review_text  \n",
              "0        NaN            NaN         NaN  \n",
              "1        NaN            NaN         NaN  \n",
              "2        NaN            NaN         NaN  \n",
              "3        NaN            NaN         NaN  \n",
              "4        NaN            NaN         NaN  "
            ],
            "text/html": [
              "\n",
              "  <div id=\"df-b13888cc-725e-4b23-890c-36df75eb14b5\">\n",
              "    <div class=\"colab-df-container\">\n",
              "      <div>\n",
              "<style scoped>\n",
              "    .dataframe tbody tr th:only-of-type {\n",
              "        vertical-align: middle;\n",
              "    }\n",
              "\n",
              "    .dataframe tbody tr th {\n",
              "        vertical-align: top;\n",
              "    }\n",
              "\n",
              "    .dataframe thead th {\n",
              "        text-align: right;\n",
              "    }\n",
              "</style>\n",
              "<table border=\"1\" class=\"dataframe\">\n",
              "  <thead>\n",
              "    <tr style=\"text-align: right;\">\n",
              "      <th></th>\n",
              "      <th>item_id</th>\n",
              "      <th>waist</th>\n",
              "      <th>size</th>\n",
              "      <th>quality</th>\n",
              "      <th>cup size</th>\n",
              "      <th>hips</th>\n",
              "      <th>bra size</th>\n",
              "      <th>category</th>\n",
              "      <th>bust</th>\n",
              "      <th>height</th>\n",
              "      <th>user_name</th>\n",
              "      <th>length</th>\n",
              "      <th>fit</th>\n",
              "      <th>user_id</th>\n",
              "      <th>shoe size</th>\n",
              "      <th>shoe width</th>\n",
              "      <th>review_summary</th>\n",
              "      <th>review_text</th>\n",
              "    </tr>\n",
              "  </thead>\n",
              "  <tbody>\n",
              "    <tr>\n",
              "      <th>0</th>\n",
              "      <td>123373</td>\n",
              "      <td>29.0</td>\n",
              "      <td>7</td>\n",
              "      <td>5.0</td>\n",
              "      <td>d</td>\n",
              "      <td>38.0</td>\n",
              "      <td>34.0</td>\n",
              "      <td>new</td>\n",
              "      <td>36</td>\n",
              "      <td>5ft 6in</td>\n",
              "      <td>Emily</td>\n",
              "      <td>just right</td>\n",
              "      <td>small</td>\n",
              "      <td>991571</td>\n",
              "      <td>NaN</td>\n",
              "      <td>NaN</td>\n",
              "      <td>NaN</td>\n",
              "      <td>NaN</td>\n",
              "    </tr>\n",
              "    <tr>\n",
              "      <th>1</th>\n",
              "      <td>123373</td>\n",
              "      <td>31.0</td>\n",
              "      <td>13</td>\n",
              "      <td>3.0</td>\n",
              "      <td>b</td>\n",
              "      <td>30.0</td>\n",
              "      <td>36.0</td>\n",
              "      <td>new</td>\n",
              "      <td>NaN</td>\n",
              "      <td>5ft 2in</td>\n",
              "      <td>sydneybraden2001</td>\n",
              "      <td>just right</td>\n",
              "      <td>small</td>\n",
              "      <td>587883</td>\n",
              "      <td>NaN</td>\n",
              "      <td>NaN</td>\n",
              "      <td>NaN</td>\n",
              "      <td>NaN</td>\n",
              "    </tr>\n",
              "    <tr>\n",
              "      <th>2</th>\n",
              "      <td>123373</td>\n",
              "      <td>30.0</td>\n",
              "      <td>7</td>\n",
              "      <td>2.0</td>\n",
              "      <td>b</td>\n",
              "      <td>NaN</td>\n",
              "      <td>32.0</td>\n",
              "      <td>new</td>\n",
              "      <td>NaN</td>\n",
              "      <td>5ft 7in</td>\n",
              "      <td>Ugggh</td>\n",
              "      <td>slightly long</td>\n",
              "      <td>small</td>\n",
              "      <td>395665</td>\n",
              "      <td>9.0</td>\n",
              "      <td>NaN</td>\n",
              "      <td>NaN</td>\n",
              "      <td>NaN</td>\n",
              "    </tr>\n",
              "    <tr>\n",
              "      <th>3</th>\n",
              "      <td>123373</td>\n",
              "      <td>NaN</td>\n",
              "      <td>21</td>\n",
              "      <td>5.0</td>\n",
              "      <td>dd/e</td>\n",
              "      <td>NaN</td>\n",
              "      <td>NaN</td>\n",
              "      <td>new</td>\n",
              "      <td>NaN</td>\n",
              "      <td>NaN</td>\n",
              "      <td>alexmeyer626</td>\n",
              "      <td>just right</td>\n",
              "      <td>fit</td>\n",
              "      <td>875643</td>\n",
              "      <td>NaN</td>\n",
              "      <td>NaN</td>\n",
              "      <td>NaN</td>\n",
              "      <td>NaN</td>\n",
              "    </tr>\n",
              "    <tr>\n",
              "      <th>4</th>\n",
              "      <td>123373</td>\n",
              "      <td>NaN</td>\n",
              "      <td>18</td>\n",
              "      <td>5.0</td>\n",
              "      <td>b</td>\n",
              "      <td>NaN</td>\n",
              "      <td>36.0</td>\n",
              "      <td>new</td>\n",
              "      <td>NaN</td>\n",
              "      <td>5ft 2in</td>\n",
              "      <td>dberrones1</td>\n",
              "      <td>slightly long</td>\n",
              "      <td>small</td>\n",
              "      <td>944840</td>\n",
              "      <td>NaN</td>\n",
              "      <td>NaN</td>\n",
              "      <td>NaN</td>\n",
              "      <td>NaN</td>\n",
              "    </tr>\n",
              "  </tbody>\n",
              "</table>\n",
              "</div>\n",
              "      <button class=\"colab-df-convert\" onclick=\"convertToInteractive('df-b13888cc-725e-4b23-890c-36df75eb14b5')\"\n",
              "              title=\"Convert this dataframe to an interactive table.\"\n",
              "              style=\"display:none;\">\n",
              "        \n",
              "  <svg xmlns=\"http://www.w3.org/2000/svg\" height=\"24px\"viewBox=\"0 0 24 24\"\n",
              "       width=\"24px\">\n",
              "    <path d=\"M0 0h24v24H0V0z\" fill=\"none\"/>\n",
              "    <path d=\"M18.56 5.44l.94 2.06.94-2.06 2.06-.94-2.06-.94-.94-2.06-.94 2.06-2.06.94zm-11 1L8.5 8.5l.94-2.06 2.06-.94-2.06-.94L8.5 2.5l-.94 2.06-2.06.94zm10 10l.94 2.06.94-2.06 2.06-.94-2.06-.94-.94-2.06-.94 2.06-2.06.94z\"/><path d=\"M17.41 7.96l-1.37-1.37c-.4-.4-.92-.59-1.43-.59-.52 0-1.04.2-1.43.59L10.3 9.45l-7.72 7.72c-.78.78-.78 2.05 0 2.83L4 21.41c.39.39.9.59 1.41.59.51 0 1.02-.2 1.41-.59l7.78-7.78 2.81-2.81c.8-.78.8-2.07 0-2.86zM5.41 20L4 18.59l7.72-7.72 1.47 1.35L5.41 20z\"/>\n",
              "  </svg>\n",
              "      </button>\n",
              "      \n",
              "  <style>\n",
              "    .colab-df-container {\n",
              "      display:flex;\n",
              "      flex-wrap:wrap;\n",
              "      gap: 12px;\n",
              "    }\n",
              "\n",
              "    .colab-df-convert {\n",
              "      background-color: #E8F0FE;\n",
              "      border: none;\n",
              "      border-radius: 50%;\n",
              "      cursor: pointer;\n",
              "      display: none;\n",
              "      fill: #1967D2;\n",
              "      height: 32px;\n",
              "      padding: 0 0 0 0;\n",
              "      width: 32px;\n",
              "    }\n",
              "\n",
              "    .colab-df-convert:hover {\n",
              "      background-color: #E2EBFA;\n",
              "      box-shadow: 0px 1px 2px rgba(60, 64, 67, 0.3), 0px 1px 3px 1px rgba(60, 64, 67, 0.15);\n",
              "      fill: #174EA6;\n",
              "    }\n",
              "\n",
              "    [theme=dark] .colab-df-convert {\n",
              "      background-color: #3B4455;\n",
              "      fill: #D2E3FC;\n",
              "    }\n",
              "\n",
              "    [theme=dark] .colab-df-convert:hover {\n",
              "      background-color: #434B5C;\n",
              "      box-shadow: 0px 1px 3px 1px rgba(0, 0, 0, 0.15);\n",
              "      filter: drop-shadow(0px 1px 2px rgba(0, 0, 0, 0.3));\n",
              "      fill: #FFFFFF;\n",
              "    }\n",
              "  </style>\n",
              "\n",
              "      <script>\n",
              "        const buttonEl =\n",
              "          document.querySelector('#df-b13888cc-725e-4b23-890c-36df75eb14b5 button.colab-df-convert');\n",
              "        buttonEl.style.display =\n",
              "          google.colab.kernel.accessAllowed ? 'block' : 'none';\n",
              "\n",
              "        async function convertToInteractive(key) {\n",
              "          const element = document.querySelector('#df-b13888cc-725e-4b23-890c-36df75eb14b5');\n",
              "          const dataTable =\n",
              "            await google.colab.kernel.invokeFunction('convertToInteractive',\n",
              "                                                     [key], {});\n",
              "          if (!dataTable) return;\n",
              "\n",
              "          const docLinkHtml = 'Like what you see? Visit the ' +\n",
              "            '<a target=\"_blank\" href=https://colab.research.google.com/notebooks/data_table.ipynb>data table notebook</a>'\n",
              "            + ' to learn more about interactive tables.';\n",
              "          element.innerHTML = '';\n",
              "          dataTable['output_type'] = 'display_data';\n",
              "          await google.colab.output.renderOutput(dataTable, element);\n",
              "          const docLink = document.createElement('div');\n",
              "          docLink.innerHTML = docLinkHtml;\n",
              "          element.appendChild(docLink);\n",
              "        }\n",
              "      </script>\n",
              "    </div>\n",
              "  </div>\n",
              "  "
            ]
          },
          "metadata": {},
          "execution_count": 3
        }
      ],
      "source": [
        "df = pd.read_json(\n",
        "    'https://github.com/zachfreitas/ADS_504_Machine_Learning/raw/main/Module_4/Assignment_4/modcloth_final_data.zip',\n",
        "     lines = True\n",
        "     )\n",
        "df.head()\n",
        "\n",
        "modcloth = pd.DataFrame(df)\n",
        "# remove rows with null quality values\n",
        "modcloth = modcloth[modcloth['quality'].notna()]\n",
        "# remove bust outlier\n",
        "modcloth = modcloth[modcloth['bust'] != '37-39']\n",
        "\n",
        "modcloth.head()"
      ]
    },
    {
      "cell_type": "code",
      "source": [
        "modcloth.describe().T"
      ],
      "metadata": {
        "id": "CHkjbBESvCDH",
        "colab": {
          "base_uri": "https://localhost:8080/",
          "height": 300
        },
        "outputId": "55261b6f-ed9b-4bfd-c547-1d7b2e77a8b0"
      },
      "execution_count": 4,
      "outputs": [
        {
          "output_type": "execute_result",
          "data": {
            "text/plain": [
              "             count           mean            std       min       25%  \\\n",
              "item_id    82721.0  469317.955912  213997.525023  123373.0  314980.0   \n",
              "waist       2842.0      31.323716       5.291110      20.0      28.0   \n",
              "size       82721.0      12.661585       8.271349       0.0       8.0   \n",
              "quality    82721.0       3.949046       0.992782       1.0       3.0   \n",
              "hips       56030.0      40.358058       5.827110      30.0      36.0   \n",
              "bra size   76722.0      35.972237       3.224544      28.0      34.0   \n",
              "user_id    82721.0  498817.452908  286379.634536       6.0  252860.0   \n",
              "shoe size  27885.0       8.145060       1.324220       5.0       7.0   \n",
              "\n",
              "                50%       75%       max  \n",
              "item_id    454030.0  658440.0  807722.0  \n",
              "waist          30.0      34.0      50.0  \n",
              "size           12.0      15.0      38.0  \n",
              "quality         4.0       5.0       5.0  \n",
              "hips           39.0      43.0      60.0  \n",
              "bra size       36.0      38.0      48.0  \n",
              "user_id    497769.0  744746.0  999972.0  \n",
              "shoe size       8.0       9.0      11.5  "
            ],
            "text/html": [
              "\n",
              "  <div id=\"df-de32a05f-6248-4cb8-ae49-27c07f2dea82\">\n",
              "    <div class=\"colab-df-container\">\n",
              "      <div>\n",
              "<style scoped>\n",
              "    .dataframe tbody tr th:only-of-type {\n",
              "        vertical-align: middle;\n",
              "    }\n",
              "\n",
              "    .dataframe tbody tr th {\n",
              "        vertical-align: top;\n",
              "    }\n",
              "\n",
              "    .dataframe thead th {\n",
              "        text-align: right;\n",
              "    }\n",
              "</style>\n",
              "<table border=\"1\" class=\"dataframe\">\n",
              "  <thead>\n",
              "    <tr style=\"text-align: right;\">\n",
              "      <th></th>\n",
              "      <th>count</th>\n",
              "      <th>mean</th>\n",
              "      <th>std</th>\n",
              "      <th>min</th>\n",
              "      <th>25%</th>\n",
              "      <th>50%</th>\n",
              "      <th>75%</th>\n",
              "      <th>max</th>\n",
              "    </tr>\n",
              "  </thead>\n",
              "  <tbody>\n",
              "    <tr>\n",
              "      <th>item_id</th>\n",
              "      <td>82721.0</td>\n",
              "      <td>469317.955912</td>\n",
              "      <td>213997.525023</td>\n",
              "      <td>123373.0</td>\n",
              "      <td>314980.0</td>\n",
              "      <td>454030.0</td>\n",
              "      <td>658440.0</td>\n",
              "      <td>807722.0</td>\n",
              "    </tr>\n",
              "    <tr>\n",
              "      <th>waist</th>\n",
              "      <td>2842.0</td>\n",
              "      <td>31.323716</td>\n",
              "      <td>5.291110</td>\n",
              "      <td>20.0</td>\n",
              "      <td>28.0</td>\n",
              "      <td>30.0</td>\n",
              "      <td>34.0</td>\n",
              "      <td>50.0</td>\n",
              "    </tr>\n",
              "    <tr>\n",
              "      <th>size</th>\n",
              "      <td>82721.0</td>\n",
              "      <td>12.661585</td>\n",
              "      <td>8.271349</td>\n",
              "      <td>0.0</td>\n",
              "      <td>8.0</td>\n",
              "      <td>12.0</td>\n",
              "      <td>15.0</td>\n",
              "      <td>38.0</td>\n",
              "    </tr>\n",
              "    <tr>\n",
              "      <th>quality</th>\n",
              "      <td>82721.0</td>\n",
              "      <td>3.949046</td>\n",
              "      <td>0.992782</td>\n",
              "      <td>1.0</td>\n",
              "      <td>3.0</td>\n",
              "      <td>4.0</td>\n",
              "      <td>5.0</td>\n",
              "      <td>5.0</td>\n",
              "    </tr>\n",
              "    <tr>\n",
              "      <th>hips</th>\n",
              "      <td>56030.0</td>\n",
              "      <td>40.358058</td>\n",
              "      <td>5.827110</td>\n",
              "      <td>30.0</td>\n",
              "      <td>36.0</td>\n",
              "      <td>39.0</td>\n",
              "      <td>43.0</td>\n",
              "      <td>60.0</td>\n",
              "    </tr>\n",
              "    <tr>\n",
              "      <th>bra size</th>\n",
              "      <td>76722.0</td>\n",
              "      <td>35.972237</td>\n",
              "      <td>3.224544</td>\n",
              "      <td>28.0</td>\n",
              "      <td>34.0</td>\n",
              "      <td>36.0</td>\n",
              "      <td>38.0</td>\n",
              "      <td>48.0</td>\n",
              "    </tr>\n",
              "    <tr>\n",
              "      <th>user_id</th>\n",
              "      <td>82721.0</td>\n",
              "      <td>498817.452908</td>\n",
              "      <td>286379.634536</td>\n",
              "      <td>6.0</td>\n",
              "      <td>252860.0</td>\n",
              "      <td>497769.0</td>\n",
              "      <td>744746.0</td>\n",
              "      <td>999972.0</td>\n",
              "    </tr>\n",
              "    <tr>\n",
              "      <th>shoe size</th>\n",
              "      <td>27885.0</td>\n",
              "      <td>8.145060</td>\n",
              "      <td>1.324220</td>\n",
              "      <td>5.0</td>\n",
              "      <td>7.0</td>\n",
              "      <td>8.0</td>\n",
              "      <td>9.0</td>\n",
              "      <td>11.5</td>\n",
              "    </tr>\n",
              "  </tbody>\n",
              "</table>\n",
              "</div>\n",
              "      <button class=\"colab-df-convert\" onclick=\"convertToInteractive('df-de32a05f-6248-4cb8-ae49-27c07f2dea82')\"\n",
              "              title=\"Convert this dataframe to an interactive table.\"\n",
              "              style=\"display:none;\">\n",
              "        \n",
              "  <svg xmlns=\"http://www.w3.org/2000/svg\" height=\"24px\"viewBox=\"0 0 24 24\"\n",
              "       width=\"24px\">\n",
              "    <path d=\"M0 0h24v24H0V0z\" fill=\"none\"/>\n",
              "    <path d=\"M18.56 5.44l.94 2.06.94-2.06 2.06-.94-2.06-.94-.94-2.06-.94 2.06-2.06.94zm-11 1L8.5 8.5l.94-2.06 2.06-.94-2.06-.94L8.5 2.5l-.94 2.06-2.06.94zm10 10l.94 2.06.94-2.06 2.06-.94-2.06-.94-.94-2.06-.94 2.06-2.06.94z\"/><path d=\"M17.41 7.96l-1.37-1.37c-.4-.4-.92-.59-1.43-.59-.52 0-1.04.2-1.43.59L10.3 9.45l-7.72 7.72c-.78.78-.78 2.05 0 2.83L4 21.41c.39.39.9.59 1.41.59.51 0 1.02-.2 1.41-.59l7.78-7.78 2.81-2.81c.8-.78.8-2.07 0-2.86zM5.41 20L4 18.59l7.72-7.72 1.47 1.35L5.41 20z\"/>\n",
              "  </svg>\n",
              "      </button>\n",
              "      \n",
              "  <style>\n",
              "    .colab-df-container {\n",
              "      display:flex;\n",
              "      flex-wrap:wrap;\n",
              "      gap: 12px;\n",
              "    }\n",
              "\n",
              "    .colab-df-convert {\n",
              "      background-color: #E8F0FE;\n",
              "      border: none;\n",
              "      border-radius: 50%;\n",
              "      cursor: pointer;\n",
              "      display: none;\n",
              "      fill: #1967D2;\n",
              "      height: 32px;\n",
              "      padding: 0 0 0 0;\n",
              "      width: 32px;\n",
              "    }\n",
              "\n",
              "    .colab-df-convert:hover {\n",
              "      background-color: #E2EBFA;\n",
              "      box-shadow: 0px 1px 2px rgba(60, 64, 67, 0.3), 0px 1px 3px 1px rgba(60, 64, 67, 0.15);\n",
              "      fill: #174EA6;\n",
              "    }\n",
              "\n",
              "    [theme=dark] .colab-df-convert {\n",
              "      background-color: #3B4455;\n",
              "      fill: #D2E3FC;\n",
              "    }\n",
              "\n",
              "    [theme=dark] .colab-df-convert:hover {\n",
              "      background-color: #434B5C;\n",
              "      box-shadow: 0px 1px 3px 1px rgba(0, 0, 0, 0.15);\n",
              "      filter: drop-shadow(0px 1px 2px rgba(0, 0, 0, 0.3));\n",
              "      fill: #FFFFFF;\n",
              "    }\n",
              "  </style>\n",
              "\n",
              "      <script>\n",
              "        const buttonEl =\n",
              "          document.querySelector('#df-de32a05f-6248-4cb8-ae49-27c07f2dea82 button.colab-df-convert');\n",
              "        buttonEl.style.display =\n",
              "          google.colab.kernel.accessAllowed ? 'block' : 'none';\n",
              "\n",
              "        async function convertToInteractive(key) {\n",
              "          const element = document.querySelector('#df-de32a05f-6248-4cb8-ae49-27c07f2dea82');\n",
              "          const dataTable =\n",
              "            await google.colab.kernel.invokeFunction('convertToInteractive',\n",
              "                                                     [key], {});\n",
              "          if (!dataTable) return;\n",
              "\n",
              "          const docLinkHtml = 'Like what you see? Visit the ' +\n",
              "            '<a target=\"_blank\" href=https://colab.research.google.com/notebooks/data_table.ipynb>data table notebook</a>'\n",
              "            + ' to learn more about interactive tables.';\n",
              "          element.innerHTML = '';\n",
              "          dataTable['output_type'] = 'display_data';\n",
              "          await google.colab.output.renderOutput(dataTable, element);\n",
              "          const docLink = document.createElement('div');\n",
              "          docLink.innerHTML = docLinkHtml;\n",
              "          element.appendChild(docLink);\n",
              "        }\n",
              "      </script>\n",
              "    </div>\n",
              "  </div>\n",
              "  "
            ]
          },
          "metadata": {},
          "execution_count": 4
        }
      ]
    },
    {
      "cell_type": "code",
      "source": [
        "modcloth.isna().sum().T"
      ],
      "metadata": {
        "id": "LrmAMTyTvdUa",
        "colab": {
          "base_uri": "https://localhost:8080/"
        },
        "outputId": "f9b23804-f7b7-49e2-83aa-a14d92f9b9f1"
      },
      "execution_count": 5,
      "outputs": [
        {
          "output_type": "execute_result",
          "data": {
            "text/plain": [
              "item_id               0\n",
              "waist             79879\n",
              "size                  0\n",
              "quality               0\n",
              "cup size           6231\n",
              "hips              26691\n",
              "bra size           5999\n",
              "category              0\n",
              "bust              70889\n",
              "height             1103\n",
              "user_name             0\n",
              "length               25\n",
              "fit                   0\n",
              "user_id               0\n",
              "shoe size         54836\n",
              "shoe width        64134\n",
              "review_summary     6722\n",
              "review_text        6722\n",
              "dtype: int64"
            ]
          },
          "metadata": {},
          "execution_count": 5
        }
      ]
    },
    {
      "cell_type": "markdown",
      "source": [
        "Create a variable named ‘labels’ using the ‘quality’ column. These are the labels that we will use\n",
        "for the rest of this assignment.\n",
        "\n",
        "Next, you will transform these data into numerical vectors you can use for classification.\n",
        "For the variables ‘waist’, ’size’, ’hips’, ‘bra size’, and ‘shoe size’ you can use\n",
        "pd.to_numeric(modcloth_data[variable] to convert them to numerical values. Store\n",
        "these in a data frame.\n"
      ],
      "metadata": {
        "id": "CdQDB4s5v5U-"
      }
    },
    {
      "cell_type": "markdown",
      "source": [
        "For the next variable, ‘height’, the strings need some processing to convert them into numeric\n",
        "values. You can use pd.apply to apply a transformation to the column of the data frame. Write a\n",
        "short python function to convert these to a meaningful categorical variable: convert the strings to\n",
        "height (in inches). Also, do this for the variable ‘bust’ - there are some outliers that could be handled by writing and applying another python function. Convert height and bust and store the\n",
        "numeric values to the same data frame as the other numeric features.\n"
      ],
      "metadata": {
        "id": "F9SOunEczhYK"
      }
    },
    {
      "cell_type": "code",
      "source": [
        "# Feel free to have you own function(s). Here is a suggestion for you to get an idea \n",
        "\n",
        "def conv_height(x):\n",
        "    if pd.isnull(x):\n",
        "        return x\n",
        "    spt = x.split(' ')\n",
        "    ft = int(spt[0].split('ft')[0])\n",
        "    inch = 0\n",
        "    if len(spt) > 1:\n",
        "        inch = int(spt[1].split('in')[0])\n",
        "    return (ft * 12) + inch\n",
        "    \n",
        "def conv_bust(x):\n",
        "    if pd.isnull(x):\n",
        "        return x\n",
        "    spt = x.split('-')\n",
        "    # if range, split the difference\n",
        "    if len(spt) > 1:\n",
        "        return (int(spt[1]) - int(spt[0]) // 2) + int(spt[0])\n",
        "    return int(spt[0])"
      ],
      "metadata": {
        "id": "nQDlO-WIyJLJ"
      },
      "execution_count": 6,
      "outputs": []
    },
    {
      "cell_type": "code",
      "source": [
        "labels = modcloth['quality']\n",
        "# Convert waist, size, hips, bra size, shoe size to numeric:\n",
        "num_cols = ['waist','size','hips','bra size','shoe size']\n",
        "\n",
        "# store to dataframe\n",
        "num_df = pd.DataFrame()\n",
        "num_df[num_cols] = modcloth[num_cols].apply(pd.to_numeric, errors='coerce')\n",
        "# Convert height\n",
        "num_df['height (inch)'] = modcloth['height'].apply(conv_height)\n",
        "# Convert bust\n",
        "num_df['bust (inch)'] = modcloth['bust'].apply(conv_bust)"
      ],
      "metadata": {
        "id": "9jYhPjypln5j"
      },
      "execution_count": 7,
      "outputs": []
    },
    {
      "cell_type": "markdown",
      "source": [
        "Plot the height using seaborn’s distplot function. You should see a normal distribution of height,\n",
        "which should match your expectations for what the distribution of human heights should look\n",
        "like.\n"
      ],
      "metadata": {
        "id": "f4V0Jt8Xz0fi"
      }
    },
    {
      "cell_type": "code",
      "source": [
        "sns.distplot(num_df['height (inch)'])\n",
        "plt.title('Height Distribution')\n",
        "plt.show();"
      ],
      "metadata": {
        "colab": {
          "base_uri": "https://localhost:8080/",
          "height": 350
        },
        "id": "YboRM8nEmyx3",
        "outputId": "0d04395a-b53a-48da-866a-98b89a8652b2"
      },
      "execution_count": 8,
      "outputs": [
        {
          "output_type": "stream",
          "name": "stderr",
          "text": [
            "/usr/local/lib/python3.7/dist-packages/seaborn/distributions.py:2619: FutureWarning: `distplot` is a deprecated function and will be removed in a future version. Please adapt your code to use either `displot` (a figure-level function with similar flexibility) or `histplot` (an axes-level function for histograms).\n",
            "  warnings.warn(msg, FutureWarning)\n"
          ]
        },
        {
          "output_type": "display_data",
          "data": {
            "text/plain": [
              "<Figure size 432x288 with 1 Axes>"
            ],
            "image/png": "[encoded data removed]"
          },
          "metadata": {
            "needs_background": "light"
          }
        }
      ]
    },
    {
      "cell_type": "code",
      "source": [
        "#Plot 'bust (inch)' here\n",
        "sns.distplot(num_df['bust (inch)'])\n",
        "plt.title('Bust (inch) Distribution')\n",
        "plt.show();"
      ],
      "metadata": {
        "id": "bEjInVYWm_Tl",
        "colab": {
          "base_uri": "https://localhost:8080/",
          "height": 350
        },
        "outputId": "f42148ea-8c2d-4e39-d8ff-7f2a088a3576"
      },
      "execution_count": 9,
      "outputs": [
        {
          "output_type": "stream",
          "name": "stderr",
          "text": [
            "/usr/local/lib/python3.7/dist-packages/seaborn/distributions.py:2619: FutureWarning: `distplot` is a deprecated function and will be removed in a future version. Please adapt your code to use either `displot` (a figure-level function with similar flexibility) or `histplot` (an axes-level function for histograms).\n",
            "  warnings.warn(msg, FutureWarning)\n"
          ]
        },
        {
          "output_type": "display_data",
          "data": {
            "text/plain": [
              "<Figure size 432x288 with 1 Axes>"
            ],
            "image/png": "[encoded data removed]"
          },
          "metadata": {
            "needs_background": "light"
          }
        }
      ]
    },
    {
      "cell_type": "markdown",
      "source": [
        "Make a plot of the waist data, which should look like this:\n"
      ],
      "metadata": {
        "id": "Prrr8_XZDs_v"
      }
    },
    {
      "cell_type": "code",
      "source": [
        "#Plot Waist data here\n",
        "sns.distplot(num_df['waist'])\n",
        "plt.title('Waist Distribution')\n",
        "plt.show();"
      ],
      "metadata": {
        "id": "iHR809pRzQIE",
        "colab": {
          "base_uri": "https://localhost:8080/",
          "height": 350
        },
        "outputId": "c4a111cd-a023-4023-8bbb-4d7a4a5cebbd"
      },
      "execution_count": 10,
      "outputs": [
        {
          "output_type": "stream",
          "name": "stderr",
          "text": [
            "/usr/local/lib/python3.7/dist-packages/seaborn/distributions.py:2619: FutureWarning: `distplot` is a deprecated function and will be removed in a future version. Please adapt your code to use either `displot` (a figure-level function with similar flexibility) or `histplot` (an axes-level function for histograms).\n",
            "  warnings.warn(msg, FutureWarning)\n"
          ]
        },
        {
          "output_type": "display_data",
          "data": {
            "text/plain": [
              "<Figure size 432x288 with 1 Axes>"
            ],
            "image/png": "[encoded data removed]"
          },
          "metadata": {
            "needs_background": "light"
          }
        }
      ]
    },
    {
      "cell_type": "markdown",
      "source": [
        "\n",
        "# Categorical Data for Reviews\n",
        "\n",
        "For these values, ‘cup size’, ‘length’, ‘category’, use OneHotEncoder to convert these to a data\n",
        "frame called cat_feat.\n",
        "Use make_pipeline to compare these two classifiers: \n",
        "\n",
        "\n",
        "\n",
        "```\n",
        "balanced_model = make_pipeline(,Perceptronclass_weight='balanced'))\n",
        "unbalanced_model = make_pipeline(,Perceptron())\n",
        "```\n",
        "\n",
        "\n"
      ],
      "metadata": {
        "id": "6cBnnyFvnDqW"
      }
    },
    {
      "cell_type": "markdown",
      "source": [
        "Train a classifier using the data in cat_feat. Use train_test_split and test_size=0.50 to get a\n",
        "50/50 train and test split.\n",
        "Use metrics.plot_confusion_matrix and metrics.classification_report to report and visualize the\n",
        "confusion matrix and results. Perform this for both the balanced and unbalanced models."
      ],
      "metadata": {
        "id": "enIzPq-lDGux"
      }
    },
    {
      "cell_type": "code",
      "source": [
        "# one-hot encode\n",
        "# Categorical Data for Reviews:\n",
        "# For these values, ‘cup size’, ‘length’, ‘category’, use OneHotEncoder to convert these to a data frame called cat_feat.\n",
        "\n",
        "# one-hot encode\n",
        "cat_feat = modcloth[['cup size', 'length', 'category']]\n",
        "\n",
        "# train_test_split here\n",
        "X_train, X_test, y_train, y_test = train_test_split(cat_feat, labels, test_size=0.50) #, random_state=42)\n",
        "\n",
        "balanced_model = make_pipeline(OneHotEncoder(),Perceptron(class_weight='balanced'))\n",
        "unbalanced_model = make_pipeline(OneHotEncoder(), Perceptron())\n",
        "\n",
        "# fit the models here:\n",
        "balanced_model.fit(X_train, y_train)\n",
        "balanced_model.predict(X_train)\n",
        "\n",
        "unbalanced_model.fit(X_train, y_train)\n",
        "unbalanced_model.predict(X_train)"
      ],
      "metadata": {
        "id": "-fw5jTgHnFoG",
        "colab": {
          "base_uri": "https://localhost:8080/"
        },
        "outputId": "43da9590-247f-4379-dafb-7aab2185e6b2"
      },
      "execution_count": 11,
      "outputs": [
        {
          "output_type": "execute_result",
          "data": {
            "text/plain": [
              "array([5., 4., 4., ..., 5., 4., 4.])"
            ]
          },
          "metadata": {},
          "execution_count": 11
        }
      ]
    },
    {
      "cell_type": "code",
      "source": [
        "#Plot Balanced here\n",
        "y_pred = balanced_model.predict(X_test)\n",
        "ConfusionMatrixDisplay.from_predictions(y_test, y_pred)"
      ],
      "metadata": {
        "id": "Oiowc7RDw5dY",
        "outputId": "03135e04-91e4-4b89-b594-05889fd9eb69",
        "colab": {
          "base_uri": "https://localhost:8080/",
          "height": 296
        }
      },
      "execution_count": 12,
      "outputs": [
        {
          "output_type": "execute_result",
          "data": {
            "text/plain": [
              "<sklearn.metrics._plot.confusion_matrix.ConfusionMatrixDisplay at 0x7fd6cb514c90>"
            ]
          },
          "metadata": {},
          "execution_count": 12
        },
        {
          "output_type": "display_data",
          "data": {
            "text/plain": [
              "<Figure size 432x288 with 2 Axes>"
            ],
            "image/png": "[encoded data removed]"
          },
          "metadata": {
            "needs_background": "light"
          }
        }
      ]
    },
    {
      "cell_type": "code",
      "source": [
        "#print classification_report balanced here\n",
        "print(classification_report(y_test, y_pred))"
      ],
      "metadata": {
        "id": "x7c7a5YV3bIZ",
        "colab": {
          "base_uri": "https://localhost:8080/"
        },
        "outputId": "1fb7254a-5c9b-4e8a-b4e4-fb34de8f6cdb"
      },
      "execution_count": 13,
      "outputs": [
        {
          "output_type": "stream",
          "name": "stdout",
          "text": [
            "              precision    recall  f1-score   support\n",
            "\n",
            "         1.0       0.02      0.00      0.01       693\n",
            "         2.0       0.07      0.25      0.11      2654\n",
            "         3.0       0.24      0.30      0.26      9906\n",
            "         4.0       0.32      0.33      0.33     13482\n",
            "         5.0       0.33      0.14      0.19     14626\n",
            "\n",
            "    accuracy                           0.24     41361\n",
            "   macro avg       0.20      0.20      0.18     41361\n",
            "weighted avg       0.28      0.24      0.25     41361\n",
            "\n"
          ]
        }
      ]
    },
    {
      "cell_type": "code",
      "source": [
        "#Plot unBalanced here\n",
        "y_pred = unbalanced_model.predict(X_test)\n",
        "ConfusionMatrixDisplay.from_predictions(y_test, y_pred)"
      ],
      "metadata": {
        "id": "INIEZH1m4IIS",
        "colab": {
          "base_uri": "https://localhost:8080/",
          "height": 296
        },
        "outputId": "be411ddd-f9f6-41c8-8f25-c03ec6c9113a"
      },
      "execution_count": 14,
      "outputs": [
        {
          "output_type": "execute_result",
          "data": {
            "text/plain": [
              "<sklearn.metrics._plot.confusion_matrix.ConfusionMatrixDisplay at 0x7fd6cb4cd490>"
            ]
          },
          "metadata": {},
          "execution_count": 14
        },
        {
          "output_type": "display_data",
          "data": {
            "text/plain": [
              "<Figure size 432x288 with 2 Axes>"
            ],
            "image/png": "[encoded data removed]"
          },
          "metadata": {
            "needs_background": "light"
          }
        }
      ]
    },
    {
      "cell_type": "code",
      "source": [
        "#print classification_report Unbalanced here\n",
        "print(classification_report(y_test, y_pred))"
      ],
      "metadata": {
        "colab": {
          "base_uri": "https://localhost:8080/"
        },
        "id": "0BaIJzY84a0D",
        "outputId": "45ddedda-70c7-4051-f2e6-84279586083b"
      },
      "execution_count": 15,
      "outputs": [
        {
          "output_type": "stream",
          "name": "stdout",
          "text": [
            "              precision    recall  f1-score   support\n",
            "\n",
            "         1.0       0.00      0.00      0.00       693\n",
            "         2.0       0.07      0.01      0.02      2654\n",
            "         3.0       0.33      0.02      0.04      9906\n",
            "         4.0       0.32      0.49      0.39     13482\n",
            "         5.0       0.37      0.50      0.42     14626\n",
            "\n",
            "    accuracy                           0.34     41361\n",
            "   macro avg       0.22      0.20      0.17     41361\n",
            "weighted avg       0.32      0.34      0.29     41361\n",
            "\n"
          ]
        }
      ]
    },
    {
      "cell_type": "markdown",
      "source": [
        "# Categorical and Numeric Features\n",
        "Next, you will add in data from the numeric features. Unfortunately, many of these values are\n",
        "missing: not every JSON object will have a value for this numeric value. \n"
      ],
      "metadata": {
        "id": "R24qMA_R4g9d"
      }
    },
    {
      "cell_type": "code",
      "source": [
        "comb_df = pd.merge(cat_feat, num_df[num_df.index.isin(cat_feat.index)],left_index=True, right_index=True)\n",
        "#train_test_split here\n",
        "X_train, X_test, y_train, y_test = train_test_split(comb_df, labels, test_size=0.50) #, random_state=42)\n",
        "\n",
        "\n",
        "categorical = ['cup size', 'length', 'category']\n",
        "numerical = ['waist', 'size', 'hips', 'bra size', 'shoe size', 'height (inch)','bust (inch)']"
      ],
      "metadata": {
        "id": "fGVBeMGN4mi1"
      },
      "execution_count": 16,
      "outputs": []
    },
    {
      "cell_type": "markdown",
      "source": [
        "# Pipelines\n",
        "\n",
        "\n",
        "You will use imputation\n",
        "as implemented in https://scikit-learn.org/stable/modules/impute.html to fill in the missing values\n",
        "before classification: **use SimpleImputer.**\n",
        "\n",
        "\n",
        "Next, you will create three pipelines. Create one pipeline using SimpleImputer to impute the missing\n",
        "values and the balanced perceptron. \n",
        "\n",
        "\n",
        "Next, create a pipeline using **preprocessing.Normalizer()**.\n",
        "\n",
        "Finally, create a different pipeline using preprocessing.**StandardScaler()**.\n",
        "\n",
        "For each of the pipeline,l do fivefold cross-validation, using\n",
        "**scores = cross_val_score(model, X, y, cv=5,scoring=’accuracy’)**\n",
        "\n",
        "to compute the accuracy of each of the pipelines.\n",
        "Create a table, with a row (labeled) for each pipeline you created. \n"
      ],
      "metadata": {
        "id": "ZEApJihd42KO"
      }
    },
    {
      "cell_type": "code",
      "source": [
        "# Categorical pipeline\n",
        "cat_pipe = Pipeline([('encoder', OneHotEncoder(handle_unknown='ignore',sparse=False))])\n",
        "\n",
        "# Simple Imputer pipeline\n",
        "impute_pipe = Pipeline([('imputer', SimpleImputer(missing_values=np.nan,strategy='median'))])\n",
        "\n",
        "impute_model = make_pipeline(ColumnTransformer([('cat', cat_pipe, categorical),\n",
        "                                                ('num', impute_pipe, numerical)]),\n",
        "                             Perceptron(class_weight='balanced'))\n",
        "\n",
        "impute_model.fit(X_train, y_train)\n",
        "\n",
        "# Normalize pipeline:\n",
        "normalize_pipe = Pipeline([('imputer', SimpleImputer(missing_values=np.nan,strategy='median')),\n",
        "                           ('normalizer', Normalizer())])\n",
        "\n",
        "normalize_model = make_pipeline(ColumnTransformer([('cat', cat_pipe, categorical),\n",
        "                                                   ('normalizer', normalize_pipe, numerical)]),\n",
        "                                Perceptron(class_weight='balanced'))\n",
        "\n",
        "normalize_model.fit(X_train, y_train)\n",
        "\n",
        "# Standardize pipeline:\n",
        "\n",
        "standardize_pipe = Pipeline([('imputer', SimpleImputer(missing_values=np.nan,strategy='median')),\n",
        "                             ('standardize', StandardScaler())])\n",
        "\n",
        "standardize_model = make_pipeline(ColumnTransformer([('cat', cat_pipe, categorical),\n",
        "                                                     ('num', standardize_pipe, numerical)]),\n",
        "                                  Perceptron(class_weight='balanced'))\n",
        "\n",
        "standardize_model.fit(X_train, y_train)\n"
      ],
      "metadata": {
        "id": "kFT7uhsN4821",
        "outputId": "6cc9cc22-e715-47f5-ee80-00e9c99b5991",
        "colab": {
          "base_uri": "https://localhost:8080/"
        }
      },
      "execution_count": 36,
      "outputs": [
        {
          "output_type": "execute_result",
          "data": {
            "text/plain": [
              "Pipeline(steps=[('columntransformer',\n",
              "                 ColumnTransformer(transformers=[('cat',\n",
              "                                                  Pipeline(steps=[('encoder',\n",
              "                                                                   OneHotEncoder(handle_unknown='ignore',\n",
              "                                                                                 sparse=False))]),\n",
              "                                                  ['cup size', 'length',\n",
              "                                                   'category']),\n",
              "                                                 ('num',\n",
              "                                                  Pipeline(steps=[('imputer',\n",
              "                                                                   SimpleImputer(strategy='median')),\n",
              "                                                                  ('standardize',\n",
              "                                                                   StandardScaler())]),\n",
              "                                                  ['waist', 'size', 'hips',\n",
              "                                                   'bra size', 'shoe size',\n",
              "                                                   'height (inch)',\n",
              "                                                   'bust (inch)'])])),\n",
              "                ('perceptron', Perceptron(class_weight='balanced'))])"
            ]
          },
          "metadata": {},
          "execution_count": 36
        }
      ]
    },
    {
      "cell_type": "code",
      "source": [
        "#impute_scores = \n",
        "#norm_scores = \n",
        "#std_scores = "
      ],
      "metadata": {
        "id": "495zJOQT57R2"
      },
      "execution_count": 18,
      "outputs": []
    },
    {
      "cell_type": "markdown",
      "source": [
        "# Model Accuracy\n",
        "\n",
        "\n",
        "The table should report the\n",
        "*maximum*, *minimum*, and *mean* of accuracy for each of the pipelines."
      ],
      "metadata": {
        "id": "nyIGjyD_-YpZ"
      }
    },
    {
      "cell_type": "code",
      "source": [
        "#all_scores = \n",
        "\n",
        "# pd.DataFrame(all_scores)"
      ],
      "metadata": {
        "id": "qvOtVy8a-ZEK"
      },
      "execution_count": 19,
      "outputs": []
    },
    {
      "cell_type": "markdown",
      "source": [
        "# Text Data from Reviews\n",
        "\n",
        "Finally, you will use the words in the consumer reviews to build a classifier to predict the results.\n",
        "*corpus = modcloth_data['review_text']*\n",
        "\n",
        "Create a new variable from the text data, after removing outliers, which are records that contain\n",
        "no text data (these will be nans in your data frame). This new variable is a list of strings, where\n",
        "every string is a consumer review.\n",
        "\n"
      ],
      "metadata": {
        "id": "bWsP7qaV-nrx"
      }
    },
    {
      "cell_type": "code",
      "source": [
        "#corpus = modcloth['review_text']\n",
        "\n",
        "# Remove Outliers (records with no text data nans):\n",
        "\n",
        "#corpus.describe()"
      ],
      "metadata": {
        "id": "IAcceogtAIAI"
      },
      "execution_count": 20,
      "outputs": []
    },
    {
      "cell_type": "markdown",
      "source": [
        "**TfidfVectorizer**\n",
        "\n",
        "Pass this new variable to sklearn’sTfidfVectorizer\n",
        "(https://scikit-learn.org/stable/modules/feature_extraction.html#text-feature-extraction) to load\n",
        "the data. Create a new dataframe called X from the bag of words features, using\n",
        "*pd.DataFrame.sparse.from_spmatrix*, and subset the labels to only those which have text data\n",
        "present.\n",
        "\n"
      ],
      "metadata": {
        "id": "0L0bYUmPAVK-"
      }
    },
    {
      "cell_type": "markdown",
      "source": [
        "**Feature Selection - Top 10**\n",
        "\n",
        "Next, use feature selection\n",
        "(https://scikit-learn.org/stable/modules/feature_selection.html#feature-selection) to subset the\n",
        "text data to only the most relevant features. Be sure to do this based on the training set, then\n",
        "apply the transformation to the test set. Using the pipeline can make this step easier.\n",
        "\n",
        "Use *SelectKBest* and *chi-2* to select features. Make sure you have the latest version (at least\n",
        "0.24 of scikit-learn, or you may get errors). \n",
        "\n",
        "Print a list of the top ten features selected. Hint: Use\n",
        "*vectorizer.get_feature_names(), XKBest.fit()* and then *XNew.get_support()*.\n",
        "\n",
        "\n"
      ],
      "metadata": {
        "id": "Wys2vZ-2Af0_"
      }
    },
    {
      "cell_type": "code",
      "source": [
        "# Check out the shared link for the \"TfidfVectorizer\" and review 6.2.3.3. Common Vectorizer usage\n",
        "# Use the function here \n",
        "#spmat = fit_transform here \n",
        "#feat_names = get_feature_names here\n",
        "\n",
        "#X = pd.DataFrame.sparse.from_spmatrix(spmat, columns=feat_names)\n",
        "#train_test_split here"
      ],
      "metadata": {
        "id": "M1K7HwSuAYRg"
      },
      "execution_count": 21,
      "outputs": []
    },
    {
      "cell_type": "code",
      "source": [
        "# Check out the shared link about FS and review 1.13.2. Univariate feature selection\n",
        "\n",
        "#print('Top 10 features %s' % Xtrain.columns[kbest.get_support()].tolist())"
      ],
      "metadata": {
        "id": "jhYxcoV5Agqg"
      },
      "execution_count": 22,
      "outputs": []
    },
    {
      "cell_type": "markdown",
      "source": [
        "**Accuracy**\n",
        "\n",
        "For k in the range [10,25,50,100,250,500,1000,10000], plot the accuracy of the\n",
        "classifier for each value of k. "
      ],
      "metadata": {
        "id": "OlSOIf4WArHL"
      }
    },
    {
      "cell_type": "code",
      "source": [
        "k_vals = [10,25,50,100,250,500,1000,10000]\n",
        "results = []\n",
        "for k in k_vals:\n",
        "    \n",
        "    # print('Top 10 features at k=%d %s' % (k, Xtrain.columns[kbest.get_support()].tolist()))\n",
        "    # X_new has k best features:\n",
        "\n",
        "\n",
        "    # Test Accuracy using kbest features from training:\n",
        "\n",
        "    results.append({'k-value': k, 'Training Accuracy': train_acc, 'Test Accuracy':test_acc})"
      ],
      "metadata": {
        "id": "eHR5prrAAr0s",
        "outputId": "3a3bf1cf-912a-4351-8dab-f76f939d1208",
        "colab": {
          "base_uri": "https://localhost:8080/",
          "height": 201
        }
      },
      "execution_count": 23,
      "outputs": [
        {
          "output_type": "error",
          "ename": "NameError",
          "evalue": "ignored",
          "traceback": [
            "\u001b[0;31m---------------------------------------------------------------------------\u001b[0m",
            "\u001b[0;31mNameError\u001b[0m                                 Traceback (most recent call last)",
            "\u001b[0;32m<ipython-input-23-c34c6886edad>\u001b[0m in \u001b[0;36m<module>\u001b[0;34m()\u001b[0m\n\u001b[1;32m      9\u001b[0m     \u001b[0;31m# Test Accuracy using kbest features from training:\u001b[0m\u001b[0;34m\u001b[0m\u001b[0;34m\u001b[0m\u001b[0;34m\u001b[0m\u001b[0m\n\u001b[1;32m     10\u001b[0m \u001b[0;34m\u001b[0m\u001b[0m\n\u001b[0;32m---> 11\u001b[0;31m     \u001b[0mresults\u001b[0m\u001b[0;34m.\u001b[0m\u001b[0mappend\u001b[0m\u001b[0;34m(\u001b[0m\u001b[0;34m{\u001b[0m\u001b[0;34m'k-value'\u001b[0m\u001b[0;34m:\u001b[0m \u001b[0mk\u001b[0m\u001b[0;34m,\u001b[0m \u001b[0;34m'Training Accuracy'\u001b[0m\u001b[0;34m:\u001b[0m \u001b[0mtrain_acc\u001b[0m\u001b[0;34m,\u001b[0m \u001b[0;34m'Test Accuracy'\u001b[0m\u001b[0;34m:\u001b[0m\u001b[0mtest_acc\u001b[0m\u001b[0;34m}\u001b[0m\u001b[0;34m)\u001b[0m\u001b[0;34m\u001b[0m\u001b[0;34m\u001b[0m\u001b[0m\n\u001b[0m",
            "\u001b[0;31mNameError\u001b[0m: name 'train_acc' is not defined"
          ]
        }
      ]
    },
    {
      "cell_type": "code",
      "source": [
        "results_df = pd.DataFrame(results)\n",
        "results_df"
      ],
      "metadata": {
        "id": "5LLDHQYqBG8E"
      },
      "execution_count": null,
      "outputs": []
    },
    {
      "cell_type": "code",
      "source": [
        "#Plot it here"
      ],
      "metadata": {
        "id": "Pn7FYUCIBJ6B"
      },
      "execution_count": null,
      "outputs": []
    }
  ]
}