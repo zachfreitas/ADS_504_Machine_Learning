{
  "nbformat": 4,
  "nbformat_minor": 0,
  "metadata": {
    "colab": {
      "name": "Module_4/Assignment_4/Zachariah_Freitas_Assignment_4.1.ipynb",
      "provenance": [],
      "authorship_tag": "ABX9TyOZb1EBRp456gEXoO8iLndk",
      "include_colab_link": true
    },
    "kernelspec": {
      "name": "python3",
      "display_name": "Python 3"
    },
    "language_info": {
      "name": "python"
    }
  },
  "cells": [
    {
      "cell_type": "markdown",
      "metadata": {
        "id": "view-in-github",
        "colab_type": "text"
      },
      "source": [
        "<a href=\"https://colab.research.google.com/github/zachfreitas/ADS_504_Machine_Learning/blob/main/Module_4/Assignment_4/Zachariah_Freitas_Assignment_4_1.ipynb\" target=\"_parent\"><img src=\"https://colab.research.google.com/assets/colab-badge.svg\" alt=\"Open In Colab\"/></a>"
      ]
    },
    {
      "cell_type": "markdown",
      "source": [
        "# Assignment 4.1\n",
        "Zachariah Freitas\n"
      ],
      "metadata": {
        "id": "-Tw55xMXcwjE"
      }
    },
    {
      "cell_type": "code",
      "execution_count": 2,
      "metadata": {
        "id": "r3qnZWETcb5H"
      },
      "outputs": [],
      "source": [
        "# Import Libraries\n",
        "%matplotlib inline\n",
        "import matplotlib.pyplot as plt # Simple Plotting\n",
        "\n",
        "import numpy as np # Matrix, Arrays, and vector operations.\n",
        "from numpy import nan # Value for missing data\n",
        "\n",
        "# Feature libraries\n",
        "# Category Data\n",
        "from sklearn.feature_extraction import DictVectorizer # Category Feature Creation\n",
        "from sklearn.preprocessing import OneHotEncoder # Category Feature Creation\n",
        "from sklearn.feature_extraction import FeatureHasher # Category Feature Creation\n",
        "\n",
        "# Text Data\n",
        "from sklearn.feature_extraction.text import CountVectorizer # Count Term - Text Feature Creation\n",
        "from sklearn.feature_extraction.text import TfidfVectorizer # Term frequency-inverse document frequency (TF–IDF) - Text Feature Creation\n",
        "\n",
        "# Numeric Data\n",
        "from sklearn.preprocessing import PolynomialFeatures\n",
        "\n",
        "# Data Imputation / Missing Data\n",
        "\n",
        "# from sklearn.preprocessing import Imputer # Depreciated - Imputation of missing data\n",
        "from sklearn.impute import SimpleImputer # - Imputation of missing data\n",
        "# Creating Piplines\n",
        "from sklearn.pipeline import make_pipeline # Feature Pipelines\n",
        "\n",
        "# Modeling\n",
        "from sklearn.linear_model import LinearRegression\n"
      ]
    },
    {
      "cell_type": "code",
      "source": [
        ""
      ],
      "metadata": {
        "id": "AtAs4JeSf0rZ"
      },
      "execution_count": null,
      "outputs": []
    }
  ]
}